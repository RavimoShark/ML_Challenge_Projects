{
 "cells": [
  {
   "cell_type": "markdown",
   "metadata": {},
   "source": [
    "### Chargement et analyse du dataset"
   ]
  },
  {
   "cell_type": "code",
   "execution_count": 124,
   "metadata": {},
   "outputs": [],
   "source": [
    "import numpy as np\n",
    "import matplotlib.pyplot as plt\n",
    "import pandas as pd\n",
    "from sklearn.pipeline import Pipeline\n",
    "import matplotlib.pyplot as plt\n",
    "from sklearn.feature_selection import SelectFromModel\n",
    "from sklearn.linear_model import LassoCV\n",
    "from sklearn.linear_model import ElasticNetCV\n",
    "from sklearn.linear_model import LassoLarsIC\n",
    "from sklearn.ensemble import ExtraTreesClassifier\n",
    "from sklearn.linear_model import LogisticRegressionCV\n",
    "from sklearn.ensemble import AdaBoostClassifier\n",
    "from sklearn.model_selection import GridSearchCV\n",
    "from sklearn.model_selection import StratifiedKFold\n",
    "from scipy.optimize import minimize\n",
    "import glob2 as glob2\n",
    "from scipy.spatial.distance import cosine\n",
    "from sklearn.metrics.pairwise import pairwise_distances\n",
    "from scipy.sparse import csr_matrix\n",
    "from scipy.sparse import coo_matrix, hstack, vstack, lil_matrix\n",
    "import itertools\n",
    "from sklearn.cluster import spectral_clustering, KMeans, MiniBatchKMeans\n",
    "from sklearn.neighbors import kneighbors_graph\n",
    "from nltk.corpus import wordnet as wn\n",
    "from sklearn import metrics\n",
    "import json\n",
    "import requests\n",
    "from IPython.display import Image\n",
    "from IPython.core.display import HTML\n",
    "import scipy.sparse as sp\n",
    "from scipy.sparse.linalg import svds\n",
    "from sklearn.metrics import mean_squared_error\n",
    "from math import sqrt\n",
    "from sklearn.decomposition import TruncatedSVD\n",
    "import re"
   ]
  },
  {
   "cell_type": "code",
   "execution_count": 2,
   "metadata": {},
   "outputs": [
    {
     "data": {
      "text/plain": [
       "['ml-latest/tags.csv',\n",
       " 'ml-latest/genome-scores.csv',\n",
       " 'ml-latest/ratings.csv',\n",
       " 'ml-latest/links.csv',\n",
       " 'ml-latest/genome-tags.csv',\n",
       " 'ml-latest/movies.csv']"
      ]
     },
     "execution_count": 2,
     "metadata": {},
     "output_type": "execute_result"
    }
   ],
   "source": [
    "# List Files\n",
    "ListFiles = glob2.glob('ml-latest/*.csv')\n",
    "ListFiles"
   ]
  },
  {
   "cell_type": "code",
   "execution_count": 3,
   "metadata": {},
   "outputs": [],
   "source": [
    "# load data as Dataframes\n",
    "#tags_df = pd.read_csv(ListFiles[0])\n",
    "#gen_sc_df = pd.read_csv(ListFiles[1])\n",
    "rat_df = pd.read_csv(ListFiles[2])\n",
    "links_df = pd.read_csv(ListFiles[3])\n",
    "#gen_tags_df = pd.read_csv(ListFiles[4])\n",
    "movies_df = pd.read_csv(ListFiles[5])"
   ]
  },
  {
   "cell_type": "code",
   "execution_count": 4,
   "metadata": {},
   "outputs": [],
   "source": [
    "# tags describing each movies according to userid\n",
    "# tags_df.head()"
   ]
  },
  {
   "cell_type": "code",
   "execution_count": 5,
   "metadata": {},
   "outputs": [],
   "source": [
    "# Relevance of each tags\n",
    "# gen_sc_df.head()"
   ]
  },
  {
   "cell_type": "code",
   "execution_count": 6,
   "metadata": {},
   "outputs": [
    {
     "data": {
      "text/html": [
       "<div>\n",
       "<style scoped>\n",
       "    .dataframe tbody tr th:only-of-type {\n",
       "        vertical-align: middle;\n",
       "    }\n",
       "\n",
       "    .dataframe tbody tr th {\n",
       "        vertical-align: top;\n",
       "    }\n",
       "\n",
       "    .dataframe thead th {\n",
       "        text-align: right;\n",
       "    }\n",
       "</style>\n",
       "<table border=\"1\" class=\"dataframe\">\n",
       "  <thead>\n",
       "    <tr style=\"text-align: right;\">\n",
       "      <th></th>\n",
       "      <th>userId</th>\n",
       "      <th>movieId</th>\n",
       "      <th>rating</th>\n",
       "      <th>timestamp</th>\n",
       "    </tr>\n",
       "  </thead>\n",
       "  <tbody>\n",
       "    <tr>\n",
       "      <th>0</th>\n",
       "      <td>1</td>\n",
       "      <td>110</td>\n",
       "      <td>1.0</td>\n",
       "      <td>1425941529</td>\n",
       "    </tr>\n",
       "    <tr>\n",
       "      <th>1</th>\n",
       "      <td>1</td>\n",
       "      <td>147</td>\n",
       "      <td>4.5</td>\n",
       "      <td>1425942435</td>\n",
       "    </tr>\n",
       "    <tr>\n",
       "      <th>2</th>\n",
       "      <td>1</td>\n",
       "      <td>858</td>\n",
       "      <td>5.0</td>\n",
       "      <td>1425941523</td>\n",
       "    </tr>\n",
       "    <tr>\n",
       "      <th>3</th>\n",
       "      <td>1</td>\n",
       "      <td>1221</td>\n",
       "      <td>5.0</td>\n",
       "      <td>1425941546</td>\n",
       "    </tr>\n",
       "    <tr>\n",
       "      <th>4</th>\n",
       "      <td>1</td>\n",
       "      <td>1246</td>\n",
       "      <td>5.0</td>\n",
       "      <td>1425941556</td>\n",
       "    </tr>\n",
       "  </tbody>\n",
       "</table>\n",
       "</div>"
      ],
      "text/plain": [
       "   userId  movieId  rating   timestamp\n",
       "0       1      110     1.0  1425941529\n",
       "1       1      147     4.5  1425942435\n",
       "2       1      858     5.0  1425941523\n",
       "3       1     1221     5.0  1425941546\n",
       "4       1     1246     5.0  1425941556"
      ]
     },
     "execution_count": 6,
     "metadata": {},
     "output_type": "execute_result"
    }
   ],
   "source": [
    "# ratings of each movies by user id\n",
    "rat_df.head()"
   ]
  },
  {
   "cell_type": "code",
   "execution_count": 7,
   "metadata": {},
   "outputs": [
    {
     "data": {
      "text/html": [
       "<div>\n",
       "<style scoped>\n",
       "    .dataframe tbody tr th:only-of-type {\n",
       "        vertical-align: middle;\n",
       "    }\n",
       "\n",
       "    .dataframe tbody tr th {\n",
       "        vertical-align: top;\n",
       "    }\n",
       "\n",
       "    .dataframe thead th {\n",
       "        text-align: right;\n",
       "    }\n",
       "</style>\n",
       "<table border=\"1\" class=\"dataframe\">\n",
       "  <thead>\n",
       "    <tr style=\"text-align: right;\">\n",
       "      <th></th>\n",
       "      <th>movieId</th>\n",
       "      <th>imdbId</th>\n",
       "      <th>tmdbId</th>\n",
       "    </tr>\n",
       "  </thead>\n",
       "  <tbody>\n",
       "    <tr>\n",
       "      <th>0</th>\n",
       "      <td>1</td>\n",
       "      <td>114709</td>\n",
       "      <td>862.0</td>\n",
       "    </tr>\n",
       "    <tr>\n",
       "      <th>1</th>\n",
       "      <td>2</td>\n",
       "      <td>113497</td>\n",
       "      <td>8844.0</td>\n",
       "    </tr>\n",
       "    <tr>\n",
       "      <th>2</th>\n",
       "      <td>3</td>\n",
       "      <td>113228</td>\n",
       "      <td>15602.0</td>\n",
       "    </tr>\n",
       "    <tr>\n",
       "      <th>3</th>\n",
       "      <td>4</td>\n",
       "      <td>114885</td>\n",
       "      <td>31357.0</td>\n",
       "    </tr>\n",
       "    <tr>\n",
       "      <th>4</th>\n",
       "      <td>5</td>\n",
       "      <td>113041</td>\n",
       "      <td>11862.0</td>\n",
       "    </tr>\n",
       "  </tbody>\n",
       "</table>\n",
       "</div>"
      ],
      "text/plain": [
       "   movieId  imdbId   tmdbId\n",
       "0        1  114709    862.0\n",
       "1        2  113497   8844.0\n",
       "2        3  113228  15602.0\n",
       "3        4  114885  31357.0\n",
       "4        5  113041  11862.0"
      ]
     },
     "execution_count": 7,
     "metadata": {},
     "output_type": "execute_result"
    }
   ],
   "source": [
    "# imdb references of movies in the dataset\n",
    "links_df.head()"
   ]
  },
  {
   "cell_type": "code",
   "execution_count": 8,
   "metadata": {},
   "outputs": [],
   "source": [
    "# tagsid to tags\n",
    "# gen_tags_df.head()"
   ]
  },
  {
   "cell_type": "code",
   "execution_count": 9,
   "metadata": {},
   "outputs": [],
   "source": [
    "# gen_tags_df.tag.unique().shape[0]\n",
    "# we have 1128 different tags for 45943 movies -> clustering"
   ]
  },
  {
   "cell_type": "code",
   "execution_count": 10,
   "metadata": {},
   "outputs": [
    {
     "data": {
      "text/html": [
       "<div>\n",
       "<style scoped>\n",
       "    .dataframe tbody tr th:only-of-type {\n",
       "        vertical-align: middle;\n",
       "    }\n",
       "\n",
       "    .dataframe tbody tr th {\n",
       "        vertical-align: top;\n",
       "    }\n",
       "\n",
       "    .dataframe thead th {\n",
       "        text-align: right;\n",
       "    }\n",
       "</style>\n",
       "<table border=\"1\" class=\"dataframe\">\n",
       "  <thead>\n",
       "    <tr style=\"text-align: right;\">\n",
       "      <th></th>\n",
       "      <th>movieId</th>\n",
       "      <th>title</th>\n",
       "      <th>genres</th>\n",
       "    </tr>\n",
       "  </thead>\n",
       "  <tbody>\n",
       "    <tr>\n",
       "      <th>0</th>\n",
       "      <td>1</td>\n",
       "      <td>Toy Story (1995)</td>\n",
       "      <td>Adventure|Animation|Children|Comedy|Fantasy</td>\n",
       "    </tr>\n",
       "    <tr>\n",
       "      <th>1</th>\n",
       "      <td>2</td>\n",
       "      <td>Jumanji (1995)</td>\n",
       "      <td>Adventure|Children|Fantasy</td>\n",
       "    </tr>\n",
       "    <tr>\n",
       "      <th>2</th>\n",
       "      <td>3</td>\n",
       "      <td>Grumpier Old Men (1995)</td>\n",
       "      <td>Comedy|Romance</td>\n",
       "    </tr>\n",
       "    <tr>\n",
       "      <th>3</th>\n",
       "      <td>4</td>\n",
       "      <td>Waiting to Exhale (1995)</td>\n",
       "      <td>Comedy|Drama|Romance</td>\n",
       "    </tr>\n",
       "    <tr>\n",
       "      <th>4</th>\n",
       "      <td>5</td>\n",
       "      <td>Father of the Bride Part II (1995)</td>\n",
       "      <td>Comedy</td>\n",
       "    </tr>\n",
       "  </tbody>\n",
       "</table>\n",
       "</div>"
      ],
      "text/plain": [
       "   movieId                               title  \\\n",
       "0        1                    Toy Story (1995)   \n",
       "1        2                      Jumanji (1995)   \n",
       "2        3             Grumpier Old Men (1995)   \n",
       "3        4            Waiting to Exhale (1995)   \n",
       "4        5  Father of the Bride Part II (1995)   \n",
       "\n",
       "                                        genres  \n",
       "0  Adventure|Animation|Children|Comedy|Fantasy  \n",
       "1                   Adventure|Children|Fantasy  \n",
       "2                               Comedy|Romance  \n",
       "3                         Comedy|Drama|Romance  \n",
       "4                                       Comedy  "
      ]
     },
     "execution_count": 10,
     "metadata": {},
     "output_type": "execute_result"
    }
   ],
   "source": [
    "# Movies information\n",
    "genres = ['Action', 'Adventure', 'Animation', \"Children's\",\n",
    "          \"Comedy\", \"Crime\", \"Documentary\", \"Drama\", \"Fantasy\",\n",
    "          \"Film - Noir\", \"Horror\", \"Musical\", \"Mystery\", \"Romance\"\n",
    "          \"Sci - Fi\", \"Thriller\", \"War\", \"Western\"]\n",
    "movies_df.head()"
   ]
  },
  {
   "cell_type": "code",
   "execution_count": 11,
   "metadata": {},
   "outputs": [
    {
     "name": "stdout",
     "output_type": "stream",
     "text": [
      "We have 45843 movies and 270896 users \n"
     ]
    }
   ],
   "source": [
    "n_movies = movies_df.movieId.unique()\n",
    "n_users = rat_df.userId.unique()\n",
    "print('We have %d movies and %d users ' %\n",
    "      (n_movies.shape[0], n_users.shape[0]))"
   ]
  },
  {
   "cell_type": "markdown",
   "metadata": {},
   "source": [
    "### Our strategy will be :\n",
    "\n",
    " - recommend a film that has a high chance to be liked by the user in the mean time this film shoul be a discovery.\n",
    " - In fact we think people who likes our small cinema, likes being surprised and get deeper in movie culture than usual people using Netflix for example.\n",
    "\n",
    " \n",
    "### What we will try to develop:\n",
    " \n",
    " - We will combine several kind of recommendation system : Model Based CollaborativeFilters and differents clusters (genres, tags, users).\n",
    " - Our goal will be to recommend movies at the edge of people tastes / discoveries.\n",
    " - We have ruled out content based algorithms for now because, the imdb API access is limited to 1000 films daily hence it will take a month to built a content database.\n",
    " - We will in the first time ignore the timestamp parameter, we might give a weight in the future of each ratings depending on the date the ratings was done.\n",
    " \n",
    "### What we have done :\n",
    "\n",
    " - 1) Built a Kmeans Cluster model with movies genres (125 centers), we will take the films belongs n closest clusters. \n",
    " - 2) From the list of film belong to the n cluster we builf a model based CF with SVD. \n",
    " - 3) From the tags score dense matrix we built Kmeans cluster model 100 centers\n",
    " - 4) We combine the score from 2 and 3 to get a top 10 films with imdb ratings\n",
    " - 5) We give 10 films recommendation to the user\n",
    " \n",
    "### See the end of Notebook for improvement.\n",
    "         \n",
    " \n",
    " "
   ]
  },
  {
   "cell_type": "code",
   "execution_count": 12,
   "metadata": {
    "scrolled": true
   },
   "outputs": [],
   "source": [
    "# First as the dimension is too large for my RAM available\n",
    "# let's reduce dimension through genre movies clustering\n",
    "# in fact 270896,45843 is too big for a 6 hours exercice\n",
    "\n",
    "# first let's get all the tokens\n",
    "\n",
    "\n",
    "def MakeVector(raw):\n",
    "    raw[raw['listgenres']] = 1\n",
    "    return raw\n",
    "\n",
    "\n",
    "genreslist = movies_df['genres'].str.split('|')\n",
    "genreslist = [l for x in genreslist for l in x]\n",
    "genreslist = set(genreslist)\n",
    "data = np.zeros((movies_df.shape[0], len(genreslist)))\n",
    "movies_genre_df = pd.DataFrame(columns=genreslist, data=data)\n",
    "movies_genre_df['movieId'] = movies_df['movieId']\n",
    "movies_genre_df['listgenres'] = movies_df['genres'].str.split('|')\n",
    "movies_genre_df = movies_genre_df.apply(MakeVector, axis=1)"
   ]
  },
  {
   "cell_type": "code",
   "execution_count": 13,
   "metadata": {},
   "outputs": [],
   "source": [
    "movies_genre_df.to_csv('movie_genre.csv')\n",
    "movies_genre_df.drop(['(no genres listed)', 'listgenres'],\n",
    "                     axis=1, inplace=True)"
   ]
  },
  {
   "cell_type": "code",
   "execution_count": 14,
   "metadata": {},
   "outputs": [
    {
     "name": "stdout",
     "output_type": "stream",
     "text": [
      "(45843, 20)\n"
     ]
    }
   ],
   "source": [
    "movies_genre_df.set_index('movieId')\n",
    "print(movies_genre_df.shape)"
   ]
  },
  {
   "cell_type": "code",
   "execution_count": 15,
   "metadata": {},
   "outputs": [
    {
     "data": {
      "text/html": [
       "<div>\n",
       "<style scoped>\n",
       "    .dataframe tbody tr th:only-of-type {\n",
       "        vertical-align: middle;\n",
       "    }\n",
       "\n",
       "    .dataframe tbody tr th {\n",
       "        vertical-align: top;\n",
       "    }\n",
       "\n",
       "    .dataframe thead th {\n",
       "        text-align: right;\n",
       "    }\n",
       "</style>\n",
       "<table border=\"1\" class=\"dataframe\">\n",
       "  <thead>\n",
       "    <tr style=\"text-align: right;\">\n",
       "      <th></th>\n",
       "      <th>Documentary</th>\n",
       "      <th>Fantasy</th>\n",
       "      <th>Sci-Fi</th>\n",
       "      <th>Thriller</th>\n",
       "      <th>Mystery</th>\n",
       "      <th>War</th>\n",
       "      <th>Drama</th>\n",
       "      <th>Horror</th>\n",
       "      <th>Adventure</th>\n",
       "      <th>Western</th>\n",
       "      <th>Children</th>\n",
       "      <th>IMAX</th>\n",
       "      <th>Comedy</th>\n",
       "      <th>Animation</th>\n",
       "      <th>Crime</th>\n",
       "      <th>Action</th>\n",
       "      <th>Film-Noir</th>\n",
       "      <th>Musical</th>\n",
       "      <th>Romance</th>\n",
       "      <th>movieId</th>\n",
       "    </tr>\n",
       "  </thead>\n",
       "  <tbody>\n",
       "    <tr>\n",
       "      <th>0</th>\n",
       "      <td>0.0</td>\n",
       "      <td>1.0</td>\n",
       "      <td>0.0</td>\n",
       "      <td>0.0</td>\n",
       "      <td>0.0</td>\n",
       "      <td>0.0</td>\n",
       "      <td>0.0</td>\n",
       "      <td>0.0</td>\n",
       "      <td>1.0</td>\n",
       "      <td>0.0</td>\n",
       "      <td>1.0</td>\n",
       "      <td>0.0</td>\n",
       "      <td>1.0</td>\n",
       "      <td>1.0</td>\n",
       "      <td>0.0</td>\n",
       "      <td>0.0</td>\n",
       "      <td>0.0</td>\n",
       "      <td>0.0</td>\n",
       "      <td>0.0</td>\n",
       "      <td>1</td>\n",
       "    </tr>\n",
       "    <tr>\n",
       "      <th>1</th>\n",
       "      <td>0.0</td>\n",
       "      <td>1.0</td>\n",
       "      <td>0.0</td>\n",
       "      <td>0.0</td>\n",
       "      <td>0.0</td>\n",
       "      <td>0.0</td>\n",
       "      <td>0.0</td>\n",
       "      <td>0.0</td>\n",
       "      <td>1.0</td>\n",
       "      <td>0.0</td>\n",
       "      <td>1.0</td>\n",
       "      <td>0.0</td>\n",
       "      <td>0.0</td>\n",
       "      <td>0.0</td>\n",
       "      <td>0.0</td>\n",
       "      <td>0.0</td>\n",
       "      <td>0.0</td>\n",
       "      <td>0.0</td>\n",
       "      <td>0.0</td>\n",
       "      <td>2</td>\n",
       "    </tr>\n",
       "    <tr>\n",
       "      <th>2</th>\n",
       "      <td>0.0</td>\n",
       "      <td>0.0</td>\n",
       "      <td>0.0</td>\n",
       "      <td>0.0</td>\n",
       "      <td>0.0</td>\n",
       "      <td>0.0</td>\n",
       "      <td>0.0</td>\n",
       "      <td>0.0</td>\n",
       "      <td>0.0</td>\n",
       "      <td>0.0</td>\n",
       "      <td>0.0</td>\n",
       "      <td>0.0</td>\n",
       "      <td>1.0</td>\n",
       "      <td>0.0</td>\n",
       "      <td>0.0</td>\n",
       "      <td>0.0</td>\n",
       "      <td>0.0</td>\n",
       "      <td>0.0</td>\n",
       "      <td>1.0</td>\n",
       "      <td>3</td>\n",
       "    </tr>\n",
       "    <tr>\n",
       "      <th>3</th>\n",
       "      <td>0.0</td>\n",
       "      <td>0.0</td>\n",
       "      <td>0.0</td>\n",
       "      <td>0.0</td>\n",
       "      <td>0.0</td>\n",
       "      <td>0.0</td>\n",
       "      <td>1.0</td>\n",
       "      <td>0.0</td>\n",
       "      <td>0.0</td>\n",
       "      <td>0.0</td>\n",
       "      <td>0.0</td>\n",
       "      <td>0.0</td>\n",
       "      <td>1.0</td>\n",
       "      <td>0.0</td>\n",
       "      <td>0.0</td>\n",
       "      <td>0.0</td>\n",
       "      <td>0.0</td>\n",
       "      <td>0.0</td>\n",
       "      <td>1.0</td>\n",
       "      <td>4</td>\n",
       "    </tr>\n",
       "    <tr>\n",
       "      <th>4</th>\n",
       "      <td>0.0</td>\n",
       "      <td>0.0</td>\n",
       "      <td>0.0</td>\n",
       "      <td>0.0</td>\n",
       "      <td>0.0</td>\n",
       "      <td>0.0</td>\n",
       "      <td>0.0</td>\n",
       "      <td>0.0</td>\n",
       "      <td>0.0</td>\n",
       "      <td>0.0</td>\n",
       "      <td>0.0</td>\n",
       "      <td>0.0</td>\n",
       "      <td>1.0</td>\n",
       "      <td>0.0</td>\n",
       "      <td>0.0</td>\n",
       "      <td>0.0</td>\n",
       "      <td>0.0</td>\n",
       "      <td>0.0</td>\n",
       "      <td>0.0</td>\n",
       "      <td>5</td>\n",
       "    </tr>\n",
       "  </tbody>\n",
       "</table>\n",
       "</div>"
      ],
      "text/plain": [
       "   Documentary  Fantasy  Sci-Fi  Thriller  Mystery  War  Drama  Horror  \\\n",
       "0          0.0      1.0     0.0       0.0      0.0  0.0    0.0     0.0   \n",
       "1          0.0      1.0     0.0       0.0      0.0  0.0    0.0     0.0   \n",
       "2          0.0      0.0     0.0       0.0      0.0  0.0    0.0     0.0   \n",
       "3          0.0      0.0     0.0       0.0      0.0  0.0    1.0     0.0   \n",
       "4          0.0      0.0     0.0       0.0      0.0  0.0    0.0     0.0   \n",
       "\n",
       "   Adventure  Western  Children  IMAX  Comedy  Animation  Crime  Action  \\\n",
       "0        1.0      0.0       1.0   0.0     1.0        1.0    0.0     0.0   \n",
       "1        1.0      0.0       1.0   0.0     0.0        0.0    0.0     0.0   \n",
       "2        0.0      0.0       0.0   0.0     1.0        0.0    0.0     0.0   \n",
       "3        0.0      0.0       0.0   0.0     1.0        0.0    0.0     0.0   \n",
       "4        0.0      0.0       0.0   0.0     1.0        0.0    0.0     0.0   \n",
       "\n",
       "   Film-Noir  Musical  Romance  movieId  \n",
       "0        0.0      0.0      0.0        1  \n",
       "1        0.0      0.0      0.0        2  \n",
       "2        0.0      0.0      1.0        3  \n",
       "3        0.0      0.0      1.0        4  \n",
       "4        0.0      0.0      0.0        5  "
      ]
     },
     "execution_count": 15,
     "metadata": {},
     "output_type": "execute_result"
    }
   ],
   "source": [
    "movies_genre_df.head()"
   ]
  },
  {
   "cell_type": "code",
   "execution_count": 16,
   "metadata": {},
   "outputs": [
    {
     "data": {
      "text/plain": [
       "Index(['Documentary', 'Fantasy', 'Sci-Fi', 'Thriller', 'Mystery', 'War',\n",
       "       'Drama', 'Horror', 'Adventure', 'Western', 'Children', 'IMAX', 'Comedy',\n",
       "       'Animation', 'Crime', 'Action', 'Film-Noir', 'Musical', 'Romance'],\n",
       "      dtype='object')"
      ]
     },
     "execution_count": 16,
     "metadata": {},
     "output_type": "execute_result"
    }
   ],
   "source": [
    "X = movies_genre_df.drop(['movieId'], axis=1)\n",
    "X.columns"
   ]
  },
  {
   "cell_type": "code",
   "execution_count": 17,
   "metadata": {},
   "outputs": [],
   "source": [
    "# Let's apply some clustering now\n",
    "# As we want to reduce dimension before applying collaborative filtering\n",
    "n_clusters = range(20, 225, 5)\n",
    "inertia = []\n",
    "calinski_metric = []\n",
    "for c in n_clusters:\n",
    "    kmeans = KMeans(n_clusters=c, random_state=26, n_jobs=-1)\n",
    "    kmeans.fit(X.values)\n",
    "    labels = kmeans.labels_\n",
    "    inertia.append(kmeans.inertia_)\n",
    "    calinski_metric.append(metrics.calinski_harabaz_score(X.values, labels))"
   ]
  },
  {
   "cell_type": "code",
   "execution_count": 18,
   "metadata": {},
   "outputs": [
    {
     "data": {
      "image/png": "[encoded data removed]",
      "text/plain": [
       "<matplotlib.figure.Figure at 0x7ffae72ce898>"
      ]
     },
     "metadata": {},
     "output_type": "display_data"
    }
   ],
   "source": [
    "# let s plot the result in order to get the optimal numbers of clusters\n",
    "plt.figure(figsize=(15, 15))\n",
    "plt.plot(n_clusters, inertia, label='inertia')\n",
    "plt.title('Inertia in relation to cluster numbers')\n",
    "plt.legend()\n",
    "plt.show()"
   ]
  },
  {
   "cell_type": "code",
   "execution_count": 19,
   "metadata": {},
   "outputs": [
    {
     "data": {
      "image/png": "[encoded data removed]",
      "text/plain": [
       "<matplotlib.figure.Figure at 0x7ffabf008860>"
      ]
     },
     "metadata": {},
     "output_type": "display_data"
    }
   ],
   "source": [
    "plt.figure(figsize=(15, 15))\n",
    "plt.plot(n_clusters, calinski_metric, label='inertia')\n",
    "plt.title('Calinski metrics in relation to cluster numbers')\n",
    "plt.legend()\n",
    "plt.show()"
   ]
  },
  {
   "cell_type": "code",
   "execution_count": 20,
   "metadata": {},
   "outputs": [],
   "source": [
    "# let's choose 125 Clusters\n",
    "# let's have a look at the meaning of the centroids\n",
    "kmeans = KMeans(n_clusters=125, random_state=26, n_jobs=-1)\n",
    "kmeans.fit(X.values)\n",
    "cent = kmeans.cluster_centers_"
   ]
  },
  {
   "cell_type": "code",
   "execution_count": 21,
   "metadata": {},
   "outputs": [
    {
     "name": "stdout",
     "output_type": "stream",
     "text": [
      "principal components of 26 are [0.69672131 1.         1.        ]\n",
      "Index(['Thriller', 'Horror', 'Crime'], dtype='object')\n"
     ]
    }
   ],
   "source": [
    "print('principal components of 26 are',\n",
    "      cent[25, np.argsort(cent[25, :])[-3:]])\n",
    "print(X.columns[np.argsort(cent)[25, -3:]])"
   ]
  },
  {
   "cell_type": "markdown",
   "metadata": {},
   "source": [
    "\n",
    "## Let's look at Inferno Now"
   ]
  },
  {
   "cell_type": "code",
   "execution_count": 22,
   "metadata": {},
   "outputs": [
    {
     "data": {
      "text/html": [
       "<div>\n",
       "<style scoped>\n",
       "    .dataframe tbody tr th:only-of-type {\n",
       "        vertical-align: middle;\n",
       "    }\n",
       "\n",
       "    .dataframe tbody tr th {\n",
       "        vertical-align: top;\n",
       "    }\n",
       "\n",
       "    .dataframe thead th {\n",
       "        text-align: right;\n",
       "    }\n",
       "</style>\n",
       "<table border=\"1\" class=\"dataframe\">\n",
       "  <thead>\n",
       "    <tr style=\"text-align: right;\">\n",
       "      <th></th>\n",
       "      <th>movieId</th>\n",
       "      <th>title</th>\n",
       "      <th>genres</th>\n",
       "    </tr>\n",
       "  </thead>\n",
       "  <tbody>\n",
       "    <tr>\n",
       "      <th>2440</th>\n",
       "      <td>2524</td>\n",
       "      <td>Towering Inferno, The (1974)</td>\n",
       "      <td>Action|Adventure|Drama|Thriller</td>\n",
       "    </tr>\n",
       "    <tr>\n",
       "      <th>3497</th>\n",
       "      <td>3587</td>\n",
       "      <td>Inferno (1980)</td>\n",
       "      <td>Horror</td>\n",
       "    </tr>\n",
       "    <tr>\n",
       "      <th>9589</th>\n",
       "      <td>30791</td>\n",
       "      <td>Hellraiser: Inferno (2000)</td>\n",
       "      <td>Horror</td>\n",
       "    </tr>\n",
       "    <tr>\n",
       "      <th>9753</th>\n",
       "      <td>31655</td>\n",
       "      <td>Inferno (1953)</td>\n",
       "      <td>Drama</td>\n",
       "    </tr>\n",
       "    <tr>\n",
       "      <th>11384</th>\n",
       "      <td>48536</td>\n",
       "      <td>Dante's Inferno (1935)</td>\n",
       "      <td>Action|Drama</td>\n",
       "    </tr>\n",
       "    <tr>\n",
       "      <th>11546</th>\n",
       "      <td>49979</td>\n",
       "      <td>Desert Heat (Inferno) (1999)</td>\n",
       "      <td>Action</td>\n",
       "    </tr>\n",
       "    <tr>\n",
       "      <th>14849</th>\n",
       "      <td>74115</td>\n",
       "      <td>Dante's Inferno Animated (2010)</td>\n",
       "      <td>Action|Animation|Fantasy</td>\n",
       "    </tr>\n",
       "    <tr>\n",
       "      <th>17316</th>\n",
       "      <td>87164</td>\n",
       "      <td>Henri-Georges Clouzot's Inferno (L'enfer d'Hen...</td>\n",
       "      <td>Documentary</td>\n",
       "    </tr>\n",
       "    <tr>\n",
       "      <th>19010</th>\n",
       "      <td>94160</td>\n",
       "      <td>Dante's Inferno: An Animated Epic (2010)</td>\n",
       "      <td>Action|Animation|Fantasy</td>\n",
       "    </tr>\n",
       "    <tr>\n",
       "      <th>20501</th>\n",
       "      <td>100093</td>\n",
       "      <td>Death Race 3: Inferno (2012)</td>\n",
       "      <td>Action|Sci-Fi|Thriller</td>\n",
       "    </tr>\n",
       "    <tr>\n",
       "      <th>22360</th>\n",
       "      <td>106791</td>\n",
       "      <td>Cut and Run (Inferno in diretta) (1985)</td>\n",
       "      <td>Adventure|Horror|Thriller</td>\n",
       "    </tr>\n",
       "    <tr>\n",
       "      <th>25033</th>\n",
       "      <td>116435</td>\n",
       "      <td>Building the Inferno: Nobuo Nakagawa and the M...</td>\n",
       "      <td>Documentary</td>\n",
       "    </tr>\n",
       "    <tr>\n",
       "      <th>25088</th>\n",
       "      <td>116578</td>\n",
       "      <td>Dante's Inferno (1911)</td>\n",
       "      <td>Adventure|Drama|Fantasy|Horror</td>\n",
       "    </tr>\n",
       "    <tr>\n",
       "      <th>25089</th>\n",
       "      <td>116580</td>\n",
       "      <td>Dante's Inferno (2007)</td>\n",
       "      <td>Animation|Comedy</td>\n",
       "    </tr>\n",
       "    <tr>\n",
       "      <th>29389</th>\n",
       "      <td>131446</td>\n",
       "      <td>Rurouni Kenshin: Kyoto Inferno (2014)</td>\n",
       "      <td>Action|Adventure|Animation|Drama</td>\n",
       "    </tr>\n",
       "    <tr>\n",
       "      <th>30253</th>\n",
       "      <td>133832</td>\n",
       "      <td>The Green Inferno (2014)</td>\n",
       "      <td>Horror|Thriller</td>\n",
       "    </tr>\n",
       "    <tr>\n",
       "      <th>30777</th>\n",
       "      <td>135286</td>\n",
       "      <td>The Curse of Inferno (1997)</td>\n",
       "      <td>Comedy|Crime|Drama</td>\n",
       "    </tr>\n",
       "    <tr>\n",
       "      <th>41308</th>\n",
       "      <td>165101</td>\n",
       "      <td>Inferno (2016)</td>\n",
       "      <td>Mystery|Thriller</td>\n",
       "    </tr>\n",
       "    <tr>\n",
       "      <th>41417</th>\n",
       "      <td>165361</td>\n",
       "      <td>Deadman Inferno (2015)</td>\n",
       "      <td>Action|Horror</td>\n",
       "    </tr>\n",
       "    <tr>\n",
       "      <th>41461</th>\n",
       "      <td>165491</td>\n",
       "      <td>Into the Inferno (2016)</td>\n",
       "      <td>Documentary</td>\n",
       "    </tr>\n",
       "  </tbody>\n",
       "</table>\n",
       "</div>"
      ],
      "text/plain": [
       "       movieId                                              title  \\\n",
       "2440      2524                       Towering Inferno, The (1974)   \n",
       "3497      3587                                     Inferno (1980)   \n",
       "9589     30791                         Hellraiser: Inferno (2000)   \n",
       "9753     31655                                     Inferno (1953)   \n",
       "11384    48536                             Dante's Inferno (1935)   \n",
       "11546    49979                       Desert Heat (Inferno) (1999)   \n",
       "14849    74115                    Dante's Inferno Animated (2010)   \n",
       "17316    87164  Henri-Georges Clouzot's Inferno (L'enfer d'Hen...   \n",
       "19010    94160           Dante's Inferno: An Animated Epic (2010)   \n",
       "20501   100093                       Death Race 3: Inferno (2012)   \n",
       "22360   106791            Cut and Run (Inferno in diretta) (1985)   \n",
       "25033   116435  Building the Inferno: Nobuo Nakagawa and the M...   \n",
       "25088   116578                             Dante's Inferno (1911)   \n",
       "25089   116580                             Dante's Inferno (2007)   \n",
       "29389   131446              Rurouni Kenshin: Kyoto Inferno (2014)   \n",
       "30253   133832                           The Green Inferno (2014)   \n",
       "30777   135286                        The Curse of Inferno (1997)   \n",
       "41308   165101                                     Inferno (2016)   \n",
       "41417   165361                             Deadman Inferno (2015)   \n",
       "41461   165491                            Into the Inferno (2016)   \n",
       "\n",
       "                                 genres  \n",
       "2440    Action|Adventure|Drama|Thriller  \n",
       "3497                             Horror  \n",
       "9589                             Horror  \n",
       "9753                              Drama  \n",
       "11384                      Action|Drama  \n",
       "11546                            Action  \n",
       "14849          Action|Animation|Fantasy  \n",
       "17316                       Documentary  \n",
       "19010          Action|Animation|Fantasy  \n",
       "20501            Action|Sci-Fi|Thriller  \n",
       "22360         Adventure|Horror|Thriller  \n",
       "25033                       Documentary  \n",
       "25088    Adventure|Drama|Fantasy|Horror  \n",
       "25089                  Animation|Comedy  \n",
       "29389  Action|Adventure|Animation|Drama  \n",
       "30253                   Horror|Thriller  \n",
       "30777                Comedy|Crime|Drama  \n",
       "41308                  Mystery|Thriller  \n",
       "41417                     Action|Horror  \n",
       "41461                       Documentary  "
      ]
     },
     "execution_count": 22,
     "metadata": {},
     "output_type": "execute_result"
    }
   ],
   "source": [
    "inferno_movie_details = movies_df[movies_df.title.str.contains('Inferno')]\n",
    "inferno_movie_details"
   ]
  },
  {
   "cell_type": "code",
   "execution_count": 23,
   "metadata": {},
   "outputs": [
    {
     "data": {
      "text/plain": [
       "3062096"
      ]
     },
     "execution_count": 23,
     "metadata": {},
     "output_type": "execute_result"
    }
   ],
   "source": [
    "imdbref = int(links_df[links_df.movieId == 165101]['imdbId'].values)\n",
    "imdbref"
   ]
  },
  {
   "cell_type": "code",
   "execution_count": 99,
   "metadata": {},
   "outputs": [
    {
     "name": "stdout",
     "output_type": "stream",
     "text": [
      "Ron Howard\n"
     ]
    },
    {
     "data": {
      "text/html": [
       "<img src=\"https://images-na.ssl-images-amazon.com/images/M/MV5BMTUzNTE2NTkzMV5BMl5BanBnXkFtZTgwMDAzOTUyMDI@._V1_SX300.jpg\"/>"
      ],
      "text/plain": [
       "<IPython.core.display.Image object>"
      ]
     },
     "execution_count": 99,
     "metadata": {},
     "output_type": "execute_result"
    }
   ],
   "source": [
    "# film has been released in 2016\n",
    "# let's check if it is the 165101\n",
    "# we have registered to imdb let s get the details\n",
    "\n",
    "api_key = '89b358a2'\n",
    "url = \"http://www.omdbapi.com/?i=tt\" + str(imdbref) + \"&apikey=\" + api_key\n",
    "response = requests.get(url)\n",
    "film_details = json.loads(response.text)\n",
    "print(film_details['Director'])\n",
    "Image(url=film_details['Poster'])"
   ]
  },
  {
   "cell_type": "code",
   "execution_count": 25,
   "metadata": {},
   "outputs": [
    {
     "data": {
      "text/html": [
       "<div>\n",
       "<style scoped>\n",
       "    .dataframe tbody tr th:only-of-type {\n",
       "        vertical-align: middle;\n",
       "    }\n",
       "\n",
       "    .dataframe tbody tr th {\n",
       "        vertical-align: top;\n",
       "    }\n",
       "\n",
       "    .dataframe thead th {\n",
       "        text-align: right;\n",
       "    }\n",
       "</style>\n",
       "<table border=\"1\" class=\"dataframe\">\n",
       "  <thead>\n",
       "    <tr style=\"text-align: right;\">\n",
       "      <th></th>\n",
       "      <th>Documentary</th>\n",
       "      <th>Fantasy</th>\n",
       "      <th>Sci-Fi</th>\n",
       "      <th>Thriller</th>\n",
       "      <th>Mystery</th>\n",
       "      <th>War</th>\n",
       "      <th>Drama</th>\n",
       "      <th>Horror</th>\n",
       "      <th>Adventure</th>\n",
       "      <th>Western</th>\n",
       "      <th>Children</th>\n",
       "      <th>IMAX</th>\n",
       "      <th>Comedy</th>\n",
       "      <th>Animation</th>\n",
       "      <th>Crime</th>\n",
       "      <th>Action</th>\n",
       "      <th>Film-Noir</th>\n",
       "      <th>Musical</th>\n",
       "      <th>Romance</th>\n",
       "      <th>movieId</th>\n",
       "    </tr>\n",
       "  </thead>\n",
       "  <tbody>\n",
       "    <tr>\n",
       "      <th>41308</th>\n",
       "      <td>0.0</td>\n",
       "      <td>0.0</td>\n",
       "      <td>0.0</td>\n",
       "      <td>1.0</td>\n",
       "      <td>1.0</td>\n",
       "      <td>0.0</td>\n",
       "      <td>0.0</td>\n",
       "      <td>0.0</td>\n",
       "      <td>0.0</td>\n",
       "      <td>0.0</td>\n",
       "      <td>0.0</td>\n",
       "      <td>0.0</td>\n",
       "      <td>0.0</td>\n",
       "      <td>0.0</td>\n",
       "      <td>0.0</td>\n",
       "      <td>0.0</td>\n",
       "      <td>0.0</td>\n",
       "      <td>0.0</td>\n",
       "      <td>0.0</td>\n",
       "      <td>165101</td>\n",
       "    </tr>\n",
       "  </tbody>\n",
       "</table>\n",
       "</div>"
      ],
      "text/plain": [
       "       Documentary  Fantasy  Sci-Fi  Thriller  Mystery  War  Drama  Horror  \\\n",
       "41308          0.0      0.0     0.0       1.0      1.0  0.0    0.0     0.0   \n",
       "\n",
       "       Adventure  Western  Children  IMAX  Comedy  Animation  Crime  Action  \\\n",
       "41308        0.0      0.0       0.0   0.0     0.0        0.0    0.0     0.0   \n",
       "\n",
       "       Film-Noir  Musical  Romance  movieId  \n",
       "41308        0.0      0.0      0.0   165101  "
      ]
     },
     "execution_count": 25,
     "metadata": {},
     "output_type": "execute_result"
    }
   ],
   "source": [
    "# that s the good one.\n",
    "# check to which cluster he belongs to\n",
    "# First let s find it in movies_genre\n",
    "X_inferno = movies_genre_df[movies_genre_df.movieId == 165101]\n",
    "X_inferno"
   ]
  },
  {
   "cell_type": "code",
   "execution_count": 26,
   "metadata": {},
   "outputs": [
    {
     "name": "stdout",
     "output_type": "stream",
     "text": [
      "Inferno by Ron Howard belongs to center number 46\n",
      "Inferno by Ron Howard has a score of  -0.02628245088379\n"
     ]
    }
   ],
   "source": [
    "label = int(kmeans.predict(\n",
    "    X_inferno.values[:, :X_inferno.values.shape[1] - 1]))\n",
    "print('Inferno by Ron Howard belongs to center number', label)\n",
    "score = kmeans.score(X_inferno.values[:, :X_inferno.values.shape[1] - 1])\n",
    "print('Inferno by Ron Howard has a score of ', score)"
   ]
  },
  {
   "cell_type": "code",
   "execution_count": 27,
   "metadata": {},
   "outputs": [
    {
     "name": "stdout",
     "output_type": "stream",
     "text": [
      "principal components of 46 center are [0.06278027 0.08071749 0.10313901 1.         1.        ]\n",
      "Index(['Comedy', 'Romance', 'Sci-Fi', 'Mystery', 'Thriller'], dtype='object')\n"
     ]
    }
   ],
   "source": [
    "print('principal components of 46 center are',\n",
    "      cent[46, np.argsort(cent[46, :])[-5:]])\n",
    "print(X.columns[np.argsort(cent)[46, -5:]])"
   ]
  },
  {
   "cell_type": "markdown",
   "metadata": {},
   "source": [
    "### Inferno is quite close to the cluster center as the score is very low, we check it with the main feature of Inferno as  'Sci-Fi', 'Mystery', 'Thriller' given by our model"
   ]
  },
  {
   "cell_type": "code",
   "execution_count": 28,
   "metadata": {},
   "outputs": [],
   "source": [
    "# let's get all the films belongs to this center\n",
    "y_kmeans = kmeans.predict(X.values)"
   ]
  },
  {
   "cell_type": "code",
   "execution_count": 29,
   "metadata": {},
   "outputs": [
    {
     "name": "stdout",
     "output_type": "stream",
     "text": [
      "We have 223 films in this cluster\n"
     ]
    }
   ],
   "source": [
    "print('We have ' +\n",
    "      str(len(y_kmeans[y_kmeans == 46])) + ' films in this cluster')"
   ]
  },
  {
   "cell_type": "code",
   "execution_count": 30,
   "metadata": {},
   "outputs": [],
   "source": [
    "# let's take the film belongs to the four closest clusters\n",
    "# this will b refined through Cross Val later\n",
    "# I have limited to 1000 films because of computing power\n",
    "dist_cent = pairwise_distances(cent, metric='euclidean', n_jobs=-1)"
   ]
  },
  {
   "cell_type": "code",
   "execution_count": 40,
   "metadata": {},
   "outputs": [
    {
     "name": "stdout",
     "output_type": "stream",
     "text": [
      "closest clusters are [46 33  0 48]\n"
     ]
    }
   ],
   "source": [
    "print('closest clusters are',\n",
    "      str(np.argsort(dist_cent[46, :])[:4]))\n",
    "clusterlist = list(np.argsort(dist_cent[46, :])[:4])\n",
    "clusterlist.append(46)\n",
    "clusterlist = np.asanyarray(clusterlist)"
   ]
  },
  {
   "cell_type": "code",
   "execution_count": 42,
   "metadata": {},
   "outputs": [
    {
     "data": {
      "text/plain": [
       "(1375, 1)"
      ]
     },
     "execution_count": 42,
     "metadata": {},
     "output_type": "execute_result"
    }
   ],
   "source": [
    "# let's take the total list of films\n",
    "# to apply Collaborative Filtering\n",
    "list_film = np.argwhere(y_kmeans == clusterlist[0])\n",
    "list_film = np.concatenate([list_film, np.argwhere(\n",
    "    y_kmeans == clusterlist[1]), np.argwhere(y_kmeans == clusterlist[2]),\n",
    "    np.argwhere(y_kmeans == clusterlist[3])], axis=0)\n",
    "list_film.shape"
   ]
  },
  {
   "cell_type": "code",
   "execution_count": 43,
   "metadata": {},
   "outputs": [
    {
     "name": "stdout",
     "output_type": "stream",
     "text": [
      "We have 1375 films in this set of 4 clusters\n"
     ]
    }
   ],
   "source": [
    "print('We have ' +\n",
    "      str(list_film.shape[0]) + ' films in this set of 4 clusters')"
   ]
  },
  {
   "cell_type": "markdown",
   "metadata": {},
   "source": [
    "## Collaborative Filtering"
   ]
  },
  {
   "cell_type": "code",
   "execution_count": 44,
   "metadata": {},
   "outputs": [
    {
     "data": {
      "text/plain": [
       "array([    32,     47,    103, ..., 176077, 176207, 176255])"
      ]
     },
     "execution_count": 44,
     "metadata": {},
     "output_type": "execute_result"
    }
   ],
   "source": [
    "# User Item Matrix\n",
    "# Get all the movieId corresponding to our list of films\n",
    "\n",
    "MovieId_list = movies_genre_df.loc[list_film.ravel(), 'movieId'].values\n",
    "MovieId_list"
   ]
  },
  {
   "cell_type": "code",
   "execution_count": 45,
   "metadata": {},
   "outputs": [],
   "source": [
    "# let's built the item user matrix\n",
    "UserItem = rat_df[rat_df.movieId.isin(MovieId_list)].pivot_table(\n",
    "    index='userId', columns='movieId', values='rating', fill_value=0)"
   ]
  },
  {
   "cell_type": "code",
   "execution_count": 46,
   "metadata": {},
   "outputs": [
    {
     "name": "stdout",
     "output_type": "stream",
     "text": [
      "number of users: 170380\n",
      "number of film 1363\n"
     ]
    }
   ],
   "source": [
    "# put 0 in order to find solution\n",
    "print('number of users:', UserItem.shape[0])\n",
    "print('number of film', UserItem.shape[1])"
   ]
  },
  {
   "cell_type": "markdown",
   "metadata": {},
   "source": [
    "### We implement a model based CF as Netflix, svd\n"
   ]
  },
  {
   "cell_type": "code",
   "execution_count": 47,
   "metadata": {},
   "outputs": [],
   "source": [
    "# let's split our dataset into Train, Test\n",
    "# As we do not make any GridSearch\n",
    "# we will not need a validation set to validate our k\n",
    "X_train = UserItem.values[:int(UserItem.shape[0] * 0.9), :]\n",
    "X_test = UserItem.values[int(UserItem.shape[0] * 0.9):, :]"
   ]
  },
  {
   "cell_type": "code",
   "execution_count": 48,
   "metadata": {},
   "outputs": [],
   "source": [
    "def rmse(prediction, ground_truth):\n",
    "    prediction = prediction[ground_truth.nonzero()].flatten()\n",
    "    ground_truth = ground_truth[ground_truth.nonzero()].flatten()\n",
    "    return sqrt(mean_squared_error(prediction, ground_truth))"
   ]
  },
  {
   "cell_type": "code",
   "execution_count": 49,
   "metadata": {},
   "outputs": [],
   "source": [
    "# get SVD components from train matrix.\n",
    "# I cannot make a grid search for the best k -> not enough RAM\n",
    "u, s, vt = svds(X_train, k=26)\n",
    "s_diag_matrix = np.diag(s)\n",
    "X_pred = np.dot(np.dot(u, s_diag_matrix), vt)\n",
    "score = rmse(X_pred, X_test)"
   ]
  },
  {
   "cell_type": "code",
   "execution_count": 50,
   "metadata": {},
   "outputs": [
    {
     "name": "stdout",
     "output_type": "stream",
     "text": [
      "CF MSE: 3.5402796181208016\n"
     ]
    }
   ],
   "source": [
    "print('CF MSE: ' + str(score))"
   ]
  },
  {
   "cell_type": "code",
   "execution_count": 51,
   "metadata": {},
   "outputs": [
    {
     "data": {
      "text/plain": [
       "(153342, 1363)"
      ]
     },
     "execution_count": 51,
     "metadata": {},
     "output_type": "execute_result"
    }
   ],
   "source": [
    "X_pred.shape"
   ]
  },
  {
   "cell_type": "code",
   "execution_count": 52,
   "metadata": {},
   "outputs": [],
   "source": [
    "X_pred_df = pd.DataFrame(data=X_pred, columns=UserItem.columns)"
   ]
  },
  {
   "cell_type": "code",
   "execution_count": 53,
   "metadata": {},
   "outputs": [
    {
     "data": {
      "text/html": [
       "<div>\n",
       "<style scoped>\n",
       "    .dataframe tbody tr th:only-of-type {\n",
       "        vertical-align: middle;\n",
       "    }\n",
       "\n",
       "    .dataframe tbody tr th {\n",
       "        vertical-align: top;\n",
       "    }\n",
       "\n",
       "    .dataframe thead th {\n",
       "        text-align: right;\n",
       "    }\n",
       "</style>\n",
       "<table border=\"1\" class=\"dataframe\">\n",
       "  <thead>\n",
       "    <tr style=\"text-align: right;\">\n",
       "      <th>movieId</th>\n",
       "      <th>32</th>\n",
       "      <th>47</th>\n",
       "      <th>103</th>\n",
       "      <th>132</th>\n",
       "      <th>190</th>\n",
       "      <th>200</th>\n",
       "      <th>226</th>\n",
       "      <th>240</th>\n",
       "      <th>257</th>\n",
       "      <th>320</th>\n",
       "      <th>...</th>\n",
       "      <th>175331</th>\n",
       "      <th>175419</th>\n",
       "      <th>175553</th>\n",
       "      <th>175601</th>\n",
       "      <th>175701</th>\n",
       "      <th>175755</th>\n",
       "      <th>175991</th>\n",
       "      <th>176077</th>\n",
       "      <th>176207</th>\n",
       "      <th>176255</th>\n",
       "    </tr>\n",
       "  </thead>\n",
       "  <tbody>\n",
       "    <tr>\n",
       "      <th>0</th>\n",
       "      <td>-0.007241</td>\n",
       "      <td>0.007776</td>\n",
       "      <td>-0.017677</td>\n",
       "      <td>-0.021750</td>\n",
       "      <td>0.001140</td>\n",
       "      <td>-0.002011</td>\n",
       "      <td>-0.000080</td>\n",
       "      <td>-0.005552</td>\n",
       "      <td>-0.028944</td>\n",
       "      <td>-0.000616</td>\n",
       "      <td>...</td>\n",
       "      <td>-0.000411</td>\n",
       "      <td>-0.000122</td>\n",
       "      <td>-1.859317e-07</td>\n",
       "      <td>-0.000208</td>\n",
       "      <td>-0.000246</td>\n",
       "      <td>-1.225185e-18</td>\n",
       "      <td>1.895266e-04</td>\n",
       "      <td>-0.000265</td>\n",
       "      <td>-2.005416e-05</td>\n",
       "      <td>0.000114</td>\n",
       "    </tr>\n",
       "    <tr>\n",
       "      <th>1</th>\n",
       "      <td>1.994161</td>\n",
       "      <td>0.000059</td>\n",
       "      <td>0.017010</td>\n",
       "      <td>0.006632</td>\n",
       "      <td>0.000365</td>\n",
       "      <td>0.000412</td>\n",
       "      <td>0.000267</td>\n",
       "      <td>0.003659</td>\n",
       "      <td>0.008762</td>\n",
       "      <td>0.001651</td>\n",
       "      <td>...</td>\n",
       "      <td>0.000012</td>\n",
       "      <td>-0.000005</td>\n",
       "      <td>4.173010e-06</td>\n",
       "      <td>-0.000027</td>\n",
       "      <td>0.000061</td>\n",
       "      <td>-1.214556e-18</td>\n",
       "      <td>-1.920382e-05</td>\n",
       "      <td>0.000018</td>\n",
       "      <td>-6.419082e-08</td>\n",
       "      <td>0.000019</td>\n",
       "    </tr>\n",
       "    <tr>\n",
       "      <th>2</th>\n",
       "      <td>-0.038739</td>\n",
       "      <td>0.041965</td>\n",
       "      <td>-0.035559</td>\n",
       "      <td>-0.018094</td>\n",
       "      <td>-0.042583</td>\n",
       "      <td>-0.005145</td>\n",
       "      <td>-0.002192</td>\n",
       "      <td>-0.010205</td>\n",
       "      <td>-0.045353</td>\n",
       "      <td>-0.008650</td>\n",
       "      <td>...</td>\n",
       "      <td>-0.000486</td>\n",
       "      <td>0.000427</td>\n",
       "      <td>8.522974e-06</td>\n",
       "      <td>-0.000211</td>\n",
       "      <td>-0.000231</td>\n",
       "      <td>9.334714e-19</td>\n",
       "      <td>-1.030604e-04</td>\n",
       "      <td>0.000299</td>\n",
       "      <td>6.054747e-05</td>\n",
       "      <td>-0.000016</td>\n",
       "    </tr>\n",
       "    <tr>\n",
       "      <th>3</th>\n",
       "      <td>0.021124</td>\n",
       "      <td>0.013725</td>\n",
       "      <td>0.029879</td>\n",
       "      <td>0.048352</td>\n",
       "      <td>0.014374</td>\n",
       "      <td>0.010594</td>\n",
       "      <td>0.001083</td>\n",
       "      <td>0.025608</td>\n",
       "      <td>0.105241</td>\n",
       "      <td>0.010673</td>\n",
       "      <td>...</td>\n",
       "      <td>0.000056</td>\n",
       "      <td>-0.000139</td>\n",
       "      <td>4.536294e-06</td>\n",
       "      <td>0.000212</td>\n",
       "      <td>0.000003</td>\n",
       "      <td>2.260276e-18</td>\n",
       "      <td>1.083457e-07</td>\n",
       "      <td>-0.000175</td>\n",
       "      <td>-1.538118e-05</td>\n",
       "      <td>-0.000024</td>\n",
       "    </tr>\n",
       "    <tr>\n",
       "      <th>4</th>\n",
       "      <td>-0.071866</td>\n",
       "      <td>3.963359</td>\n",
       "      <td>0.052030</td>\n",
       "      <td>0.167891</td>\n",
       "      <td>0.096579</td>\n",
       "      <td>0.029730</td>\n",
       "      <td>0.005250</td>\n",
       "      <td>0.071617</td>\n",
       "      <td>0.225624</td>\n",
       "      <td>0.037572</td>\n",
       "      <td>...</td>\n",
       "      <td>0.000761</td>\n",
       "      <td>-0.000260</td>\n",
       "      <td>5.127847e-06</td>\n",
       "      <td>0.000564</td>\n",
       "      <td>0.000011</td>\n",
       "      <td>-2.562811e-18</td>\n",
       "      <td>9.995192e-05</td>\n",
       "      <td>-0.000094</td>\n",
       "      <td>3.796683e-05</td>\n",
       "      <td>0.000034</td>\n",
       "    </tr>\n",
       "  </tbody>\n",
       "</table>\n",
       "<p>5 rows × 1363 columns</p>\n",
       "</div>"
      ],
      "text/plain": [
       "movieId    32        47        103       132       190       200       226     \\\n",
       "0       -0.007241  0.007776 -0.017677 -0.021750  0.001140 -0.002011 -0.000080   \n",
       "1        1.994161  0.000059  0.017010  0.006632  0.000365  0.000412  0.000267   \n",
       "2       -0.038739  0.041965 -0.035559 -0.018094 -0.042583 -0.005145 -0.002192   \n",
       "3        0.021124  0.013725  0.029879  0.048352  0.014374  0.010594  0.001083   \n",
       "4       -0.071866  3.963359  0.052030  0.167891  0.096579  0.029730  0.005250   \n",
       "\n",
       "movieId    240       257       320       ...       175331    175419  \\\n",
       "0       -0.005552 -0.028944 -0.000616    ...    -0.000411 -0.000122   \n",
       "1        0.003659  0.008762  0.001651    ...     0.000012 -0.000005   \n",
       "2       -0.010205 -0.045353 -0.008650    ...    -0.000486  0.000427   \n",
       "3        0.025608  0.105241  0.010673    ...     0.000056 -0.000139   \n",
       "4        0.071617  0.225624  0.037572    ...     0.000761 -0.000260   \n",
       "\n",
       "movieId        175553    175601    175701        175755        175991  \\\n",
       "0       -1.859317e-07 -0.000208 -0.000246 -1.225185e-18  1.895266e-04   \n",
       "1        4.173010e-06 -0.000027  0.000061 -1.214556e-18 -1.920382e-05   \n",
       "2        8.522974e-06 -0.000211 -0.000231  9.334714e-19 -1.030604e-04   \n",
       "3        4.536294e-06  0.000212  0.000003  2.260276e-18  1.083457e-07   \n",
       "4        5.127847e-06  0.000564  0.000011 -2.562811e-18  9.995192e-05   \n",
       "\n",
       "movieId    176077        176207    176255  \n",
       "0       -0.000265 -2.005416e-05  0.000114  \n",
       "1        0.000018 -6.419082e-08  0.000019  \n",
       "2        0.000299  6.054747e-05 -0.000016  \n",
       "3       -0.000175 -1.538118e-05 -0.000024  \n",
       "4       -0.000094  3.796683e-05  0.000034  \n",
       "\n",
       "[5 rows x 1363 columns]"
      ]
     },
     "execution_count": 53,
     "metadata": {},
     "output_type": "execute_result"
    }
   ],
   "source": [
    "X_pred_df.head()"
   ]
  },
  {
   "cell_type": "markdown",
   "metadata": {},
   "source": [
    "### We have some negative ratings -> we should apply a NMF (Non negative Matrix Factorisation)  next time."
   ]
  },
  {
   "cell_type": "code",
   "execution_count": 54,
   "metadata": {},
   "outputs": [],
   "source": [
    "X_pred_df.to_csv('CfModBasedPre.csv')"
   ]
  },
  {
   "cell_type": "code",
   "execution_count": 55,
   "metadata": {},
   "outputs": [
    {
     "data": {
      "text/plain": [
       "Int64Index([ 8950,  1343,  4975,  1061, 68237,  2076,  5679,  1597, 27773,\n",
       "             1645,  3176,   350,  2712, 70286, 74458,  1407,   903,  1625,\n",
       "            48780,   904,  4878,  4226,    32,    47,   457],\n",
       "           dtype='int64', name='movieId')"
      ]
     },
     "execution_count": 55,
     "metadata": {},
     "output_type": "execute_result"
    }
   ],
   "source": [
    "# Top 25 recommendation is the best average ratings\n",
    "Top25 = X_pred_df.columns[np.argsort(np.mean(X_pred_df.values, axis=0))[-25:]]\n",
    "Top25"
   ]
  },
  {
   "cell_type": "code",
   "execution_count": 56,
   "metadata": {},
   "outputs": [
    {
     "data": {
      "text/html": [
       "<div>\n",
       "<style scoped>\n",
       "    .dataframe tbody tr th:only-of-type {\n",
       "        vertical-align: middle;\n",
       "    }\n",
       "\n",
       "    .dataframe tbody tr th {\n",
       "        vertical-align: top;\n",
       "    }\n",
       "\n",
       "    .dataframe thead th {\n",
       "        text-align: right;\n",
       "    }\n",
       "</style>\n",
       "<table border=\"1\" class=\"dataframe\">\n",
       "  <thead>\n",
       "    <tr style=\"text-align: right;\">\n",
       "      <th></th>\n",
       "      <th>movieId</th>\n",
       "      <th>title</th>\n",
       "      <th>genres</th>\n",
       "    </tr>\n",
       "  </thead>\n",
       "  <tbody>\n",
       "    <tr>\n",
       "      <th>31</th>\n",
       "      <td>32</td>\n",
       "      <td>Twelve Monkeys (a.k.a. 12 Monkeys) (1995)</td>\n",
       "      <td>Mystery|Sci-Fi|Thriller</td>\n",
       "    </tr>\n",
       "    <tr>\n",
       "      <th>46</th>\n",
       "      <td>47</td>\n",
       "      <td>Seven (a.k.a. Se7en) (1995)</td>\n",
       "      <td>Mystery|Thriller</td>\n",
       "    </tr>\n",
       "    <tr>\n",
       "      <th>346</th>\n",
       "      <td>350</td>\n",
       "      <td>Client, The (1994)</td>\n",
       "      <td>Drama|Mystery|Thriller</td>\n",
       "    </tr>\n",
       "    <tr>\n",
       "      <th>453</th>\n",
       "      <td>457</td>\n",
       "      <td>Fugitive, The (1993)</td>\n",
       "      <td>Thriller</td>\n",
       "    </tr>\n",
       "    <tr>\n",
       "      <th>886</th>\n",
       "      <td>903</td>\n",
       "      <td>Vertigo (1958)</td>\n",
       "      <td>Drama|Mystery|Romance|Thriller</td>\n",
       "    </tr>\n",
       "    <tr>\n",
       "      <th>887</th>\n",
       "      <td>904</td>\n",
       "      <td>Rear Window (1954)</td>\n",
       "      <td>Mystery|Thriller</td>\n",
       "    </tr>\n",
       "    <tr>\n",
       "      <th>1041</th>\n",
       "      <td>1061</td>\n",
       "      <td>Sleepers (1996)</td>\n",
       "      <td>Thriller</td>\n",
       "    </tr>\n",
       "    <tr>\n",
       "      <th>1313</th>\n",
       "      <td>1343</td>\n",
       "      <td>Cape Fear (1991)</td>\n",
       "      <td>Thriller</td>\n",
       "    </tr>\n",
       "    <tr>\n",
       "      <th>1374</th>\n",
       "      <td>1407</td>\n",
       "      <td>Scream (1996)</td>\n",
       "      <td>Comedy|Horror|Mystery|Thriller</td>\n",
       "    </tr>\n",
       "    <tr>\n",
       "      <th>1545</th>\n",
       "      <td>1597</td>\n",
       "      <td>Conspiracy Theory (1997)</td>\n",
       "      <td>Drama|Mystery|Romance|Thriller</td>\n",
       "    </tr>\n",
       "    <tr>\n",
       "      <th>1571</th>\n",
       "      <td>1625</td>\n",
       "      <td>Game, The (1997)</td>\n",
       "      <td>Drama|Mystery|Thriller</td>\n",
       "    </tr>\n",
       "    <tr>\n",
       "      <th>1588</th>\n",
       "      <td>1645</td>\n",
       "      <td>The Devil's Advocate (1997)</td>\n",
       "      <td>Drama|Mystery|Thriller</td>\n",
       "    </tr>\n",
       "    <tr>\n",
       "      <th>1993</th>\n",
       "      <td>2076</td>\n",
       "      <td>Blue Velvet (1986)</td>\n",
       "      <td>Drama|Mystery|Thriller</td>\n",
       "    </tr>\n",
       "    <tr>\n",
       "      <th>2627</th>\n",
       "      <td>2712</td>\n",
       "      <td>Eyes Wide Shut (1999)</td>\n",
       "      <td>Drama|Mystery|Thriller</td>\n",
       "    </tr>\n",
       "    <tr>\n",
       "      <th>3090</th>\n",
       "      <td>3176</td>\n",
       "      <td>Talented Mr. Ripley, The (1999)</td>\n",
       "      <td>Drama|Mystery|Thriller</td>\n",
       "    </tr>\n",
       "    <tr>\n",
       "      <th>4133</th>\n",
       "      <td>4226</td>\n",
       "      <td>Memento (2000)</td>\n",
       "      <td>Mystery|Thriller</td>\n",
       "    </tr>\n",
       "    <tr>\n",
       "      <th>4783</th>\n",
       "      <td>4878</td>\n",
       "      <td>Donnie Darko (2001)</td>\n",
       "      <td>Drama|Mystery|Sci-Fi|Thriller</td>\n",
       "    </tr>\n",
       "    <tr>\n",
       "      <th>4880</th>\n",
       "      <td>4975</td>\n",
       "      <td>Vanilla Sky (2001)</td>\n",
       "      <td>Mystery|Romance|Sci-Fi|Thriller</td>\n",
       "    </tr>\n",
       "    <tr>\n",
       "      <th>5581</th>\n",
       "      <td>5679</td>\n",
       "      <td>Ring, The (2002)</td>\n",
       "      <td>Horror|Mystery|Thriller</td>\n",
       "    </tr>\n",
       "    <tr>\n",
       "      <th>8267</th>\n",
       "      <td>8950</td>\n",
       "      <td>The Machinist (2004)</td>\n",
       "      <td>Drama|Mystery|Thriller</td>\n",
       "    </tr>\n",
       "    <tr>\n",
       "      <th>9484</th>\n",
       "      <td>27773</td>\n",
       "      <td>Old Boy (2003)</td>\n",
       "      <td>Mystery|Thriller</td>\n",
       "    </tr>\n",
       "    <tr>\n",
       "      <th>11417</th>\n",
       "      <td>48780</td>\n",
       "      <td>Prestige, The (2006)</td>\n",
       "      <td>Drama|Mystery|Sci-Fi|Thriller</td>\n",
       "    </tr>\n",
       "    <tr>\n",
       "      <th>13695</th>\n",
       "      <td>68237</td>\n",
       "      <td>Moon (2009)</td>\n",
       "      <td>Drama|Mystery|Sci-Fi|Thriller</td>\n",
       "    </tr>\n",
       "    <tr>\n",
       "      <th>14043</th>\n",
       "      <td>70286</td>\n",
       "      <td>District 9 (2009)</td>\n",
       "      <td>Mystery|Sci-Fi|Thriller</td>\n",
       "    </tr>\n",
       "    <tr>\n",
       "      <th>14910</th>\n",
       "      <td>74458</td>\n",
       "      <td>Shutter Island (2010)</td>\n",
       "      <td>Drama|Mystery|Thriller</td>\n",
       "    </tr>\n",
       "  </tbody>\n",
       "</table>\n",
       "</div>"
      ],
      "text/plain": [
       "       movieId                                      title  \\\n",
       "31          32  Twelve Monkeys (a.k.a. 12 Monkeys) (1995)   \n",
       "46          47                Seven (a.k.a. Se7en) (1995)   \n",
       "346        350                         Client, The (1994)   \n",
       "453        457                       Fugitive, The (1993)   \n",
       "886        903                             Vertigo (1958)   \n",
       "887        904                         Rear Window (1954)   \n",
       "1041      1061                            Sleepers (1996)   \n",
       "1313      1343                           Cape Fear (1991)   \n",
       "1374      1407                              Scream (1996)   \n",
       "1545      1597                   Conspiracy Theory (1997)   \n",
       "1571      1625                           Game, The (1997)   \n",
       "1588      1645                The Devil's Advocate (1997)   \n",
       "1993      2076                         Blue Velvet (1986)   \n",
       "2627      2712                      Eyes Wide Shut (1999)   \n",
       "3090      3176            Talented Mr. Ripley, The (1999)   \n",
       "4133      4226                             Memento (2000)   \n",
       "4783      4878                        Donnie Darko (2001)   \n",
       "4880      4975                         Vanilla Sky (2001)   \n",
       "5581      5679                           Ring, The (2002)   \n",
       "8267      8950                       The Machinist (2004)   \n",
       "9484     27773                             Old Boy (2003)   \n",
       "11417    48780                       Prestige, The (2006)   \n",
       "13695    68237                                Moon (2009)   \n",
       "14043    70286                          District 9 (2009)   \n",
       "14910    74458                      Shutter Island (2010)   \n",
       "\n",
       "                                genres  \n",
       "31             Mystery|Sci-Fi|Thriller  \n",
       "46                    Mystery|Thriller  \n",
       "346             Drama|Mystery|Thriller  \n",
       "453                           Thriller  \n",
       "886     Drama|Mystery|Romance|Thriller  \n",
       "887                   Mystery|Thriller  \n",
       "1041                          Thriller  \n",
       "1313                          Thriller  \n",
       "1374    Comedy|Horror|Mystery|Thriller  \n",
       "1545    Drama|Mystery|Romance|Thriller  \n",
       "1571            Drama|Mystery|Thriller  \n",
       "1588            Drama|Mystery|Thriller  \n",
       "1993            Drama|Mystery|Thriller  \n",
       "2627            Drama|Mystery|Thriller  \n",
       "3090            Drama|Mystery|Thriller  \n",
       "4133                  Mystery|Thriller  \n",
       "4783     Drama|Mystery|Sci-Fi|Thriller  \n",
       "4880   Mystery|Romance|Sci-Fi|Thriller  \n",
       "5581           Horror|Mystery|Thriller  \n",
       "8267            Drama|Mystery|Thriller  \n",
       "9484                  Mystery|Thriller  \n",
       "11417    Drama|Mystery|Sci-Fi|Thriller  \n",
       "13695    Drama|Mystery|Sci-Fi|Thriller  \n",
       "14043          Mystery|Sci-Fi|Thriller  \n",
       "14910           Drama|Mystery|Thriller  "
      ]
     },
     "execution_count": 56,
     "metadata": {},
     "output_type": "execute_result"
    }
   ],
   "source": [
    "Top25details = movies_df[movies_df.movieId.isin(Top25)]\n",
    "Top25details\n",
    "#"
   ]
  },
  {
   "cell_type": "code",
   "execution_count": 57,
   "metadata": {},
   "outputs": [],
   "source": [
    "Top25details.to_csv('Top25CFModelBased')"
   ]
  },
  {
   "cell_type": "markdown",
   "metadata": {},
   "source": [
    "### Not bad at all :) Very good films like District 9, Memento, The Game"
   ]
  },
  {
   "cell_type": "markdown",
   "metadata": {},
   "source": [
    "## Let's do a tag content based clustering and combine the scores"
   ]
  },
  {
   "cell_type": "code",
   "execution_count": 58,
   "metadata": {},
   "outputs": [],
   "source": [
    "gen_sc_df = pd.read_csv(ListFiles[1])\n",
    "gen_tags_df = pd.read_csv(ListFiles[4])"
   ]
  },
  {
   "cell_type": "code",
   "execution_count": 59,
   "metadata": {},
   "outputs": [
    {
     "data": {
      "text/html": [
       "<div>\n",
       "<style scoped>\n",
       "    .dataframe tbody tr th:only-of-type {\n",
       "        vertical-align: middle;\n",
       "    }\n",
       "\n",
       "    .dataframe tbody tr th {\n",
       "        vertical-align: top;\n",
       "    }\n",
       "\n",
       "    .dataframe thead th {\n",
       "        text-align: right;\n",
       "    }\n",
       "</style>\n",
       "<table border=\"1\" class=\"dataframe\">\n",
       "  <thead>\n",
       "    <tr style=\"text-align: right;\">\n",
       "      <th></th>\n",
       "      <th>movieId</th>\n",
       "      <th>tagId</th>\n",
       "      <th>relevance</th>\n",
       "    </tr>\n",
       "  </thead>\n",
       "  <tbody>\n",
       "    <tr>\n",
       "      <th>0</th>\n",
       "      <td>1</td>\n",
       "      <td>1</td>\n",
       "      <td>0.02475</td>\n",
       "    </tr>\n",
       "    <tr>\n",
       "      <th>1</th>\n",
       "      <td>1</td>\n",
       "      <td>2</td>\n",
       "      <td>0.02475</td>\n",
       "    </tr>\n",
       "    <tr>\n",
       "      <th>2</th>\n",
       "      <td>1</td>\n",
       "      <td>3</td>\n",
       "      <td>0.04900</td>\n",
       "    </tr>\n",
       "    <tr>\n",
       "      <th>3</th>\n",
       "      <td>1</td>\n",
       "      <td>4</td>\n",
       "      <td>0.07750</td>\n",
       "    </tr>\n",
       "    <tr>\n",
       "      <th>4</th>\n",
       "      <td>1</td>\n",
       "      <td>5</td>\n",
       "      <td>0.12450</td>\n",
       "    </tr>\n",
       "  </tbody>\n",
       "</table>\n",
       "</div>"
      ],
      "text/plain": [
       "   movieId  tagId  relevance\n",
       "0        1      1    0.02475\n",
       "1        1      2    0.02475\n",
       "2        1      3    0.04900\n",
       "3        1      4    0.07750\n",
       "4        1      5    0.12450"
      ]
     },
     "execution_count": 59,
     "metadata": {},
     "output_type": "execute_result"
    }
   ],
   "source": [
    "# Built a word2vec model to compute tag-meaning distances\n",
    "# would be hard in the time given ( 6 hours)\n",
    "# Let's take just the gen_sc to compute clustering as we already\n",
    "# get the score of each tag for each movie\n",
    "gen_sc_df.head()"
   ]
  },
  {
   "cell_type": "code",
   "execution_count": 60,
   "metadata": {},
   "outputs": [
    {
     "name": "stdout",
     "output_type": "stream",
     "text": [
      "different tags 1128\n",
      "different movies 10993\n",
      "True\n"
     ]
    }
   ],
   "source": [
    "# It s dense\n",
    "print('different tags', gen_sc_df.tagId.unique().shape[0])\n",
    "print('different movies', gen_sc_df.movieId.unique().shape[0])\n",
    "print(np.isclose(gen_sc_df.tagId.unique(\n",
    ").shape[0] * gen_sc_df.movieId.unique().shape[0], gen_sc_df.shape[0]))"
   ]
  },
  {
   "cell_type": "code",
   "execution_count": 62,
   "metadata": {},
   "outputs": [],
   "source": [
    "# tag relevance dataframe building\n",
    "tag_rel = gen_sc_df.pivot(index='movieId', columns='tagId', values='relevance')"
   ]
  },
  {
   "cell_type": "code",
   "execution_count": 63,
   "metadata": {},
   "outputs": [
    {
     "data": {
      "text/html": [
       "<div>\n",
       "<style scoped>\n",
       "    .dataframe tbody tr th:only-of-type {\n",
       "        vertical-align: middle;\n",
       "    }\n",
       "\n",
       "    .dataframe tbody tr th {\n",
       "        vertical-align: top;\n",
       "    }\n",
       "\n",
       "    .dataframe thead th {\n",
       "        text-align: right;\n",
       "    }\n",
       "</style>\n",
       "<table border=\"1\" class=\"dataframe\">\n",
       "  <thead>\n",
       "    <tr style=\"text-align: right;\">\n",
       "      <th>tagId</th>\n",
       "      <th>1</th>\n",
       "      <th>2</th>\n",
       "      <th>3</th>\n",
       "      <th>4</th>\n",
       "      <th>5</th>\n",
       "      <th>6</th>\n",
       "      <th>7</th>\n",
       "      <th>8</th>\n",
       "      <th>9</th>\n",
       "      <th>10</th>\n",
       "      <th>...</th>\n",
       "      <th>1119</th>\n",
       "      <th>1120</th>\n",
       "      <th>1121</th>\n",
       "      <th>1122</th>\n",
       "      <th>1123</th>\n",
       "      <th>1124</th>\n",
       "      <th>1125</th>\n",
       "      <th>1126</th>\n",
       "      <th>1127</th>\n",
       "      <th>1128</th>\n",
       "    </tr>\n",
       "    <tr>\n",
       "      <th>movieId</th>\n",
       "      <th></th>\n",
       "      <th></th>\n",
       "      <th></th>\n",
       "      <th></th>\n",
       "      <th></th>\n",
       "      <th></th>\n",
       "      <th></th>\n",
       "      <th></th>\n",
       "      <th></th>\n",
       "      <th></th>\n",
       "      <th></th>\n",
       "      <th></th>\n",
       "      <th></th>\n",
       "      <th></th>\n",
       "      <th></th>\n",
       "      <th></th>\n",
       "      <th></th>\n",
       "      <th></th>\n",
       "      <th></th>\n",
       "      <th></th>\n",
       "      <th></th>\n",
       "    </tr>\n",
       "  </thead>\n",
       "  <tbody>\n",
       "    <tr>\n",
       "      <th>1</th>\n",
       "      <td>0.02475</td>\n",
       "      <td>0.02475</td>\n",
       "      <td>0.04900</td>\n",
       "      <td>0.07750</td>\n",
       "      <td>0.12450</td>\n",
       "      <td>0.23875</td>\n",
       "      <td>0.06575</td>\n",
       "      <td>0.28575</td>\n",
       "      <td>0.25400</td>\n",
       "      <td>0.02625</td>\n",
       "      <td>...</td>\n",
       "      <td>0.03125</td>\n",
       "      <td>0.02050</td>\n",
       "      <td>0.04300</td>\n",
       "      <td>0.03375</td>\n",
       "      <td>0.12375</td>\n",
       "      <td>0.04150</td>\n",
       "      <td>0.02125</td>\n",
       "      <td>0.03600</td>\n",
       "      <td>0.10425</td>\n",
       "      <td>0.02750</td>\n",
       "    </tr>\n",
       "    <tr>\n",
       "      <th>2</th>\n",
       "      <td>0.03750</td>\n",
       "      <td>0.04100</td>\n",
       "      <td>0.03675</td>\n",
       "      <td>0.04750</td>\n",
       "      <td>0.10000</td>\n",
       "      <td>0.05950</td>\n",
       "      <td>0.05125</td>\n",
       "      <td>0.09600</td>\n",
       "      <td>0.08875</td>\n",
       "      <td>0.01875</td>\n",
       "      <td>...</td>\n",
       "      <td>0.03425</td>\n",
       "      <td>0.01825</td>\n",
       "      <td>0.01650</td>\n",
       "      <td>0.02325</td>\n",
       "      <td>0.13525</td>\n",
       "      <td>0.02450</td>\n",
       "      <td>0.01825</td>\n",
       "      <td>0.01325</td>\n",
       "      <td>0.08550</td>\n",
       "      <td>0.01925</td>\n",
       "    </tr>\n",
       "    <tr>\n",
       "      <th>3</th>\n",
       "      <td>0.03800</td>\n",
       "      <td>0.04825</td>\n",
       "      <td>0.02650</td>\n",
       "      <td>0.07300</td>\n",
       "      <td>0.05475</td>\n",
       "      <td>0.06025</td>\n",
       "      <td>0.05750</td>\n",
       "      <td>0.15675</td>\n",
       "      <td>0.03900</td>\n",
       "      <td>0.02900</td>\n",
       "      <td>...</td>\n",
       "      <td>0.03700</td>\n",
       "      <td>0.02450</td>\n",
       "      <td>0.02650</td>\n",
       "      <td>0.03125</td>\n",
       "      <td>0.15700</td>\n",
       "      <td>0.03650</td>\n",
       "      <td>0.01750</td>\n",
       "      <td>0.01725</td>\n",
       "      <td>0.10525</td>\n",
       "      <td>0.02075</td>\n",
       "    </tr>\n",
       "    <tr>\n",
       "      <th>4</th>\n",
       "      <td>0.03125</td>\n",
       "      <td>0.03400</td>\n",
       "      <td>0.03375</td>\n",
       "      <td>0.02875</td>\n",
       "      <td>0.06175</td>\n",
       "      <td>0.03125</td>\n",
       "      <td>0.02250</td>\n",
       "      <td>0.07250</td>\n",
       "      <td>0.04400</td>\n",
       "      <td>0.02775</td>\n",
       "      <td>...</td>\n",
       "      <td>0.04650</td>\n",
       "      <td>0.03200</td>\n",
       "      <td>0.02150</td>\n",
       "      <td>0.03850</td>\n",
       "      <td>0.19150</td>\n",
       "      <td>0.06050</td>\n",
       "      <td>0.01725</td>\n",
       "      <td>0.01325</td>\n",
       "      <td>0.05650</td>\n",
       "      <td>0.01150</td>\n",
       "    </tr>\n",
       "    <tr>\n",
       "      <th>5</th>\n",
       "      <td>0.04100</td>\n",
       "      <td>0.05125</td>\n",
       "      <td>0.05550</td>\n",
       "      <td>0.03300</td>\n",
       "      <td>0.07475</td>\n",
       "      <td>0.11100</td>\n",
       "      <td>0.02900</td>\n",
       "      <td>0.07150</td>\n",
       "      <td>0.02075</td>\n",
       "      <td>0.02875</td>\n",
       "      <td>...</td>\n",
       "      <td>0.03575</td>\n",
       "      <td>0.02900</td>\n",
       "      <td>0.01875</td>\n",
       "      <td>0.02125</td>\n",
       "      <td>0.14300</td>\n",
       "      <td>0.02375</td>\n",
       "      <td>0.01500</td>\n",
       "      <td>0.01325</td>\n",
       "      <td>0.12125</td>\n",
       "      <td>0.02125</td>\n",
       "    </tr>\n",
       "  </tbody>\n",
       "</table>\n",
       "<p>5 rows × 1128 columns</p>\n",
       "</div>"
      ],
      "text/plain": [
       "tagId       1        2        3        4        5        6        7     \\\n",
       "movieId                                                                  \n",
       "1        0.02475  0.02475  0.04900  0.07750  0.12450  0.23875  0.06575   \n",
       "2        0.03750  0.04100  0.03675  0.04750  0.10000  0.05950  0.05125   \n",
       "3        0.03800  0.04825  0.02650  0.07300  0.05475  0.06025  0.05750   \n",
       "4        0.03125  0.03400  0.03375  0.02875  0.06175  0.03125  0.02250   \n",
       "5        0.04100  0.05125  0.05550  0.03300  0.07475  0.11100  0.02900   \n",
       "\n",
       "tagId       8        9        10     ...        1119     1120     1121  \\\n",
       "movieId                              ...                                 \n",
       "1        0.28575  0.25400  0.02625   ...     0.03125  0.02050  0.04300   \n",
       "2        0.09600  0.08875  0.01875   ...     0.03425  0.01825  0.01650   \n",
       "3        0.15675  0.03900  0.02900   ...     0.03700  0.02450  0.02650   \n",
       "4        0.07250  0.04400  0.02775   ...     0.04650  0.03200  0.02150   \n",
       "5        0.07150  0.02075  0.02875   ...     0.03575  0.02900  0.01875   \n",
       "\n",
       "tagId       1122     1123     1124     1125     1126     1127     1128  \n",
       "movieId                                                                 \n",
       "1        0.03375  0.12375  0.04150  0.02125  0.03600  0.10425  0.02750  \n",
       "2        0.02325  0.13525  0.02450  0.01825  0.01325  0.08550  0.01925  \n",
       "3        0.03125  0.15700  0.03650  0.01750  0.01725  0.10525  0.02075  \n",
       "4        0.03850  0.19150  0.06050  0.01725  0.01325  0.05650  0.01150  \n",
       "5        0.02125  0.14300  0.02375  0.01500  0.01325  0.12125  0.02125  \n",
       "\n",
       "[5 rows x 1128 columns]"
      ]
     },
     "execution_count": 63,
     "metadata": {},
     "output_type": "execute_result"
    }
   ],
   "source": [
    "tag_rel.head()"
   ]
  },
  {
   "cell_type": "code",
   "execution_count": 64,
   "metadata": {},
   "outputs": [
    {
     "data": {
      "text/plain": [
       "(10993, 1128)"
      ]
     },
     "execution_count": 64,
     "metadata": {},
     "output_type": "execute_result"
    }
   ],
   "source": [
    "tag_rel.to_csv('tag_relevance.csv')\n",
    "tag_rel.shape"
   ]
  },
  {
   "cell_type": "code",
   "execution_count": 65,
   "metadata": {},
   "outputs": [],
   "source": [
    "# we have to increase the cluster number to reach stability\n",
    "\n",
    "n_clusters = range(100, 1100, 100)\n",
    "inertia = []\n",
    "calinski_metric = []\n",
    "for c in n_clusters:\n",
    "    kmeans = KMeans(n_clusters=c, random_state=26, n_jobs=-1)\n",
    "    kmeans.fit(tag_rel.values)\n",
    "    labels = kmeans.labels_\n",
    "    inertia.append(kmeans.inertia_)\n",
    "    calinski_metric.append(metrics.calinski_harabaz_score(tag_rel, labels))"
   ]
  },
  {
   "cell_type": "code",
   "execution_count": 66,
   "metadata": {},
   "outputs": [
    {
     "data": {
      "image/png": "[encoded data removed]",
      "text/plain": [
       "<matplotlib.figure.Figure at 0x7ffabef9be80>"
      ]
     },
     "metadata": {},
     "output_type": "display_data"
    }
   ],
   "source": [
    "# let s plot the result in order to get the optimal numbers of clusters\n",
    "plt.figure(figsize=(15, 15))\n",
    "plt.plot(n_clusters, inertia, label='inertia')\n",
    "plt.title('Inertia in relation to cluster numbers')\n",
    "plt.legend()\n",
    "plt.show()"
   ]
  },
  {
   "cell_type": "code",
   "execution_count": 67,
   "metadata": {},
   "outputs": [
    {
     "data": {
      "image/png": "[encoded data removed]",
      "text/plain": [
       "<matplotlib.figure.Figure at 0x7ffabefc2128>"
      ]
     },
     "metadata": {},
     "output_type": "display_data"
    }
   ],
   "source": [
    "plt.figure(figsize=(15, 15))\n",
    "plt.plot(n_clusters, calinski_metric, label='inertia')\n",
    "plt.title('Calinski metrics in relation to cluster numbers')\n",
    "plt.legend()\n",
    "plt.show()"
   ]
  },
  {
   "cell_type": "code",
   "execution_count": 68,
   "metadata": {},
   "outputs": [
    {
     "name": "stdout",
     "output_type": "stream",
     "text": [
      "inertia is  : 75123.8196237755\n",
      "calinski harabaz score for dispersion withnin a cluster  15.492856958363507\n"
     ]
    }
   ],
   "source": [
    "# Let' s try to just have the top 10 by this method\n",
    "# hence make 1000 clusters\n",
    "kmeans = KMeans(n_clusters=1000, random_state=26, n_jobs=-1)\n",
    "kmeans.fit(tag_rel.values)\n",
    "print(\"inertia is  :\", kmeans.inertia_)\n",
    "labels = kmeans.labels_\n",
    "print('calinski harabaz score for dispersion withnin a cluster ',\n",
    "      metrics.calinski_harabaz_score(tag_rel, labels))"
   ]
  },
  {
   "cell_type": "code",
   "execution_count": 88,
   "metadata": {},
   "outputs": [
    {
     "name": "stdout",
     "output_type": "stream",
     "text": [
      "Inferno belongs to cluster number: 884\n",
      "Inferno score is: -6.743719621527781\n"
     ]
    }
   ],
   "source": [
    "# let's get the film belonging to the same cluster as Inferno\n",
    "InfernoMovieId = 165101\n",
    "X_tag_inferno = gen_sc_df[gen_sc_df.movieId == InfernoMovieId]\n",
    "label = kmeans.predict(X_tag_inferno['relevance'].values.reshape(1, -1))\n",
    "print('Inferno belongs to cluster number:', int(label))\n",
    "print('Inferno score is:', kmeans.score(\n",
    "    X_tag_inferno['relevance'].values.reshape(1, -1)))"
   ]
  },
  {
   "cell_type": "markdown",
   "metadata": {},
   "source": [
    "### Inferno is quite far from cluster center"
   ]
  },
  {
   "cell_type": "code",
   "execution_count": 82,
   "metadata": {},
   "outputs": [
    {
     "data": {
      "text/html": [
       "<div>\n",
       "<style scoped>\n",
       "    .dataframe tbody tr th:only-of-type {\n",
       "        vertical-align: middle;\n",
       "    }\n",
       "\n",
       "    .dataframe tbody tr th {\n",
       "        vertical-align: top;\n",
       "    }\n",
       "\n",
       "    .dataframe thead th {\n",
       "        text-align: right;\n",
       "    }\n",
       "</style>\n",
       "<table border=\"1\" class=\"dataframe\">\n",
       "  <thead>\n",
       "    <tr style=\"text-align: right;\">\n",
       "      <th></th>\n",
       "      <th>007</th>\n",
       "      <th>007 (series)</th>\n",
       "      <th>18th century</th>\n",
       "      <th>1920s</th>\n",
       "      <th>1930s</th>\n",
       "      <th>1950s</th>\n",
       "      <th>1960s</th>\n",
       "      <th>1970s</th>\n",
       "      <th>1980s</th>\n",
       "      <th>19th century</th>\n",
       "      <th>...</th>\n",
       "      <th>world politics</th>\n",
       "      <th>world war i</th>\n",
       "      <th>world war ii</th>\n",
       "      <th>writer's life</th>\n",
       "      <th>writers</th>\n",
       "      <th>writing</th>\n",
       "      <th>wuxia</th>\n",
       "      <th>wwii</th>\n",
       "      <th>zombie</th>\n",
       "      <th>zombies</th>\n",
       "    </tr>\n",
       "  </thead>\n",
       "  <tbody>\n",
       "    <tr>\n",
       "      <th>0</th>\n",
       "      <td>0.030500</td>\n",
       "      <td>0.033000</td>\n",
       "      <td>0.976750</td>\n",
       "      <td>0.10475</td>\n",
       "      <td>0.224250</td>\n",
       "      <td>0.079250</td>\n",
       "      <td>0.066750</td>\n",
       "      <td>0.084000</td>\n",
       "      <td>0.042250</td>\n",
       "      <td>0.17125</td>\n",
       "      <td>...</td>\n",
       "      <td>0.019000</td>\n",
       "      <td>0.023250</td>\n",
       "      <td>0.012500</td>\n",
       "      <td>0.030250</td>\n",
       "      <td>0.190500</td>\n",
       "      <td>0.051250</td>\n",
       "      <td>0.053000</td>\n",
       "      <td>0.009000</td>\n",
       "      <td>0.114750</td>\n",
       "      <td>0.018750</td>\n",
       "    </tr>\n",
       "    <tr>\n",
       "      <th>1</th>\n",
       "      <td>0.028995</td>\n",
       "      <td>0.031560</td>\n",
       "      <td>0.026875</td>\n",
       "      <td>0.03690</td>\n",
       "      <td>0.065955</td>\n",
       "      <td>0.055745</td>\n",
       "      <td>0.037345</td>\n",
       "      <td>0.083225</td>\n",
       "      <td>0.078495</td>\n",
       "      <td>0.02801</td>\n",
       "      <td>...</td>\n",
       "      <td>0.024710</td>\n",
       "      <td>0.016760</td>\n",
       "      <td>0.014345</td>\n",
       "      <td>0.030470</td>\n",
       "      <td>0.234465</td>\n",
       "      <td>0.033060</td>\n",
       "      <td>0.025230</td>\n",
       "      <td>0.008145</td>\n",
       "      <td>0.302470</td>\n",
       "      <td>0.091720</td>\n",
       "    </tr>\n",
       "    <tr>\n",
       "      <th>2</th>\n",
       "      <td>0.048083</td>\n",
       "      <td>0.059452</td>\n",
       "      <td>0.028571</td>\n",
       "      <td>0.03931</td>\n",
       "      <td>0.071595</td>\n",
       "      <td>0.036940</td>\n",
       "      <td>0.025810</td>\n",
       "      <td>0.119786</td>\n",
       "      <td>0.247476</td>\n",
       "      <td>0.02775</td>\n",
       "      <td>...</td>\n",
       "      <td>0.033905</td>\n",
       "      <td>0.017571</td>\n",
       "      <td>0.016405</td>\n",
       "      <td>0.030000</td>\n",
       "      <td>0.190167</td>\n",
       "      <td>0.043048</td>\n",
       "      <td>0.028345</td>\n",
       "      <td>0.010095</td>\n",
       "      <td>0.104167</td>\n",
       "      <td>0.019810</td>\n",
       "    </tr>\n",
       "    <tr>\n",
       "      <th>3</th>\n",
       "      <td>0.025875</td>\n",
       "      <td>0.031000</td>\n",
       "      <td>0.045000</td>\n",
       "      <td>0.09075</td>\n",
       "      <td>0.097000</td>\n",
       "      <td>0.093250</td>\n",
       "      <td>0.045375</td>\n",
       "      <td>0.138750</td>\n",
       "      <td>0.042250</td>\n",
       "      <td>0.02500</td>\n",
       "      <td>...</td>\n",
       "      <td>0.035375</td>\n",
       "      <td>0.026500</td>\n",
       "      <td>0.036750</td>\n",
       "      <td>0.120125</td>\n",
       "      <td>0.276625</td>\n",
       "      <td>0.093750</td>\n",
       "      <td>0.051250</td>\n",
       "      <td>0.019625</td>\n",
       "      <td>0.073000</td>\n",
       "      <td>0.024625</td>\n",
       "    </tr>\n",
       "    <tr>\n",
       "      <th>4</th>\n",
       "      <td>0.028500</td>\n",
       "      <td>0.033750</td>\n",
       "      <td>0.265250</td>\n",
       "      <td>0.09925</td>\n",
       "      <td>0.218750</td>\n",
       "      <td>0.348750</td>\n",
       "      <td>0.107250</td>\n",
       "      <td>0.069750</td>\n",
       "      <td>0.085750</td>\n",
       "      <td>0.02125</td>\n",
       "      <td>...</td>\n",
       "      <td>0.089000</td>\n",
       "      <td>0.020250</td>\n",
       "      <td>0.030750</td>\n",
       "      <td>0.217750</td>\n",
       "      <td>0.444750</td>\n",
       "      <td>0.118500</td>\n",
       "      <td>0.043500</td>\n",
       "      <td>0.021750</td>\n",
       "      <td>0.045750</td>\n",
       "      <td>0.011250</td>\n",
       "    </tr>\n",
       "  </tbody>\n",
       "</table>\n",
       "<p>5 rows × 1128 columns</p>\n",
       "</div>"
      ],
      "text/plain": [
       "        007  007 (series)  18th century    1920s     1930s     1950s  \\\n",
       "0  0.030500      0.033000      0.976750  0.10475  0.224250  0.079250   \n",
       "1  0.028995      0.031560      0.026875  0.03690  0.065955  0.055745   \n",
       "2  0.048083      0.059452      0.028571  0.03931  0.071595  0.036940   \n",
       "3  0.025875      0.031000      0.045000  0.09075  0.097000  0.093250   \n",
       "4  0.028500      0.033750      0.265250  0.09925  0.218750  0.348750   \n",
       "\n",
       "      1960s     1970s     1980s  19th century    ...     world politics  \\\n",
       "0  0.066750  0.084000  0.042250       0.17125    ...           0.019000   \n",
       "1  0.037345  0.083225  0.078495       0.02801    ...           0.024710   \n",
       "2  0.025810  0.119786  0.247476       0.02775    ...           0.033905   \n",
       "3  0.045375  0.138750  0.042250       0.02500    ...           0.035375   \n",
       "4  0.107250  0.069750  0.085750       0.02125    ...           0.089000   \n",
       "\n",
       "   world war i  world war ii  writer's life   writers   writing     wuxia  \\\n",
       "0     0.023250      0.012500       0.030250  0.190500  0.051250  0.053000   \n",
       "1     0.016760      0.014345       0.030470  0.234465  0.033060  0.025230   \n",
       "2     0.017571      0.016405       0.030000  0.190167  0.043048  0.028345   \n",
       "3     0.026500      0.036750       0.120125  0.276625  0.093750  0.051250   \n",
       "4     0.020250      0.030750       0.217750  0.444750  0.118500  0.043500   \n",
       "\n",
       "       wwii    zombie   zombies  \n",
       "0  0.009000  0.114750  0.018750  \n",
       "1  0.008145  0.302470  0.091720  \n",
       "2  0.010095  0.104167  0.019810  \n",
       "3  0.019625  0.073000  0.024625  \n",
       "4  0.021750  0.045750  0.011250  \n",
       "\n",
       "[5 rows x 1128 columns]"
      ]
     },
     "execution_count": 82,
     "metadata": {},
     "output_type": "execute_result"
    }
   ],
   "source": [
    "# let'analyse the centroids\n",
    "centroids = kmeans.cluster_centers_\n",
    "cent = pd.DataFrame(data=centroids, columns=gen_tags_df['tag'].values)\n",
    "cent.head()"
   ]
  },
  {
   "cell_type": "code",
   "execution_count": 87,
   "metadata": {},
   "outputs": [
    {
     "data": {
      "text/plain": [
       "Index(['so bad it's funny', 'story', 'dialogue', 'predictable', 'great ending',\n",
       "       'mentor', 'catastrophe', 'book was better', 'book', 'books',\n",
       "       'adaptation', 'original', 'based on book', 'adapted from:book',\n",
       "       'based on a book'],\n",
       "      dtype='object')"
      ]
     },
     "execution_count": 87,
     "metadata": {},
     "output_type": "execute_result"
    }
   ],
   "source": [
    "# let's check the inferno centroid if it makes sense\n",
    "cent.columns[np.argsort(cent.values[884, :])[-15:]]"
   ]
  },
  {
   "cell_type": "markdown",
   "metadata": {},
   "source": [
    "### Seems not a very good one ;) which is true"
   ]
  },
  {
   "cell_type": "code",
   "execution_count": 89,
   "metadata": {},
   "outputs": [],
   "source": [
    "# let 's take the film belonging to cluster 884\n",
    "y_kmeans = kmeans.predict(tag_rel.values)"
   ]
  },
  {
   "cell_type": "code",
   "execution_count": 90,
   "metadata": {},
   "outputs": [
    {
     "data": {
      "text/plain": [
       "array([[  178],\n",
       "       [  225],\n",
       "       [  258],\n",
       "       [  899],\n",
       "       [ 1856],\n",
       "       [ 1882],\n",
       "       [ 2026],\n",
       "       [ 2325],\n",
       "       [ 2909],\n",
       "       [ 2999],\n",
       "       [ 3631],\n",
       "       [ 4386],\n",
       "       [ 5537],\n",
       "       [ 5653],\n",
       "       [ 7064],\n",
       "       [ 8138],\n",
       "       [ 8555],\n",
       "       [ 9325],\n",
       "       [ 9406],\n",
       "       [ 9690],\n",
       "       [10313],\n",
       "       [10685],\n",
       "       [10735],\n",
       "       [10908]])"
      ]
     },
     "execution_count": 90,
     "metadata": {},
     "output_type": "execute_result"
    }
   ],
   "source": [
    "list_films_tag_cluster = np.argwhere(y_kmeans == 884)\n",
    "list_films_tag_cluster"
   ]
  },
  {
   "cell_type": "code",
   "execution_count": 91,
   "metadata": {},
   "outputs": [
    {
     "data": {
      "text/plain": [
       "array([     1,      2,      3, ..., 174053, 174055, 174585])"
      ]
     },
     "execution_count": 91,
     "metadata": {},
     "output_type": "execute_result"
    }
   ],
   "source": [
    "movied_in_tag = gen_sc_df.movieId.unique()\n",
    "movied_in_tag"
   ]
  },
  {
   "cell_type": "code",
   "execution_count": 94,
   "metadata": {},
   "outputs": [],
   "source": [
    "# movieId list\n",
    "tag_movieId = movied_in_tag[list_films_tag_cluster.ravel()]"
   ]
  },
  {
   "cell_type": "code",
   "execution_count": 95,
   "metadata": {},
   "outputs": [
    {
     "data": {
      "text/html": [
       "<div>\n",
       "<style scoped>\n",
       "    .dataframe tbody tr th:only-of-type {\n",
       "        vertical-align: middle;\n",
       "    }\n",
       "\n",
       "    .dataframe tbody tr th {\n",
       "        vertical-align: top;\n",
       "    }\n",
       "\n",
       "    .dataframe thead th {\n",
       "        text-align: right;\n",
       "    }\n",
       "</style>\n",
       "<table border=\"1\" class=\"dataframe\">\n",
       "  <thead>\n",
       "    <tr style=\"text-align: right;\">\n",
       "      <th></th>\n",
       "      <th>movieId</th>\n",
       "      <th>title</th>\n",
       "      <th>genres</th>\n",
       "    </tr>\n",
       "  </thead>\n",
       "  <tbody>\n",
       "    <tr>\n",
       "      <th>189</th>\n",
       "      <td>191</td>\n",
       "      <td>Scarlet Letter, The (1995)</td>\n",
       "      <td>Drama|Romance</td>\n",
       "    </tr>\n",
       "    <tr>\n",
       "      <th>237</th>\n",
       "      <td>240</td>\n",
       "      <td>Hideaway (1995)</td>\n",
       "      <td>Thriller</td>\n",
       "    </tr>\n",
       "    <tr>\n",
       "      <th>270</th>\n",
       "      <td>273</td>\n",
       "      <td>Mary Shelley's Frankenstein (Frankenstein) (1994)</td>\n",
       "      <td>Drama|Horror|Sci-Fi</td>\n",
       "    </tr>\n",
       "    <tr>\n",
       "      <th>987</th>\n",
       "      <td>1006</td>\n",
       "      <td>Chamber, The (1996)</td>\n",
       "      <td>Drama</td>\n",
       "    </tr>\n",
       "    <tr>\n",
       "      <th>2037</th>\n",
       "      <td>2120</td>\n",
       "      <td>Needful Things (1993)</td>\n",
       "      <td>Drama|Horror</td>\n",
       "    </tr>\n",
       "    <tr>\n",
       "      <th>2064</th>\n",
       "      <td>2147</td>\n",
       "      <td>Clan of the Cave Bear, The (1986)</td>\n",
       "      <td>Adventure|Drama|Fantasy</td>\n",
       "    </tr>\n",
       "    <tr>\n",
       "      <th>2230</th>\n",
       "      <td>2314</td>\n",
       "      <td>Beloved (1998)</td>\n",
       "      <td>Drama</td>\n",
       "    </tr>\n",
       "    <tr>\n",
       "      <th>2555</th>\n",
       "      <td>2639</td>\n",
       "      <td>Mommie Dearest (1981)</td>\n",
       "      <td>Drama</td>\n",
       "    </tr>\n",
       "    <tr>\n",
       "      <th>3199</th>\n",
       "      <td>3285</td>\n",
       "      <td>Beach, The (2000)</td>\n",
       "      <td>Adventure|Drama</td>\n",
       "    </tr>\n",
       "    <tr>\n",
       "      <th>3316</th>\n",
       "      <td>3403</td>\n",
       "      <td>Raise the Titanic (1980)</td>\n",
       "      <td>Drama|Thriller</td>\n",
       "    </tr>\n",
       "    <tr>\n",
       "      <th>4016</th>\n",
       "      <td>4109</td>\n",
       "      <td>Flowers in the Attic (1987)</td>\n",
       "      <td>Drama|Thriller</td>\n",
       "    </tr>\n",
       "    <tr>\n",
       "      <th>4860</th>\n",
       "      <td>4955</td>\n",
       "      <td>Sicilian, The (1987)</td>\n",
       "      <td>Crime|Drama</td>\n",
       "    </tr>\n",
       "    <tr>\n",
       "      <th>6409</th>\n",
       "      <td>6518</td>\n",
       "      <td>Flight of the Intruder (1991)</td>\n",
       "      <td>Action|War</td>\n",
       "    </tr>\n",
       "    <tr>\n",
       "      <th>6569</th>\n",
       "      <td>6678</td>\n",
       "      <td>Handmaid's Tale, The (1990)</td>\n",
       "      <td>Drama|Sci-Fi</td>\n",
       "    </tr>\n",
       "    <tr>\n",
       "      <th>9092</th>\n",
       "      <td>26849</td>\n",
       "      <td>Stand, The (1994)</td>\n",
       "      <td>Adventure|Drama|Fantasy|Horror|Sci-Fi</td>\n",
       "    </tr>\n",
       "    <tr>\n",
       "      <th>11999</th>\n",
       "      <td>54075</td>\n",
       "      <td>Arn: The Knight Templar (Arn - Tempelriddaren)...</td>\n",
       "      <td>Action|Adventure|Drama|Romance|War</td>\n",
       "    </tr>\n",
       "    <tr>\n",
       "      <th>13125</th>\n",
       "      <td>63033</td>\n",
       "      <td>Blindness (2008)</td>\n",
       "      <td>Drama|Mystery|Romance|Thriller</td>\n",
       "    </tr>\n",
       "    <tr>\n",
       "      <th>17100</th>\n",
       "      <td>86355</td>\n",
       "      <td>Atlas Shrugged: Part 1 (2011)</td>\n",
       "      <td>Drama|Mystery|Sci-Fi</td>\n",
       "    </tr>\n",
       "    <tr>\n",
       "      <th>17793</th>\n",
       "      <td>89102</td>\n",
       "      <td>Freakonomics (2010)</td>\n",
       "      <td>Documentary</td>\n",
       "    </tr>\n",
       "    <tr>\n",
       "      <th>19764</th>\n",
       "      <td>97324</td>\n",
       "      <td>Atlas Shrugged: Part II (2012)</td>\n",
       "      <td>Drama|Mystery|Sci-Fi</td>\n",
       "    </tr>\n",
       "    <tr>\n",
       "      <th>25149</th>\n",
       "      <td>116781</td>\n",
       "      <td>Serena (2014)</td>\n",
       "      <td>Drama</td>\n",
       "    </tr>\n",
       "    <tr>\n",
       "      <th>33677</th>\n",
       "      <td>143365</td>\n",
       "      <td>The Circle (2016)</td>\n",
       "      <td>Drama|Sci-Fi|Thriller</td>\n",
       "    </tr>\n",
       "    <tr>\n",
       "      <th>35908</th>\n",
       "      <td>149830</td>\n",
       "      <td>Pride and Prejudice and Zombies (2016)</td>\n",
       "      <td>Comedy|Horror|Romance|Thriller</td>\n",
       "    </tr>\n",
       "    <tr>\n",
       "      <th>41308</th>\n",
       "      <td>165101</td>\n",
       "      <td>Inferno (2016)</td>\n",
       "      <td>Mystery|Thriller</td>\n",
       "    </tr>\n",
       "  </tbody>\n",
       "</table>\n",
       "</div>"
      ],
      "text/plain": [
       "       movieId                                              title  \\\n",
       "189        191                         Scarlet Letter, The (1995)   \n",
       "237        240                                    Hideaway (1995)   \n",
       "270        273  Mary Shelley's Frankenstein (Frankenstein) (1994)   \n",
       "987       1006                                Chamber, The (1996)   \n",
       "2037      2120                              Needful Things (1993)   \n",
       "2064      2147                  Clan of the Cave Bear, The (1986)   \n",
       "2230      2314                                     Beloved (1998)   \n",
       "2555      2639                              Mommie Dearest (1981)   \n",
       "3199      3285                                  Beach, The (2000)   \n",
       "3316      3403                           Raise the Titanic (1980)   \n",
       "4016      4109                        Flowers in the Attic (1987)   \n",
       "4860      4955                               Sicilian, The (1987)   \n",
       "6409      6518                      Flight of the Intruder (1991)   \n",
       "6569      6678                        Handmaid's Tale, The (1990)   \n",
       "9092     26849                                  Stand, The (1994)   \n",
       "11999    54075  Arn: The Knight Templar (Arn - Tempelriddaren)...   \n",
       "13125    63033                                   Blindness (2008)   \n",
       "17100    86355                      Atlas Shrugged: Part 1 (2011)   \n",
       "17793    89102                                Freakonomics (2010)   \n",
       "19764    97324                     Atlas Shrugged: Part II (2012)   \n",
       "25149   116781                                      Serena (2014)   \n",
       "33677   143365                                  The Circle (2016)   \n",
       "35908   149830             Pride and Prejudice and Zombies (2016)   \n",
       "41308   165101                                     Inferno (2016)   \n",
       "\n",
       "                                      genres  \n",
       "189                            Drama|Romance  \n",
       "237                                 Thriller  \n",
       "270                      Drama|Horror|Sci-Fi  \n",
       "987                                    Drama  \n",
       "2037                            Drama|Horror  \n",
       "2064                 Adventure|Drama|Fantasy  \n",
       "2230                                   Drama  \n",
       "2555                                   Drama  \n",
       "3199                         Adventure|Drama  \n",
       "3316                          Drama|Thriller  \n",
       "4016                          Drama|Thriller  \n",
       "4860                             Crime|Drama  \n",
       "6409                              Action|War  \n",
       "6569                            Drama|Sci-Fi  \n",
       "9092   Adventure|Drama|Fantasy|Horror|Sci-Fi  \n",
       "11999     Action|Adventure|Drama|Romance|War  \n",
       "13125         Drama|Mystery|Romance|Thriller  \n",
       "17100                   Drama|Mystery|Sci-Fi  \n",
       "17793                            Documentary  \n",
       "19764                   Drama|Mystery|Sci-Fi  \n",
       "25149                                  Drama  \n",
       "33677                  Drama|Sci-Fi|Thriller  \n",
       "35908         Comedy|Horror|Romance|Thriller  \n",
       "41308                       Mystery|Thriller  "
      ]
     },
     "execution_count": 95,
     "metadata": {},
     "output_type": "execute_result"
    }
   ],
   "source": [
    "tag_cluster_details = movies_df[movies_df.movieId.isin(tag_movieId)]\n",
    "tag_cluster_details"
   ]
  },
  {
   "cell_type": "markdown",
   "metadata": {},
   "source": [
    "### Now let'combine the result by taking the 10 best rated in imdB from both methods"
   ]
  },
  {
   "cell_type": "code",
   "execution_count": 113,
   "metadata": {},
   "outputs": [],
   "source": [
    "Imdbmeanrating = np.zeros(len(movieIdFinal))\n",
    "movieIdFinal = list(Top25details.movieId.values)\n",
    "movieIdFinal.extend(list(tag_cluster_details.movieId.values))\n",
    "imdbref_final = links_df[links_df.movieId.isin(movieIdFinal)]['imdbId'].values"
   ]
  },
  {
   "cell_type": "code",
   "execution_count": 125,
   "metadata": {},
   "outputs": [
    {
     "name": "stdout",
     "output_type": "stream",
     "text": [
      "[{'Source': 'Internet Movie Database', 'Value': '8.0/10'}, {'Source': 'Rotten Tomatoes', 'Value': '88%'}, {'Source': 'Metacritic', 'Value': '74/100'}]\n",
      "3\n",
      "0\n",
      "[{'Source': 'Internet Movie Database', 'Value': '8.6/10'}, {'Source': 'Rotten Tomatoes', 'Value': '80%'}, {'Source': 'Metacritic', 'Value': '65/100'}]\n",
      "3\n",
      "1\n",
      "[{'Source': 'Internet Movie Database', 'Value': '5.2/10'}, {'Source': 'Rotten Tomatoes', 'Value': '14%'}]\n",
      "2\n",
      "2\n",
      "[{'Source': 'Internet Movie Database', 'Value': '5.3/10'}, {'Source': 'Rotten Tomatoes', 'Value': '14%'}]\n",
      "2\n",
      "3\n",
      "[{'Source': 'Internet Movie Database', 'Value': '6.4/10'}, {'Source': 'Rotten Tomatoes', 'Value': '39%'}]\n",
      "2\n",
      "4\n",
      "[{'Source': 'Internet Movie Database', 'Value': '6.7/10'}, {'Source': 'Rotten Tomatoes', 'Value': '78%'}, {'Source': 'Metacritic', 'Value': '65/100'}]\n",
      "3\n",
      "5\n",
      "[{'Source': 'Internet Movie Database', 'Value': '7.8/10'}, {'Source': 'Rotten Tomatoes', 'Value': '96%'}, {'Source': 'Metacritic', 'Value': '88/100'}]\n",
      "3\n",
      "6\n",
      "7\n",
      "8\n",
      "[{'Source': 'Internet Movie Database', 'Value': '6.0/10'}, {'Source': 'Rotten Tomatoes', 'Value': '12%'}, {'Source': 'Metacritic', 'Value': '45/100'}]\n",
      "3\n",
      "9\n",
      "[{'Source': 'Internet Movie Database', 'Value': '7.6/10'}, {'Source': 'Rotten Tomatoes', 'Value': '74%'}, {'Source': 'Metacritic', 'Value': '49/100'}]\n",
      "3\n",
      "10\n",
      "[{'Source': 'Internet Movie Database', 'Value': '7.3/10'}, {'Source': 'Rotten Tomatoes', 'Value': '75%'}, {'Source': 'Metacritic', 'Value': '73/100'}]\n",
      "3\n",
      "11\n",
      "[{'Source': 'Internet Movie Database', 'Value': '7.2/10'}, {'Source': 'Rotten Tomatoes', 'Value': '79%'}, {'Source': 'Metacritic', 'Value': '65/100'}]\n",
      "3\n",
      "12\n",
      "[{'Source': 'Internet Movie Database', 'Value': '6.7/10'}, {'Source': 'Rotten Tomatoes', 'Value': '53%'}, {'Source': 'Metacritic', 'Value': '49/100'}]\n",
      "3\n",
      "13\n",
      "[{'Source': 'Internet Movie Database', 'Value': '7.8/10'}, {'Source': 'Rotten Tomatoes', 'Value': '72%'}, {'Source': 'Metacritic', 'Value': '61/100'}]\n",
      "3\n",
      "14\n",
      "[{'Source': 'Internet Movie Database', 'Value': '7.5/10'}, {'Source': 'Rotten Tomatoes', 'Value': '66%'}, {'Source': 'Metacritic', 'Value': '60/100'}]\n",
      "3\n",
      "15\n",
      "16\n",
      "[{'Source': 'Internet Movie Database', 'Value': '6.2/10'}, {'Source': 'Rotten Tomatoes', 'Value': '26%'}, {'Source': 'Metacritic', 'Value': '43/100'}]\n",
      "3\n",
      "17\n",
      "18\n",
      "[{'Source': 'Internet Movie Database', 'Value': '5.9/10'}, {'Source': 'Rotten Tomatoes', 'Value': '78%'}, {'Source': 'Metacritic', 'Value': '57/100'}]\n",
      "3\n",
      "19\n",
      "20\n",
      "[{'Source': 'Internet Movie Database', 'Value': '7.4/10'}, {'Source': 'Rotten Tomatoes', 'Value': '74%'}, {'Source': 'Metacritic', 'Value': '68/100'}]\n",
      "3\n",
      "21\n",
      "[{'Source': 'Internet Movie Database', 'Value': '7.4/10'}, {'Source': 'Rotten Tomatoes', 'Value': '83%'}, {'Source': 'Metacritic', 'Value': '76/100'}]\n",
      "3\n",
      "22\n",
      "[{'Source': 'Internet Movie Database', 'Value': '6.6/10'}, {'Source': 'Rotten Tomatoes', 'Value': '19%'}, {'Source': 'Metacritic', 'Value': '43/100'}]\n",
      "3\n",
      "23\n",
      "24\n",
      "25\n",
      "[{'Source': 'Internet Movie Database', 'Value': '8.5/10'}, {'Source': 'Rotten Tomatoes', 'Value': '92%'}, {'Source': 'Metacritic', 'Value': '80/100'}]\n",
      "3\n",
      "26\n",
      "[{'Source': 'Internet Movie Database', 'Value': '8.1/10'}, {'Source': 'Rotten Tomatoes', 'Value': '86%'}, {'Source': 'Metacritic', 'Value': '88/100'}]\n",
      "3\n",
      "27\n",
      "28\n",
      "[{'Source': 'Internet Movie Database', 'Value': '6.9/10'}, {'Source': 'Rotten Tomatoes', 'Value': '42%'}, {'Source': 'Metacritic', 'Value': '45/100'}]\n",
      "3\n",
      "29\n",
      "[{'Source': 'Internet Movie Database', 'Value': '7.1/10'}, {'Source': 'Rotten Tomatoes', 'Value': '71%'}, {'Source': 'Metacritic', 'Value': '57/100'}]\n",
      "3\n",
      "30\n",
      "31\n",
      "32\n",
      "[{'Source': 'Internet Movie Database', 'Value': '7.7/10'}, {'Source': 'Rotten Tomatoes', 'Value': '77%'}, {'Source': 'Metacritic', 'Value': '61/100'}]\n",
      "3\n",
      "33\n",
      "[{'Source': 'Internet Movie Database', 'Value': '7.2/10'}]\n",
      "1\n",
      "34\n",
      "[{'Source': 'Internet Movie Database', 'Value': '8.4/10'}, {'Source': 'Rotten Tomatoes', 'Value': '80%'}, {'Source': 'Metacritic', 'Value': '74/100'}]\n",
      "3\n",
      "35\n",
      "[{'Source': 'Internet Movie Database', 'Value': '8.5/10'}, {'Source': 'Rotten Tomatoes', 'Value': '75%'}, {'Source': 'Metacritic', 'Value': '66/100'}]\n",
      "3\n",
      "36\n",
      "[{'Source': 'Internet Movie Database', 'Value': '6.6/10'}]\n",
      "1\n",
      "37\n",
      "[{'Source': 'Internet Movie Database', 'Value': '6.6/10'}, {'Source': 'Rotten Tomatoes', 'Value': '44%'}, {'Source': 'Metacritic', 'Value': '45/100'}]\n",
      "3\n",
      "38\n",
      "[{'Source': 'Internet Movie Database', 'Value': '7.9/10'}, {'Source': 'Rotten Tomatoes', 'Value': '89%'}, {'Source': 'Metacritic', 'Value': '67/100'}]\n",
      "3\n",
      "39\n",
      "[{'Source': 'Internet Movie Database', 'Value': '8.0/10'}, {'Source': 'Rotten Tomatoes', 'Value': '90%'}, {'Source': 'Metacritic', 'Value': '81/100'}]\n",
      "3\n",
      "40\n",
      "[{'Source': 'Internet Movie Database', 'Value': '8.1/10'}, {'Source': 'Rotten Tomatoes', 'Value': '68%'}, {'Source': 'Metacritic', 'Value': '63/100'}]\n",
      "3\n",
      "41\n",
      "[{'Source': 'Internet Movie Database', 'Value': '5.7/10'}, {'Source': 'Rotten Tomatoes', 'Value': '10%'}, {'Source': 'Metacritic', 'Value': '28/100'}]\n",
      "3\n",
      "42\n",
      "[{'Source': 'Internet Movie Database', 'Value': '6.4/10'}, {'Source': 'Rotten Tomatoes', 'Value': '66%'}, {'Source': 'Metacritic', 'Value': '58/100'}]\n",
      "3\n",
      "43\n",
      "[{'Source': 'Internet Movie Database', 'Value': '5.4/10'}, {'Source': 'Rotten Tomatoes', 'Value': '4%'}, {'Source': 'Metacritic', 'Value': '26/100'}]\n",
      "3\n",
      "44\n",
      "[{'Source': 'Internet Movie Database', 'Value': '5.4/10'}, {'Source': 'Rotten Tomatoes', 'Value': '16%'}, {'Source': 'Metacritic', 'Value': '36/100'}]\n",
      "3\n",
      "45\n",
      "[{'Source': 'Internet Movie Database', 'Value': '5.3/10'}, {'Source': 'Rotten Tomatoes', 'Value': '16%'}, {'Source': 'Metacritic', 'Value': '43/100'}]\n",
      "3\n",
      "46\n",
      "[{'Source': 'Internet Movie Database', 'Value': '5.8/10'}, {'Source': 'Rotten Tomatoes', 'Value': '43%'}, {'Source': 'Metacritic', 'Value': '45/100'}]\n",
      "3\n",
      "47\n",
      "[{'Source': 'Internet Movie Database', 'Value': '6.2/10'}, {'Source': 'Rotten Tomatoes', 'Value': '22%'}, {'Source': 'Metacritic', 'Value': '42/100'}]\n",
      "3\n",
      "48\n"
     ]
    }
   ],
   "source": [
    "\n",
    "regexp = r\"(\\d+)\"\n",
    "\n",
    "for i, r in enumerate(imdbref_final):\n",
    "    sc = np.empty(3, dtype=float)\n",
    "    url = \"http://www.omdbapi.com/?i=tt\" + str(r) + \"&apikey=\" + api_key\n",
    "    response = requests.get(url)\n",
    "    film_details = json.loads(response.text)\n",
    "    if 'Error' in film_details.keys():\n",
    "        url = \"http://www.omdbapi.com/?i=tt0\" + str(r) + \"&apikey=\" + api_key\n",
    "        response = requests.get(url)\n",
    "        film_details = json.loads(response.text)\n",
    "\n",
    "    if 'Ratings' in film_details.keys():\n",
    "        print(film_details[\"Ratings\"])\n",
    "        print(len(film_details[\"Ratings\"]))\n",
    "        if len(film_details['Ratings']) > 0:\n",
    "            sc[0] = float(\n",
    "                re.search(regexp, film_details['Ratings'][0]['Value']).group(0)) / 10\n",
    "        if len(film_details['Ratings']) > 1:\n",
    "            sc[1] = float(\n",
    "                re.search(regexp, film_details['Ratings'][1]['Value']).group(0)) / 100\n",
    "        if len(film_details['Ratings']) > 2:\n",
    "            sc[2] = float(\n",
    "                re.search(regexp, film_details['Ratings'][2]['Value']).group(0)) / 100\n",
    "        Imdbmeanrating[i] = np.mean(sc)\n",
    "    print(i)"
   ]
  },
  {
   "cell_type": "code",
   "execution_count": 126,
   "metadata": {},
   "outputs": [
    {
     "data": {
      "text/plain": [
       "array([0.80666667, 0.75      , 0.46      , 0.43      , 0.57666667,\n",
       "       0.67666667, 0.84666667, 0.        , 0.        , 0.39      ,\n",
       "       0.64333333, 0.72666667, 0.71333333, 0.54      , 0.67666667,\n",
       "       0.65333333, 0.        , 0.43      , 0.        , 0.61666667,\n",
       "       0.        , 0.70666667, 0.76333333, 0.40666667, 0.        ,\n",
       "       0.        , 0.84      , 0.84666667, 0.        , 0.49      ,\n",
       "       0.66      , 0.        , 0.        , 0.69333333, 0.66      ,\n",
       "       0.78      , 0.73666667, 0.71333333, 0.49666667, 0.75333333,\n",
       "       0.83666667, 0.70333333, 0.29333333, 0.61333333, 0.26666667,\n",
       "       0.34      , 0.36333333, 0.46      , 0.41333333])"
      ]
     },
     "execution_count": 126,
     "metadata": {},
     "output_type": "execute_result"
    }
   ],
   "source": [
    "Imdbmeanrating"
   ]
  },
  {
   "cell_type": "code",
   "execution_count": 127,
   "metadata": {},
   "outputs": [
    {
     "data": {
      "text/plain": [
       "array([36,  1, 39, 22, 35,  0, 40, 26,  6, 27])"
      ]
     },
     "execution_count": 127,
     "metadata": {},
     "output_type": "execute_result"
    }
   ],
   "source": [
    "# Let's take the Top 10 best\n",
    "Top10_Final = np.argsort(Imdbmeanrating)[-10:]\n",
    "Top10_Final"
   ]
  },
  {
   "cell_type": "code",
   "execution_count": 129,
   "metadata": {},
   "outputs": [
    {
     "data": {
      "text/html": [
       "<img src=\"https://images-na.ssl-images-amazon.com/images/M/MV5BMjA4NDI0MTIxNF5BMl5BanBnXkFtZTYwNTM0MzY2._V1_SX300.jpg\"/>"
      ],
      "text/plain": [
       "<IPython.core.display.Image object>"
      ]
     },
     "metadata": {},
     "output_type": "display_data"
    },
    {
     "data": {
      "text/html": [
       "<img src=\"https://images-na.ssl-images-amazon.com/images/M/MV5BOTUwODM5MTctZjczMi00OTk4LTg3NWUtNmVhMTAzNTNjYjcyXkEyXkFqcGdeQXVyNjU0OTQ0OTY@._V1_SX300.jpg\"/>"
      ],
      "text/plain": [
       "<IPython.core.display.Image object>"
      ]
     },
     "metadata": {},
     "output_type": "display_data"
    },
    {
     "data": {
      "text/html": [
       "<img src=\"https://images-na.ssl-images-amazon.com/images/M/MV5BMTgzODgyNTQwOV5BMl5BanBnXkFtZTcwNzc0NTc0Mg@@._V1_SX300.jpg\"/>"
      ],
      "text/plain": [
       "<IPython.core.display.Image object>"
      ]
     },
     "metadata": {},
     "output_type": "display_data"
    },
    {
     "data": {
      "text/html": [
       "<img src=\"https://images-na.ssl-images-amazon.com/images/M/MV5BODA3NDhiZjYtYTk2NS00ZWYwLTljYTQtMjU0NzcyMGEzNTU2L2ltYWdlL2ltYWdlXkEyXkFqcGdeQXVyMTQxNzMzNDI@._V1_SX300.jpg\"/>"
      ],
      "text/plain": [
       "<IPython.core.display.Image object>"
      ]
     },
     "metadata": {},
     "output_type": "display_data"
    },
    {
     "data": {
      "text/html": [
       "<img src=\"https://images-na.ssl-images-amazon.com/images/M/MV5BMTI3NTQyMzU5M15BMl5BanBnXkFtZTcwMTM2MjgyMQ@@._V1_SX300.jpg\"/>"
      ],
      "text/plain": [
       "<IPython.core.display.Image object>"
      ]
     },
     "metadata": {},
     "output_type": "display_data"
    },
    {
     "data": {
      "text/html": [
       "<img src=\"https://images-na.ssl-images-amazon.com/images/M/MV5BN2Y2OWU4MWMtNmIyMy00YzMyLWI0Y2ItMTcyZDc3MTdmZDU4XkEyXkFqcGdeQXVyMTQxNzMzNDI@._V1_SX300.jpg\"/>"
      ],
      "text/plain": [
       "<IPython.core.display.Image object>"
      ]
     },
     "metadata": {},
     "output_type": "display_data"
    },
    {
     "data": {
      "text/html": [
       "<img src=\"https://images-na.ssl-images-amazon.com/images/M/MV5BYmQ5MzFjYWMtMTMwNC00ZGU5LWI3YTQtYzhkMGExNGFlY2Q0XkEyXkFqcGdeQXVyNTIzOTk5ODM@._V1_SX300.jpg\"/>"
      ],
      "text/plain": [
       "<IPython.core.display.Image object>"
      ]
     },
     "metadata": {},
     "output_type": "display_data"
    },
    {
     "data": {
      "text/html": [
       "<img src=\"https://images-na.ssl-images-amazon.com/images/M/MV5BZTcyNjk1MjgtOWI3Mi00YzQwLWI5MTktMzY4ZmI2NDAyNzYzXkEyXkFqcGdeQXVyNjU0OTQ0OTY@._V1_SX300.jpg\"/>"
      ],
      "text/plain": [
       "<IPython.core.display.Image object>"
      ]
     },
     "metadata": {},
     "output_type": "display_data"
    },
    {
     "data": {
      "text/html": [
       "<img src=\"https://images-na.ssl-images-amazon.com/images/M/MV5BYmFmOGZjYTItYjY1ZS00OWRiLTk0NDgtMjQ5MzBkYWE2YWE0XkEyXkFqcGdeQXVyNjU0OTQ0OTY@._V1_SX300.jpg\"/>"
      ],
      "text/plain": [
       "<IPython.core.display.Image object>"
      ]
     },
     "metadata": {},
     "output_type": "display_data"
    },
    {
     "data": {
      "text/html": [
       "<img src=\"https://images-na.ssl-images-amazon.com/images/M/MV5BZjZlZDlkYTktMmU1My00ZDBiLWFlNjEtYTBhNjVhOTM4ZjJjXkEyXkFqcGdeQXVyMTMxODk2OTU@._V1_SX300.jpg\"/>"
      ],
      "text/plain": [
       "<IPython.core.display.Image object>"
      ]
     },
     "metadata": {},
     "output_type": "display_data"
    }
   ],
   "source": [
    "i = 0\n",
    "title = []\n",
    "for i, r in enumerate(imdbref_final[Top10_Final]):\n",
    "    sc = np.empty(3, dtype=float)\n",
    "    url = \"http://www.omdbapi.com/?i=tt\" + str(r) + \"&apikey=\" + api_key\n",
    "    response = requests.get(url)\n",
    "    film_details = json.loads(response.text)\n",
    "    if 'Error' in film_details.keys():\n",
    "        url = \"http://www.omdbapi.com/?i=tt0\" + str(r) + \"&apikey=\" + api_key\n",
    "        response = requests.get(url)\n",
    "        film_details = json.loads(response.text)\n",
    "    title.append(film_details['Title'])\n",
    "    display(Image(url=film_details['Poster']))"
   ]
  },
  {
   "cell_type": "code",
   "execution_count": 130,
   "metadata": {},
   "outputs": [
    {
     "data": {
      "text/plain": [
       "['The Prestige',\n",
       " 'Se7en',\n",
       " 'Moon',\n",
       " 'The Talented Mr. Ripley',\n",
       " 'Oldboy',\n",
       " 'Twelve Monkeys',\n",
       " 'District 9',\n",
       " 'Memento',\n",
       " 'The Fugitive',\n",
       " 'Donnie Darko']"
      ]
     },
     "execution_count": 130,
     "metadata": {},
     "output_type": "execute_result"
    }
   ],
   "source": [
    "title"
   ]
  },
  {
   "cell_type": "markdown",
   "metadata": {},
   "source": [
    "## We would recommend the title in the reverse order of title array, we have selected good films. It seems that our POC is working but need many improvements :)\n",
    "\n",
    "- We need to refine the genre cluster model  -> cluster number\n",
    "- We need to improve the n closest cluster we take for each genre cluster\n",
    "- We need to find other matrix factorisation model like ( NMF, regularized SVD ) to avoid negative ratings\n",
    "- We need to refine with sentiment analysis the tag content cluster model\n",
    "- We need to add some content based model\n",
    "- We need more computational power and move to Deep learning for scalabiity\n",
    "- We need also to keep tracks of our user to refine our model\n",
    "- We need better evaluation metric!!!!! \n",
    "\n",
    "# I like a lot this challenge took me about 8 hours to complete ( computational time included). It's never ending problem :) \n",
    "# We have combine: \n",
    "- Clustering of movies genre\n",
    "- Collaborative Filtering Based Model\n",
    "- Clustering of tags \n",
    "- Popularity with imdb rating\n",
    "\n"
   ]
  },
  {
   "cell_type": "code",
   "execution_count": null,
   "metadata": {},
   "outputs": [],
   "source": []
  }
 ],
 "metadata": {
  "kernelspec": {
   "display_name": "Python 3",
   "language": "python",
   "name": "python3"
  },
  "language_info": {
   "codemirror_mode": {
    "name": "ipython",
    "version": 3
   },
   "file_extension": ".py",
   "mimetype": "text/x-python",
   "name": "python",
   "nbconvert_exporter": "python",
   "pygments_lexer": "ipython3",
   "version": "3.6.4"
  },
  "latex_envs": {
   "LaTeX_envs_menu_present": true,
   "autocomplete": true,
   "bibliofile": "biblio.bib",
   "cite_by": "apalike",
   "current_citInitial": 1,
   "eqLabelWithNumbers": true,
   "eqNumInitial": 1,
   "hotkeys": {
    "equation": "Ctrl-E",
    "itemize": "Ctrl-I"
   },
   "labels_anchors": false,
   "latex_user_defs": false,
   "report_style_numbering": false,
   "user_envs_cfg": false
  }
 },
 "nbformat": 4,
 "nbformat_minor": 2
}
