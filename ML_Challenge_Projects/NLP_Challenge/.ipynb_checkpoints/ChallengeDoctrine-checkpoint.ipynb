{
 "cells": [
  {
   "cell_type": "code",
   "execution_count": 1,
   "metadata": {},
   "outputs": [
    {
     "name": "stdout",
     "output_type": "stream",
     "text": [
      "[nltk_data] Downloading package stopwords to /home/joseph/nltk_data...\n",
      "[nltk_data]   Package stopwords is already up-to-date!\n",
      "[nltk_data] Downloading package punkt to /home/joseph/nltk_data...\n",
      "[nltk_data]   Package punkt is already up-to-date!\n",
      "[nltk_data] Downloading package averaged_perceptron_tagger to\n",
      "[nltk_data]     /home/joseph/nltk_data...\n",
      "[nltk_data]   Package averaged_perceptron_tagger is already up-to-\n",
      "[nltk_data]       date!\n"
     ]
    }
   ],
   "source": [
    "# import os.path as op\n",
    "import numpy as np\n",
    "from collections import Counter\n",
    "from sklearn.base import BaseEstimator, ClassifierMixin\n",
    "from glob import glob\n",
    "from math import exp, expm1, log\n",
    "import re\n",
    "from sklearn.model_selection import cross_val_score\n",
    "from sklearn.naive_bayes import MultinomialNB\n",
    "from sklearn.feature_extraction.text import CountVectorizer\n",
    "from sklearn.pipeline import Pipeline\n",
    "from sklearn.feature_extraction.text import TfidfTransformer\n",
    "from sklearn.linear_model import SGDClassifier\n",
    "from sklearn.model_selection import GridSearchCV\n",
    "from pprint import pprint\n",
    "from time import time\n",
    "import logging\n",
    "from nltk import SnowballStemmer\n",
    "import nltk\n",
    "nltk.download('stopwords')\n",
    "nltk.download('punkt')\n",
    "nltk.download('averaged_perceptron_tagger')\n",
    "from nltk.corpus import stopwords\n",
    "from sklearn.svm import SVC\n",
    "from nltk import pos_tag\n",
    "from nltk.tokenize import word_tokenize\n",
    "from sklearn.ensemble import RandomForestClassifier, ExtraTreesClassifier\n",
    "from sklearn import linear_model\n",
    "import itertools\n",
    "from sklearn.model_selection import StratifiedKFold\n",
    "from sklearn.metrics import accuracy_score\n",
    "from scipy.sparse import csr_matrix, lil_matrix\n",
    "import scipy.sparse\n",
    "from sklearn.externals import joblib\n",
    "import pickle\n",
    "import gensim\n",
    "from gensim.models import Word2Vec\n",
    "import multiprocessing\n",
    "from gensim.models.word2vec import LineSentence\n",
    "%load_ext memory_profiler"
   ]
  },
  {
   "cell_type": "code",
   "execution_count": 2,
   "metadata": {},
   "outputs": [
    {
     "name": "stdout",
     "output_type": "stream",
     "text": [
      "CIV  COM  CRIM  SOC\n"
     ]
    }
   ],
   "source": [
    "ls test_set/"
   ]
  },
  {
   "cell_type": "code",
   "execution_count": 3,
   "metadata": {},
   "outputs": [],
   "source": [
    "# filename\n",
    "filename_civ = 'test_set/CIV'\n",
    "filename_com = 'test_set/COM'\n",
    "filename_crim = 'test_set/CRIM'\n",
    "filename_soc = 'test_set/SOC'"
   ]
  },
  {
   "cell_type": "code",
   "execution_count": 4,
   "metadata": {},
   "outputs": [],
   "source": [
    "# opening files\n",
    "civ = open(filename_civ).read()\n",
    "com = open(filename_com).read()\n",
    "crim = open(filename_crim).read()\n",
    "soc = open(filename_soc).read()"
   ]
  },
  {
   "cell_type": "code",
   "execution_count": 5,
   "metadata": {},
   "outputs": [
    {
     "data": {
      "text/plain": [
       "'<p>COUR D\\'APPEL DE BASTIA </p>\\n<p>CHAMBRE CIVILE <br clear=\"none\">Ch. civile A </p>\\n<p>ARRET du 26 JANVIER 2011 </p>\\n<p>R. G : 10/ 00170 R-JG </p>\\n<p>Décision déférée à la Cour : <br clear=\"none\">jugement du juge aux affaires familiales du 09 février 2010 <br clear=\"none\">Tribunal de Grande Instance de BASTIA <br clear=\"none\">R. G : 09/ 1902 </p>\\n<p>\\n<br clear=\"none\">\\n\\nX...\\n\\n</p>\\n<p>C/ </p>\\n<p>\\n\\nY...\\n\\n<br clear=\"none\">\\nZ...\\n</p>\\n<p>APPELANTE : </p>\\n<p>Madame Julie \\nX...\\n\\n<br clear=\"none\">née le 28 Mai 1977 à ANTIBES (06600) <br clear=\"none\">\\n...\\n<br clear=\"none\">20260 CALVI </p>\\n<p>représentée par Me Antoine-Paul ALBERTINI, avoué à la Cour </p>\\n<p>ayant pour avocat Me Valérie PERINO SCARCELLA, avocat au barreau de BASTIA </p>\\n<p>(bénéficie d\\'une aide juridictionnelle Totale numéro 2010/ 785 du 11/ 03/ 2010 accordée par le bureau d\\'aide juridictionnelle de BASTIA) </p>\\n<p>INTIMES : </p>\\n<p>Monsieur Joachim \\nY...\\n\\n<br clear=\"none\">né le 10 Mars 1972 à CAHORS (46000) <br clear=\"none\">Chez Monsieur et Madame \\nY...\\n\\n<br clear=\"none\">\\n...\\n<br clear=\"none\">20111 CASAGLIONE </p>\\n<p>représenté par la SCP RIBAUT-BATTAGLINI, avoués à la Cour </p>\\n<p>ayant pour avocat Me Alexandra GOMIS, avocat au barreau de BASTIA </p>\\n<p>(bénéficie d\\'une aide juridictionnelle Totale numéro 2010/ 1869 du 17/ 06/ 2010 accordée par le bureau d\\'aide juridictionnelle de BASTIA) </p>\\n<p>\\n<br clear=\"none\">Madame Monique Marcelle Marthe Z...épouse \\nY...\\n\\n<br clear=\"none\">ès-qualités de tutrice légale de Joachim \\nY...\\n\\n<br clear=\"none\">\\n...\\n<br clear=\"none\">20111 CASAGLIONE </p>\\n<p>représentée par la SCP RIBAUT-BATTAGLINI, avoués à la Cour </p>\\n<p>ayant pour avocat Me Alexandra GOMIS, avocat au barreau de BASTIA </p>\\n<p>COMPOSITION DE LA COUR : </p>\\n<p>L\\'affaire a été débattue en chambre du conseil du 22 novembre 2010, devant la Cour composée de : </p>\\n<p>Madame Julie GAY, Président de chambre <br clear=\"none\">Madame Catherine GIRARD-ALEXANDRE, Conseiller <br clear=\"none\">Madame Rose-May SPAZZOLA, Conseiller </p>\\n<p>qui en ont délibéré. </p>\\n<p>\\n<br clear=\"none\">GREFFIER LORS DES DEBATS : </p>\\n<p>Madame Sophie DUVAL. </p>\\n<p>Les parties ont été avisées que le prononcé de la décision aura lieu par mise à disposition au greffe le 26 janvier 2011 </p>\\n<p>\\n<br clear=\"none\">ARRET : </p>\\n<p>Contradictoire, </p>\\n<p>Prononcé hors la présence du public par mise à disposition au greffe de la Cour, les parties en ayant été préalablement avisées dans les conditions prévues au deuxième alinéa de l\\'article 450 du code de procédure civile. </p>\\n<p>Signé par Madame Julie GAY, Président de chambre, et par Madame Sophie DUVAL, Greffier auquel la minute de la décision a été remise par le magistrat signataire. </p>\\n<p>\\n<br clear=\"none\">* </p>\\n<p>* * <br clear=\"none\">Du mariage de Jaochim \\nY...\\net de Julie \\nX...\\nest née Laury \\nY...\\nle 5 septembre 1998. </p>\\n<p>\\n<br clear=\"none\">Par jugement du 7 avril 2006, le juge aux affaires familiales du Tribunal de grande instance de BASTIA a :</p>\\n<p>- prononcé le divorce des époux Y...-X...,</p>\\n<p>- dit n\\'y avoir lieu à liquidation du régime matrimonial,</p>\\n<p>- dit que Monsieur \\nY...\\nversera à Madame \\nX...\\nune prestation compensatoire sur le forme d\\'une rente viagère de 100 euros,</p>\\n<p>\\n<br clear=\"none\">- rappelé que l\\'autorité parentale à l\\'égard de l\\'enfant est exercée conjointement,</p>\\n<p>- fixé la résidence de Laury chez la mère,</p>\\n<p>- organisé les droit de visite et d\\'hébergement du père à raison d\\'une fin de semaine sur deux et durant la moitié des vacances scolaires,</p>\\n<p>- fixé la part contributive du père à l\\'entretien et l\\'éducation de l\\'enfant à la somme mensuelle de 100 euros. </p>\\n<p>\\n<br clear=\"none\">Aux termes d\\'un jugement du 9 février 2010, le juge aux affaires familiales du Tribunal de grande instance de BASTIA a :</p>\\n<p>- supprimé la prestation compensatoire mise à la charge de Monsieur \\nY...\\nsous forme de rente viagère à compter du 7 novembre 2007 inclus,</p>\\n<p>- rappelé que l\\'autorité parentale à l\\'égard de l\\'enfant commun est exercée en commun par les deux parents,</p>\\n<p>- fixé la résidence de Laury au domicile maternel et autorisé Madame \\nX...\\nà résider avec Laury en GUYANE,</p>\\n<p>- dit que faute pour les parents de convenir d\\'autres mesures, le droit de visite et d\\'hébergement de Monsieur \\nY...\\ns\\'exercera : </p>\\n<p>jusqu\\'au départ de Laury : </p>\\n<p>en dehors des périodes de vacances scolaires, une fin de semaine sur deux du vendredi soir à la sortie des classes au dimanche 19 heures, </p>\\n<p>durant 10 jours consécutifs pendant les vacances des février 2010, </p>\\n<p>après le départ de Laury : durant six semaines consécutives pendant les vacances d\\'été et en alternance une année sur deux durant la totalité des vacances de Noël les années paires et durant la totalité des vacances de Pâques les années impaires à charge pour Madame \\nX...\\nd\\'accompagner et de raccompagner Laury à ses frais à l\\'aéroport du ressort de son domicile et à charge pour Monsieur \\nY...\\nà ses frais d\\'aller chercher ou faire chercher et de raccompagner ou faire raccompagner l\\'enfant ou à l\\'aéroport du ressort de son domicile ou à PARIS,</p>\\n<p>- dit que le père devra informer la mère de l\\'exercice effectif de son droit un mois à l\\'avance pour les petites vacances et deux mois à l\\'avance pour les vacances d\\'été,</p>\\n<p>- précisé que la moitié des vacances scolaires est décomptée à partir du premier jour de la date officielle des vacances de l\\'académie dont dépend l\\'établissement scolaire fréquenté par l\\'enfant,<br clear=\"none\">- maintenu à la somme mensuelle de 100 euros indexée pour la première fois le 1er janvier 2011 la part contributive de Monsieur \\nY...\\nà l\\'entretien de l\\'enfant,</p>\\n<p>- dispensé Monsieur \\nY...\\nde verser cette somme tant que Laury résidera en Guyane,</p>\\n<p>- dit que Monsieur \\nY...\\nassumera le paiement de la totalité des frais de transport aller-retour de l\\'enfant pour le droit de visite et d\\'hébergement s\\'exerçant pendant les vacances de Pâques et de Noël et la moitié des frais de transport exposés pour les vacances d\\'été, Monsieur \\nY...\\ns\\'acquittant les frais de trajet Guyane-Métropole et Madame \\nX...\\ndes frais Métropole-Guyane,</p>\\n<p>- dit n\\'y avoir lieu à condamnation au titre de l\\'article 700 du code de procédure civile,</p>\\n<p>- fait masse des dépens qui seront supportés par moitié par chacune des parties suivant les modalités de la loi sur l\\'aide juridictionnelle si l\\'une d\\'elles en bénéficie. </p>\\n<p>Madame Julie \\nX...\\na interjeté appel de cette décision par déclaration du 26 février 2010. </p>\\n<p>En ses écritures du 22 novembre 2010 auxquelles il convient de se référer pour un plus ample exposé de ses moyens et prétentions, elle sollicite la réformation du jugement entrepris en ce qu\\'il a dispensé Monsieur \\nY...\\ndu paiement de la contribution à l\\'entretien et l\\'éducation de sa fille tant que celle-ci réside en Guyane, mis à sa charge la moitié des frais de transport pour les vacances d\\'été et prononcé la suppression de la prestation compensatoire. </p>\\n<p>Elle fait observer que son ex-mari, même s\\'il ne perçoit que 615 euros par mois, est hébergé chez ses parents au foyer fiscal desquels il est rattaché et n\\'a aucune charge. </p>\\n<p>Elle fait valoir que sa situation n\\'a pas subi de changement important dans la mesure où elle vit désormais en concubinage et est mère de deux autres enfants dont le couple a la charge. </p>\\n<p>Elle demande en conséquence à la Cour de ne supprimer ni la pension alimentaire mise à la charge de Monsieur \\nY...\\npour l\\'entretien et l\\'éducation de Laury ni la prestation compensatoire fixée par le jugement et de dire que l\\'intimé sera tenu de prendre en charge l\\'intégralité des frais de transport nécessaires à l\\'exercice de son droit de visite et d\\'hébergement. </p>\\n<p>Elle conclut à la confirmation du jugement déféré pour le surplus, au déboutement de Monsieur \\nY...\\nde ses demandes, fins et conclusions et à la condamnation de celui-ci à lui payer une somme de 1. 000 euros sur le fondement des dispositions de l\\'article 700 du code de procédure civile. </p>\\n<p>Monsieur Joachim \\nY...\\net Madame Monique \\nY...\\nès qualités de tutrice de ce dernier soutiennent en leurs conclusions du 19 novembre 2010 auxquelles il y a lieu de se référer pour l\\'exposé de leurs moyens et prétentions que les ressources de Joachim \\nY...\\nont diminué suite à l\\'accident dont il a été victime avec des séquelles physiques et neurologiques nécessitant son placement sous tutelle en février 2009 et qu\\'il n\\'a pas à assumer les nouveaux choix de vie adoptés par son ex-épouse. </p>\\n<p>Ils concluent à la confirmation du jugement attaqué en toutes ses dispositions sauf en ce qu\\'il a seulement suspendu le versement par le père de sa part contributive à l\\'entretien de l\\'enfant tant que celle-ci serait en Guyane. </p>\\n<p>Ils demandent en conséquence à la Cour de :</p>\\n<p>- supprimer cette contribution,</p>\\n<p>- dire et juger que chacun des parents assumera pour le trajet dont il a la charge soit l\\'aller pour le père et le retour pour la mère l\\'intégralité des frais de transport comprenait tant le vol international que le vol national à charge pour chacun de s\\'assurer que l\\'enfant aura la possibilité de prendre le vol en correspondance au regard des horaires des vols. </p>\\n<p>Ils font valoir qu\\'à l\\'occasion du droit de visite de l\\'été 2010, ils ont été contraints de payer une somme de 475 euros supplémentaire. </p>\\n<p>Ils demandent à la Cour de condamner Madame \\nX...\\nà leur payer le montant de cette somme, de rejeter les demandes formées par celle-ci et de la condamner à payer une somme de 1. 500 euros sur le fondement des dispositions de l\\'article 700 du code de procédure civile. </p>\\n<p>La procédure a été clôturée le 22 novembre 2010. </p>\\n<p>\\n<br clear=\"none\">* </p>\\n<p>* * </p>\\n<p>SUR CE : </p>\\n<p>Sur la suppression de la prestation compensatoire : </p>\\n<p>Attendu que si le premier juge a supprimé à juste raison la prestation compensatoire mise à la charge de Monsieur \\nY...\\ncompte tenu du grave accident dont il a été victime qui a eu pour conséquence son placement sous tutelle, et une modification de ses ressources, alors que Madame \\nX...\\na de son côté refait sa vie et si la décision entreprise sera de ce chef confirmée, en revanche cette suppression ne peut prendre effet qu\\'à la date où cette demande a été formulée soit lors de l\\'audience du 26 janvier 2010 ; </p>\\n<p>Qu\\'en conséquence, le jugement déféré qui a supprimé la prestation compensatoire accordée à Madame \\nX...\\nà compter de novembre 2007 sera sur ce point infirmé ; </p>\\n<p>Sur la part contributive du père à l\\'entretien de l\\'enfant : </p>\\n<p>Attendu qu\\'aux termes de l\\'article 321-2 du code civil chacun des parents contribue à l\\'entretien et à l\\'éducation des enfants à proportion de ses ressources, de celles de l\\'autre parent ainsi que des besoins de l\\'enfant ; </p>\\n<p>Qu\\'il est constant que l\\'obligation d\\'entretenir et d\\'élever les enfants résulte d\\'une obligation légale à laquelle les parents ne peuvent échapper qu\\'en démontrant qu\\'ils sont dans l\\'impossibilité matérielle de le faire ; </p>\\n<p>Attendu qu\\'en l\\'espèce si les revenus de Monsieur \\nY...\\nont diminué du fait de son accident et sont modiques puisqu\\'ils s\\'élèvent à 615 euros par mois, il n\\'en demeure pas moins qu\\'il ne justifie d\\'aucune charge particulière puisqu\\'il a rejoint le domicile de ses parents depuis son accident ; </p>\\n<p>Que les besoins de Laury âgée de 12 ans allant croissant, et Madame \\nX...\\nne disposant pas de ressources personnelles autres que les allocations familiales puisqu\\'elle est sans emploi, la part contributive du père à l\\'entretien de sa fille, fixée à juste titre à 100 euros par mois sera maintenue pendant la résidence de l\\'enfant en Guyane, en dépit du coût des frais de déplacement de celle-ci à l\\'occasion de l\\'exercice par Monsieur \\nY...\\nde son droit de visite et d\\'hébergement ; </p>\\n<p>Que le jugement querellé sera réformé en ce sens ; </p>\\n<p>Sur les frais de déplacement de l\\'enfant : </p>\\n<p>\\n<br clear=\"none\">Attendu que le premier juge ayant à juste raison opéré un partage par moitié des frais de transport exposés à l\\'occasion des vacances d\\'été, cette disposition de la décision déférée sera confirmée ; </p>\\n<p>Qu\\'il sera toutefois précisé pour éviter le différend ayant opposé les parties lors des vacances de l\\'été 2010 que cette disposition concerne le coût du voyage de l\\'enfant entre la Guyane et AJACCIO et ce à l\\'aller comme au retour, chacune des parties conservant la charge des frais de transport annexes d\\'accompagnement éventuel de l\\'enfant ; </p>\\n<p>Attendu que Madame \\nY...\\nès qualités de tutrice de Monsieur \\nY...\\nqui ne justifie nullement des frais supplémentaires dont le remboursement est réclamé sera déboutée de ce chef de demande ; </p>\\n<p>Attendu que les autres dispositions de la décision déférée qui n\\'ont pas été discutées seront purement et simplement confirmées ; </p>\\n<p>Attendu que l\\'équité ne commande pas de faire application des dispositions de l\\'article 700 du code de procédure civile ; </p>\\n<p>Attendu que les dépens d\\'appel seront partagés par moitié entre les parties ; </p>\\n<p>\\n<br clear=\"none\">* </p>\\n<p>* * </p>\\n<p>PAR CES MOTIFS, </p>\\n<p>LA COUR : </p>\\n<p>Réforme la décision déférée en ce qui concerne la date de prise d\\'effet de la suppression de la prestation compensatoire accordée à Madame \\nX...\\net dispensé Monsieur Joseph \\nY...\\ndu paiement de sa part contributive à l\\'entretien de l\\'enfant tant que celle-ci résiderait en Guyane, </p>\\n<p>Statuant à nouveau, </p>\\n<p>Dit que la prestation compensatoire mise à la charge de Monsieur Joseph \\nY...\\nsera supprimée à compter du 26 janvier 2010 et que sa part contributive à l\\'entretien de l\\'enfant est maintenue, </p>\\n<p>Confirme pour le surplus la décision déférée, </p>\\n<p>Y ajoutant, </p>\\n<p>Dit que les frais de déplacement de l\\'enfant qui seront partagés par moitié entre les parents concernent le coût du voyage de l\\'enfant par avion entre la Guyane et AJACCIO et ce à l\\'aller comme au retour, </p>\\n<p>Déboute Madame \\nY...\\nès qualités de tutrice de Joachim \\nY...\\n, de la demande formulée au titre des frais supplémentaires exposés au cours de l\\'été 2010, </p>\\n<p>Rejette tous autres chefs de demande, </p>\\n<p>Fait masse des dépens et dit qu\\'ils seront partagés par moitié entre les parties. </p>\\n<p>LE GREFFIER LE PRESIDENT</p>\\n<<<<<<<<<<NEW>>>>>>>>>>\\n<br>\\n<p>\\n<br clear=\"none\">Ch. civile A </p>\\n<p>ARRET No </p>\\n<p>du 12 FEVRIER 2014 </p>\\n<p>R. G : 13/ 00383 C-MAB </p>\\n<p>Décision déférée à la Cour : <br clear=\"none\">Jugement Au fond, origine Tribunal de Grande Instance d\\'AJACCIO, décision attaquée en date du 18 Mars 2013, enregistrée sous le no 12/ 938 </p>\\n<p>\\nX... \\n</p>\\n<p>C/ </p>\\n<p>MONSIEUR LE PROCUREUR DE LA REPUBLIQUE </p>\\n<p>COUR D\\'APPEL DE BASTIA </p>\\n<p>CHAMBRE CIVILE </p>\\n<p>ARRET DU </p>\\n<p>DOUZE FEVRIER DEUX MILLE QUATORZE </p>\\n<p>AVANT DIRE DROIT </p>\\n<p>APPELANT : </p>\\n<p>M. Antoine X... \\n<br clear=\"none\">né le 28 Janvier 1966 à AJACCIO (20000) <br clear=\"none\">\\n...\\n<br clear=\"none\">20167 MEZZAVIA </p>\\n<p>assisté de Me Philippe ARMANI, avocat au barreau d\\'AJACCIO plaidant en visioconférence </p>\\n<p>\\n<br clear=\"none\">INTIME : </p>\\n<p>M. MONSIEUR LE PROCUREUR DE LA REPUBLIQUE <br clear=\"none\">Tribunal de grande instance d\\'AJACCIO <br clear=\"none\">4 Boulevard Masseria <br clear=\"none\">20000 AJACCIO </p>\\n<p>Représenté par M. Damien KINCHER, avocat général </p>\\n<p>COMPOSITION DE LA COUR : </p>\\n<p>L\\'affaire a été débattue en chambre du conseil du 09 décembre 2013, devant la Cour composée de : </p>\\n<p>Mme Julie GAY, Président de chambre <br clear=\"none\">Mme Micheline BENJAMIN, Conseiller <br clear=\"none\">Mme Marie BART, Vice-président placé près Monsieur le premier président </p>\\n<p>qui en ont délibéré. </p>\\n<p>\\n<br clear=\"none\">GREFFIER LORS DES DEBATS : </p>\\n<p>Mme Martine COMBET. </p>\\n<p>Les parties ont été avisées que le prononcé de la décision aura lieu par mise à disposition au greffe le 12 février 2014. </p>\\n<p>\\n<br clear=\"none\">MINISTERE PUBLIC : </p>\\n<p>Auquel l\\'affaire a été régulièrement communiquée le 02 octobre 2013 et qui a fait connaître son avis, dont les parties ont pu prendre connaissance. </p>\\n<p>\\n<br clear=\"none\">ARRET : </p>\\n<p>Contradictoire, </p>\\n<p>Prononcé hors la présence du public par mise à disposition au greffe de la Cour, les parties en ayant été préalablement avisées dans les conditions prévues au deuxième alinéa de l\\'article 450 du code de procédure civile. </p>\\n<p>Signé par Mme Julie GAY, Président de chambre, et par Mme Johanna SAUDAN, Greffier auquel la minute de la décision a été remise par le magistrat signataire. </p>\\n<p>\\n<br clear=\"none\">Le 28 septembre 2012, M. Antoine X... a saisi le tribunal de grande instance d\\'Ajaccio d\\'une requête aux fins d\\'adoption simple de Jean-Pierre A... en demandant que l\\'adopté porte son nom et qu\\'il s\\'appelle à compter du jugement Jean-Pierre X.... </p>\\n<p>\\n<br clear=\"none\">Par jugement du 18 mars 2013, le tribunal de grande instance d\\'Ajaccio a :</p>\\n<p>- prononcé l\\'adoption simple par M. Antoine X..., né le 28 janvier 1966 à Ajaccio, exerçant la profession de chef de chantier de M. Jean-Pierre A..., né le 20 avril 1982 à AJACCIO exerçant la profession d\\'agent Air France,</p>\\n<p>- dit que l\\'adopté se nommera désormais X...,</p>\\n<p>- dit que l\\'enfant Clara, fille de l\\'adopté et de Mme Aurélie B..., née le 6 juillet 2011 à Ajaccio se nommera désormais X...,</p>\\n<p>- dit que le jugement sera transcrit sur tous les actes d\\'état civil conformément aux dispositions de l\\'article 361 et suivants du code civil,</p>\\n<p>- mis les dépens à la charge du requérant. </p>\\n<p>\\n<br clear=\"none\">M. Antoine X... a relevé appel de ce jugement par déclaration déposée au greffe le 5 avril 2013. </p>\\n<p>\\n<br clear=\"none\">En ses dernières conclusions déposées par voie électronique auxquelles il est expressément référé pour plus ample exposé de ses moyens et prétentions, M. Antoine X... demande à la cour de :</p>\\n<p>- infirmer le jugement du tribunal de grande instance d\\'Ajaccio du 18 mars 2013,</p>\\n<p>- dire que l\\'adopté se nommera désormais A...-X...,</p>\\n<p>- dire que l\\'enfant, Clara, fille de l\\'adopté et de Mme Aurélie B..., née le 6 juillet 2011 à Ajaccio, conservera le nom de A.... <br clear=\"none\">Il demande à la cour de faire application de l\\'article 363 alinéa 1 du code civil afin que son nom soit adjoint à celui de l\\'adopté. Quant au nom de l\\'enfant Clara, il demande l\\'application de la loi du 17 mai 2013 qui permet de passer outre les dispositions de l\\'article 366 sur la transmission du nom aux enfants de l\\'adopté. Il sollicite en conséquence que Clara conserve le seul nom de A... et que l\\'adopté se nomme désormais A...-X.... </p>\\n<p>\\n<br clear=\"none\">Le Ministère Public a rendu le 2 octobre 2013 son avis tendant à la confirmation du jugement querellé. A l\\'audience, il s\\'en rapporte. </p>\\n<p>\\n<br clear=\"none\">SUR CE : </p>\\n<p>\\n<br clear=\"none\">Aux termes de l\\'article 546 du code de procédure civile, le droit d\\'appel appartient à toute partie qui y a intérêt, si elle n\\'y a pas renoncé. En matière gracieuse, la voie de l\\'appel est également ouverte aux tiers auxquels le jugement a été notifié. </p>\\n<p>Il en résulte que celui qui a obtenu satisfaction en première instance est irrecevable, faute d\\'intérêt, à faire appel. </p>\\n<p>En l\\'espèce, l\\'adoptant, M. Antoine X... a dans sa requête déposée le 28 septembre 2012 demandé que l\\'adopté porte son nom et qu\\'il s\\'appelle à compter du jugement Jean-Pierre X.... La loi applicable à l\\'espèce a été modifiée le 17 mai 2013 mais prévoit comme précédemment que \" l\\'adoption confère le nom de l\\'adoptant à l\\'adopté en l\\'ajoutant au nom de ce dernier... et que le tribunal peut, toutefois, à la demande de l\\'adoptant, décider que l\\'adopté ne portera que le nom de l\\'adoptant \". Il s\\'ensuit que M. Antoine X... doit s\\'expliquer sur son intérêt à faire appel du jugement ayant fait droit à sa demande, ce moyen étant soulevée d\\'office. </p>\\n<p>Mais encore, l\\'appelant soutient que l\\'article 364 alinéa 4 du code civil devrait trouver à s\\'appliquer à l\\'enfant de l\\'adoptant. Or, outre l\\'erreur relative au texte visé qui paraît être l\\'article 363 et non l\\'article 364, il convient que l\\'appelant s\\'explique sur le fondement de son action alors que Clara n\\'est pas l\\'enfant de son conjoint comme il le prétend et sur la faculté laissée à la juridiction de décider que l\\'enfant de l\\'adopté portera son seul nom d\\'origine. </p>\\n<p>Pour permettre à M. Antoine X... de fournir à la cour les explications demandées, il convient d\\'ordonner la réouverture des débats à l\\'audience de la chambre civile A du 10 mars 2014 à 9 heures. </p>\\n<p>Dans l\\'attente, les dépens seront réservés et il sera sursis à statuer sur l\\'ensemble des demandes. </p>\\n<p>\\n<br clear=\"none\">PAR CES MOTIFS, </p>\\n<p>LA COUR : </p>\\n<p>\\n<br clear=\"none\">Ordonne la réouverture des débats pour permettre à M. Antoine X... de fournir ses explications tant sur son intérêt à faire appel du jugement du rendu le 18 mars 2013 par le tribunal de grande instance d\\'Ajaccio que sur le fondement juridique de sa demande relative au nom de l\\'enfant de l\\'adopté ainsi que sur la faculté laissée à la juridiction de décider que l\\'enfant de l\\'adopté portera son seul nom d\\'origine ; </p>\\n<p>Renvoie la présente affaire à l\\'audience de la chambre civile A du lundi 10 mars 2014 à 9 heures et enjoint à M. Antoine X... de conclure sur la fin de non recevoir et le moyen soulevés par la cour ; </p>\\n<p>Sursoit à statuer sur l\\'ensemble des demandes ; </p>\\n<p>Réserve les dépens. </p>\\n<p>\\n<br clear=\"none\">LE GREFFIER LE PRESIDENT</p>\\n<<<<<<<<<<NEW>>>>>>>>>>\\nCOUR D\\'APPEL DE LYON <br>Troisième Chambre Civile <br>SECTION A <br>\\n<br>\\n<br>ARRÊT DU 15 Juin 2010 <br>\\n<br>Décision déférée à la Cour : <br>Jugement du Tribunal de Commerce de ROANNE du 24 juin 2009- No rôle : 2008n00624 <br>\\n<br>\\n<br>No R. G. : 09 / 04709 <br>\\n<br>Nature du recours : Appel <br>\\n<br>\\n<br>APPELANTE : <br>\\n<br>COMPAGNIE D\\'ASSURANCES HELVETIA <br>2 rue Sainte Marie <br>92400 COURBEVOIE <br>\\n<br>représentée par la SCP BAUFUME-SOURBE, avoués à la Cour <br>\\n<br>assistée de Me RODAMEL, avocat au barreau de LYON <br>\\n<br>\\n<br>\\n<br>INTIMEES : <br>\\n<br>SA CLIMATISATION AERAULIQUE ET THERMIQUE (CAT) <br>Zone Industrielle Les Guérins <br>42120 LE COTEAU <br>\\n<br>représentée par la SCP BRONDEL-TUDELA, avoués à la Cour <br>\\n<br>assistée de Me Laurence CHANTELOT, avocat au barreau de ROANNE <br>\\n<br>SARL TML FERNANDES <br>18 Boulevard Charles de Gaulle <br>42120 LE COTEAU <br>\\n<br>représentée par la SCP AGUIRAUD-NOUVELLET, avoués à la Cour <br>\\n<br>SELARL ROBERT, avocats au barreau de ROANNE <br>\\n<br>\\n<br>\\n<br>Instruction clôturée le 02 Mars 2010 <br>\\n<br>Audience publique du 10 Mai 2010 <br>\\n<br>\\n<br>LA TROISIÈME CHAMBRE SECTION A DE LA COUR D\\'APPEL DE LYON, <br>\\n<br>\\n<br>COMPOSITION DE LA COUR lors des débats et du délibéré : <br>\\n<br>Monsieur Bernard CHAUVET, Président <br>Madame Marie-Françoise CLOZEL-TRUCHE, Conseiller <br>Monsieur Alain MAUNIER, Conseiller <br>\\n<br>DEBATS : à l\\'audience publique du 10 Mai 2010 <br>sur le rapport de Madame Marie-Françoise CLOZEL-TRUCHE, Conseiller <br>\\n<br>\\n<br>GREFFIER : la Cour était assistée lors des débats de Madame Jennifer LANDRE, Greffier placé <br>\\n<br>ARRET : CONTRADICTOIRE <br>\\n<br>Prononcé publiquement le 15 Juin 2010, par mise à disposition de l\\'arrêt au greffe de la Cour, les parties en ayant été préalablement avisées dans les conditions prévues à l\\'article 450 alinéa 2 du Code de procédure civile ; <br>\\n<br>Signé par Monsieur Bernard CHAUVET, Président, et par Madame Jennifer LANDRE, Greffier placé, auquel la minute de la décision a été remise par le magistrat signataire. <br>\\n<br>\\n<br>\\n<br>FAITS, PROCÉDURE, PRÉTENTIONS ET MOYENS DES PARTIES <br>\\n<br>Le 19 novembre 2007 la société CLIMATISATION AÉRAULIQUE ET THERMIQUE dite CAT a confié à la SARL TML FERNANDES, moyennant un prix de 409 euros HT, le transport d\\'un filtre de diamètre 2670 et de ses accessoires, d\\'un poids total de 1. 150 kg, depuis les ateliers de son fournisseur COELHO à LE COTEAU jusqu\\'au chantier de son client CHEYNET à SAINT JUST MALMONT. La lettre de voiture du 21 novembre 2007 mentionne une heure d\\'arrivée sur le lieu de livraison à 12 heures 15 et des dommages occasionnés au filtre qui serait tombé au sol lors des opérations de déchargement. Lors de l\\'expertise d\\'assurance qui a été diligentée, le filtre a été considéré comme irréparable, la fourniture d\\'un nouveau filtre suivant facture COELHO s\\'élevant à 14. 340 euros HT. <br>Par exploit des 7 et 12 novembre 2008 la SA CAT a fait citer devant le Tribunal de Commerce de ROANNE la SARL TML FERNANDES et la compagnie HELVETIA assureur du voiturier, pour voir juger qu\\'aucune limitation de garantie ne pouvait lui être opposée en raison de la faute lourde du transporteur et obtenir la condamnation solidaire des sociétés défenderesses à lui payer la somme de 17. 150, 64 euros TTC représentant la facture de fourniture d\\'un nouveau filtre outre intérêts, dommages et intérêts pour résistance abusive et indemnité de procédure. <br>\\n<br>Par jugement en date du 24 juin 2009 le Tribunal a<br>-dit que le préposé de la SARL TML FERNANDES a commis une faute lourde dont l\\'employeur est tenu de répondre<br>-dit en conséquence qu\\'aucune limitation de garantie ne peut être opposée à la SA CAT et que celle-ci doit être indemnisée sur le montant HT du sinistre soit 14. 340 euros<br>-condamné la SARL TML FERNANDES et son assureur la SA HELVETIA conjointement et solidairement à payer à la SA CAT la somme de 14. 340 euros HT outre intérêts de droit à compter du 7 novembre 2008, date de l\\'assignation<br>-dit que la SARL TML FERNANDES sera relevée et garantie par la compagnie HELVETIA pour ce montant, sous déduction de la franchise contractuelle de 821 euros<br>-condamné la SA CAT à payer à la SARL TML FERNANDES le solde de ses factures soit 978, 32 euros<br>\\n<br>-condamné la SARL TML FERNANDES et son assureur la SA HELVETIA à payer une indemnité de procédure de 750 euros à la SA CAT et à supporter les dépens<br>-rejeté les autres demandes. <br>\\n<br>Par déclaration remise au greffe le 20 juillet 2009 la compagnie HELVETIA a interjeté appel de ce jugement dans toutes ses dispositions. <br>\\n<br>Par conclusions No2 récapitulatives &amp; complémentaires signifiées le 15 février 2010 la compagnie HELVETIA demande à la Cour d\\'infirmer le jugement entrepris et<br>-à titre principal, vu l\\'absence de faute lourde de l\\'assurée TML FERNANDES et la franchise contractuelle de 821 euros, de débouter la SA CAT des demandes dirigées à son encontre et de la mettre hors de cause<br>-à titre subsidiaire, en raison de l\\'existence d\\'une déclaration mensongère de sinistre de l\\'assurée TML FERNANDES révélée après le dépôt du rapport d\\'expertise de juger la société TML FERNANDES déchue de tout droit à garantie et de la mettre hors de cause<br>-dans tous les cas, de constater l\\'existence d\\'une franchise contractuelle de 821 euros sur les dommages matériels ainsi que de 821 euros sur les dommages immatériels, de dire que l\\'indemnisation due par TML FERNANDES s\\'apprécie à hauteur du montant HT du préjudice et de condamner qui mieux le devra à lui payer une indemnité de procédure de 2. 000 euros. <br>\\n<br>D\\'abord la compagnie HELVETIA qui rappelle que le contrat MULTITRANS prévoyait une franchise de 820 euros indexée, soit au jour du sinistre 821 euros, soutient que :<br>- le transport sur le territoire national du filtre et de ses accessoires d\\'un poids total inférieur à 3 tonnes est soumis, à défaut de convention contraire des parties, aux dispositions du contrat type issu du décret du 6 avril 1999 qui prévoit une limitation de l\\'indemnité due par le transporteur pour la réparation de tous les dommages justifiés dont il est tenu pour responsable de 23 euros par kilogramme de poids brut de marchandises manquantes ou avariées sans pouvoir dépasser 750 euros par colis perdu<br>-il n\\'a été confié le 19 novembre 2007 qu\\'un unique colis à la société TML FERNANDES ;<br>- le donneur d\\'ordre, qui n\\'a pas souscrit d\\'assurance ad valorem et s\\'est abstenu d\\'effectuer une déclaration de valeur, ne rapporte pas la preuve qui lui incombe d\\'une faute lourde du voiturier<br>-l\\'expert CORNILLON n\\'a retenu qu\\'une erreur de manipulation du voiturier lors des opérations de sanglage de la marchandise. <br>La compagnie HELVETIA conteste que le fait que le chauffeur ait arrêté le véhicule sur la bande d\\'arrêt d\\'urgence de l\\'autoroute pour remédier au défaut de chargement ait été à l\\'origine du sinistre, selon elle seulement dû à la mauvaise manoeuvre du transporteur lors de la manipulation de la sangle. <br>La compagnie HELVETIA conteste aussi toute résistance abusive et la possibilité pour la société CAT, qui récupère la TVA, de solliciter une indemnité TTC. <br>\\n<br>Pour le cas où la faute lourde du transporteur serait retenue, la compagnie HELVETIA oppose une déchéance de garantie à son assurée TML FERNANDES pour lui avoir faussement déclaré le 22 novembre 2007 que le sinistre est intervenu lors des opérations de déchargement de la marchandise. Elle se prévaut ainsi des dispositions de l\\'article 12 B des conditions générales du contrat MULTITRANS. Elle soutient que, même si elle n\\'a pas contesté sa garantie en première instance, elle est recevable à opposer une déchéance de garantie alors que la société TML FERNANDES lui a dissimulé les conditions de survenance du sinistre, seulement révélées par les éléments communiqués en cours d\\'instance. <br>\\n<br>\\n<br>Par conclusions signifiées le 31 décembre 2009 la SARL TML FERNANDES demande à la Cour<br>-à titre principal, d\\'infirmer le jugement entrepris en ce qu\\'il a retenu la faute lourde, de dire que la limitation d\\'indemnisation de 750 euros du contrat type doit s\\'appliquer et qu\\'elle doit être relevée et garantie par la compagnie HELVETIA à hauteur cette somme sous réserve de la franchise contractuelle, de condamner la société CAT à lui payer la somme de 978, 32 euros<br>\\n<br>\\n<br>-à titre subsidiaire, en cas de faute lourde, de rejeter l\\'argumentation nouvelle de la compagnie HELVETIA, et de dire que la compagnie HELVETIA devra la garantir de toutes les condamnations prononcées à son encontre<br>-dans tous les cas, de condamner qui mieux le devra à lui payer une indemnité de procédure de 2. 500 euros. <br>\\n<br>Le voiturier qui sollicite la confirmation du jugement entrepris en ce qu\\'il a fait droit à sa demande en paiement de deux factures des 24 octobre et 30 novembre 2007, conteste avoir commis une faute lourde. <br>La SARL TML FERNANDES expose que son chauffeur qui s\\'est rendu compte en cours de transport après le péage de VEAUCHETTE qu\\'une sangle et que le berceau n\\'était plus en place, a décidé de s\\'arrêter sur la bande d\\'arrêt d\\'urgence de l\\'autoroute pour prendre toute mesure utile ; qu\\'il a ainsi essayé de relever le filtre avec la grue du camion ; que le filtre est alors tombé sur l\\'autoroute mais qu\\'il a pu le recharger pour le livrer à SAINT JUST MALMONT où les dommages ont été constatés. La société TML FERNANDES soutient donc que le filtre est bien tombé lors d\\'une opération de déchargement et souligne que la lettre de voiture a été signée d\\'un commun accord avec la société CAT qui était aussi présente lors des opérations d\\'expertise. Elle expose que le filtre n\\'est pas tombé en cours de transport ; qu\\'il n\\'y a pas eu faute de conduite mais seulement erreur de positionnement de la sangle qui a fait un tour mort, et a ripé sur le crochet de la grue ; que la société CAT qui lui a immédiatement confié d\\'autres transports ne démontre ni sa négligence grossière, ni son incapacité, ni son incurie. <br>La société TML FERNANDES ajoute que la société CAT tente d\\'invoquer la faute lourde pour échapper aux limitations de garantie alors qu\\'il n\\'y a pas eu en l\\'espèce de valeur déclarée de la marchandise. Elle fait valoir que sa responsabilité doit être limitée à 750 euros. <br>A titre infiniment subsidiaire elle conteste toute fausse déclaration. Elle souligne que la compagnie HELVETIA, qui n\\'a jamais contesté sa garantie en première instance alors que le dossier se présentait avec des éléments identiques, ne produit pas de déclaration de sinistre qui puisse contredire les éléments constants du dossier. <br>\\n<br>\\n<br>Par conclusions récapitulatives et en réponse No2 signifiées le 17 février 2010 la société CAT demande à la Cour de confirmer le jugement entrepris sauf en ce qu\\'il a rejeté sa demande de dommages et intérêts pour résistance abusive et y ajoutant de condamner la SARL TML FERNANDES et la compagnie HELVETIA à lui payer une indemnité de procédure de 2. 000 euros. <br>\\n<br>La SA CAT expose qu\\'il résulte d\\'éléments nouveaux que le chauffeur de la SARL TML FERNANDES a menti sur les circonstances dans lesquelles le filtre a été endommagé <br>Elle soutient que<br>-la SARL TML FERNANDES, qu\\'elle affrétait habituellement, était tenue à une obligation de contrôle du chargement et de son arrimage<br>-le matériel a été incorrectement arrimé alors que d\\'une part les conditions météorologiques étaient défavorables (vents forts) et que le filtre a été posé sur la plate-forme avec son axe positionné dans le sens du déplacement, contrairement aux règles européennes prévues pour réduire la prise au vent et l\\'instabilité de l\\'ensemble<br>-le chauffeur s\\'est abstenu de vérifier en cours de transport la tenue de la marchandise et de l\\'amarrage. <br>Elle reproche aussi au chauffeur d\\'avoir fait preuve d\\'une négligence grossière dans la gestion du problème d\\'arrimage rencontré. La société CAT fait ainsi valoir que si comme l\\'exposent le voiturier et la compagnie HELVETIA un arrêt d\\'urgence de l\\'ensemble routier semblait s\\'imposer, le chauffeur n\\'a pas pris toutes les dispositions utiles pour assurer dans les conditions optimales le repositionnement du filtre. <br>Elle ajoute que le courrier que lui a adressé la société ASF le 27 mars 2009 démontre que la chute du filtre sur les voies de circulation de l\\'autoroute n\\'est pas survenue dans les circonstances que le chauffeur X... a décrites mais qu\\'en réalité le chauffeur a arrêté le véhicule sur la bande d\\'arrêt d\\'urgence au milieu d\\'un pont, situé à 1, 5 km après le péage et à 1 km de la sortie VEAUCHE, parce que le matériel était déjà tombé sur la voie ; qu\\'il a alors entrepris de le remonter sur la plate forme en utilisant la plate-forme embarquée. <br>Elle en conclut que le chauffeur a ainsi commis une succession de fautes lourdes de sorte que le préjudice doit être intégralement réparé. <br>\\n<br>La société CAT ajoute que la SARL TML FERNANDES et son assureur ont fait preuve de mauvaise foi pour tenter d\\'échapper à leurs obligations et souligne qu\\'elle a dû avancer le prix du filtre indispensable à son client CHEYNET, ce qui a obéré sa trésorerie ; elle estime que, par leur résistance abusive, la SARL TML FERNANDES et son assureur lui ont occasionné un préjudice complémentaire <br>\\n<br>\\n<br>Une ordonnance en date du 2 mars 2010 clôture la procédure. <br>\\n<br>\\n<br>SUR CE LA COUR <br>\\n<br>Attendu que suivant lettre de voiture du 19 novembre 2007 la société CLIMATISATION AÉRAULIQUE ET THERMIQUE dite CAT a confié à la SARL TML FERNANDES le transport d\\'un filtre de diamètre 2670 et de ses accessoires constituant ensemble un colis d\\'un poids total de 1. 150 kg, depuis les ateliers de son fournisseur COELHO à LE COTEAU jusqu\\'au chantier de son client CHEYNET à SAINT JUST MALMONT ; qu\\'à défaut de convention contraire entre les parties, cette opération de transport est soumise aux dispositions du contrat type issu du décret du 6 avril 1999 qui prévoit, sauf faute lourde du voiturier, une limitation d\\'indemnité de 750 euros par colis avarié valant pour la réparation de tous les préjudices subis ; <br>Qu\\'il incombe à celui qui invoque l\\'existence d\\'une faute lourde d\\'en rapporter la preuve ; que la faute lourde suppose une négligence d\\'une extrême gravité, confinant au dol et dénotant l\\'inaptitude du transporteur à l\\'accomplissement de la mission contractuelle qu\\'il a acceptée ; qu\\'elle réside donc dans la négligence grossière, l\\'incapacité ou l\\'incurie du transporteur ; <br>Qu\\'en l\\'espèce si les pièces respectivement versées aux débats établissent que la chute du filtre n\\'est pas survenue lors du déchargement dans les locaux du client CHEYNET, mais sur une voie de circulation de l\\'autoroute, les courriers adressés les 13 novembre 2008 et 27 mars 2009 à la SA CAT par la Société des Autoroutes du Sud de la FRANCE, l\\'examen des photographies produites par la SA CAT, l\\'attestation Y... du 30 mars 2009, ni les relevés météorologiques mentionnant des vents forts le 21 novembre 2007, ne permettent d\\'établir que filtre serait tombé sur la chaussée alors que l\\'ensemble routier circulait ; <br>qu\\'il résulte des documents produits que la chute du filtre est survenue alors que le chauffeur qui s\\'est arrêté sur la bande d\\'arrêt d\\'urgence tentait de repositionner le filtre à l\\'aide de la grue équipant le véhicule ; que la cause du sinistre ne résulte pas d\\'un défaut de contrôle du chargement et de son arrimage, ni d\\'un stationnement dangereux du véhicule mais d\\'une mauvaise manipulation du chauffeur lors des opérations de sanglage et d\\'élingage ; qu\\'ainsi et contrairement à ce que les premiers juges ont à tort retenu la preuve d\\'une faute lourde du transporteur n\\'est pas en l\\'espèce rapportée ; <br>Que le jugement entrepris sera donc infirmé en ce qu\\'il a écarté la limitation de garantie du contrat type ; <br>\\n<br>\\n<br>Attendu que la police d\\'assurance MULTITRANS souscrite par la SARL TML FERNANDES auprès de la compagnie HELVETIA stipule notamment que l\\'indemnité due par l\\'assureur est soumise aux limitations de responsabilité légales, réglementaires ou contractuelles régissant son contrat professionnel ; qu\\'il y est prévu une franchise contractuelle de 800 euros indexée pour les dommages matériel et pour les dommages immatériels, qui au jour du sinistre s\\'élèvent chacune, par le jeu de l\\'indexation, à un montant de 821 euros ; que la garantie due par l\\'assureur n\\'a donc vocation à s\\'appliquer que si le montant de l\\'indemnité due est supérieur à ce montant ; qu\\'en l\\'espèce l\\'indemnité due par la société TLM FERNANDES par la SA CAT s\\'élève seulement à 750 euros ; que le jugement entrepris sera donc aussi infirmé en ce qu\\'il a fait droit aux demandes de la SA CAT dirigées contre la compagnie HELVETIA ; <br>\\n<br>\\n<br>\\n<br>\\n<br>Attendu en conséquence qu\\'il convient de condamner la SARL TML FERNANDES à payer à la SA CAT la somme de 750 euros avec intérêts au taux légal à compter de la date de l\\'assignation, le jugement entrepris n\\'étant pas critiqué sur le point de départ des intérêts ; que la SA CAT sera déboutée de ses demandes dirigées contre la compagnie HELVETIA et la SARL TML FERNANDES de son appel en garantie dirigé contre la même compagnie HELVETIA ; <br>\\n<br>Attendu que la décision entreprise n\\'est pas critiquée non plus en ce qu\\'elle a condamné la SA CAT à payer à la SARL TML FERNANDES la somme de 978, 32 euros dont le voiturier a sollicité le paiement pendant l\\'instance au titre de deux factures des 24 octobre et 30 novembre 2007 ; <br>Que la SA CAT ne caractérise pas une résistance abusive de la SARL TML FERNANDES de sorte que sa demande de dommages et intérêts complémentaire a été à juste titre rejetée par le Tribunal ; <br>Que le jugement rendu le 24 juin 2009 sera donc confirmé sur ces points ; <br>\\n<br>\\n<br>Attendu que compte tenu des circonstances de la cause, il convient de faire masse des dépens de première instance et d\\'appel et de condamner la SARL TML FERNANDES à en supporter les 2 / 3 et la SA CAT 1 / 3 ; <br>\\n<br>\\n<br>PAR CES MOTIFS <br>\\n<br>Confirme le jugement rendu le 24 juin 2009 par le Tribunal de Commerce de ROANNE, mais seulement en ce qu\\'il a condamné la SA CAT à payer à la SARL TML FERNANDES la somme de 978, 32 euros au titre des factures des 24 octobre et 30 novembre 2007 et rejeté la demande de dommages et intérêts pour procédure abusive formée par la SA CAT ; <br>\\n<br>Infirme le jugement entrepris dans toutes ses autres dispositions et statuant à nouveau ; <br>\\n<br>Dit que le voiturier TLM FERNANDES n\\'a pas commis de faute lourde et qu\\'en conséquence qu\\'il convient d\\'appliquer la limitation d\\'indemnité de 750 euros prévue au contrat type pour le sinistre survenu le 21 novembre 2007 lors du transport du filtre de la SA CAT ; <br>\\n<br>Constate que la franchise du contrat d\\'assurance MULTITRANS souscrit par le voiturier TLM FERNANDES auprès de la compagnie HELVETIA s\\'élève à 821 euros ; <br>\\n<br>Condamne la SARL TLM FERNANDES à payer à la SA CAT la somme de 750 euros avec intérêts au taux légal à compter du 7 novembre 2008 ; <br>\\n<br>Déboute la SA CAT du surplus de sa demande notamment dirigée contre la compagnie HELVETIA et la SARL TLM FERNANDES de sa demande tendant à être relevée et garantie par la compagnie HELVETIA ; <br>\\n<br>Dit n\\'y avoir lieu de faire application des dispositions de l\\'article 700 du Code de Procédure Civile au profit des parties ; <br>\\n<br>Fait masse des dépens, ceux d\\'appel étant recouvrés conformément aux dispositions de l\\'article 699 du Code de Procédure Civile et condamne la SARL TLM FERNANDES à en supporter les deux tiers et la SA CAT le tiers. <br>\\n<br>\\n<br>LE GREFFIERLE PRÉSIDENT<br>\\n<br>\\n<br>\\n<br>\\n<br>\\n<<<<<<<<<<NEW>>>>>>>>>>\\n<p>\\n<br clear=\"none\">\\n<br clear=\"none\">Ch. civile B <br clear=\"none\">\\n<br clear=\"none\">ARRET du 08 JUIN 2011 <br clear=\"none\">\\n<br clear=\"none\">R. G : 10/ 00679 R-PH <br clear=\"none\">\\n<br clear=\"none\">Décision déférée à la Cour : <br clear=\"none\">jugement du 12 août 2010 <br clear=\"none\">Tribunal de Grande Instance de BASTIA <br clear=\"none\">R. G : 10/ 1109 <br clear=\"none\">\\n<br clear=\"none\">\\nX...\\n<br clear=\"none\">\\n<br clear=\"none\">C/ <br clear=\"none\">\\n<br clear=\"none\">CAISSE PRIMAIRE D\\'ASSURANCE MALADIE DE LA HAUTE-CORSE <br clear=\"none\">Société ELECTRICITE DE FRANCE <br clear=\"none\">GDF SUEZ <br clear=\"none\">\\n<br clear=\"none\">\\n<br clear=\"none\">\\n<br clear=\"none\">\\n<br clear=\"none\">\\n<br clear=\"none\">\\n<br clear=\"none\">\\n<br clear=\"none\">COUR D\\'APPEL DE BASTIA <br clear=\"none\">\\n<br clear=\"none\">CHAMBRE CIVILE <br clear=\"none\">\\n<br clear=\"none\">ARRET DU HUIT JUIN DEUX MILLE ONZE <br clear=\"none\">\\n<br clear=\"none\">\\n<br clear=\"none\">\\n<br clear=\"none\">APPELANT : <br clear=\"none\">\\n<br clear=\"none\">Monsieur Albert X...\\n<br clear=\"none\">\\n...\\n<br clear=\"none\">20217 SAINT FLORENT <br clear=\"none\">\\n<br clear=\"none\">représenté par Me Antoine-Paul ALBERTINI, avoué à la Cour <br clear=\"none\">\\n<br clear=\"none\">ayant pour avocat Me Pasquale VITTORI, avocat au barreau de BASTIA <br clear=\"none\">\\n<br clear=\"none\">(bénéficie d\\'une aide juridictionnelle Totale numéro 2011/ 447 du 17/ 02/ 2011 accordée par le bureau d\\'aide juridictionnelle de BASTIA) <br clear=\"none\">\\n<br clear=\"none\">\\n<br clear=\"none\">INTIMEES : <br clear=\"none\">\\n<br clear=\"none\">CAISSE PRIMAIRE D\\'ASSURANCE MALADIE DE LA HAUTE-CORSE <br clear=\"none\">prise en la personne de son représentant légal <br clear=\"none\">5, avenue Jean Zuccarelli <br clear=\"none\">20406 BASTIA CEDEX 9 <br clear=\"none\">\\n<br clear=\"none\">\\n<br clear=\"none\">Société ELECTRICITE DE FRANCE <br clear=\"none\">prise en la personne de son représentant légal <br clear=\"none\">2 avenue Impératrice Eugénie <br clear=\"none\">BP 406 <br clear=\"none\">20174 AJACCIO CEDEX <br clear=\"none\">\\n<br clear=\"none\">représentée par la SCP René JOBIN Philippe JOBIN, avoués à la Cour <br clear=\"none\">\\n<br clear=\"none\">assistée de Me Jean-Louis LEROY, avocat au barreau de PARIS <br clear=\"none\">\\n<br clear=\"none\">\\n<br clear=\"none\">GDF SUEZ <br clear=\"none\">prise en la personne de son représentant légal en exercice <br clear=\"none\">16-26 rue du Docteur LANCEREAUX <br clear=\"none\">75008 PARIS 08 <br clear=\"none\">\\n<br clear=\"none\">représentée par la SCP René JOBIN Philippe JOBIN, avoués à la Cour <br clear=\"none\">\\n<br clear=\"none\">assistée de Me Jean-Louis LEROY, avocat au barreau de PARIS <br clear=\"none\">\\n<br clear=\"none\">\\n<br clear=\"none\">\\n<br clear=\"none\">\\n<br clear=\"none\">\\n<br clear=\"none\">COMPOSITION DE LA COUR : <br clear=\"none\">\\n<br clear=\"none\">En application des dispositions des articles 786 et 910 du code de procédure civile, l\\'affaire a été débattue à l\\'audience publique du 08 avril 2011, devant Monsieur Philippe HOAREAU, Conseiller, chargé du rapport, les avocats ne s\\'y étant pas opposés. <br clear=\"none\">\\n<br clear=\"none\">Ce magistrat a rendu compte des plaidoiries dans le délibéré de la Cour, composée de : <br clear=\"none\">\\n<br clear=\"none\">Monsieur Jean BRUNET, Président de Chambre <br clear=\"none\">Monsieur Philippe HOAREAU, Conseiller <br clear=\"none\">Madame Marie-Paule ALZEARI, Conseiller <br clear=\"none\">\\n<br clear=\"none\">\\n<br clear=\"none\">GREFFIER LORS DES DEBATS : <br clear=\"none\">\\n<br clear=\"none\">Madame Marie-Jeanne ORSINI. <br clear=\"none\">\\n<br clear=\"none\">Les parties ont été avisées que le prononcé public de la décision aura lieu par mise à disposition au greffe le 08 juin 2011 <br clear=\"none\">\\n<br clear=\"none\">\\n<br clear=\"none\">ARRET : <br clear=\"none\">\\n<br clear=\"none\">Réputé contradictoire, <br clear=\"none\">\\n<br clear=\"none\">Prononcé publiquement par mise à disposition au greffe de la Cour, les parties en ayant été préalablement avisées dans les conditions prévues au deuxième alinéa de l\\'article 450 du code de procédure civile. <br clear=\"none\">\\n<br clear=\"none\">Signé par Monsieur Philippe HOAREAU, Conseiller, le président de Chambre empêché, et par Madame Marie-Jeanne ORSINI, Greffier auquel la minute de la décision a été remise par le magistrat signataire. <br clear=\"none\">\\n<br clear=\"none\">\\n<br clear=\"none\">* <br clear=\"none\">\\n<br clear=\"none\">* * <br clear=\"none\">Vu le jugement du juge de l\\'exécution du Tribunal de grande instance de BASTIA du 12 août 2010 qui a :<br clear=\"none\">\\n<br clear=\"none\">- liquidé pour la période écoulée à la somme de 5. 000 euros l\\'astreinte ordonnée par décision du 9 octobre 2008,<br clear=\"none\">\\n<br clear=\"none\">- condamné la société ELECTRICITE DE FRANCE à payer cette somme à Monsieur Albert X...,<br clear=\"none\">\\n<br clear=\"none\">- débouté les parties du surplus de leurs demandes,<br clear=\"none\">\\n<br clear=\"none\">- prononcé la mise hors de cause de la CAISSE PRIMAIRE D\\'ASSURANCE MALADIE de HAUTE-CORSE,<br clear=\"none\">\\n<br clear=\"none\">- condamné la société ELECTRICITE DE FRANCE à payer à Monsieur X...la somme de 1. 200 euros sur le fondement de l\\'article 700 du code de procédure civile et aux entiers dépens. <br clear=\"none\">\\n<br clear=\"none\">\\n<br clear=\"none\">Vu la déclaration d\\'appel déposée le 1er septembre 2010 pour Monsieur Albert X.... <br clear=\"none\">\\n<br clear=\"none\">\\n<br clear=\"none\">Vu l\\'assignation délivrée à personne le 24 février 2011 à la CAISSE PRIMAIRE D\\'ASSURANCE MALADIE de la HAUTE-CORSE à la requête de Monsieur Albert X.... <br clear=\"none\">\\n<br clear=\"none\">\\n<br clear=\"none\">Vu les dernières conclusions de Monsieur X...du 5 avril 2011 aux fins de voir :<br clear=\"none\">\\n<br clear=\"none\">- avant dire droit ordonner à EDF-GDF de produire aux débats : <br clear=\"none\">\\n<br clear=\"none\">les grilles d\\'avancement au choix des agents EDF, <br clear=\"none\">\\n<br clear=\"none\">le récapitulatif de carrière de Monsieur X..., <br clear=\"none\">\\n<br clear=\"none\">les accords relatifs aux avancements au choix de 1999 à 2010, <br clear=\"none\">\\n<br clear=\"none\">les accords relatifs aux primes des agents EDF depuis 1999,<br clear=\"none\">\\n<br clear=\"none\">- au principal : <br clear=\"none\">\\n<br clear=\"none\">infirmer le jugement du 12 août 2010, <br clear=\"none\">\\n<br clear=\"none\">liquider l\\'astreinte prononcée par le juge de l\\'exécution à la somme de 91. 000 euros pour la période du 24 octobre 2008 au 24 avril 2009, <br clear=\"none\">\\n<br clear=\"none\">condamner EDF et GDF à exécuter les dispositions de l\\'arrêt rendu par la chambre sociale de la Cour d\\'appel de BASTIA du 9 mars 2004 et à ce titre ordonner une nouvelle astreinte de 20. 000 euros par jour de retard jusqu\\'à l\\'exécution de l\\'arrêt du 9 mars 2004 et du jugement du Tribunal des affaires de sécurité sociale du 25 mars 2002, <br clear=\"none\">\\n<br clear=\"none\">constater que l\\'exécution des décisions susvisées a pour conséquence d\\'invalider les décisions du médecin conseil EDF-GDF rendues à ce jour ainsi que les décisions prises par EDF-GDF depuis le 1er octobre 1999 en matière de placement en maladie, longue maladie, invalidité et saisine de la commission de discipline, <br clear=\"none\">\\n<br clear=\"none\">condamner EDF-GDF au paiement d\\'une somme de 2. 000 euros sur le fondement de l\\'article 700 du code de procédure civile et aux entiers dépens. <br clear=\"none\">\\n<br clear=\"none\">Vu les dernières conclusions des sociétés EDF et GDF SUEZ du 15 mars 2011 aux fins, sur l\\'appel principal de Monsieur X..., de le juger mal fondé et de débouter l\\'appelant de toutes ses demandes, sur l\\'appel incident des sociétés EDF et GDF SUEZ, d\\'infirmer le jugement entrepris en ce qu\\'il a liquidé l\\'astreinte à 5. 000 euros et condamné EDF et GDF SUEZ à payer 1. 200 euros en application de l\\'article 700 du code de procédure civile et de voir condamner Monsieur X...à payer à EDF et GDF SUEZ la somme de 3. 000 euros sur le fondement de l\\'article 700 du code de procédure civile et aux entiers dépens. <br clear=\"none\">\\n<br clear=\"none\">\\n<br clear=\"none\">Vu l\\'ordonnance de clôture du 6 avril 2011. <br clear=\"none\">\\n<br clear=\"none\">\\n<br clear=\"none\">* <br clear=\"none\">\\n<br clear=\"none\">* * <br clear=\"none\">\\n<br clear=\"none\">EXPOSE DU LITIGE : <br clear=\"none\">\\n<br clear=\"none\">\\n<br clear=\"none\">Monsieur Albert X..., employé d\\'EDF, a été victime d\\'un accident du travail le 22 juillet 1998 et a développé une pathologie psychiatrique. <br clear=\"none\">\\n<br clear=\"none\">\\n<br clear=\"none\">Il a saisi le Tribunal des affaires de sécurité sociale de la Haute-Corse qui, par jugement du 25 mars 2002, a considéré que cette pathologie était une suite de l\\'accident et a décidé qu\\'il devait être soumis au régime des accidents du travail postérieurement au 30 septembre 1999 avec toutes conséquences de droit. <br clear=\"none\">\\n<br clear=\"none\">\\n<br clear=\"none\">Par arrêt du 9 mars 2004, la Cour d\\'appel de BASTIA a confirmé le jugement du 25 mars 2002 et, y ajoutant, a constaté l\\'intervention de la CAISSE PRIMAIRE D\\'ASSURANCE MALADIE de la HAUTE-CORSE et dit que le jugement lui était dorénavant opposable. <br clear=\"none\">\\n<br clear=\"none\">\\n<br clear=\"none\">Monsieur X...ayant été informé par lettre du 25 mai 2004 qu\\'il était placé en position de rechute de longue maladie, a saisi le juge de l\\'exécution qui par jugement du 9 octobre 2008 a assorti l\\'obligation faite à EDF-GDF et à la CPAM résultant du jugement du 25 mars 2002 et de l\\'arrêt du 9 mars 2004 d\\'une astreinte de 500 euros par jour de retard à l\\'expiration d\\'un délai de 15 jours suivant la notification du jugement et pendant six mois, à l\\'issue de quoi la liquidation pourra être ordonnée, de même que le cas échéant, la fixation d\\'une nouvelle astreinte. <br clear=\"none\">\\n<br clear=\"none\">\\n<br clear=\"none\">Par jugement du 12 août 2010, le juge de l\\'exécution de BASTIA a constaté que les sociétés EDF-GDF avaient procédé, en exécution des décisions de justice, à un rappel de salaires sur la paie de février 2009 alors que le point de départ du calcul de l\\'astreinte pouvait être fixé au 25 octobre 2008 et considéré que le caractère tardif de l\\'exécution justifiait une liquidation de l\\'astreinte à hauteur de la somme de 5. 000 euros. Le juge de l\\'exécution a en outre jugé que les autres demandes de Monsieur X...n\\'entraient pas dans la compétence du juge de l\\'exécution et a condamné EDF-GDF à verser à Monsieur X...la somme de 1. 200 euros sur le fondement de l\\'article 700 du code de procédure civile. <br clear=\"none\">\\n<br clear=\"none\">\\n<br clear=\"none\">Devant la Cour, Monsieur X...soutient qu\\'EDF-GDF n\\'a jamais exécuté les décisions judiciaires antérieures et, qu\\'en accident de travail depuis plus de dix ans, il n\\'a jamais vu fixer son taux d\\'incapacité permanente et n\\'a jamais bénéficié d\\'une mise en invalidité. <br clear=\"none\">\\n<br clear=\"none\">\\n<br clear=\"none\">Il critique la procédure disciplinaire mise en oeuvre contre lui de même que les décisions du médecin conseil d\\'EDF-GDF et l\\'absence de versement des primes de transport, de rendement et d\\'intéressement et soutient qu\\'une nouvelle astreinte est nécessaire pour contraindre EDF-GDF à exécuter intégralement l\\'arrêt du 9 mars 2004. Il demande la production des grilles d\\'avancement au choix des agents EDF et les accords salariaux intervenus depuis 1999 ainsi qu\\'un récapitulatif de sa carrière. <br clear=\"none\">\\n<br clear=\"none\">\\n<br clear=\"none\">Les sociétés EDF et GDF SUEZ font valoir au contraire que le jugement du 25 mars 2002 et l\\'arrêt du 9 mars 2004 ont été intégralement et promptement exécutés, que, par lettre recommandée du 5 janvier 2009, les décisions de mise en longue maladie et en instance d\\'invalidité ont été rapportées et que les rappels de salaire ont été joints à la paie de février 2009. <br clear=\"none\">\\n<br clear=\"none\">\\n<br clear=\"none\">Elles invoquent l\\'article 36 de la loi du 9 juillet 1991 pour demander à la Cour de juger qu\\'il n\\'y a pas lieu de liquider l\\'astreinte fixée par la décision du 9 octobre 2008 et l\\'article L 213-6 du code de l\\'organisation judiciaire pour soutenir que le juge de l\\'exécution n\\'est pas compétent pour apprécier les décisions de l\\'employeur par ailleurs justifiées par la carence de Monsieur X...à fournir un certificat médical à partir du 16 septembre 2009. <br clear=\"none\">\\n<br clear=\"none\">\\n<br clear=\"none\">Elles indiquent avoir produit les grilles de rémunération qui démontrent que Monsieur X...a été rempli de ses droits et considèrent que les autres pièces dont il demande communication sont sans rapport avec le litige soumis à la Cour. <br clear=\"none\">\\n<br clear=\"none\">\\n<br clear=\"none\">Elles se réfèrent à l\\'article 22 paragraphe 2 du statut qui prévoit qu\\'un agent victime d\\'un accident du travail conserve son traitement intégral jusqu\\'à la consolidation de ses blessures. <br clear=\"none\">\\n<br clear=\"none\">\\n<br clear=\"none\">\\n<br clear=\"none\">\\n<br clear=\"none\">* <br clear=\"none\">\\n<br clear=\"none\">* * <br clear=\"none\">\\n<br clear=\"none\">MOTIFS DE LA DECISION : <br clear=\"none\">\\n<br clear=\"none\">\\n<br clear=\"none\">Le jugement du Tribunal des affaires de sécurité sociale du 25 mars 2002 a dit que Monsieur X...est soumis au régime des accidents du travail postérieurement au 30 septembre 1999 avec \" toutes conséquences de droit \". <br clear=\"none\">\\n<br clear=\"none\">\\n<br clear=\"none\">L\\'arrêt de la Cour d\\'appel de BASTIA du 9 mars 2004 a confirmé cette décision et le jugement du juge de l\\'exécution du 9 octobre 2008 a assorti d\\'une astreinte l\\'arrêt confirmatif. <br clear=\"none\">\\n<br clear=\"none\">\\n<br clear=\"none\">En procédant par lettre du 5 janvier 2009 à l\\'information de Monsieur X...de ce que les décisions prises en matière de mise en position de longue maladie ou en instance d\\'invalidité étaient annulées et en lui indiquant qu\\'il appartenait à la CAISSE PRIMAIRE D\\'ASSURANCE MALADIE de HAUTE-CORSE et à la CNIEG, pour la rechute d\\'accident du travail ou l\\'invalidité, de lui notifier leurs décisions rectificatives, la société EDF a exécuté une partie de ses obligations découlant de l\\'arrêt du 9 mars 2004. <br clear=\"none\">\\n<br clear=\"none\">\\n<br clear=\"none\">En versant avec la paie de février 2009 les sommes dues après réexamen de la situation du salarié, y compris au titre des suppléments transports et des gratifications de fin d\\'année, les sociétés EDF-GDF ont exécuté l\\'ensemble des condamnations découlant de l\\'arrêt du 9 mars 2004. La fiche de calcul récapitulative établie le 29 janvier 2009 et portée à la connaissance de Monsieur X...lui permettait par ailleurs de vérifier qu\\'il était rempli de ses droits. <br clear=\"none\">\\n<br clear=\"none\">\\n<br clear=\"none\">Le règlement a été opéré le 27 février 2009 alors que le point de départ de l\\'astreinte était, selon le jugement du 9 octobre 2008, l\\'expiration du délai de 15 jours à compter de la notification du jugement. <br clear=\"none\">\\n<br clear=\"none\">\\n<br clear=\"none\">L\\'employeur a donc respecté avec retard l\\'obligation mise à sa charge qui supposait l\\'établissement d\\'un décompte récapitulatif qui n\\'excédait pas les compétences d\\'une entreprise dotée de services comptables structurés. <br clear=\"none\">\\n<br clear=\"none\">\\n<br clear=\"none\">La décision du juge de l\\'exécution, conforme aux dispositions de l\\'article 36 alinéa premier de la loi du 9 juillet 1991, sera en conséquence confirmée. <br clear=\"none\">\\n<br clear=\"none\">L\\'absence de fixation du taux d\\'incapacité permanente de Monsieur X...et l\\'absence de mise en invalidité ne constituent pas une violation des dispositions de l\\'arrêt du 9 mars 2004 et l\\'appelant qui pouvait saisir la juridiction compétente est en conséquence mal fondé à voir ordonner une nouvelle astreinte et à obtenir la communication de pièces sans rapport avec le litige relevant de la compétence du juge de l\\'exécution, dont la décision sera confirmée en toutes ses dispositions. Monsieur X...sera débouté du surplus de ses prétentions. <br clear=\"none\">\\n<br clear=\"none\">\\n<br clear=\"none\">L\\'équité ne commande pas de prononcer une nouvelle condamnation en application de l\\'article 700 du code de procédure civile et l\\'appelant supportera les dépens de l\\'instance d\\'appel. <br clear=\"none\">\\n<br clear=\"none\">\\n<br clear=\"none\">* <br clear=\"none\">\\n<br clear=\"none\">* * <br clear=\"none\">\\n<br clear=\"none\">\\n<br clear=\"none\">PAR CES MOTIFS, <br clear=\"none\">\\n<br clear=\"none\">LA COUR : <br clear=\"none\">\\n<br clear=\"none\">\\n<br clear=\"none\">Confirme en toutes ses dispositions le jugement du juge de l\\'exécution du Tribunal de grande instance de BASTIA du 12 août 2010, <br clear=\"none\">\\n<br clear=\"none\">Y ajoutant, <br clear=\"none\">\\n<br clear=\"none\">Rejette l\\'ensemble des prétentions de Monsieur Albert X..., <br clear=\"none\">\\n<br clear=\"none\">Dit n\\'y avoir lieu à nouvelle condamnation sur le fondement de l\\'article 700 du code de procédure civile, <br clear=\"none\">\\n<br clear=\"none\">Met les dépens de l\\'instance d\\'appel à la charge de Monsieur Albert X.... <br clear=\"none\">\\n<br clear=\"none\">\\n<br clear=\"none\">\\n<br clear=\"none\">LE GREFFIER LE PRESIDENT</p>\\n<<<<<<<<<<NEW>>>>>>>>>>\\n<p>\\n<br clear=\"none\">R. G : 09/ 01472 </p>\\n<p>\\n<br clear=\"none\">décision du <br clear=\"none\">Tribunal de Grande Instance de LYON </p>\\n<p>RG : 08/ 12649 <br clear=\"none\">du 18 décembre 2008 </p>\\n<p>\\n<br clear=\"none\">\\nX... \\n</p>\\n<p>C/ </p>\\n<p>\\nA...\\n</p>\\n<br>\\n<p>COUR D\\'APPEL DE LYON </p>\\n<p>DEUXIEME CHAMBRE CIVILE </p>\\n<p>ARRET DU 04 Janvier 2010 </p>\\n<br>\\n<p>APPELANT : </p>\\n<p>Monsieur Luciano X... \\n<br clear=\"none\">né le 11 Décembre 1958 à SANT-ANTIOCO (ITALIE)<br clear=\"none\">\\n... \\n<br clear=\"none\">69120 VAULX-EN-VELIN </p>\\n<p>représenté par Me Annie GUILLAUME, avoué à la Cour </p>\\n<p>assisté de Me Anne LEGUIL-DUQUESNE, avocat au barreau de LYON </p>\\n<p>\\n<br clear=\"none\">INTIMEE : </p>\\n<p>Madame Nicole Isabelle A... épouse X... \\n<br clear=\"none\">née le 14 Avril 1964 à LYON (69002)<br clear=\"none\">\\n... \\n<br clear=\"none\">Bâtiment D 19 <br clear=\"none\">69120 VAULX-EN-VELIN </p>\\n<p>représentée par la SCP LIGIER DE MAUROY-LIGIER, avoués à la Cour </p>\\n<p>assistée de Me Anne-Françoise PERROTTO, avocat au barreau de LYON </p>\\n<p>(bénéficie d\\'une aide juridictionnelle Totale numéro 2009/ 011609 du 11/ 06/ 2009 accordée par le bureau d\\'aide juridictionnelle de LYON) </p>\\n<br>\\n<p>L\\'instruction a été clôturée le 23 Octobre 2009 </p>\\n<p>L\\'audience de plaidoiries a eu lieu le 04 Novembre 2009 </p>\\n<p>L\\'affaire a été mise en délibéré au 04 Janvier 2010 </p>\\n<br>\\n<p>La Deuxième Chambre de la Cour d\\'Appel de LYON, </p>\\n<p>composée lors des débats et du délibéré de : </p>\\n<p>Monsieur Jean-Charles GOUILHERS, président, </p>\\n<p>Madame Marie LACROIX, conseillère, </p>\\n<p>Madame Françoise CONTAT, conseillère, </p>\\n<p>Madame Christine SENTIS, greffière, pendant les débats en audience non publique uniquement. </p>\\n<p>A l\\'audience, Monsieur Jean-Charles GOUILHERS a fait le rapport conformément à l\\'article 785 du Code de Procédure Civile. </p>\\n<p>Arrêt : contradictoire </p>\\n<p>prononcé en Chambre du Conseil par mise à disposition de l\\'arrêt au Greffe de la Cour d\\'Appel, les parties ayant été préalablement avisées dans les conditions prévues au deuxième alinéa de l\\'article 450 du Code de Procédure Civile. </p>\\n<p>Signé par Monsieur Jean-Charles GOUILHERS, président de la Deuxième Chambre et par Madame Christine SENTIS, greffière, à laquelle la minute de la décision a été remise par le magistrat signataire </p>\\n<br>\\n<p>EXPOSE DU LITIGE </p>\\n<p>\\n<br clear=\"none\">Par ordonnance du 18 décembre 2008 le Juge aux Affaires Familiales de Lyon a constaté la non-conciliation entre les époux Nicole A... et Luciano X..., <br clear=\"none\">a attribué au mari la jouissance du domicile conjugal à titre onéreux, <br clear=\"none\">a fixé à 890 euros la pension alimentaire due par M. X... à Mme A... au titre du devoir de secours, <br clear=\"none\">a désigné M. X... pour régler les échéances du crédit immobilier, <br clear=\"none\">a constaté que les parents exerçaient en commun l\\'autorité parentale sur les enfants Julien, né le 9 novembre 1991 et Emmy, née le 20 juillet 2000, <br clear=\"none\">a fixé la résidence de Julien chez son père et celle d\\'Emmy chez sa mère, <br clear=\"none\">a organisé le droit de visite et d\\'hébergement du père sur Emmy une fin de semaine sur deux et pendant la moitié des vacances scolaires, <br clear=\"none\">a dit que la mère exercerait à l\\'amiable son droit de visite sur Julien, <br clear=\"none\">a fixé à 580 euros la pension alimentaire due par M. X... à Mme A... pour l\\'enfant Emmy. </p>\\n<p>M. X... a relevé appel de cette décision le 5 mars 2009. </p>\\n<p>Par conclusions notifiées le 14 septembre 2009 auxquelles il convient de se référer, il sollicite que la pension alimentaire pour son épouse soit limitée à 500 euros et celle pour Emmy à 400 euros, rétroactivement à la date du 1er janvier 2009. </p>\\n<p>Il demande la condamnation de Mme A... aux dépens avec distraction au profit de son avoué. </p>\\n<p>Par conclusions notifiées le 22 octobre 2009 auxquelles il convient de se référer, Mme A... sollicite la confirmation de la décision entreprise. </p>\\n<p>À titre subsidiaire, si la cour devait réformer à tout le moins partiellement la décision entreprise, elle s\\'oppose à la réduction rétroactive au 1er janvier 2009. </p>\\n<p>Elle demande la condamnation de M. X... aux dépens avec distraction au profit de son avoué. </p>\\n<p>L\\'ordonnance de clôture est intervenue le 23 octobre 2009. </p>\\n<p>DISCUSSION </p>\\n<p>Pour fixer à 890 euros la pension alimentaire due pour l\\'épouse et à 580 euros la pension alimentaire due pour Emmy le premier juge a pris en compte un revenu de M. X... de 4144 euros par mois (revenu moyen 2007), le règlement d\\'un crédit immobilier pour 739 euros par mois et un revenu pour Mme A... de 648 euros par mois au titre de l\\'allocation parent isolé et un loyer de 72 euros, après déduction de l\\'APL. </p>\\n<p>Le revenu moyen de M. X... en 2008 s\\'est élevé à 4173 euros. <br clear=\"none\">Mme A... a perdu le bénéfice de l\\'allocation de parent isolé dès lors que M. X... lui verse des pensions alimentaires. En réalité il ne verse que 900 euros de pension alimentaire, conformément à son offre, et non les 1470 euros fixés par le premier juge. </p>\\n<p>Or très peu de temps après la décision entreprise M. X... a connu :<br clear=\"none\">-- d\\'une part une augmentation de ses charges puisque l\\'aînée, Marina, est venu s\\'installer chez lui à compter du 21 février 2009, alternant des périodes de chômage et de petits CDD, ne lui permettant pas d\\'être autonome financièrement, tandis qu\\'il continue d\\'héberger Julien, qui perçoit 700 euros par mois au titre d\\'un apprentissage, <br clear=\"none\">-- et d\\'autre part une réduction de ses ressources puisqu\\'il a été licencié à compter du 28 juillet 2009 et bénéficie d\\'une convention de reclassement pour une durée de 12 mois moyennant 131,08 euros par jour pendant huit mois, soit 3932 euros, puis 114,05 euros par jour pendant les quatre mois suivants, soit 3421,50 euros par mois. </p>\\n<p>M. X... justifie régler divers crédits immobiliers respectivement pour 608,84 euros et 118,59 euros outre le 20,40 euros pour le prêt à 1 %, soit un total de 747,83 euros (mais à charge de récompense de la part de Mme A...), 389,58 euros pour un prêt voiture, 117,54 euros pour un crédit à la consommation. </p>\\n<p>La dernière échéance du crédit télévision de 60,52 euros par mois a été réglée en octobre 2009. </p>\\n<p>Il règle les impôts sur le revenu, les impôts fonciers, la taxe d\\'habitation et la redevance pour un total de 2.759 euros par an, soit 229,92 euros par mois. </p>\\n<p>L\\'importance de ses charges, mais surtout la prise en compte de ces deux nouveaux éléments relatifs à une augmentation de ses charges et à une réduction de ses revenus justifient que la pension alimentaire pour son épouse soit fixée à 700 euros et celle pour Emmy à 500 euros. </p>\\n<p>Pour tenir compte des dates de modification de sa situation (arrivée de sa fille Marina à son domicile fin février 2009, puis licenciement fin juillet 2009) il y a lieu de faire rétroagir la réduction de la pension alimentaire pour Emmy au 1er mars 2009, et faire rétroagir la réduction de la pension alimentaire pour l\\'épouse au 1er août 2009. </p>\\n<p>PAR CES MOTIFS </p>\\n<p>La cour, </p>\\n<p>Après débats en chambre du conseil, après en avoir délibéré, statuant contradictoirement, hors la présence du public, et en dernier ressort, </p>\\n<p>Réforme la décision entreprise en ce qui concerne la pension alimentaire pour l\\'épouse et pour Emmy, </p>\\n<p>Statuant à nouveau, </p>\\n<p>Fixe à 700 euros la pension alimentaire due par M. X... à son épouse pour elle-même, à compter du 1er août 2009, </p>\\n<p>Fixe à 500 euros la pension alimentaire due par M. X... à Mme A... pour l\\'enfant Emmy, à compter du 1er mars 2009, </p>\\n<p>Confirme la décision entreprise en toutes ses autres dispositions, </p>\\n<p>Dit que chacune des parties conservera la charge de ses dépens, </p>\\n<p>Dit n\\'y avoir lieu à distraction des dépens. </p>\\n<p>\\n<br clear=\"none\">LE GREFFIER, LE PRÉSIDENT,</p>\\n<p>C. SENTIS, J.-C. GOUILHERS</p>\\n<<<<<<<<<<NEW>>>>>>>>>>\\n<br clear=\"none\">\\n<br clear=\"none\">\\n<p>PREMIÈRE CHAMBRE - SECTION CIVILE ET COMMERCIALE<br clear=\"none\">ARRÊT DU 13 DECEMBRE 2007 </p>\\n<p>APPELANTE :</p>\\n<p>LA SARL HESNAUX<br clear=\"none\">Centre Commercial \"Le Tuilot\"<br clear=\"none\">61400 MORTAGNE AU PERCHE<br clear=\"none\">prise en la personne de son représentant légal </p>\\n<p>représentée par la SCP MOSQUET MIALON D\\'OLIVEIRA LECONTE, avoués<br clear=\"none\">assistée de la SCP GUYOT GUYOT-GARNIER GARNIER LOZAC\\'HMEUR BOIS DOHOLLOU PERSON OUET ARION ARDISSON, avocats au barreau de RENNES</p>\\n<p>INTIMEE :</p>\\n<p>LA SA SOCIETE DE DISTRIBUTION DU PERCHE \"SODIPER\"<br clear=\"none\">\"Le Tuilot\"<br clear=\"none\">61400 MORTAGNE AU PERCHE<br clear=\"none\">prise en la personne de son représentant légal </p>\\n<p>représentée par la SCP GRAMMAGNAC-YGOUF BALAVOINE LEVASSEUR, avoués<br clear=\"none\">assistée de Me Annie KERVAON SOYER, avocat au barreau D\\'ALENCON</p>\\n<p>COMPOSITION DE LA COUR LORS DES DÉBATS ET DU DÉLIBÉRÉ :</p>\\n<p>Madame HOLMAN, Conseiller, faisant fonction de Président, rédacteur,<br clear=\"none\">Madame BOISSEL DOMBREVAL, Conseiller,<br clear=\"none\">Mme VALLANSAN, Conseiller,</p>\\n<p>DÉBATS : A l\\'audience publique du 08 Novembre 2007<br clear=\"none\">\\n<br clear=\"none\">GREFFIER : Mme LE GALL, greffier</p>\\n<p>ARRÊT prononcé publiquement par mise à disposition au greffe le 13 Décembre 2007 et signé par Madame HOLMAN, Conseiller, faisant fonction de Président, et Mme LE GALL, Greffier</p>\\n<p>\\n<br clear=\"none\">La SARL HESNAUX a interjeté appel du jugement rendu le 28 juin 2004 par le Tribunal de commerce d\\'ALENCON dans un litige l\\'opposant à la SA SODIPER.</p>\\n<p>* *<br clear=\"none\">*</p>\\n<p>Aux termes d\\'un acte authentique du 7 juillet 1993, la SARL LE TUILOT représentée par son gérant M. Guy Z..., a donné à bail commercial à la SA SODIPER représentée par son Président Directeur Général Mme Guy Z... des locaux situés dans une galerie marchande à MORTAGNE AU PERCHE, dans lesquels est exploité un fonds de commerce à l\\'enseigne \"Intermarché\".</p>\\n<p>Aux termes d\\'un acte authentique des 18 juillet 1994 et 8 novembre 1996, la SARL LE TUILOT représentée de même par son gérant a donné à bail commercial à la SA VAGANYLE d\\'autres locaux situés dans la même galerie, dans lesquels a été exploité un fonds de commerce d\\'électroménager et équipement du logement à l\\'enseigne \"Logimarché\".</p>\\n<p>Par acte sous seing privé du 1er août 1994, la société VAGANYLE a cédé son fonds de commerce à la société HESNAUX, que celle-ci a désormais exploité à l\\'enseigne \"Gitem\".</p>\\n<p>M. Z... est intervenu à l\\'acte \"au nom et pour le compte de la société VAGANYLE, dûment habilité\" ainsi qu\\'en qualité de gérant de la SARL LE TUILOT, bailleur agréant la cession.</p>\\n<p>Cet acte comportait une clause de non-concurrence ainsi libellée :</p>\\n<p>\"M. Guy Z... intervenant ici au nom et pour le compte de la SA SODIPER s\\'interdit expressément de développer de façon importante et concurrentielle les rayons actuellement exploités dans le magasin Intermarché à l\\'adresse des lieux loués relatifs à la vente de matériels Hi-Fi, électroménager télévision, magnétoscope, petit électroménager, literie, petit meuble, cassettes vierges ou enregistrées, audio-vidéo, disques compacts, photographie et accessoires.</p>\\n<p>Cette interdiction de développer ces rayons ne saurait en aucun cas conduire à empêcher la société de promouvoir lesdits articles dans le cadre de campagnes promotionnelles liées à son enseigne\".</p>\\n<p>Courant mars 2002, la société SODIPER a procédé à un agrandissement de sa surface de vente d\\'environ 1.000 m².</p>\\n<p>Considérant que depuis cette date la société SODIPER pratiquait une politique commerciale qui constituait une violation de cette clause, par acte du 8 octobre 2002, la société HESNAUX l\\'a fait citer devant le Tribunal afin d\\'obtenir paiement de la somme de 283.975 € à titre de dommages et intérêts en réparation du préjudice résultant de la violation de la clause de non concurrence, de voir supprimer le rayon \"espace culturel\" et réduire les rayons \"ménage-repassage\", \"petit électroménager\" et \"cadres\", interdire à la société SODIPER d\\'entreposer des produits concurrents en contravention avec la clause, et ce sous astreinte de 643 € par jour de retard, outre paiement d\\'une somme de 2.500 € en application de l\\'article 700 du nouveau code de procédure civile.</p>\\n<p>Par le jugement déféré, le Tribunal a débouté la société HESNAUX de ses demandes et l\\'a condamnée à payer à la société SODIPER la somme de 1.000 € en application de l\\'article 700 du nouveau code de procédure civile.</p>\\n<p>Par ordonnance du conseiller de la mise en état du 19 juillet 2005, une expertise comptable a été ordonnée.</p>\\n<p>Le rapport d\\'expertise a été déposé le 11 avril 2007.</p>\\n<p>* *<br clear=\"none\">*</p>\\n<p>Vu les écritures signifiées :</p>\\n<p>* le 6 novembre 2007 par la société HESNAUX qui conclut à l\\'infirmation du jugement et au bénéfice de son assignation devant le Tribunal, les sommes réclamées étant cependant portées à 834.407 € au titre des dommages et intérêts, 6.000 € au titre de l\\'article 700 du nouveau code de procédure civile.</p>\\n<p>* le 7 novembre 2007 par la société SODIPER qui conclut à la confirmation du jugement et demande paiement des sommes complémentaires de 1.000 € avec intérêts à compter du 28 juin 2004, 5.000 € à titre de dommages et intérêts pour procédure abusive, 6.000 € en application de l\\'article 700 du nouveau code de procédure civile.</p>\\n<p>* *<br clear=\"none\">*</p>\\n<p>I Sur l\\'opposabilité de la clause</p>\\n<p>La société SODIPER soutient que la clause ne lui est pas opposable, au motif d\\'une part que la société SODIPER n\\'était pas partie à l\\'acte de cession d\\'autre part que M. Z... ne pouvait, en l\\'absence de délibération préalable de la société, engager celle-ci.</p>\\n<p>Cependant, aux termes de l\\'article L 225-56 du code des sociétés, le directeur général dispose à l\\'égard des tiers de tous les pouvoirs conférés au président du conseil d\\'administration.</p>\\n<p>En l\\'espèce il résulte de l\\'extrait Kbis produit que si le Président Directeur Général de la société SODIPER est Mme Z..., M. Z... y exerce les fonctions de directeur général.</p>\\n<p>Par ailleurs, si la société SODIPER n\\'était pas partie à l\\'intégralité de l\\'acte de cession, les termes de cet acte ci-dessus précisés démontre qu\\'elle est spécifiquement intervenue pour ratifier la clause litigieuse, qui a été paraphée en marge par M. Z... ès qualités.</p>\\n<p>\\n<br clear=\"none\">En conséquence la clause est opposable à la société SODIPER et le moyen de ce chef sera rejeté.</p>\\n<p>II Sur la validité de la clause</p>\\n<p>La clause de non-concurrence n\\'est valable que s\\'il est constaté par le juge une proportionnalité entre la protection des intérêts légitimes de l\\'entreprise bénéficiaire de la clause et les contraintes imposées au débiteur de la non-concurrence.</p>\\n<p>L\\'intérêt légitime se définit comme la protection de la clientèle et des éléments attractifs de la clientèle. Il suppose que le créancier et le débiteur de la non concurrence soient en situation de concurrence.</p>\\n<p>L\\'appréciation des intérêts légitimes se fait par rapport à l\\'activité réelle de l\\'entreprise et non par rapport à sa définition statutaire.</p>\\n<p>En l\\'espèce, la société SODIPER soutient que la clause est nulle au motif qu\\'elle n\\'est pas limitée dans le temps, et sollicite qu\\'elle soit \"fixée à cinq ans\", par référence à la durée de la clause de non rétablissement incluse dans le même acte, relative au vendeur.</p>\\n<p>Cependant, les écrits contractuels établissent que la commune intention des parties était de permettre à la société HESNAUX de prospérer harmonieusement avec le supermarché et de bénéficier de l\\'afflux de la clientèle drainée par celui-ci, le supermarché profitant réciproquement de la spécificité du commerce exercé par la société HESNAUX, créateur, avec les autres commerces variés de la galerie, d\\'animation dans le centre, l\\'ensemble étant économiquement profitable à tous les commerçants, et ce conformément à la pratique en usage dans les galeries commerciales similaires, afin d\\x91éviter que le supermarché en situation de position dominante, disposant de puissants supports publicitaires, de surfaces étendues et de possibilités d\\'approvisionnement, tant en quantité qu\\'en prix, sans commune mesure avec les autres commerces, -tous éléments que ceux-ci seraient incapables de combattre économiquement-, ne détourne, par l\\'extension d\\'activités pour lui annexes, la clientèle à son profit, alors que ces activités représentent pour la société HESNAUX, son coeur de fonds de commerce.</p>\\n<p>Néanmoins, la clause litigieuse ne prohibe pas toute concurrence, elle l\\'a limitée seulement puisqu\\'en dehors des campagnes promotionnelles la société SODIPER peut continuer à vendre les produits énumérés et à développer ces rayons, ce qui inclut la possibilité de les modifier, sous la seule condition que ce ne soit pas \"de façon importante et concurrentielle\", et que dans le cadre d\\'une campagne promotionnelle elle peut mettre en vente tous produits concurrents sans limitation de quantité.</p>\\n<p>S\\'il est exact qu\\'à l\\'égard du vendeur, l\\'interdiction était limitée à cinq ans, l\\'objet de la clause de non rétablissement était totalement différent puisque celle-ci imposait une interdiction totale durant cette période et que les activités interdites constituaient également le \"coeur de vente\".</p>\\n<p>En outre, le vendeur et l\\'acheteur se concurrençaient à armes égales puisqu\\'ils se situaient dans une catégorie économique similaire, ce qui n\\'est pas le cas de la société SODIPER dont la situation exorbitante ci-dessus décrite perdure sans limitation de durée.</p>\\n<p>Enfin, la société SODIPER, professionnelle en situation de dominance économique, qui est intervenue à l\\'acte de cession aux seules fins de parapher la clause litigieuse n\\'a pu se méprendre sur le sens et la portée de celle-ci et se serait indubitablement abstenue de toute intervention si elle avait considéré que l\\'insertion d\\'une telle cause était disproportionnée.</p>\\n<p>Au vu de l\\'ensemble de ces éléments, il doit être considéré qu\\'il existe une proportionnalité entre les intérêts légitimes de la société HESNAUX, bénéficiaire de la clause, et les contraintes imposées à la société SODIPER, et en conséquence que la clause litigieuse est valable.</p>\\n<p>III Sur la violation de la clause</p>\\n<p>Aux termes de l\\'article 1134 du code civil, les contrats doivent être exécutés de bonne foi et pour l\\'interprétation des conventions le juge doit rechercher la commune intention des parties.</p>\\n<p>Par ailleurs, chaque cocontractant est tenu d\\'une obligation de loyauté dans l\\'exécution des clauses contractuelles.</p>\\n<p>Enfin, une clause de non concurrence doit s\\'interpréter restrictivement.</p>\\n<p>En l\\'espèce, la société SODIPER soutient que la clause n\\'incluant pas la prise en compte des évolutions technologiques, le produit dvd, dont la commercialisation est postérieure à 1994, en est exclu.</p>\\n<p>Cependant, il doit être considéré que la commune intention des parties était d\\'identifier des familles de marchandises, en ce inclus les produits dits \"culturels\", ainsi précisés : \"cassettes vierges ou enregistrées, audio vidéo, disques compacts\", c\\'est-à-dire des enregistrements d\\'oeuvres culturelles, sans égard pour la forme du support des enregistrements ainsi énumérés. Ainsi, la société SODIPER ne saurait, sans manquer à l\\'obligation de bonne foi contractuelle, prétendre qu\\'à raison de la modification du seul support -la cassette ayant été progressivement remplacée par le dvd- la commercialisation de celui-ci est exclue du champ contractuel.</p>\\n<p>Il résulte du constat d\\'huissier dressé le 26 juillet 2002 à la requête de la société HESNAUX et du rapport d\\'expertise comptable que courant février-mars 2002, la société SODIPER a augmenté sa surface de vente d\\'environ 1.000 m², a modifié l\\'implantation et la présentation des rayons, créant notamment dans l\\'enceinte principale du magasin un espace culturel regroupant les articles présentés précédemment dans un point presse situé dans une galerie annexe-.</p>\\n<p>Alors que lors du rapport d\\'expertise les parties s\\'accordaient à considérer que le litige ne portait pas sur le gros électroménager, la société HESNAUX réclame une somme de 174.140 € au titre de la violation de la clause de ce chef.</p>\\n<p>Cependant, au vu des bilans et factures d\\'achats produits, l\\'expert a constaté une disparition quasi complète des achats de gros électroménager par la société SODIPER- qui représentent 1 % de ses achats- alors que les approvisionnements de la société HESNAUX se sont maintenus.</p>\\n<p>Celle-ci ne produit aucun élément de nature à contredire utilement les conclusions du rapport d\\'expertise.</p>\\n<p>Ce volume de vente -en diminution- ne constitue pas un \"développement important\", et aucune violation de la clause n\\'est caractérisée de ce chef.</p>\\n<p>Concernant le petit électroménager, l\\'expert a constaté après examen des factures et des comptes, que les chiffres des achats effectués par la société SODIPER après réalisation des travaux d\\'agrandissement étaient en progression, tandis que ceux de la société HESNAUX étaient restés relativement stables, mais que ces achats étaient effectués principalement dans le cadre de campagnes promotionnelles exclues du champ de la clause de non-concurrence, et que les achats hors-campagnes n\\'avaient pas augmenté entre 2000 et 2005.</p>\\n<p>L\\'expert a ainsi relevé les chiffres suivants :</p>\\n<p>\\n<br clear=\"none\">Exercices<br clear=\"none\">Achats<br clear=\"none\">Société <br clear=\"none\">HESNAUX<br clear=\"none\">Achats Campagnes Périodes<br clear=\"none\">Société Promotionnelles Normales<br clear=\"none\">SODIPER </p>\\n<p>\\n<br clear=\"none\">2000<br clear=\"none\">71.716<br clear=\"none\">45.399 dont 26.980 18.419</p>\\n<p>\\n<br clear=\"none\">2001<br clear=\"none\">97.534<br clear=\"none\">39.328 dont 22.885 16.443 </p>\\n<p>\\n<br clear=\"none\">2002<br clear=\"none\">82.871<br clear=\"none\">28.415 dont 12.797 15.618</p>\\n<p>\\n<br clear=\"none\">2003<br clear=\"none\">74.220<br clear=\"none\">37.321 dont 25.904 11.417</p>\\n<p>\\n<br clear=\"none\">2004<br clear=\"none\">89.350<br clear=\"none\">49.784 dont 37.078 12.706 </p>\\n<p>\\n<br clear=\"none\">2005<br clear=\"none\">85.067<br clear=\"none\">64.925 dont 48.742 16.183 </p>\\n<p>Concernant les achats de matériels photo ciné son l\\'expert a fait la même constatation, précisant en outre que dans ce secteur, les deux magasins ne sont pas directement concurrents puisque la société SODIPER vend des produits basiques alors que la société GITEM propose des produits de plus grande qualité assortis d\\'un service après-vente.</p>\\n<p>L\\'expert a ainsi relevé les chiffres suivants :</p>\\n<p>Exercices<br clear=\"none\">Achats<br clear=\"none\">Société <br clear=\"none\">HESNAUX<br clear=\"none\">Achats Campagnes Périodes<br clear=\"none\">Société Promotionnelles Normales<br clear=\"none\">SODIPER </p>\\n<p>\\n<br clear=\"none\">2000<br clear=\"none\">151.664<br clear=\"none\">7.230 dont 4.594 2.636</p>\\n<p>\\n<br clear=\"none\">2001<br clear=\"none\">177.556<br clear=\"none\">24.977 dont 21.767 3.210</p>\\n<p>\\n<br clear=\"none\">2002<br clear=\"none\">129.018<br clear=\"none\">22.793 dont 16.621 6.172</p>\\n<p>\\n<br clear=\"none\">2003<br clear=\"none\">169.066<br clear=\"none\">45.364 dont 43.164 2.200</p>\\n<p>\\n<br clear=\"none\">2004<br clear=\"none\">116.391<br clear=\"none\">37.600 dont 32.202 5.398</p>\\n<p>\\n<br clear=\"none\">2005<br clear=\"none\">145.418<br clear=\"none\">15.111 dont 14.902 209</p>\\n<p>\\n<br clear=\"none\">La société HESNAUX soutient que l\\'utilisation systématique de ventes promotionnelles devenue une politique commerciale habituelle, constitue pour la société SODIPER un détournement et donc une violation de la clause de non concurrence.</p>\\n<p>Cependant, si les campagnes promotionnelles liées à l\\'enseigne Intermarché se succèdent à fréquence soutenue, il n\\'est pas démontré que la société SODIPER ait organisé des campagnes personnelles.</p>\\n<p>La société HESNAUX ne pouvait se méprendre lors de la signature du contrat, sur l\\'ampleur de l\\'exclusion ainsi convenue entre les parties, puisque l\\'enseigne Gitem appartient elle-même à un réseau de distribution et que dans un document édité par l\\'enseigne Gitem aux fins de promouvoir l\\'installation de nouveaux commerces il est indiqué \"nos meilleurs partenaires sont Intermarché et Super U .... . Ils ne nous font pas concurrence .... . Si un Gitem est situé à côté d\\'un Super U ou d\\'un Intermarché, c\\'est quasiment sûr qu\\'il marche !\", ce dont il résulte que la société HESNAUX connaissait parfaitement la politique commerciale de l\\'enseigne Intermarché, et donc la fréquence, la nature et l\\'ampleur de ses campagnes promotionnelles.</p>\\n<p>En l\\'absence de dénaturation de la clause, et au vu des constatations de l\\'expert, non utilement contestées par la société appelante, aucune violation de la clause n\\'est caractérisée pour le petit électroménager et le matériel Photo ciné son.</p>\\n<p>Concernant les cassettes, cd et dvd, secteur de haute concurrence entre les parties, l\\'expert a constaté que l\\'augmentation des achats par la société SODIPER à compter de l\\'année 2002 était très significative, alors que ces achats étaient en net recul depuis 2003 pour la société HESNAUX.</p>\\n<p>L\\'expert a ainsi relevé les chiffres suivants, étant précisé qu\\'au vu des facturations produites, il n\\'a pu répartir les ventes promotionnelles et la mise en place de nouveautés et réassorts hors promotions.</p>\\n<p>\\n<br clear=\"none\">Exercices<br clear=\"none\">Achats<br clear=\"none\">Société HESNAUX<br clear=\"none\">Achats<br clear=\"none\">Société SODIPER</p>\\n<p>\\n<br clear=\"none\">2000<br clear=\"none\">/<br clear=\"none\">12.112</p>\\n<p>\\n<br clear=\"none\">2001<br clear=\"none\">/<br clear=\"none\">10.435</p>\\n<p>\\n<br clear=\"none\">2002<br clear=\"none\">55.871<br clear=\"none\">114.351 (11 mois)</p>\\n<p>\\n<br clear=\"none\">2003<br clear=\"none\">36.255<br clear=\"none\">133.127 </p>\\n<p>\\n<br clear=\"none\">2004<br clear=\"none\">15.254<br clear=\"none\">118.398 </p>\\n<p>\\n<br clear=\"none\">2005<br clear=\"none\">7.719<br clear=\"none\">114.694 </p>\\n<p>La société SODIPER soutient que la baisse des achats ainsi constatée chez son concurrent est due à la politique commerciale de celui-ci, ainsi qu\\'à divers facteurs intrinsèques et extérieurs, ce que conteste la société HESNAUX, qui affirme avoir été contrainte, postérieurement à 2002, à limiter ses achats en raison de la perte de chiffre d\\'affaires constatée immédiatement après l\\'ouverture par la société SODIPER, de son espace culturel.</p>\\n<p>L\\'expert a relevé que divers facteurs pouvaient avoir une influence sur la baisse des ventes de cassettes, cd et dvd au sein de la société HESNAUX, à savoir l\\'offre limitée et peu renouvelée, l\\'absence de rénovation du rayon entre 2003 et 2005, le caractère peu compétitif de ses prix, la réduction de son effort publicitaire, l\\'augmentation de la concurrence locale et notamment l\\'implantation d\\'un point location de cassettes vidéo par une autre société du centre commercial, et plus généralement le téléchargement sur internet et la morosité de la conjoncture en matière d\\'équipement du logement.</p>\\n<p>Cependant il a considéré que la baisse relative aux produits culturels était en lien de causalité direct avec l\\'ouverture de l\\'espace culturel à l\\'entrée du magasin Intermarché.</p>\\n<p>Eu égard à l\\'ampleur de l\\'espace nouvellement consacré par la société SODIPER aux cassettes, cd et dvd, dont la disposition même telle qu\\'elle résulte des constats, exclut des commercialisations au seul titre de campagnes promotionnelles dont il n\\'est au surplus pas justifié pour ce type de produits, ainsi qu\\'à l\\'augmentation massive des achats à compter de l\\'année 2002, il y a lieu de considérer que pour ces produits, la société SODIPER a développé de façon importante et concurrentielle ses rayons hors le cadre de campagnes promotionnelles liées à son enseigne, et ce en violation de la clause litigieuse, et en conséquence qu\\'elle a commis une faute contractuelle génératrice d\\'un préjudice dont elle doit réparation.</p>\\n<p>Le jugement sera donc infirmé.</p>\\n<p>Concernant les meubles et rayon cadre, question qui n\\'a pas été abordée par l\\'expert car elle n\\'était pas incluse dans sa mission, il résulte des constats produits que la société SODIPER possède deux points de vente distincts de mobilier et objets de décoration, l\\'un correspondant à une surface de vente actuellement fermée, l\\'autre implanté à l\\'emplacement de l\\'ancien point presse, où a été créée depuis mai 2002 une boutique cadeau-décoration.</p>\\n<p>Les constats et photographies produits démontrent que pour la plupart des produits, les deux enseignes ne sont pas en situation de concurrence, et que pour les marchandises concurrentes, le développement réalisé par la société SODIPER hors cadre de campagnes promotionnelles n\\'est pas \"important\" eu égard à la fermeture concomittante de l\\'un des points de vente.</p>\\n<p>En conséquence aucune violation de la clause n\\'est caractérisée de ce chef.</p>\\n<p>IV Sur le préjudice</p>\\n<p>L\\'expert qui a tenu compte des facteurs extérieurs ci-dessus précisés a indiqué qu\\'eu égard à la faible marge brute dégagée par les cd et dvd soit 15 %, et à la réduction d\\'achats annuels comptabilisée à 30.000 € par an le préjudice subi par la société HESNAUX en lien de causalité avec la violation de la clause, s\\'élevait à :</p>\\n<p>\\n<br clear=\"none\">30.000 x 15<br clear=\"none\">-------------- = 4.500 € par an.<br clear=\"none\">100</p>\\n<p>Contrairement aux allégations de la société SODIPER, l\\'expert n\\'a pas inclus dans sa base de calcul les achats de la société HESNAUX pour son établissement du Mans, puisqu\\'en 2002, date où celui-ci était vendu, les achats s\\'élevaient à 55.871 € pour le seul magasin de MORTAGNE, que la moyenne annuelle des années 2003, 2004, 2005 s\\'élève à :</p>\\n<p>36.255 + 15.254 + 7.719 : 3 = 19.743 €</p>\\n<p>soit, compte tenu des autres facteurs, une baisse imputable à la violation de la clause exactement chiffrée à 30.000 € par an.</p>\\n<p>L\\'expert a précisé que devait être ajouté le manque à gagner sur les autres produits du magasin -les cassettes, cd et dvd étant des articles d\\'appel générant d\\'autres achats-, estimé en fonction du taux de marge normal du magasin, et que le préjudice annuel devait pour ce motif être estimé à 10.000 € par an depuis mars 2002.</p>\\n<p>La société SODIPER ne produit aucune pièce de nature à combattre utilement ces constatations et conclusions.</p>\\n<p>Il y a donc lieu d\\'accorder à la société HESNAULT la somme de 50.000 € par elle réclamée, le préjudice perdurant depuis cinq ans à ce jour.</p>\\n<p>Par contre, en l\\'absence de violation de la clause litigieuse dans les rayons autres que les cd et dvd, il y a lieu de rejeter les réclamations relatives aux suppressions ou diminution de rayons, ainsi qu\\'au retrait de \"tout produit concurrent\".</p>\\n<p>Concernant l\\'espace culturel, la société SODIPER demeure libre d\\'y commercialiser d\\'une part d\\'autres produits que les cd et les dvd, d\\'autre part ces derniers produits dans le respect de la clause.</p>\\n<p>En conséquence, la demande de fermeture sera également rejetée.</p>\\n<p>Sur l\\'article 700 du nouveau code de procédure civile </p>\\n<p>Succombant principalement sur la procédure la société SODIPER a contraint la société HESNAUX à exposer des frais irrépétibles qui seront en équité fixés à 5.000 €.</p>\\n<p>Pour les mêmes motifs elle sera condamnée aux dépens.</p>\\n<p>PAR CES MOTIFS </p>\\n<p>La Cour,</p>\\n<p>- Infirme le jugement ;</p>\\n<p>- Condamne la SA SODIPER à payer à la SARL HESNAUX les sommes de 50.000 € à titre de dommages et intérêts , 5.000 € en application de l\\'article 700 du nouveau code de procédure civile ;</p>\\n<p>- Déboute la SARL HESNAUX de ses autres demandes ;</p>\\n<p>- Condamne la SA SODIPER aux dépens qui seront recouvrés conformément à l\\'article 699 du nouveau code de procédure civile.</p>\\n<p>LE GREFFIER LE PRESIDENT</p>\\n<p>N. LE GALL M. HOLMAN</p>\\n<<<<<<<<<<NEW>>>>>>>>>>\\n<p>COUR D\\'APPEL DE BASTIA <br clear=\"none\">\\n<br clear=\"none\">CHAMBRE CIVILE <br clear=\"none\">\\n<br clear=\"none\">ARRET DU <br clear=\"none\">\\n<br clear=\"none\">QUATRE MAI DEUX MILLE ONZE </p>\\n<p>\\n<br clear=\"none\">Ch. civile A </p>\\n<p>ARRET No </p>\\n<p>du 04 MAI 2011 </p>\\n<p>R. G : 09/ 00280 C-RMS </p>\\n<p>Décision déférée à la Cour : <br clear=\"none\">jugement du 05 février 2009 <br clear=\"none\">Tribunal de Grande Instance d\\'AJACCIO <br clear=\"none\">R. G : 06/ 785 </p>\\n<p>\\nZ... \\n<br clear=\"none\">\\nX... \\n<br clear=\"none\">\\nY... \\n<br clear=\"none\">\\nZ... \\n<br clear=\"none\">\\nZ... \\n<br clear=\"none\">\\nZ... \\n</p>\\n<p>C/ </p>\\n<p>\\nX... \\n</p>\\n<br>\\n<p>APPELANTS : </p>\\n<p>Madame Jacqueline Z... épouse A...\\n<br clear=\"none\">\\n... \\n<br clear=\"none\">20000 AJACCIO </p>\\n<p>représentée par la SCP René JOBIN Philippe JOBIN, avoués à la Cour </p>\\n<p>assistée de Me GIUSEPPI, avocat au barreau d\\'AJACCIO </p>\\n<p>\\n<br clear=\"none\">Monsieur Antoine X... \\n<br clear=\"none\">né le 11 Mars 1946 à FIGARI (20114)<br clear=\"none\">\\n...\\n<br clear=\"none\">\\n... \\n<br clear=\"none\">20114 FIGARI </p>\\n<p>représenté par la SCP René JOBIN Philippe JOBIN, avoués à la Cour </p>\\n<p>assisté de Me GIUSEPPI, avocat au barreau d\\'AJACCIO </p>\\n<p>\\n<br clear=\"none\">Madame Jéromine Y... \\n<br clear=\"none\">née le 11 Août 1923 à FIGARI (20114) <br clear=\"none\">\\n...\\n<br clear=\"none\">20114 FIGARI </p>\\n<p>représentée par la SCP René JOBIN Philippe JOBIN, avoués à la Cour </p>\\n<p>assistée de Me GIUSEPPI, avocat au barreau d\\'AJACCIO </p>\\n<p>\\n<br clear=\"none\">Monsieur Antoine Paul Z... \\n<br clear=\"none\">né le 23 Février 1917 à FIGARI (20114)<br clear=\"none\">\\n...\\n<br clear=\"none\">\\n... \\n<br clear=\"none\">20114 FIGARI </p>\\n<p>représenté par la SCP René JOBIN Philippe JOBIN, avoués à la Cour </p>\\n<p>assisté de Me GIUSEPPI, avocat au barreau d\\'AJACCIO </p>\\n<p>Mademoiselle Marie Paule Z... \\n<br clear=\"none\">née le 20 Août 1955 à FIGARI (20114)<br clear=\"none\">\\n... \\n<br clear=\"none\">20180 ANVERS </p>\\n<p>représentée par la SCP René JOBIN Philippe JOBIN, avoués à la Cour </p>\\n<p>assistée de Me GIUSEPPI, avocat au barreau d\\'AJACCIO </p>\\n<p>\\n<br clear=\"none\">Monsieur Francis Z... \\n<br clear=\"none\">né le 20 Janvier 1960 à MARSEILLE (13000)<br clear=\"none\">\\n...\\n<br clear=\"none\">\\n... \\n<br clear=\"none\">20114 FIGARI </p>\\n<p>représenté par la SCP René JOBIN Philippe JOBIN, avoués à la Cour </p>\\n<p>assisté de Me GIUSEPPI, avocat au barreau d\\'AJACCIO </p>\\n<p>\\n<br clear=\"none\">INTIME : </p>\\n<p>Monsieur Michel X...\\n<br clear=\"none\">\\n... \\n<br clear=\"none\">13010 MARSEILLE 10 </p>\\n<p>représenté par la SCP RIBAUT BATTAGLINI, avoués à la Cour </p>\\n<p>assisté de la SCPA M. M. LEANDRI, avocats au barreau d\\'AJACCIO </p>\\n<p>COMPOSITION DE LA COUR : </p>\\n<p>En application des dispositions des articles 786 et 910 du code de procédure civile, l\\'affaire a été débattue à l\\'audience publique du 31 janvier 2011, devant Madame Julie GAY, Président de chambre, et Madame Rose-May SPAZZOLA, Conseiller, dont l\\'une d\\'elles a été chargée du rapport, les avocats ne s\\'y étant pas opposés. </p>\\n<p>Ces magistrats ont rendu compte des plaidoiries dans le délibéré de la Cour, composée de : </p>\\n<p>Madame Julie GAY, Président de chambre <br clear=\"none\">Monsieur Bernard WEBER, Conseiller <br clear=\"none\">Madame Rose-May SPAZZOLA, Conseiller </p>\\n<p>\\n<br clear=\"none\">GREFFIER LORS DES DEBATS : </p>\\n<p>Madame Sophie DUVAL. </p>\\n<p>\\n<br clear=\"none\">Les parties ont été avisées que le prononcé public de la décision aura lieu par mise à disposition au greffe le 30 mars 2011, prorogée par le magistrat par mention au plumitif au 04 mai 2011. </p>\\n<p>\\n<br clear=\"none\">ARRET : </p>\\n<p>Contradictoire, </p>\\n<p>Prononcé publiquement par mise à disposition au greffe de la Cour, les parties en ayant été préalablement avisées dans les conditions prévues au deuxième alinéa de l\\'article 450 du code de procédure civile. </p>\\n<p>Signé par Madame Julie GAY, Président de chambre, et par Madame Sophie DUVAL, Greffier auquel la minute de la décision a été remise par le magistrat signataire. </p>\\n<p>* </p>\\n<p>* * <br clear=\"none\">Vu le jugement rendu le 5 février 2009 par le Tribunal de grande instance d\\'AJACCIO : </p>\\n<p>rejetant les demandes en revendication immobilière des consorts A... \\nY... \\nZ... et de Monsieur Antoine X..., faute pour les demandeurs de rapporter la preuve de la propriété des parcelles E 279 et E 280 sises sur la commune de FIGARI, </p>\\n<p>rejetant en conséquence les demandes de publication y afférent, </p>\\n<p>rejetant la demande de Monsieur Michel X... tendant à voir constater sa propriété sur la bande de terre à usage de passage piéton située sur ces parcelles, </p>\\n<p>rejetant la demande de servitude de passage de Monsieur Michel X..., la preuve de l\\'état d\\'enclave n\\'étant pas rapportée, </p>\\n<p>rejetant les autres demandes en tant qu\\'injustifiées ou mal fondées, </p>\\n<p>laissant à chaque partie la charge de ses dépens. </p>\\n<p>\\n<br clear=\"none\">Vu la déclaration d\\'appel de Madame Z... Jacqueline épouse A..., Monsieur X... Antoine, Madame Y... Jeromine, Monsieur Z... Antoine Paul, Madame Z... Marie Paule, Monsieur Z... Francis déposée au greffe le 3 avril 2009. </p>\\n<p>Vu les dernières écritures de Monsieur Michel X... déposées au greffe le 31 mars 2010. </p>\\n<p>\\n<br clear=\"none\">Vu les dernières écritures des consorts Z..., A... et Y... déposées au greffe le 30 juin 2010. </p>\\n<p>\\n<br clear=\"none\">Vu l\\'ordonnance de clôture en date du 9 septembre 2010. </p>\\n<p>\\n<br clear=\"none\">* </p>\\n<p>* * </p>\\n<p>\\n<br clear=\"none\">SUR CE : </p>\\n<p>\\n<br clear=\"none\">Suite à l\\'opposition formée par Monsieur Michel X... à l\\'acte notarié portant création de titre sur les parcelles cadastrées E 279 et 280 lieudit Vigo sises sur la commune de FIGARI hameau d\\'... respectivement au profit de Monsieur Antoine X... et des consorts Z..., et Y..., Madame Jacqueline Z... épouse A..., Madame Jéromine Y..., Monsieur Antoine Paul Z..., Madame Marie Paule Z..., Monsieur Francis Z... et Monsieur Antoine X... ont fait assigner suivant acte séparé devant le Tribunal de grande instance d\\'AJACCIO, Monsieur Michel X... en revendication de propriété. </p>\\n<p>\\n<br clear=\"none\">La jonction des procédures a été ordonnée. </p>\\n<p>\\n<br clear=\"none\">Reconventionnellement, Monsieur Michel X... a demandé au tribunal de constater qu\\'il est en possession d\\'une bande de terre, partie des parcelles E 279 et 280 qui lui permet d\\'accéder à ces propriétés voisines cadastrées E 257, 261, 263, 264 et en conséquence présumé propriétaire de celle-ci, à défaut constater l\\'état d\\'enclave et dire que le passage s\\'effectuera sur les parcelles E 279 et 280 sur une largeur de quatre mètres. </p>\\n<p>\\n<br clear=\"none\">Le 5 février 2009, le Tribunal de grande instance d\\'AJACCIO a rendu le jugement visé. </p>\\n<p>\\n<br clear=\"none\">Les consorts Z... \\nY... qui interjettent appel demandent à la Cour à titre principal de déclarer irrecevable Monsieur Michel X... en sa demande tendant à être déclaré propriétaire du chemin sis sur les parcelles E 279 et 280, dire mal fondées ses oppositions, les déclarer propriétaires desdites parcelles, débouter Monsieur Michel X... de ses demandes, condamner celui-ci au paiement de la somme de 7 000 euros à titre de dommages et intérêts outre celle de 3 500 euros en application de l\\'article 700 du code de procédure civile et aux dépens. </p>\\n<p>A titre subsidiaire, les appelants concluent qu\\'ils ont prescrit la propriété des parcelles E 279 et 280, que la tolérance piétonnière sur celles ci a cessé aujourd\\'hui, que les conditions de l\\'article 685 du code civil ne sont pas réunies. </p>\\n<p>A titre infiniment subsidiaire, les consorts Z... \\nY... demandent de débouter Monsieur X... de sa demande d\\'élargissement. </p>\\n<p>\\n<br clear=\"none\">Monsieur Antoine X... qui interjette aussi appel ne formule cependant aucune demande. </p>\\n<p>\\n<br clear=\"none\">Monsieur Michel X... quant à lui relève appel incident et demande à la Cour de le déclarer propriétaire du chemin sis sur les parcelles E 279 et 280, et dans l\\'hypothèse où la Cour dirait que les appelants sont propriétaires desdites parcelles, constater que les fonds cadastrés E 257, 261, 263 et 267 dont il est propriétaire sont enclavés, dire que les parcelles E 279 et 280 sont grevées d\\'une servitude de passage pour cause d\\'enclave, dire que ce passage sera élargi de quatre mètres, désigner en tant que besoin, un géomètre expert pour dresser un plan relatif à cet élargissement, condamner enfin les appelants au paiement de la somme de 5 000 euros en application de l\\'article 700 du code de procédure civile ainsi qu\\'aux dépens y compris ceux de première instance dont distraction au profit de la SCP RIBAUT BATTAGLINI pour ceux d\\'appel. </p>\\n<p>* </p>\\n<p>* * </p>\\n<p>MOTIFS :</p>\\n<p>\\n<br clear=\"none\">- Sur la prétendue irrecevabilité de la demande formée par Monsieur Michel X... tendant à être déclaré propriétaire du chemin sis sur les parcelles E 279 et 280 : </p>\\n<p>\\n<br clear=\"none\">L\\'article 564 du code de procédure civile prohibe les demandes nouvelles en cause d\\'appel. </p>\\n<p>\\n<br clear=\"none\">En l\\'espèce, Monsieur Michel X... qui a demandé en première instance de dire qu\\'il est en possession du chemin existant sur les parcelles E 279 et 280 et qu\\'il est en conséquence présumé propriétaire de ce chemin demande à la Cour d\\'être déclaré propriétaire de celui-ci. </p>\\n<p>Cette demande présentée devant la Cour n\\'est pas une demande nouvelle dés lors qu\\'elle s\\'analyse comme la conséquence ou le complément de celle présentée devant le juge de première instance. En effet, il ressort des écritures de Monsieur X... que celui ci soutient qu\\'il est propriétaire du chemin par le jeu de la possession trentenaire. </p>\\n<p>\\n<br clear=\"none\">Sa demande tendant à être déclaré propriétaire n\\'est donc que la conséquence de la possession qu\\'il invo'"
      ]
     },
     "execution_count": 5,
     "metadata": {},
     "output_type": "execute_result"
    }
   ],
   "source": [
    "# let' take a look at the data\n",
    "# separator is <<<<<<<<<<NEW>>>>>>>>>>\n",
    "civ[:100000]"
   ]
  },
  {
   "cell_type": "code",
   "execution_count": 6,
   "metadata": {},
   "outputs": [
    {
     "data": {
      "text/plain": [
       "'<br>\\n<p>ARRET <br clear=\"none\">No </p>\\n<p>\\n<br clear=\"none\">M. X... \\n</p>\\n<p>C/ </p>\\n<p>Mme Y... \\n</p>\\n<p>ASSOCIATION TUTELAIRE DE LA SOMME </p>\\n<p>Mme Z... \\n</p>\\n<p>\\n<br clear=\"none\">BOU/ JA </p>\\n<p>COUR D\\'APPEL D\\'AMIENS </p>\\n<p>CHAMBRE ECONOMIQUE </p>\\n<p>ARRET DU 29 JUIN 2010 </p>\\n<p>RG : 08/ 05098 </p>\\n<p>JUGEMENT DU TRIBUNAL PARITAIRE DES BAUX RURAUX DE DOULLENS EN DATE DU 13 novembre 2008 </p>\\n<p>\\n<br clear=\"none\">PARTIES EN CAUSE : </p>\\n<p>APPELANT </p>\\n<p>Monsieur Aurélien X... \\n<br clear=\"none\">né le 12 février 1983 <br clear=\"none\">de nationalité française<br clear=\"none\">\\n... \\n<br clear=\"none\">80600 OCCOCHES </p>\\n<p>\\n<br clear=\"none\">Représenté, concluant et plaidant par Me FRISON, avocat au barreau d\\'AMIENS. </p>\\n<p>ET : </p>\\n<p>INTIMEES </p>\\n<p>Madame Suzanne B... épouse Y... \\n<br clear=\"none\">née le 6 décembre 1923 à OCCOCHES (80) <br clear=\"none\">de nationalité française<br clear=\"none\">\\n...\\n<br clear=\"none\">\\n... \\n<br clear=\"none\">80600 DOULLENS </p>\\n<p>\\n<br clear=\"none\">Madame Claudine Z...\\n<br clear=\"none\">\\n... \\n<br clear=\"none\">60800 CREPY EN VALOIS <br clear=\"none\">\" à titre personnel et aussi ès qualités de curateur de sa mère Mme Suzanne B...-\\nY...\\n, suivant décision du Tribunal de grande instance d\\'AMIENS en date du 16 janvier 2009 \". </p>\\n<p>\\n<br clear=\"none\">Représentées, concluantes et plaidant par Me Xavier D\\'HELLENCOURT, avocat au barreau d\\'AMIENS. </p>\\n<p>\\n<br clear=\"none\">ASSOCIATION TUTELAIRE DE LA SOMME <br clear=\"none\">21 rue de Sully <br clear=\"none\">BP 1660 <br clear=\"none\">80016 AMIENS <br clear=\"none\">\" agissant en qualité de tuteur de Mme B...-Y... Suzanne \". </p>\\n<p>\\n<br clear=\"none\">Non comparante. </p>\\n<p>\\n<br clear=\"none\">DEBATS : </p>\\n<p>A l\\'audience publique du 25 mai 2010 devant M. BOUGON, Conseiller, magistrat rapporteur siégeant seul, sans opposition des avocats, en vertu de l\\'article 786 du Code de procédure civile qui a avisé les parties à l\\'issue des débats que l\\'arrêt sera prononcé par sa mise à disposition au greffe le 29 juin 2010. </p>\\n<p>\\n<br clear=\"none\">GREFFIER : Mme DEBEVE </p>\\n<p>\\n<br clear=\"none\">COMPOSITION DE LA COUR LORS DU DELIBERE : </p>\\n<p>\\n<br clear=\"none\">M. BOUGON, Conseiller en a rendu compte à la Cour composée de : </p>\\n<p>\\n<br clear=\"none\">M. Brieuc de MORDANT de MASSIAC, Président, <br clear=\"none\">M. BOUGON et Mme BOUSQUEL, Conseillers, </p>\\n<p>\\n<br clear=\"none\">qui en ont délibéré conformément à la loi. </p>\\n<p>\\n<br clear=\"none\">PRONONCE : </p>\\n<p>\\n<br clear=\"none\">Le 29 JUIN 2010 par mise à disposition de l\\'arrêt au greffe de la Cour, les parties en ayant été préalablement avisées dans les conditions prévues au 2ème alinéa de l\\'article 450 du code de procédure civile ; M. Brieuc de MORDANT de MASSIAC, Président a signé la minute avec Mme DEBEVE, Greffier. </p>\\n<p>DECISION </p>\\n<p>Vu le jugement rendu le 13 novembre 2008 par le Tribunal paritaire des baux ruraux de DOULLENS qui a :</p>\\n<p>- débouté M. Aurélien X... de l\\'ensemble de ses demandes,</p>\\n<p>- débouté Mme Suzanne Y... et l\\'ASSOCIATION TUTELAIRE DE LA SOMME de l\\'ensemble de leurs demandes,</p>\\n<p>- condamné M. Aurélien X... aux dépens,</p>\\n<p>- dit n\\'y avoir lieu à allouer des sommes en application de l\\'article 700 du Code de procédure civile ; </p>\\n<p>Vu l\\'appel de cette décision interjeté par M. Aurélien X... selon lettre recommandée avec demande d\\'avis de réception adressée au greffe de la Cour postée le 25 novembre 2008 ; </p>\\n<p>Vu les conclusions de l\\'appelant des 27 octobre 2009 et 26 février 2010, soutenues à l\\'audience sollicitant l\\'infirmation du jugement déféré en ses chefs lui faisant grief et demandant à la Cour, à titre principal, de condamner Mme Suzanne Y... et son tuteur ès qualités à procéder à la rédaction d\\'un bail rural prévoyant un fermage conforme à l\\'arrêté préfectoral et sur la base des clauses types du bail départemental, de condamner Mme Suzanne Y... à lui payer la somme de 19. 476 € à titre de dommages-intérêts pour préjudice de jouissance et de désigner expert pou déterminer les indemnités lui étant dues au titre de la perte de chance de percevoir un revenu agricole pour les terres litigieuses depuis le 14 septembre 2007 jusqu\\'à la signature du bail, à titre subsidiaire, de condamner Mme Y... à lui payer la somme de 63. 000 € à titre de dommages-intérêts, à titre infiniment subsidiaire, d\\'ordonner une expertise à l\\'effet de déterminer les indemnités dues par Mme Y... au titre de la perte de chance de recevoir un revenu agricole pour les terres litigieuses depuis le 14 septembre 2007 pour une durée de neuf années et, en tout état de cause, de condamner Mme Y... et son tuteur ès qualités, à lui payer la somme de 3. 000 € en application de l\\'article 700 du Code de procédure civile ; </p>\\n<p>Vu les écritures de Mme Suzanne B...-Y... et de Mme Claudine Z..., cette dernière en qualité de curatrice de sa mère, Mme Suzanne B...-\\nY...\\n, des 6 janvier et 25 mai 2010 comportant appel incident, reprises à l\\'audience, demandant à la Cour de constater la nullité de la promesse de location du 16 mars 2007 et de condamner M. Aurélien X... à payer à Mme Y... la somme de 7. 500 € à titre de dommages-intérêts en réparation de son préjudice moral et celle de 2. 000 € au titre de l\\'article 700 du Code de procédure civile ; </p>\\n<p>\\n<br clear=\"none\">SUR CE, </p>\\n<p>\\n<br clear=\"none\">Attendu que par requête du 11 février 2008 M. Aurélien X... a saisi le Tribunal paritaire des baux ruraux de DOULLENS d\\'une demande dirigée à l\\'encontre de Mme Suzanne Y... tendant à ce que soit ordonnée la rédaction à son profit d\\'un bail rural portant sur deux parcelles de terres sises commune d\\'OCCOCHES (SOMME), cadastrées section ZA no 35 et section ZB no 52 d\\'une contenance totale de 10ha 44a 34ca et à l\\'octroi d\\'une double indemnité de 1. 500 €, d\\'une part, à titre de dommages-intérêts pour résistance abusive et, d\\'autre part, en application de l\\'article 700 du Code de procédure civile ; qu\\'aucune conciliation n\\'ayant pu intervenir et Mme Suzanne B... Vve Y..., ayant fait l\\'objet d\\'un jugement rendu par le Juge des Tutelles de DOULLENS le 24 avril 2008 prononçant sa mise sous curatelle et désignant l\\'ASSOCIATION TUTELAIRE DE LA SOMME (ATS) en qualité de curateur, il a maintenu ses demandes en faisant valoir l\\'existence d\\'une promesse de bail en date des 16 mars et 14 septembre 2007 ; que Mme Suzanne B... Vve Y... et l\\'ATS ont conclu au rejet des prétentions de M. X... et à l\\'allocation des sommes de 2. 000 € à titre de dommages-intérêts pour procédure et comportement abusif et de 1. 500 € sur le fondement de l\\'article, 700 du Code de procédure civile en soutenant que lors de la signature de la promesse de bail invoquée par le demandeur, Mme Suzanne B... ne disposait plus de toutes ses facultés et en faisant remarquer que le document du 16 mars 2007 ne comportait aucune indication de durée ou de prix ; que c\\'est en cet état des prétentions et moyens des parties que le jugement frappé d\\'appel a été rendu ; </p>\\n<p>Attendu que postérieurement à la décision des Premiers juges le Tribunal de grande instance d\\'AMIENS, par jugement du 16 janvier 2009, a déchargé l\\'ATS de son mandat et désigné, en qualité de curatrice de Mme Suzanne B... Vve Y..., sa fille, Mme Claudine Z... ; que cette dernière intervient volontairement, ès qualités, à l\\'instance devant la Cour ; </p>\\n<p>Attendu, alors qu\\'il résulte des articles 1709 du Code Civil et L 411-1 du Code Rural que le louage de chose est un contrat par lequel l\\'une des parties s\\'engage à faire jouir l\\'autre d\\'une chose pendant un certain temps et moyennant un certain prix que celle-ci, s\\'oblige à lui payer, que la promesse synallagmatique de bail vaut bail lorsque l\\'accord des parties porte sur ses éléments principaux, savoir sur la chose et sur le prix ; </p>\\n<p>Attendu qu\\'en l\\'espèce M. Aurélien X... se prévaut d\\'une promesse synallagmatique de location en date du 16 mars 2007 aux termes de laquelle Mme Suzanne B... Vve Y..., s\\'est engagé à lui donner à bail, sous réserve de conditions suspensives réalisées selon décisions préfectorales des 29 juin et 14 septembre 2007, deux parcelles de terres sises commune d\\'OCCOCHES, cadastrées ZA no 35 et ZB no 52 d\\'une contenance totale de 10ha 44a 34ca dont il a successivement produit aux débats deux exemplaires, le premier en pièce no 3, le second en pièce no 7 ; </p>\\n<p>Attendu que le document initialement versé au dossier ne comporte aucune indication de prix ; que la promesse en résultant ne peut ainsi valoir bail à défaut de détermination du montant du fermage ou d\\'éléments permettant de le déterminer, peu important à cet égard que l\\'autorité administrative fixe impérativement les limites minima et maxima entre lesquelles celui-ci doit s\\'inscrire, les parties demeurant libres de convenir d\\'un prix dans lesdites limites, alors que par ailleurs les parties ne se trouvent pas placées dans l\\'une des situations où la loi confère au tribunal paritaire la faculté de fixer le montant du fermage ; </p>\\n<p>Attendu que le second document invoqué par M. Aurélien X..., établi en complétant le précédent, ce que met en évidence leur superposition, comporte, outre de nouvelles mentions relatives à la durée et à la prise d\\'effet, l\\'indication d\\'un prix (1. 730 €) ; que cependant si l\\'appelant indique que le document initial rédigé le 16 mars 2007 a été complété le 14 septembre suivant en l\\'étude de Me G..., Notaire, avec l\\'accord de Mme Suzanne B... Vve Y..., présente, et devant M. Jean Y..., Mme Marine Y... (celle-ci épouse de M. Aurélien X...), M. Bernard H... et Mme Annick Y... épouse H..., aucun des documents produits aux débats, en l\\'absence de toute attestation émanant de l\\'officier ministériel, devant lequel Mme Suzanne B... Vve Y..., aurait manifesté son accord sur l\\'apposition des mentions complétant l\\'acte du 16 mars 2007 ne permet de retenir de façon certaine l\\'existence de celui-ci, les attestations établies par M. Jean Y... et par Mme Marine Y... épouse X... n\\'en faisant d\\'ailleurs nulle mention ; </p>\\n<p>'"
      ]
     },
     "execution_count": 6,
     "metadata": {},
     "output_type": "execute_result"
    }
   ],
   "source": [
    "com[:10000]"
   ]
  },
  {
   "cell_type": "code",
   "execution_count": 7,
   "metadata": {},
   "outputs": [
    {
     "data": {
      "text/plain": [
       "\"<p>COUR D'APPEL DE ROUEN </p>\\n<p>CHAMBRE DE L'INSTRUCTION </p>\\n<p>No N 2006 / 00044 DU 2 MARS 2006 </p>\\n<p>AUDIENCE DU 2 MARS 2006 </p>\\n<p>À l'audience de la Chambre de l'Instruction de la Cour d'Appel de ROUEN, réunie en Chambre du Conseil le 16 février 2006, </p>\\n<p>\\nX... Hervé né le 26 avril 1962 à SAINT-PIERRE-DE-VARENGEVILLE Fils de Jean-Pierre et de Christiane Y... de nationalité française Agent de sécurité Ayant pour avocat Maître HERRERA 21, rue Grand-Pont-76000 ROUEN Avocat au barreau de ROUEN </p>\\n<p>Monsieur S. GUITTARD, Substitut Général a été entendu en ses réquisitions. </p>\\n<p>Maître HERRERA, avocat du requérant, a été entendu en ses observations sommaires et a eu la parole en dernier. </p>\\n<p>Les débats étant terminés après en avoir délibéré conformément à l'article 200 du Code de procédure pénale, la Chambre de l'Instruction a rendu l'arrêt suivant le 2 mars 2006 : </p>\\n<p>LA COUR, </p>\\n<p>Vu la requête en exclusion d'une condamnation du bulletin numéro 2 du casier judiciaire présentée par Maître HERRERA le 17 juin 2005, </p>\\n<p>Vu les pièces de la procédure, </p>\\n<p>Vu le réquisitoire écrit de Monsieur le Procureur Général déposé le 6 janvier 2006, </p>\\n<p>Vu la notification de la date d'audience faite au requérant par lettre recommandée le 19 janvier 2006, </p>\\n<p>Vu la notification de la date d'audience faite par télécopie avec récépissé à l'avocat du requérant le 19 janvier 2006, </p>\\n<p>Vu l'article 197 du Code de procédure pénale dont les dispositions ont été respectées, </p>\\n<p>Par requête reçue le 10 octobre 2005, Hervé X... a sollicité que ne figure pas sur le bulletin numéro 2 de son casier judiciaire la condamnation prononcée par la cour d'assise de la Seine-Maritime le 12 octobre 2001 à 5 ans d'emprisonnement dont 2 avec sursis pour viol sur mineur de quinze ans par personne ayant autorité au motif qu'il a du mal à trouver du travail. </p>\\n<p>L'enquête effectuée par la gendarmerie en novembre 2005 indique que l'intéressé travaille pour la crèche les Petits Loups à DUCLAIR et ne fait l'objet d'aucun renseignement défavorable. </p>\\n<p>Le requérant a fait parvenir par son avocat des pièces le 16 février 2006. Ces pièces étant tardives, elles ont irrecevables. Verbalement, à l'audience, celui-ci sollicite l'octroi de la mesure, objet de la requête. </p>\\n<p>En détention, il a sauvé la vie d'un gardien, il a appris à utiliser un ordinateur et a pris goût aux activités culturelles. Le métier qu'il connaît est celui de gardien. La société qui l'employait souhaite le reprendre. </p>\\n<p>L'avocat du requérant indique qu'il a eu des emplois temporaires alors que celui d'agent de sécurité serait fixe. </p>\\n<p>Le ministère public requiert que la requête soit déclarée irrecevable et subsidiairement rejetée. </p>\\n<p>La parole a été redonnée à l'avocat du requérant. </p>\\n<p>SUR CE : </p>\\n<p>Sur la recevabilité : </p>\\n<p>Aux termes des articles 7 de la convention européenne des droits de l'homme et 112-1 du code de procédure pénale sont seuls punissables les faits constitutifs d'une infraction à la date à laquelle ils ont été commis. Peuvent être seules prononcées les peines légalement applicables à la même date, exception faite des dispositions moins sévères. </p>\\n<p>Toute mesure imposée à la suite d'une condamnation pour infraction, dans un contexte de droit pénal et dans un but répressif doit être considérée comme une peine, compte tenu aussi de la gravité de la mesure. </p>\\n<p>Une peine accessoire résulte de plein droit d'une condamnation. L'article 132-17 alinéa 1 du code de procédure pénale prohibe ce type de peines du fait qu'elles s'appliquent sans considération de la situation de la personne, sans qu'il soit possible de s'assurer de sa proportionnalité avec la gravité des faits et dont les conséquences sont souvent ignorées de l'intéressé. </p>\\n<p>La prohibition édictée par l'article 775-1 alinéa 3 du code pénal pour toute personne condamnée pour l'une des infractions mentionnées par l'article 706-47 du code de procédure pénale, c'est-à-dire à connotation sexuelle, ayant pour victime un mineur, est une mesure de publicité qui ne peut être considérée comme une voie d'exécution du fait, notamment qu'elle a pour conséquence de faire subir à l'intéressé un préjudice plus grand que celui auquel il était exposé à l'époque de la commission de l'infraction dont il a été convaincu. En effet, cette disposition a pour conséquence de lui d'interdire l'exercice d'un grand nombre de professions, notamment sans aucun rapport avec les faits délictueux telles que la fonction publique, y compris territoriale, commerçant, ambulancier et, comme en l'espèce, agent de sécurité et ce, pour un délai non défini. </p>\\n<p>En conséquence, cette mesure ayant le caractère de peine accessoire et étant plus sévère que celle qu'encourait le requérant au moment de la commission des faits, a un caractère rétroactif et ne peut donc trouver application en l'espèce. </p>\\n<p>Sur l'opportunité de la mesure : </p>\\n<p>\\nX... a été condamné pour infraction sexuelle et il apparaît opportun qu'il n'exerce pas de profession en rapport avec les enfants. </p>\\n<p>Il fournit des documents attestant d'une possibilité d'emploi comme agent de surveillance dans une société de convoyage de fonds. En attendant, il travaille dans une crèche. </p>\\n<p>Il est donc opportun de lui permettre de travailler dans une profession qui ne le met habituellement pas en rapport avec des mineurs, ce qui lui fera quitter son actuel emploi, où, précisément il est habituellement en rapport avec des mineurs et même de très jeunes enfants. </p>\\n<p>En conséquence, il convient d'accueillir favorablement la requête d'Hervé X.... </p>\\n<p>PAR CES MOTIFS, </p>\\n<p>LA CHAMBRE DE L'INSTRUCTION </p>\\n<p>En la forme, reçoit la requête, </p>\\n<p>Au fond, y fait droit. </p>\\n<p>Ordonne que le présent arrêt sera exécuté à la diligence de Monsieur le Procureur Général. </p>\\n<p>Fait au Palais de Justice le 16 février 2006, en Chambre du Conseil, où la Chambre de l'Instruction était composée de :- Madame le Président M. ROULEAU-Monsieur le Conseiller J.- Ph. BLOCH-Monsieur le Conseiller L. DUPRAY Tous trois régulièrement nommé ou désignés conformément aux dispositions de l'article 191 du Code de procédure pénale. En présence du Ministère Public. Assistés de Mademoiselle R. GAUTRON, Greffier. Le Président de la Chambre de l'Instruction, le 2 mars 2006, en Chambre du Conseil, a donné lecture du présent arrêt en application des dispositions de l'article 199 alinéa 4 du Code de Procédure Pénale. En présence du Ministère Public. Assistés de Madame M. HERRMANN, Greffier. Le présent arrêt a été signé par Madame le Président M. ROULEAU et Madame M. HERRMANN, Greffier. Mentionnons que par lettres recommandées dont les récépissés sont annexés à la minute classée au Greffe de la Cour, il a été immédiatement donné connaissance du présent arrêt au requérant et à son avocat.</p>\\n<<<<<<<<<<NEW>>>>>>>>>>\\n<br>COUR D'APPEL DE MONTPELLIER <br>CHAMBRE DE L'APPLICATION DES PEINES <br>\\n<br>\\n<br>\\n<br>\\n<br>ARRET N <br>\\n<br>DU 12/ 06/ 2013 <br>\\n<br>\\n<br>DOSSIER 13/ 00652 <br>GN/ NC <br>\\n<br>ARRET EN CHAMBRE DU CONSEIL <br>\\n<br>prononcé le Mercredi douze juin deux mille treize, par la Chambre de l'Application des Peines, par Madame PERRIEZ, en application des dispositions des articles D 49-39 et suivants du code de procédure pénale. <br>\\n<br>en présence du ministère public près la Cour d'Appel <br>\\n<br>et assisté du greffier : Madame TEREBENEC <br>sur appel d'un jugement du juge d'application des peines de MONTPELLIER du 20 mars 2013 <br>\\n<br>\\n<br>COMPOSITION DE LA COUR, lors des débats et du délibéré : <br>\\n<br>Président : Madame PERRIEZ, conseillère chargée du suivi de l'application des peines <br>\\n<br>Conseillers : Monsieur SENNA <br>Madame CHAPON <br>désignés par ordonnance du 18 décembre 2012 de Monsieur le Premier Président de la Cour d'Appel de MONTPELLIER relative aux audiences et aux services pour l'année 2013 <br>\\n<br>\\n<br>\\n<br>présents lors des débats : <br>\\n<br>Ministère public : Monsieur GARRIGUE <br>\\n<br>Greffier : Mademoiselle GRIFFE <br>\\n<br>\\n<br>\\n<br>PARTIES EN CAUSE DEVANT LA COUR : <br>\\n<br>CONDAMNE <br>\\n<br>\\nY...Franck René Henri <br>Né le 12 août 1975 à VINCENNES (94), fils de Y...Richard et de Z...Anne-Marie, de nationalité française, demeurant ...-...-34750 VILLENEUVE LES MAGUELONE <br>Libre <br>Condamné, intimé <br>Comparant <br>Assisté de Maître CAVANNA Stéphanie, avocat au barreau de MONTPELLIER, substituant Maître CAVANNA Jacques, avocat au barreau de MONTPELLIER <br>\\n<br>\\n<br>\\n<br>LE MINISTERE PUBLIC, appelant <br>\\n<br>\\n<br>\\n<br>RAPPEL DE LA PROCEDURE : <br>\\n<br>Franck Y...a été condamné le 15 octobre 2012 par la cour d'appel de Montpellier à la peine de 1 mois d'emprisonnement pour délit de fuite et blessures involontaires, faits commis en 2007, la peine prononcée ayant été aménagée sous le régime de la semi-liberté. <br>\\n<br>Cet arrêt a révoqué de plein droit le sursis assortissant la peine de 6 mois d'emprisonnement prononcée le 20 janvier 2004 par le tribunal correctionnel de Limoges pour trafic de stupéfiants. <br>\\n<br>Par jugement rendu en chambre du conseil le 20 mars 2013, le juge de l'application des peines de Montpellier, sur saisine du parquet aux fins de voir statuer sur les modalités d'exécution de la peine de semi-liberté et, au vu de l'accord du condamné entendu le 07 janvier 2013, a suspendu l'exécution de la peine de 1 mois, converti cette peine en 23 jours-amendes à 20 ¿ et rappelé que cette conversion portant sur une peine d'emprisonnement inférieure à 6 mois, faisaitt perdre son caractère révocatoire à la condamnation prononcée le 15 octobre 2012 par la cour d'appel de Montpellier. <br>\\n<br>Cette décision a été notifiée au ministère public le 25 mars 2013 et à l'intéressé par lettre recommandée avec accusé de réception du 25 mars 2013, distribuée le 27 mars 2013. <br>\\n<br>Le 27 mars 2013, le ministère public a déclaré interjeter appel de ce jugement par acte au gre\""
      ]
     },
     "execution_count": 7,
     "metadata": {},
     "output_type": "execute_result"
    }
   ],
   "source": [
    "crim[:10000]"
   ]
  },
  {
   "cell_type": "code",
   "execution_count": 8,
   "metadata": {},
   "outputs": [
    {
     "data": {
      "text/plain": [
       "'AFFAIRE : N RG 08 / 00587 <br>Code Aff. : ARRET N C. P <br>ORIGINE : Décision du Conseil de Prud\\'hommes de CAEN en date du 11 Février 2008 RG no F04 / 00709 <br>\\n<br>\\n<br>COUR D\\'APPEL DE CAEN <br>TROISIEME CHAMBRE-SECTION SOCIALE 1 <br>ARRET DU 09 JANVIER 2009 <br>\\n<br>APPELANTE : <br>\\n<br>Madame X...\\n<br>\\n... \\n<br>14000 CAEN <br>\\n<br>Comparante en personne, assisté de Me MORICE, avocat au barreau de CAEN <br>\\n<br>\\n<br>\\n<br>INTIMEE : <br>\\n<br>Madame Soukanh Y...\\n<br>\\n... \\n<br>14123 CORMELLES LE ROYAL <br>\\n<br>Comparante en personne, assistée de Monsieur Z..., délégué syndical, substitué par Me PLANCHE du cabinet BRAND, avocats au barreau de CAEN <br>\\n<br>\\n<br>COMPOSITION DE LA COUR LORS DES DEBATS ET DU DELIBERE : <br>\\n<br>Madame GERAUD-CHARVET, Président de Chambre, rédacteur <br>Monsieur COLLAS, Conseiller, <br>Madame PONCET, Conseiller, <br>\\n<br>\\n<br>DEBATS : A l\\'audience publique du 13 Novembre 2008 <br>\\n<br>\\n<br>GREFFIER : Madame POSE <br>\\n<br>\\n<br>ARRET prononcé publiquement le 09 Janvier 2009 à 14 heures par mise à disposition de l\\'arrêt au greffe de la Cour, les parties en ayant été préalablement avisées dans les conditions prévues au deuxième alinea de l\\'article 450 du Code de procédure civile et signé par Madame GERAUD-CHARVET, Président, et Mademoiselle GOULARD, Greffier <br>\\n<br>\\n<br>08 / 587 TROISIEME CHAMBRE SECTION SOCIALE 1 PAGE No2 <br>\\n<br>\\n<br>Faits et procédure <br>\\n<br>Madame Soukanh Y... a été embauchée le 1er octobre 1990 par Madame X... exerçant sous l\\'enseigne \" Extrême Orient \" une activité de préparation et vente d\\'alimentation exotique. Elle a travaillé jusqu\\'au 31 mars 2005, date à laquelle elle a fait valoir ses droits à la retraite. <br>\\n<br>Le 6 octobre 2004 elle a saisi le conseil de prud\\'hommes de Caen de diverses demandes salariales et indemnitaires. <br>\\n<br>Par jugement du 11 février 2008, le conseil de prud\\'hommes a :<br>\\n<br>- condamné Madame X... à verser à Madame Y... les sommes de : <br>* 2 259, 56 € à titre de rappel de salaire sur le niveau N1B, coefficient 110, <br>* 225, 95 € au titre des congés payés afférents, <br>* 21 685, 77 € à titre de rappel des heures supplémentaires et congés payés afférents, <br>ces sommes portant intérêts au taux légal à compter de la convocation en conciliation valant mise en demeure, <br>* 5 390, 54 € à titre de dommages et intérêts pour repos compensateur non pris, <br>* 6. 000 € à titre de dommages et intérêts pour préjudice financier, <br>* 860 € sur le fondement de l\\'article 700 du code de procédure civile, <br>ces sommes portant intérêts au taux légal compter de la notification du jugement ;<br>- ordonné à Madame X... de remettre à Madame Y... : une attestation Assedic rectifiée, un certificat de travail rectifié, les bulletins de salaire des mois d\\'octobre 1999 à mars 2005, et ce sous astreinte de 15 € par jour de retard suivant un mois après la notification de la décision ;<br>- débouté Madame Y... du surplus de ses demandes,<br>- débouté Madame X... de sa demande sur le fondement de l\\'article 700 du code de procédure civile,<br>- ordonné l\\'exécution provisoire du jugement,<br>- dit que la moyenne des trois derniers mois de salaire de Madame Y... s\\'élevait à la somme de 1 200 €,<br>- condamné Madame X... aux dépens. <br>08 / 587 TROISIEME CHAMBRE SECTION SOCIALE 1 PAGE No3 <br>\\n<br>\\n<br>\\n<br>\\n<br>\\n<br>Madame X... a interjeté appel de cette décision. <br>\\n<br>Vu le jugement du conseil de prud\\'hommes ; <br>\\n<br>Vu les conclusions déposées et oralement soutenues par l\\'appelante ; <br>\\n<br>Vu les conclusions déposées et oralement soutenues par Madame Y... intimée et appelante incidente. <br>\\n<br>MOTIFS DE LA DÉCISION<br>\\n<br>-Sur les demandes relatives au salaire<br>\\n<br>-rappel de salaire tenant compte de la classification conventionnelle <br>\\n<br>Madame X... produit une lettre d\\'embauche en date du 16 septembre 1990, dont la salariée conteste la réalité. En tout état de cause, l\\'employeur ne conteste pas que Madame Y..., après plusieurs contrats à durée déterminée depuis 1987, a été embauchée à compter du 1er octobre 1990 par contrat à durée indéterminée à temps complet et que la convention collective applicable est celle du \" Commerce de détail de fruits et légumes, épicerie et produits laitiers, no 3244 \". <br>\\n<br>Les bulletins de salaire de Madame Y... font apparaître l\\'emploi \" toute mains \" mais sans mention du niveau et du coefficient tels qu\\'il résultent de la convention collective applicable. Au regard de celle-ci, Madame Y..., après 6 mois d\\'ancienneté, devait se trouver au niveau N1B coefficient 110. Or il ressort de l\\'examen des bulletins de salaire pour la période non prescrite d\\'octobre 1999 à avril 2005, que le taux horaire applicable à sa classification n\\'a pas été respecté. <br>\\n<br>C\\'est donc à juste titre que le conseil de prud\\'hommes a fait droit en son principe à la demande de rappel de salaire. Toutefois sur le montant sollicité, le calcul opéré par la salariée ne peut être retenu, ni celui proposé par l\\'employeur qui ne prend pas en considération l\\'ensemble de la période. La <br>\\n<br>08 / 587 TROISIEME CHAMBRE SECTION SOCIALE 1 PAGE No4 <br>\\n<br>\\n<br>\\n<br>\\n<br>\\n<br>Cour renverra donc les parties à faire leurs comptes en se fondant sur la base des horaires mentionnés sur les bulletins de paie et en appliquant le taux horaire conventionnel correspondant au niveau N1B coefficient 110 ou le taux horaire du SMIC lorsque celui-ci est plus favorable à la salariée. Il sera en outre ajouté les congés payés y afférents.<br>\\n<br>- sur l\\'établissement de bulletins de salaire réguliers, d\\'un certificat de travail et d\\'une attestation ASSEDIC rectifiés et conformes <br>\\n<br>Il est justifié de faire droit à la demande de Madame Y... relative à la remise de bulletins de salaires, d\\'un certificat de travail et d\\'une attestation ASSEDIC rectifiés portant mention du niveau N1B coefficient 110 et du salaire conventionnel ; la Cour confirmera le jugement du conseil de prud\\'hommes sur ce point, y compris sur l\\'astreinte prononcée. Toutefois, s\\'agissant des bulletins de salaire pour lesquels la demande est limitée à la période d\\'octobre 1999 à décembre 2004, l\\'employeur pourra remplir son obligation en remettant à Madame Y... un bulletin récapitulatif pour la période considérée portant les mêmes mentions.<br>\\n<br>- Sur les demandes relatives aux congés <br>\\n<br>Madame Y... ne reprend pas en cause d\\'appel sa demande relative aux congés pour événements familiaux, mais maintient ses demandes relatives à la non prise de congés depuis 1999. Elle soutient que malgré les mentions figurant sur certains de ses bulletins de salaire (26 jours de congés payés notés sur les bulletins des mois d\\'août pour les années 1999 à 2003), elle n\\'a pas bénéficié des congés auxquels elle avait droit, sauf en 2004 où elle a pris cinq semaines. Elle sollicite la somme de 6 497, 20 € à titre d\\'indemnité compensatrice de congés non pris et non payés ou subsidiairement que lui soit allouée la somme de 1. 500 € de dommages et intérêts pour le reliquat de congés non pris (4 jours pour les années 1999, 2000, 2001, 2002 et 2003 = 20 jours). <br>\\n<br>\\n<br>\\n<br>\\n<br>08 / 587 TROISIEME CHAMBRE SECTION SOCIALE 1 PAGE No5 <br>\\n<br>\\n<br>\\n<br>\\n<br>\\n<br>S\\'il ressort des plannings figurant sur les cahiers que la salariée produit au débat en cause d\\'appel qu\\'elle a travaillé pendant les mois d\\'août considérés ce qui n\\'est pas contesté par l\\'employeur, Madame Y... qui a perçu l\\'intégralité de son salaire, n\\'établit pas qu\\'elle ait été empêchée de prendre ses congés par l\\'employeur ; l\\'indemnité de congés payés ne lui est donc pas due. <br>\\n<br>En revanche il apparaît que Madame Y... n\\'a pas bénéficié de l\\'intégralité de ses congés payés puisque ses bulletins de salaire pour les années 1999 à 2003 mentionnent 26 jours de congés payés au lieu de 30 jours. Madame Y... a nécessairement subi un préjudice du fait de ce décompte erroné de ses jours de congé lequel sera réparé par l\\'allocation de la somme de 500 € de dommages et intérêts. Le jugement du conseil de prud\\'hommes sera réformé sur ce point.<br>\\n<br>- Sur les demandes relatives aux heures supplémentaires et repos compensateurs <br>\\n<br>Il résulte des dispositions de l\\'article L 3171-4 (L212-161 ancien) du code du travail qu\\'en cas de litige relatif à l\\'existence ou au nombre d\\'heures de travail effectuées, l\\'employeur doit fournir les éléments de nature à justifier les horaires effectivement réalisés par le salarié, le juge formant sa conviction au vu de ces éléments et de ceux fournis par le salarié lequel doit, pour ce qui le concerne, préalablement fournir des éléments de nature à étayer sa demande. <br>\\n<br>A l\\'appui de sa demande et du tableau récapitulatif des heures supplémentaires qu\\'elle soutient avoir réalisées, Madame Y... produit en cause d\\'appel des plannings où sont notés dans un cahier puis dans un bloc-note puis sur des fiches volantes, jour après jour, ses heures d\\'arrivée et de départ, et ce depuis 1992 et jusqu\\'à sa cessation d\\'activité en 2005. Ces documents, crédibles en leur forme, corroborés par la lettre de réclamation adressée à son employeur le 15 mai 1992 ainsi que par l\\'attestation de son mari qui a travaillé avec elle à partir de 2001, sont suffisants à étayer sa demande. <br>\\n<br>\\n<br>\\n<br>08 / 587 TROISIEME CHAMBRE SECTION SOCIALE 1 PAGE No6 <br>\\n<br>\\n<br>\\n<br>\\n<br>Les pièces versées au débat par Madame X... ne permettent pas de considérer qu\\'elle justifie des horaires effectivement réalisés par la salariée ; en effet à supposer que le tableau des horaires de travail produit (lundi 14H30- 18H30 et du mardi au samedi inclus 9H-12 H et 14H30- 18H30) ait effectivement été affiché dans le magasin, rien ne démontre que l\\'employeur l\\'ait respecté et fait respecter, les cahiers de pointage, dont l\\'existence est au demeurant contestée par l\\'intimée, n\\'étant pas signés par la salariée ; les attestations établies en 2008 par Madame A... et par Monsieur B... qui affirment que Madame Y... n\\'arrivait ja'"
      ]
     },
     "execution_count": 8,
     "metadata": {},
     "output_type": "execute_result"
    }
   ],
   "source": [
    "soc[:10000]"
   ]
  },
  {
   "cell_type": "markdown",
   "metadata": {},
   "source": [
    "### Seems to be html let's clean all tags\n",
    "### and special characters"
   ]
  },
  {
   "cell_type": "code",
   "execution_count": 9,
   "metadata": {},
   "outputs": [
    {
     "name": "stdout",
     "output_type": "stream",
     "text": [
      "Nous avons 13087 de decisions civiles\n",
      "Nous avons 2265 de decisions commerciales\n",
      "Nous avons 384 de decisions criminelles\n",
      "Nous avons 12262 de decisions sociales\n"
     ]
    }
   ],
   "source": [
    "# let'split the file by this token\n",
    "\n",
    "sep = '<<<<<<<<<<NEW>>>>>>>>>>'\n",
    "dec_civ = civ.split(sep)\n",
    "dec_com = com.split(sep)\n",
    "dec_crim = crim.split(sep)\n",
    "dec_soc = soc.split(sep)\n",
    "print('Nous avons ' + str(len(dec_civ)) + ' de decisions civiles')\n",
    "print('Nous avons ' + str(len(dec_com)) + ' de decisions commerciales')\n",
    "print('Nous avons ' + str(len(dec_crim)) + ' de decisions criminelles')\n",
    "print('Nous avons ' + str(len(dec_soc)) + ' de decisions sociales')"
   ]
  },
  {
   "cell_type": "code",
   "execution_count": 10,
   "metadata": {},
   "outputs": [],
   "source": [
    "def cleanhtml(raw_html):\n",
    "    regexp = re.compile(r'(<.*?>)')\n",
    "    cleantext = re.sub(regexp, '', raw_html)\n",
    "    return cleantext"
   ]
  },
  {
   "cell_type": "code",
   "execution_count": 11,
   "metadata": {},
   "outputs": [],
   "source": [
    "# list comprehension\n",
    "# for big data i would have tuned my regexp in order to not squizz the separator\n",
    "dec_civ_clean = [cleanhtml(c) for c in dec_civ]\n",
    "dec_crim_clean = [cleanhtml(c) for c in dec_crim]\n",
    "dec_soc_clean = [cleanhtml(c) for c in dec_soc]\n",
    "dec_com_clean = [cleanhtml(c) for c in dec_com]"
   ]
  },
  {
   "cell_type": "markdown",
   "metadata": {},
   "source": [
    "## Methodology\n",
    " - Build a classifier per type of decision -> \n",
    " - we will split into Train, Validation\n",
    " - Pipeline ( Count Vectorizer, tfIdf, SVC)\n",
    " - GridSearch on Train set\n",
    " - Score on Validation set\n",
    " - Confusion Matrix -> (Precision and recall analysis)\n",
    " \n",
    "\n",
    " After we will try to implement a Word2vec + tfidf +svm or ensemble method\n",
    " - Confusion Matrix -> (Precision and recall analysis)\n",
    " - Roc Curves\n",
    " \n",
    " Comparison of two approaches\n",
    " \n"
   ]
  },
  {
   "cell_type": "code",
   "execution_count": 21,
   "metadata": {},
   "outputs": [
    {
     "data": {
      "text/plain": [
       "25196"
      ]
     },
     "execution_count": 21,
     "metadata": {},
     "output_type": "execute_result"
    }
   ],
   "source": [
    "# let's split our train, validation set\n",
    "# made it generic to not use memory\n",
    "# as i have 16 GO RAM - > huge issue with SVC -> not enough RAM\n",
    "# i will use ensemble methods\n",
    "\n",
    "l = [int(len(dec_civ_clean) * 0.90), int(len(dec_com_clean) * 0.90), int(len(dec_crim_clean) * 0.90),\n",
    "     int(len(dec_soc_clean) * 0.90)]\n",
    "\n",
    "l1 = [len(dec_civ_clean) - l[0], len(dec_com_clean) - l[1],\n",
    "      len(dec_crim_clean) - l[2], len(dec_soc_clean) - l[3]]\n",
    "\n",
    "X_train = list(itertools.chain(dec_civ_clean[:l[0]], dec_com_clean[:l[1]],\n",
    "                               dec_crim_clean[:l[2]], dec_soc_clean[:l[3]]))\n",
    "\n",
    "X_val = list(itertools.chain(dec_civ_clean[l[0]:], dec_com_clean[l[1]:],\n",
    "                             dec_crim_clean[l[2]:], dec_soc_clean[l[3]:]))\n",
    "\n",
    "Y_train = np.zeros(np.sum(l))\n",
    "Y_train[l[0]:l[0]+l[1]] = 1\n",
    "Y_train[l[1]+l[0]:l[2]+l[1]+l[0]] = 2\n",
    "Y_train[l[2]+l[1]+l[0]:] = 3\n",
    "\n",
    "Y_val = np.zeros(np.sum(l1))\n",
    "Y_val[l1[0]:l1[1]+l1[0]] = 1\n",
    "Y_val[l1[1]+l1[0]:l1[1]+l1[0]+l1[2]] = 2\n",
    "Y_val[l1[1]+l1[0]+l1[2]:] = 3\n",
    "\n",
    "Y = np.concatenate([Y_train, Y_val])\n",
    "len(X_train)"
   ]
  },
  {
   "cell_type": "code",
   "execution_count": 32,
   "metadata": {},
   "outputs": [],
   "source": [
    "# French Stopwords\n",
    "stw = list(set(stopwords.words('french')))"
   ]
  },
  {
   "cell_type": "code",
   "execution_count": 33,
   "metadata": {},
   "outputs": [
    {
     "data": {
      "text/plain": [
       "['aura',\n",
       " 's',\n",
       " 'vous',\n",
       " 'furent',\n",
       " 'qu',\n",
       " 'serais',\n",
       " 'ce',\n",
       " 'vos',\n",
       " 'êtes',\n",
       " 'avais',\n",
       " 'sois',\n",
       " 'auriez',\n",
       " 'une',\n",
       " 'sommes',\n",
       " 'par',\n",
       " 'ces',\n",
       " 'étais',\n",
       " 'était',\n",
       " 'auras',\n",
       " 'serait',\n",
       " 'aies',\n",
       " 'votre',\n",
       " 'fût',\n",
       " 'j',\n",
       " 'il',\n",
       " 'étés',\n",
       " 'fussions',\n",
       " 'avons',\n",
       " 'moi',\n",
       " 'ta',\n",
       " 'été',\n",
       " 'pour',\n",
       " 'toi',\n",
       " 'on',\n",
       " 'fus',\n",
       " 'tes',\n",
       " 'me',\n",
       " 'fûtes',\n",
       " 'aurai',\n",
       " 'fusses',\n",
       " 'tu',\n",
       " 'étaient',\n",
       " 'soyez',\n",
       " 'seront',\n",
       " 'serez',\n",
       " 'ma',\n",
       " 'ou',\n",
       " 'seras',\n",
       " 'y',\n",
       " 'aurions',\n",
       " 'ton',\n",
       " 'es',\n",
       " 'je',\n",
       " 'notre',\n",
       " 'eut',\n",
       " 'dans',\n",
       " 'du',\n",
       " 'eussent',\n",
       " 'mes',\n",
       " 'avez',\n",
       " 'des',\n",
       " 'leur',\n",
       " 'est',\n",
       " 'auraient',\n",
       " 'suis',\n",
       " 'le',\n",
       " 'serai',\n",
       " 'm',\n",
       " 'et',\n",
       " 'un',\n",
       " 'fussiez',\n",
       " 'aux',\n",
       " 'elle',\n",
       " 'l',\n",
       " 'étions',\n",
       " 'ayant',\n",
       " 'eussiez',\n",
       " 'aurez',\n",
       " 'd',\n",
       " 'eurent',\n",
       " 'que',\n",
       " 'aie',\n",
       " 'lui',\n",
       " 'soit',\n",
       " 'la',\n",
       " 'eus',\n",
       " 'te',\n",
       " 'eusses',\n",
       " 't',\n",
       " 'étante',\n",
       " 'sa',\n",
       " 'sont',\n",
       " 'fusse',\n",
       " 'ayante',\n",
       " 'sur',\n",
       " 'sera',\n",
       " 'son',\n",
       " 'fut',\n",
       " 'eûmes',\n",
       " 'auront',\n",
       " 'pas',\n",
       " 'serions',\n",
       " 'ayez',\n",
       " 'étée',\n",
       " 'étantes',\n",
       " 'ait',\n",
       " 'fûmes',\n",
       " 'ai',\n",
       " 'mon',\n",
       " 'ayantes',\n",
       " 'eusse',\n",
       " 'même',\n",
       " 'soyons',\n",
       " 'nous',\n",
       " 'se',\n",
       " 'eu',\n",
       " 'eussions',\n",
       " 'avec',\n",
       " 'avaient',\n",
       " 'eues',\n",
       " 'eût',\n",
       " 'ayons',\n",
       " 'fussent',\n",
       " 'aviez',\n",
       " 'soient',\n",
       " 'étant',\n",
       " 'aurais',\n",
       " 'ont',\n",
       " 'aurons',\n",
       " 'seriez',\n",
       " 'n',\n",
       " 'en',\n",
       " 'as',\n",
       " 'nos',\n",
       " 'de',\n",
       " 'eux',\n",
       " 'ne',\n",
       " 'ses',\n",
       " 'avait',\n",
       " 'étants',\n",
       " 'aurait',\n",
       " 'eûtes',\n",
       " 'mais',\n",
       " 'serons',\n",
       " 'aient',\n",
       " 'eue',\n",
       " 'au',\n",
       " 'seraient',\n",
       " 'qui',\n",
       " 'c',\n",
       " 'à',\n",
       " 'étées',\n",
       " 'étiez',\n",
       " 'ayants',\n",
       " 'avions']"
      ]
     },
     "execution_count": 33,
     "metadata": {},
     "output_type": "execute_result"
    }
   ],
   "source": [
    "stw"
   ]
  },
  {
   "cell_type": "code",
   "execution_count": 18,
   "metadata": {},
   "outputs": [],
   "source": [
    "# Now the hard part\n",
    "# Svm are typically limited to 10000-15000 samples (depending on vocabulary length)\n",
    "# With my 16 GO RAM i might be not able to train my 4 classifiers\n",
    "# even if i reduce the vocabulary dimension using stop words\n",
    "# i will then use subset of train ( keeping class repartition)\n",
    "\n",
    "# Vocabulary dimension 1-gramm\n",
    "voc_total = CountVectorizer(analyzer='word').fit_transform(X_train)\n",
    "voc_sw = CountVectorizer(\n",
    "    analyzer='word', stop_words=stw).fit_transform(X_train)\n",
    "\n",
    "# Vocabulary dimension 2-gramm\n",
    "voc_total_gr = CountVectorizer(ngram_range=(1, 2)).fit_transform(X_train)\n",
    "voc_sw_gr = CountVectorizer(ngram_range=(\n",
    "    1, 2), stop_words=stw).fit_transform(X_train)"
   ]
  },
  {
   "cell_type": "code",
   "execution_count": 19,
   "metadata": {},
   "outputs": [
    {
     "name": "stdout",
     "output_type": "stream",
     "text": [
      "We got a vocabulary with stop words size of: 189081\n",
      "We got a vocabulary without stop words size of: 188952\n",
      "We got a vocabulary with stop words and (1,2) grams  size of: 3837293\n",
      "We got a vocabulary without stop words and (1,2) grams  size of: 5833959\n"
     ]
    }
   ],
   "source": [
    "print(\"We got a vocabulary with stop words size of:\", voc_total.shape[1])\n",
    "print(\"We got a vocabulary without stop words size of:\", voc_sw.shape[1])\n",
    "print(\"We got a vocabulary with stop words and (1,2) grams  size of:\",\n",
    "      voc_total_gr.shape[1])\n",
    "print(\"We got a vocabulary without stop words and (1,2) grams  size of:\",\n",
    "      voc_sw_gr.shape[1])"
   ]
  },
  {
   "cell_type": "markdown",
   "metadata": {},
   "source": [
    "### I was far too optimistic for my gridserach, \n",
    "### I really need to reduce dimensionality\n",
    "### let's so 2 gridsearch imbricated -> \n",
    "\n",
    " - 1  for threshold ( Top vocabulary per rows)\n",
    " - 2 -> SVM gridsearch\n",
    " - take the best combination\n",
    "\n",
    "### We could add a paramter n_gramm on this gridsearch but \n",
    "### with the time given time i prefer using it for the word2vec implementation\n"
   ]
  },
  {
   "cell_type": "code",
   "execution_count": 23,
   "metadata": {},
   "outputs": [],
   "source": [
    "# Applied transformation\n",
    "X = list(itertools.chain(X_train, X_val))\n",
    "\n",
    "text_clf_tr_l1 = Pipeline([('vect', CountVectorizer()),\n",
    "                           ('tfidf', TfidfTransformer(norm='l1'))]).fit_transform(X)\n",
    "text_clf_tr_l2 = Pipeline([('vect', CountVectorizer()),\n",
    "                           ('tfidf', TfidfTransformer(norm='l2'))]).fit_transform(X)\n",
    "text_clf_tr_l1_sw = Pipeline([('vect', CountVectorizer(stop_words=stw)),\n",
    "                              ('tfidf', TfidfTransformer(norm='l1'))]).fit_transform(X)\n",
    "text_clf_tr_l2_sw = Pipeline([('vect', CountVectorizer(stop_words=stw)),\n",
    "                              ('tfidf', TfidfTransformer(norm='l2'))]).fit_transform(X)"
   ]
  },
  {
   "cell_type": "code",
   "execution_count": 24,
   "metadata": {},
   "outputs": [],
   "source": [
    "text_clf = [text_clf_tr_l1.tolil(), text_clf_tr_l2.tolil(), text_clf_tr_l1_sw.tolil(),\n",
    "            text_clf_tr_l2_sw.tolil()]"
   ]
  },
  {
   "cell_type": "code",
   "execution_count": 26,
   "metadata": {},
   "outputs": [],
   "source": [
    "def GetMatrix(mat, t):\n",
    "    new = lil_matrix(mat.shape, dtype=float)\n",
    "    for i in range(mat.shape[0]):\n",
    "        d, r = max_n(np.array(mat.data[i]), np.array(mat.rows[i]), t)\n",
    "        new.data[i] = list(d)\n",
    "        new.rows[i] = list(r)\n",
    "    return new\n",
    "\n",
    "\n",
    "def max_n(row_data, row_indices, n):\n",
    "    i = row_data.argsort()[-n:]\n",
    "    # i = row_data.argpartition(-n)[-n:]\n",
    "    top_values = row_data[i]\n",
    "    top_indices = row_indices[i]\n",
    "    return top_values, top_indices"
   ]
  },
  {
   "cell_type": "code",
   "execution_count": 27,
   "metadata": {},
   "outputs": [],
   "source": [
    "# let s do the GS - 2 step -> to find the best set\n",
    "# (norms, stop_words, top score)\n",
    "# I have limited dimension for time processing\n",
    "\n",
    "top = np.asarray([10, 25, 40, 50])\n",
    "Mat_sort = []\n",
    "for i in text_clf:\n",
    "    for j in top:\n",
    "        Mat_sort.append(GetMatrix(i, j))"
   ]
  },
  {
   "cell_type": "code",
   "execution_count": 28,
   "metadata": {},
   "outputs": [
    {
     "data": {
      "text/plain": [
       "array([list([0.01058785068239561, 0.010686657103722842, 0.010823909389518068, 0.011770162356833968, 0.01455624075315629, 0.014669735958879285, 0.016194123472435693, 0.01835292998965523, 0.023856782640800444, 0.040467672812346075]),\n",
       "       list([0.014167963600325783, 0.014529484325299616, 0.01485790539097746, 0.017432251324770633, 0.018820464059909166, 0.019483800284257457, 0.019925377026654884, 0.02610063489861131, 0.03250500963269631, 0.03281130572036166]),\n",
       "       list([0.00905072740679892, 0.010045078535885925, 0.012586920648028223, 0.020461543667988406, 0.023468524251795738, 0.025496078836694917, 0.026351041528772698, 0.03136519101275652, 0.0442394196516441, 0.04451757620583591]),\n",
       "       ...,\n",
       "       list([0.010017108409579109, 0.010195862950235652, 0.010260683600188456, 0.011611125601279353, 0.011750744285705817, 0.015317319686840788, 0.017527030222431284, 0.019230861689248504, 0.02265666401280171, 0.04106227029433387]),\n",
       "       list([0.010716500927055716, 0.010771518571726542, 0.011054434579029705, 0.011656468687242643, 0.014698660705052201, 0.015764696164274897, 0.015945420791235072, 0.018072370324577636, 0.01943797581414898, 0.03191275731063628]),\n",
       "       list([])], dtype=object)"
      ]
     },
     "execution_count": 28,
     "metadata": {},
     "output_type": "execute_result"
    }
   ],
   "source": [
    "Mat_sort[0].shape\n",
    "Mat_sort[0].data"
   ]
  },
  {
   "cell_type": "code",
   "execution_count": 29,
   "metadata": {},
   "outputs": [],
   "source": [
    "for i, M in enumerate(Mat_sort):\n",
    "    scipy.sparse.save_npz('Mat_sort_' + str(i), M.tocsr())"
   ]
  },
  {
   "cell_type": "code",
   "execution_count": 25,
   "metadata": {},
   "outputs": [],
   "source": [
    "idx_val = np.arange(len(X_train))\n",
    "np.save('Y', Y)\n",
    "np.save('idx_val', idx_val)"
   ]
  },
  {
   "cell_type": "code",
   "execution_count": 26,
   "metadata": {},
   "outputs": [],
   "source": [
    "Y_train_civ = np.zeros(len(X_train))\n",
    "Y_train_com = np.zeros(len(X_train))\n",
    "Y_train_crim = np.zeros(len(X_train))\n",
    "Y_train_soc = np.zeros(len(X_train))\n",
    "Y_val_civ = np.zeros(len(X_val))\n",
    "Y_val_com = np.zeros(len(X_val))\n",
    "Y_val_crim = np.zeros(len(X_val))\n",
    "Y_val_soc = np.zeros(len(X_val))\n",
    "Y_train_civ[np.argwhere(Y_train == 0)] = 1\n",
    "Y_train_com[np.argwhere(Y_train == 1)] = 1\n",
    "Y_train_crim[np.argwhere(Y_train == 2)] = 1\n",
    "Y_train_soc[np.argwhere(Y_train == 3)] = 1\n",
    "Y_val_civ[np.argwhere(Y_val == 0)] = 1\n",
    "Y_val_com[np.argwhere(Y_val == 1)] = 1\n",
    "Y_val_crim[np.argwhere(Y_val == 2)] = 1\n",
    "Y_val_soc[np.argwhere(Y_val == 3)] = 1"
   ]
  },
  {
   "cell_type": "code",
   "execution_count": 27,
   "metadata": {},
   "outputs": [],
   "source": [
    "np.save('Y_train_civ', Y_train_civ)\n",
    "np.save('Y_train_com', Y_train_com)\n",
    "np.save('Y_train_crim', Y_train_crim)\n",
    "np.save('Y_train_soc', Y_train_soc)\n",
    "np.save('Y_val_civ', Y_val_civ)\n",
    "np.save('Y_val_com', Y_val_com)\n",
    "np.save('Y_val_crim', Y_val_crim)\n",
    "np.save('Y_val_soc', Y_val_soc)"
   ]
  },
  {
   "cell_type": "code",
   "execution_count": 173,
   "metadata": {},
   "outputs": [],
   "source": [
    "import pickle\n",
    "\n",
    "with open('X_train', 'wb') as fp:\n",
    "    pickle.dump(X_train, fp)\n",
    "with open('X_val', 'wb') as fp:\n",
    "    pickle.dump(X_val, fp)"
   ]
  },
  {
   "cell_type": "code",
   "execution_count": 28,
   "metadata": {},
   "outputs": [
    {
     "name": "stdout",
     "output_type": "stream",
     "text": [
      "Once deleted, variables cannot be recovered. Proceed (y/[n])? y\n"
     ]
    }
   ],
   "source": [
    "# Now i restart my notebook and load the sparse Matrix\n",
    "# Otherwise cannot perform the GridSearch\n",
    "%reset"
   ]
  },
  {
   "cell_type": "code",
   "execution_count": 29,
   "metadata": {},
   "outputs": [],
   "source": [
    "with open('X_train', 'rb') as fp:\n",
    "    X_train = pickle.load(fp)\n",
    "with open('X_val', 'rb') as fp:\n",
    "    X_val = pickle.load(fp)"
   ]
  },
  {
   "cell_type": "code",
   "execution_count": 2,
   "metadata": {},
   "outputs": [],
   "source": [
    "Y_train_civ = np.load('Y_train_civ.npy')\n",
    "Y_train_com = np.load('Y_train_com.npy')\n",
    "Y_train_crim = np.load('Y_train_crim.npy')\n",
    "Y_train_soc = np.load('Y_train_soc.npy')\n",
    "Y_val_civ = np.load('Y_val_civ.npy')\n",
    "Y_val_com = np.load('Y_val_com.npy')\n",
    "Y_val_crim = np.load('Y_val_crim.npy')\n",
    "Y_val_soc = np.load('Y_val_soc.npy')"
   ]
  },
  {
   "cell_type": "code",
   "execution_count": 3,
   "metadata": {},
   "outputs": [
    {
     "name": "stdout",
     "output_type": "stream",
     "text": [
      "peak memory: 122.96 MiB, increment: 0.04 MiB\n"
     ]
    }
   ],
   "source": [
    "%memit"
   ]
  },
  {
   "cell_type": "code",
   "execution_count": 4,
   "metadata": {},
   "outputs": [
    {
     "data": {
      "text/plain": [
       "1309"
      ]
     },
     "execution_count": 4,
     "metadata": {},
     "output_type": "execute_result"
    }
   ],
   "source": [
    "len(np.argwhere(Y_val_civ==1))"
   ]
  },
  {
   "cell_type": "code",
   "execution_count": 5,
   "metadata": {},
   "outputs": [],
   "source": [
    "Y = np.load('Y.npy')\n",
    "idx_val = np.load('idx_val.npy')"
   ]
  },
  {
   "cell_type": "code",
   "execution_count": 6,
   "metadata": {},
   "outputs": [],
   "source": [
    "Mat_sort =[]\n",
    "for i in range(0,16):\n",
    "    Mat_sort.append(scipy.sparse.load_npz('Mat_sort_'+str(i)+'.npz'))"
   ]
  },
  {
   "cell_type": "code",
   "execution_count": 7,
   "metadata": {},
   "outputs": [],
   "source": [
    "top = np.asarray([10, 25, 40, 50])"
   ]
  },
  {
   "cell_type": "code",
   "execution_count": 21,
   "metadata": {},
   "outputs": [],
   "source": [
    "C_range = np.logspace(-2, 10, 2) # i would have made deeper GridSearch but time is pretty big\n",
    "gamma_range = np.logspace(-9, 3, 2)# \n",
    "# We will now change to 1 gram our grid search parameters\n",
    "max_depth = [2, 5, 8, 10, 12]\n",
    "parameters_svc = {\n",
    "    #'n_estimators' : [250],\n",
    "    #'max_depth': max_depth\n",
    "    #'C': C_range,\n",
    "    #'gamma': gamma_range\n",
    "}\n",
    "\n",
    "parameters_et = {\n",
    "    'n_estimators': [150],\n",
    "    'max_depth': max_depth # computation time hard for limit the depth of teh tree to get best bias, deviation estimator\n",
    "\n",
    "}"
   ]
  },
  {
   "cell_type": "code",
   "execution_count": 19,
   "metadata": {},
   "outputs": [],
   "source": [
    "# the 2 steps gridsearch for each classifier\n",
    "# dec, civ, crim, soc\n",
    "# gridsearch returns the best score by default\n",
    "# i will just use this\n",
    "# i could have monitor the score evolution for more in depth research\n",
    "# i keep the csr_matrix from tfidf better for computation\n",
    "\n",
    "\n",
    "def GetScoreClassifier(clf_list, cl, top, Mat_sort_val, idx_val, Yval):\n",
    "    sc = np.zeros((4, top.shape[0]))\n",
    "    for i, modele in enumerate(clf_list):\n",
    "        sc[i // top.shape[0], i % top.shape[0]] = accuracy_score(Yval,\n",
    "                                                                 modele.predict(\n",
    "                                                                     Mat_sort_val[i][idx_val, :]))\n",
    "    return sc\n",
    "\n",
    "\n",
    "def GetModel(cl, top, Mat_sort_train, idx_val, Ytrain):\n",
    "    clf_list = []\n",
    "    for mat in Mat_sort_train:\n",
    "        clf = GridSearchCV(SVC(), parameters_svc, cv=5, verbose=1, n_jobs=-1)\n",
    "        clf.fit(mat[idx_val, :], Ytrain)\n",
    "        clf_list.append(clf)\n",
    "\n",
    "    return clf_list\n",
    "\n",
    "def GetModelET(top, Mat_sort_train, idx_val, Ytrain):\n",
    "    clf_list = []\n",
    "    for mat in Mat_sort_train:\n",
    "        clf = GridSearchCV(ExtraTreesClassifier(), parameters_et, cv=5, verbose=1, n_jobs=-1)\n",
    "        clf.fit(mat[idx_val, :], Ytrain)\n",
    "        clf_list.append(clf)\n",
    "\n",
    "    return clf_list"
   ]
  },
  {
   "cell_type": "code",
   "execution_count": 10,
   "metadata": {},
   "outputs": [
    {
     "name": "stdout",
     "output_type": "stream",
     "text": [
      "Fitting 5 folds for each of 1 candidates, totalling 5 fits\n"
     ]
    },
    {
     "name": "stderr",
     "output_type": "stream",
     "text": [
      "[Parallel(n_jobs=-1)]: Done   2 out of   5 | elapsed:  5.5min remaining:  8.2min\n",
      "[Parallel(n_jobs=-1)]: Done   5 out of   5 | elapsed:  5.5min finished\n"
     ]
    },
    {
     "name": "stdout",
     "output_type": "stream",
     "text": [
      "Fitting 5 folds for each of 1 candidates, totalling 5 fits\n"
     ]
    },
    {
     "name": "stderr",
     "output_type": "stream",
     "text": [
      "[Parallel(n_jobs=-1)]: Done   2 out of   5 | elapsed:  5.4min remaining:  8.1min\n",
      "[Parallel(n_jobs=-1)]: Done   5 out of   5 | elapsed:  5.5min finished\n"
     ]
    },
    {
     "name": "stdout",
     "output_type": "stream",
     "text": [
      "Fitting 5 folds for each of 1 candidates, totalling 5 fits\n"
     ]
    },
    {
     "name": "stderr",
     "output_type": "stream",
     "text": [
      "[Parallel(n_jobs=-1)]: Done   2 out of   5 | elapsed:  5.0min remaining:  7.6min\n",
      "[Parallel(n_jobs=-1)]: Done   5 out of   5 | elapsed:  5.1min finished\n"
     ]
    },
    {
     "name": "stdout",
     "output_type": "stream",
     "text": [
      "Fitting 5 folds for each of 1 candidates, totalling 5 fits\n"
     ]
    },
    {
     "name": "stderr",
     "output_type": "stream",
     "text": [
      "[Parallel(n_jobs=-1)]: Done   2 out of   5 | elapsed:  5.1min remaining:  7.6min\n",
      "[Parallel(n_jobs=-1)]: Done   5 out of   5 | elapsed:  5.1min finished\n"
     ]
    },
    {
     "name": "stdout",
     "output_type": "stream",
     "text": [
      "Fitting 5 folds for each of 1 candidates, totalling 5 fits\n"
     ]
    },
    {
     "name": "stderr",
     "output_type": "stream",
     "text": [
      "[Parallel(n_jobs=-1)]: Done   2 out of   5 | elapsed:   37.7s remaining:   56.5s\n",
      "[Parallel(n_jobs=-1)]: Done   5 out of   5 | elapsed:   45.6s finished\n"
     ]
    },
    {
     "name": "stdout",
     "output_type": "stream",
     "text": [
      "Fitting 5 folds for each of 1 candidates, totalling 5 fits\n"
     ]
    },
    {
     "name": "stderr",
     "output_type": "stream",
     "text": [
      "[Parallel(n_jobs=-1)]: Done   2 out of   5 | elapsed:   42.4s remaining:  1.1min\n",
      "[Parallel(n_jobs=-1)]: Done   5 out of   5 | elapsed:   45.3s finished\n"
     ]
    },
    {
     "name": "stdout",
     "output_type": "stream",
     "text": [
      "Fitting 5 folds for each of 1 candidates, totalling 5 fits\n"
     ]
    },
    {
     "name": "stderr",
     "output_type": "stream",
     "text": [
      "[Parallel(n_jobs=-1)]: Done   2 out of   5 | elapsed:   49.3s remaining:  1.2min\n",
      "[Parallel(n_jobs=-1)]: Done   5 out of   5 | elapsed:   51.8s finished\n"
     ]
    },
    {
     "name": "stdout",
     "output_type": "stream",
     "text": [
      "Fitting 5 folds for each of 1 candidates, totalling 5 fits\n"
     ]
    },
    {
     "name": "stderr",
     "output_type": "stream",
     "text": [
      "[Parallel(n_jobs=-1)]: Done   2 out of   5 | elapsed:   53.0s remaining:  1.3min\n",
      "[Parallel(n_jobs=-1)]: Done   5 out of   5 | elapsed:   54.1s finished\n"
     ]
    },
    {
     "name": "stdout",
     "output_type": "stream",
     "text": [
      "Fitting 5 folds for each of 1 candidates, totalling 5 fits\n"
     ]
    },
    {
     "name": "stderr",
     "output_type": "stream",
     "text": [
      "[Parallel(n_jobs=-1)]: Done   2 out of   5 | elapsed:    6.4s remaining:    9.6s\n",
      "[Parallel(n_jobs=-1)]: Done   5 out of   5 | elapsed:    7.6s finished\n"
     ]
    },
    {
     "name": "stdout",
     "output_type": "stream",
     "text": [
      "Fitting 5 folds for each of 1 candidates, totalling 5 fits\n"
     ]
    },
    {
     "name": "stderr",
     "output_type": "stream",
     "text": [
      "[Parallel(n_jobs=-1)]: Done   2 out of   5 | elapsed:    6.1s remaining:    9.2s\n",
      "[Parallel(n_jobs=-1)]: Done   5 out of   5 | elapsed:    7.7s finished\n"
     ]
    },
    {
     "name": "stdout",
     "output_type": "stream",
     "text": [
      "Fitting 5 folds for each of 1 candidates, totalling 5 fits\n"
     ]
    },
    {
     "name": "stderr",
     "output_type": "stream",
     "text": [
      "[Parallel(n_jobs=-1)]: Done   2 out of   5 | elapsed:    7.4s remaining:   11.1s\n",
      "[Parallel(n_jobs=-1)]: Done   5 out of   5 | elapsed:   10.1s finished\n"
     ]
    },
    {
     "name": "stdout",
     "output_type": "stream",
     "text": [
      "Fitting 5 folds for each of 1 candidates, totalling 5 fits\n"
     ]
    },
    {
     "name": "stderr",
     "output_type": "stream",
     "text": [
      "[Parallel(n_jobs=-1)]: Done   2 out of   5 | elapsed:    7.0s remaining:   10.5s\n",
      "[Parallel(n_jobs=-1)]: Done   5 out of   5 | elapsed:    8.1s finished\n"
     ]
    },
    {
     "name": "stdout",
     "output_type": "stream",
     "text": [
      "Fitting 5 folds for each of 1 candidates, totalling 5 fits\n"
     ]
    },
    {
     "name": "stderr",
     "output_type": "stream",
     "text": [
      "[Parallel(n_jobs=-1)]: Done   2 out of   5 | elapsed:  4.8min remaining:  7.2min\n",
      "[Parallel(n_jobs=-1)]: Done   5 out of   5 | elapsed:  4.9min finished\n"
     ]
    },
    {
     "name": "stdout",
     "output_type": "stream",
     "text": [
      "Fitting 5 folds for each of 1 candidates, totalling 5 fits\n"
     ]
    },
    {
     "name": "stderr",
     "output_type": "stream",
     "text": [
      "[Parallel(n_jobs=-1)]: Done   2 out of   5 | elapsed:  4.6min remaining:  6.9min\n",
      "[Parallel(n_jobs=-1)]: Done   5 out of   5 | elapsed:  4.7min finished\n"
     ]
    },
    {
     "name": "stdout",
     "output_type": "stream",
     "text": [
      "Fitting 5 folds for each of 1 candidates, totalling 5 fits\n"
     ]
    },
    {
     "name": "stderr",
     "output_type": "stream",
     "text": [
      "[Parallel(n_jobs=-1)]: Done   2 out of   5 | elapsed:  4.9min remaining:  7.4min\n",
      "[Parallel(n_jobs=-1)]: Done   5 out of   5 | elapsed:  5.0min finished\n"
     ]
    },
    {
     "name": "stdout",
     "output_type": "stream",
     "text": [
      "Fitting 5 folds for each of 1 candidates, totalling 5 fits\n"
     ]
    },
    {
     "name": "stderr",
     "output_type": "stream",
     "text": [
      "[Parallel(n_jobs=-1)]: Done   2 out of   5 | elapsed:  4.9min remaining:  7.4min\n",
      "[Parallel(n_jobs=-1)]: Done   5 out of   5 | elapsed:  5.0min finished\n"
     ]
    }
   ],
   "source": [
    "# My Grid Seach is too long\n",
    "# I stop it after make just one classifier\n",
    "# for civil decicision (16 hours)\n",
    "# let s reduce to Top 25 for each classifier\n",
    "mod_list_civ=[]\n",
    "mod_list_com=[]\n",
    "mod_list_crim=[]\n",
    "mod_list_soc=[]\n",
    "Mat_sort_2 = []\n",
    "Mat_sort_2.extend([Mat_sort[1], Mat_sort[5], Mat_sort[9], Mat_sort[13]])\n",
    "mod_list_civ.extend(GetModel(0, top[1:2], Mat_sort_2, idx_val, Y_train_civ))\n",
    "mod_list_com.extend(GetModel(1, top[1:2], Mat_sort_2, idx_val, Y_train_com))\n",
    "mod_list_crim.extend(GetModel(2, top[1:2], Mat_sort_2, idx_val, Y_train_crim))\n",
    "mod_list_soc.extend(GetModel(3, top[1:2], Mat_sort_2, idx_val, Y_train_soc))"
   ]
  },
  {
   "cell_type": "code",
   "execution_count": 11,
   "metadata": {},
   "outputs": [],
   "source": [
    "for i, clf in enumerate(mod_list_civ):\n",
    "    joblib.dump(clf, 'clf_civ_' + str(i) + '.pkl')\n",
    "for i, clf in enumerate(mod_list_com):\n",
    "    joblib.dump(clf, 'clf_com_' + str(i) + '.pkl')\n",
    "for i, clf in enumerate(mod_list_crim):\n",
    "    joblib.dump(clf, 'clf_crim_' + str(i) + '.pkl')\n",
    "for i, clf in enumerate(mod_list_soc):\n",
    "    joblib.dump(clf, 'clf_soc_' + str(i) + '.pkl')\n",
    "    "
   ]
  },
  {
   "cell_type": "code",
   "execution_count": 13,
   "metadata": {},
   "outputs": [],
   "source": [
    "score_total_civ = np.zeros(4)\n",
    "score_total_civ[0] = accuracy_score(Y_val_civ,\n",
    "                                    mod_list_civ[0].predict(Mat_sort[1][len(idx_val):, :]))\n",
    "score_total_civ[1] = accuracy_score(Y_val_civ,\n",
    "                                    mod_list_civ[1].predict(Mat_sort[5][len(idx_val):, :]))\n",
    "score_total_civ[2] = accuracy_score(Y_val_civ,\n",
    "                                    mod_list_civ[2].predict(Mat_sort[9][len(idx_val):, :]))\n",
    "score_total_civ[3] = accuracy_score(Y_val_civ,\n",
    "                                    mod_list_civ[3].predict(Mat_sort[13][len(idx_val):, :]))\n",
    "score_total_com = np.zeros(4)\n",
    "score_total_com[0] = accuracy_score(Y_val_com,\n",
    "                                    mod_list_com[0].predict(Mat_sort[1][len(idx_val):, :]))\n",
    "score_total_com[1] = accuracy_score(Y_val_com,\n",
    "                                    mod_list_com[1].predict(Mat_sort[5][len(idx_val):, :]))\n",
    "score_total_com[2] = accuracy_score(Y_val_com,\n",
    "                                    mod_list_com[2].predict(Mat_sort[9][len(idx_val):, :]))\n",
    "score_total_com[3] = accuracy_score(Y_val_com,\n",
    "                                    mod_list_com[3].predict(Mat_sort[13][len(idx_val):, :]))\n",
    "score_total_crim = np.zeros(4)\n",
    "score_total_crim[0] = accuracy_score(Y_val_crim,\n",
    "                                    mod_list_crim[0].predict(Mat_sort[1][len(idx_val):, :]))\n",
    "score_total_crim[1] = accuracy_score(Y_val_crim,\n",
    "                                    mod_list_crim[1].predict(Mat_sort[5][len(idx_val):, :]))\n",
    "score_total_crim[2] = accuracy_score(Y_val_crim,\n",
    "                                    mod_list_crim[2].predict(Mat_sort[9][len(idx_val):, :]))\n",
    "score_total_crim[3] = accuracy_score(Y_val_crim,\n",
    "                                    mod_list_crim[3].predict(Mat_sort[13][len(idx_val):, :]))\n",
    "score_total_soc = np.zeros(4)\n",
    "score_total_soc[0] = accuracy_score(Y_val_soc,\n",
    "                                    mod_list_soc[0].predict(Mat_sort[1][len(idx_val):, :]))\n",
    "score_total_soc[1] = accuracy_score(Y_val_soc,\n",
    "                                    mod_list_soc[1].predict(Mat_sort[5][len(idx_val):, :]))\n",
    "score_total_soc[2] = accuracy_score(Y_val_soc,\n",
    "                                    mod_list_soc[2].predict(Mat_sort[9][len(idx_val):, :]))\n",
    "score_total_soc[3] = accuracy_score(Y_val_soc,\n",
    "                                    mod_list_soc[3].predict(Mat_sort[13][len(idx_val):, :]))"
   ]
  },
  {
   "cell_type": "code",
   "execution_count": 14,
   "metadata": {},
   "outputs": [
    {
     "data": {
      "image/png": "[encoded data removed]",
      "text/plain": [
       "<matplotlib.figure.Figure at 0x7f4d7db35ac8>"
      ]
     },
     "metadata": {},
     "output_type": "display_data"
    }
   ],
   "source": [
    "# let's plot the results\n",
    "import matplotlib.pyplot as plt\n",
    "%matplotlib inline\n",
    "plt.figure(figsize=(15, 15))\n",
    "tab = ['l1','l2','l1_sw','l2_sw']\n",
    "plt.scatter(tab, score_total_civ, label='civ', color='blue')\n",
    "plt.scatter(tab, score_total_com, label='com', color='green')\n",
    "plt.scatter(tab, score_total_crim, label='crim', color='orange')\n",
    "plt.scatter(tab, score_total_soc, label='soc', color='yellow')\n",
    "plt.title('Accuracy on validation set never seen for top 25 best tfidf scores per decisions')\n",
    "plt.legend()\n",
    "plt. show()\n"
   ]
  },
  {
   "cell_type": "code",
   "execution_count": 15,
   "metadata": {},
   "outputs": [
    {
     "name": "stdout",
     "output_type": "stream",
     "text": [
      "Civile:  [[1493    0]\n",
      " [1309    0]]\n",
      "Crim:  [[2763    0]\n",
      " [  39    0]]\n",
      "Com:  [[2575    0]\n",
      " [ 227    0]]\n",
      "Soc: [[1575    0]\n",
      " [1227    0]]\n"
     ]
    }
   ],
   "source": [
    "# let's check confusion matrix\n",
    "from sklearn.metrics import confusion_matrix\n",
    "print(\"Civile: \" ,confusion_matrix(Y_val_civ, mod_list_civ[0].predict(Mat_sort[1][len(idx_val):, :])))\n",
    "print(\"Crim: \", confusion_matrix(Y_val_crim, mod_list_crim[0].predict(Mat_sort[1][len(idx_val):, :])))\n",
    "print(\"Com: \",confusion_matrix(Y_val_com, mod_list_com[0].predict(Mat_sort[1][len(idx_val):, :])))\n",
    "print(\"Soc:\", confusion_matrix(Y_val_soc, mod_list_soc[0].predict(Mat_sort[1][len(idx_val):, :])))\n"
   ]
  },
  {
   "cell_type": "markdown",
   "metadata": {},
   "source": [
    "### Bad we always predict 0\n",
    "### too much dimension reduction"
   ]
  },
  {
   "cell_type": "code",
   "execution_count": 22,
   "metadata": {},
   "outputs": [
    {
     "name": "stdout",
     "output_type": "stream",
     "text": [
      "Fitting 5 folds for each of 5 candidates, totalling 25 fits\n"
     ]
    },
    {
     "name": "stderr",
     "output_type": "stream",
     "text": [
      "[Parallel(n_jobs=-1)]: Done  25 out of  25 | elapsed:   33.7s finished\n"
     ]
    },
    {
     "name": "stdout",
     "output_type": "stream",
     "text": [
      "Fitting 5 folds for each of 5 candidates, totalling 25 fits\n"
     ]
    },
    {
     "name": "stderr",
     "output_type": "stream",
     "text": [
      "[Parallel(n_jobs=-1)]: Done  25 out of  25 | elapsed:   38.5s finished\n"
     ]
    },
    {
     "name": "stdout",
     "output_type": "stream",
     "text": [
      "Fitting 5 folds for each of 5 candidates, totalling 25 fits\n"
     ]
    },
    {
     "name": "stderr",
     "output_type": "stream",
     "text": [
      "[Parallel(n_jobs=-1)]: Done  25 out of  25 | elapsed:   41.8s finished\n"
     ]
    },
    {
     "name": "stdout",
     "output_type": "stream",
     "text": [
      "Fitting 5 folds for each of 5 candidates, totalling 25 fits\n"
     ]
    },
    {
     "name": "stderr",
     "output_type": "stream",
     "text": [
      "[Parallel(n_jobs=-1)]: Done  25 out of  25 | elapsed:   43.3s finished\n"
     ]
    },
    {
     "name": "stdout",
     "output_type": "stream",
     "text": [
      "Fitting 5 folds for each of 5 candidates, totalling 25 fits\n"
     ]
    },
    {
     "name": "stderr",
     "output_type": "stream",
     "text": [
      "[Parallel(n_jobs=-1)]: Done  25 out of  25 | elapsed:   40.5s finished\n"
     ]
    },
    {
     "name": "stdout",
     "output_type": "stream",
     "text": [
      "Fitting 5 folds for each of 5 candidates, totalling 25 fits\n"
     ]
    },
    {
     "name": "stderr",
     "output_type": "stream",
     "text": [
      "[Parallel(n_jobs=-1)]: Done  25 out of  25 | elapsed:   37.1s finished\n"
     ]
    },
    {
     "name": "stdout",
     "output_type": "stream",
     "text": [
      "Fitting 5 folds for each of 5 candidates, totalling 25 fits\n"
     ]
    },
    {
     "name": "stderr",
     "output_type": "stream",
     "text": [
      "[Parallel(n_jobs=-1)]: Done  25 out of  25 | elapsed:   45.7s finished\n"
     ]
    },
    {
     "name": "stdout",
     "output_type": "stream",
     "text": [
      "Fitting 5 folds for each of 5 candidates, totalling 25 fits\n"
     ]
    },
    {
     "name": "stderr",
     "output_type": "stream",
     "text": [
      "[Parallel(n_jobs=-1)]: Done  25 out of  25 | elapsed:   42.6s finished\n"
     ]
    },
    {
     "name": "stdout",
     "output_type": "stream",
     "text": [
      "Fitting 5 folds for each of 5 candidates, totalling 25 fits\n"
     ]
    },
    {
     "name": "stderr",
     "output_type": "stream",
     "text": [
      "[Parallel(n_jobs=-1)]: Done  25 out of  25 | elapsed:   37.2s finished\n"
     ]
    },
    {
     "name": "stdout",
     "output_type": "stream",
     "text": [
      "Fitting 5 folds for each of 5 candidates, totalling 25 fits\n"
     ]
    },
    {
     "name": "stderr",
     "output_type": "stream",
     "text": [
      "[Parallel(n_jobs=-1)]: Done  25 out of  25 | elapsed:   38.3s finished\n"
     ]
    },
    {
     "name": "stdout",
     "output_type": "stream",
     "text": [
      "Fitting 5 folds for each of 5 candidates, totalling 25 fits\n"
     ]
    },
    {
     "name": "stderr",
     "output_type": "stream",
     "text": [
      "[Parallel(n_jobs=-1)]: Done  25 out of  25 | elapsed:   42.9s finished\n"
     ]
    },
    {
     "name": "stdout",
     "output_type": "stream",
     "text": [
      "Fitting 5 folds for each of 5 candidates, totalling 25 fits\n"
     ]
    },
    {
     "name": "stderr",
     "output_type": "stream",
     "text": [
      "[Parallel(n_jobs=-1)]: Done  25 out of  25 | elapsed:   42.0s finished\n"
     ]
    },
    {
     "name": "stdout",
     "output_type": "stream",
     "text": [
      "Fitting 5 folds for each of 5 candidates, totalling 25 fits\n"
     ]
    },
    {
     "name": "stderr",
     "output_type": "stream",
     "text": [
      "[Parallel(n_jobs=-1)]: Done  25 out of  25 | elapsed:   36.0s finished\n"
     ]
    },
    {
     "name": "stdout",
     "output_type": "stream",
     "text": [
      "Fitting 5 folds for each of 5 candidates, totalling 25 fits\n"
     ]
    },
    {
     "name": "stderr",
     "output_type": "stream",
     "text": [
      "[Parallel(n_jobs=-1)]: Done  25 out of  25 | elapsed:   38.4s finished\n"
     ]
    },
    {
     "name": "stdout",
     "output_type": "stream",
     "text": [
      "Fitting 5 folds for each of 5 candidates, totalling 25 fits\n"
     ]
    },
    {
     "name": "stderr",
     "output_type": "stream",
     "text": [
      "[Parallel(n_jobs=-1)]: Done  25 out of  25 | elapsed:   42.3s finished\n"
     ]
    },
    {
     "name": "stdout",
     "output_type": "stream",
     "text": [
      "Fitting 5 folds for each of 5 candidates, totalling 25 fits\n"
     ]
    },
    {
     "name": "stderr",
     "output_type": "stream",
     "text": [
      "[Parallel(n_jobs=-1)]: Done  25 out of  25 | elapsed:   48.0s finished\n"
     ]
    }
   ],
   "source": [
    "## Ensemeble methods are faster let 's take top 100\n",
    "mod_list_civ=[]\n",
    "mod_list_com=[]\n",
    "mod_list_crim=[]\n",
    "mod_list_soc=[]\n",
    "Mat_sort_2 = []\n",
    "Mat_sort_2.extend([Mat_sort[3], Mat_sort[7], Mat_sort[11], Mat_sort[15]])\n",
    "mod_list_civ.extend(GetModelET(top[3], Mat_sort_2, idx_val, Y_train_civ))\n",
    "mod_list_com.extend(GetModelET(top[3], Mat_sort_2, idx_val, Y_train_com))\n",
    "mod_list_crim.extend(GetModelET(top[3], Mat_sort_2, idx_val, Y_train_crim))\n",
    "mod_list_soc.extend(GetModelET(top[3], Mat_sort_2, idx_val, Y_train_soc))"
   ]
  },
  {
   "cell_type": "code",
   "execution_count": 23,
   "metadata": {},
   "outputs": [],
   "source": [
    "for i, clf in enumerate(mod_list_civ):\n",
    "    joblib.dump(clf, 'clf_civ_et_' + str(i) + '.pkl')\n",
    "for i, clf in enumerate(mod_list_com):\n",
    "    joblib.dump(clf, 'clf_com_et__' + str(i) + '.pkl')\n",
    "for i, clf in enumerate(mod_list_crim):\n",
    "    joblib.dump(clf, 'clf_crim_et_' + str(i) + '.pkl')\n",
    "for i, clf in enumerate(mod_list_soc):\n",
    "    joblib.dump(clf, 'clf_soc_et_' + str(i) + '.pkl')\n"
   ]
  },
  {
   "cell_type": "code",
   "execution_count": 26,
   "metadata": {},
   "outputs": [],
   "source": [
    "score_total_civ = np.zeros(4)\n",
    "score_total_civ[0] = accuracy_score(Y_val_civ,\n",
    "                                    mod_list_civ[0].predict(Mat_sort[3][len(idx_val):, :]))\n",
    "score_total_civ[1] = accuracy_score(Y_val_civ,\n",
    "                                    mod_list_civ[1].predict(Mat_sort[7][len(idx_val):, :]))\n",
    "score_total_civ[2] = accuracy_score(Y_val_civ,\n",
    "                                    mod_list_civ[2].predict(Mat_sort[11][len(idx_val):, :]))\n",
    "score_total_civ[3] = accuracy_score(Y_val_civ,\n",
    "                                    mod_list_civ[3].predict(Mat_sort[15][len(idx_val):, :]))\n",
    "score_total_com = np.zeros(4)\n",
    "score_total_com[0] = accuracy_score(Y_val_com,\n",
    "                                    mod_list_com[0].predict(Mat_sort[3][len(idx_val):, :]))\n",
    "score_total_com[1] = accuracy_score(Y_val_com,\n",
    "                                    mod_list_com[1].predict(Mat_sort[7][len(idx_val):, :]))\n",
    "score_total_com[2] = accuracy_score(Y_val_com,\n",
    "                                    mod_list_com[2].predict(Mat_sort[11][len(idx_val):, :]))\n",
    "score_total_com[3] = accuracy_score(Y_val_com,\n",
    "                                    mod_list_com[3].predict(Mat_sort[15][len(idx_val):, :]))\n",
    "score_total_crim = np.zeros(4)\n",
    "score_total_crim[0] = accuracy_score(Y_val_crim,\n",
    "                                    mod_list_crim[0].predict(Mat_sort[3][len(idx_val):, :]))\n",
    "score_total_crim[1] = accuracy_score(Y_val_crim,\n",
    "                                    mod_list_crim[1].predict(Mat_sort[7][len(idx_val):, :]))\n",
    "score_total_crim[2] = accuracy_score(Y_val_crim,\n",
    "                                    mod_list_crim[2].predict(Mat_sort[11][len(idx_val):, :]))\n",
    "score_total_crim[3] = accuracy_score(Y_val_crim,\n",
    "                                    mod_list_crim[3].predict(Mat_sort[15][len(idx_val):, :]))\n",
    "score_total_soc = np.zeros(4)\n",
    "score_total_soc[0] = accuracy_score(Y_val_soc,\n",
    "                                    mod_list_soc[0].predict(Mat_sort[3][len(idx_val):, :]))\n",
    "score_total_soc[1] = accuracy_score(Y_val_soc,\n",
    "                                    mod_list_soc[1].predict(Mat_sort[7][len(idx_val):, :]))\n",
    "score_total_soc[2] = accuracy_score(Y_val_soc,\n",
    "                                    mod_list_soc[2].predict(Mat_sort[11][len(idx_val):, :]))\n",
    "score_total_soc[3] = accuracy_score(Y_val_soc,\n",
    "                                    mod_list_soc[3].predict(Mat_sort[15][len(idx_val):, :]))"
   ]
  },
  {
   "cell_type": "code",
   "execution_count": 27,
   "metadata": {},
   "outputs": [
    {
     "data": {
      "image/png": "[encoded data removed]",
      "text/plain": [
       "<matplotlib.figure.Figure at 0x7f4d6f9570b8>"
      ]
     },
     "metadata": {},
     "output_type": "display_data"
    }
   ],
   "source": [
    "%matplotlib inline\n",
    "plt.figure(figsize=(15, 15))\n",
    "tab = ['l1','l2','l1_sw','l2_sw']\n",
    "plt.scatter(tab, score_total_civ, label='civ', color='blue')\n",
    "plt.scatter(tab, score_total_com, label='com', color='green')\n",
    "plt.scatter(tab, score_total_crim, label='crim', color='orange')\n",
    "plt.scatter(tab, score_total_soc, label='soc', color='yellow')\n",
    "plt.title('Accuracy on validation set never seen for top 100 best tfidf scores per decisions and ET')\n",
    "plt.legend()\n",
    "plt. show()"
   ]
  },
  {
   "cell_type": "code",
   "execution_count": 28,
   "metadata": {},
   "outputs": [
    {
     "name": "stdout",
     "output_type": "stream",
     "text": [
      "Civile:  [[1490    3]\n",
      " [1237   72]]\n",
      "Crim:  [[2763    0]\n",
      " [  39    0]]\n",
      "Com:  [[2575    0]\n",
      " [ 227    0]]\n",
      "Soc: [[1575    0]\n",
      " [1226    1]]\n"
     ]
    }
   ],
   "source": [
    "# let's check confusion matrix\n",
    "from sklearn.metrics import confusion_matrix\n",
    "print(\"Civile: \" ,confusion_matrix(Y_val_civ, mod_list_civ[0].predict(Mat_sort[1][len(idx_val):, :])))\n",
    "print(\"Crim: \", confusion_matrix(Y_val_crim, mod_list_crim[0].predict(Mat_sort[1][len(idx_val):, :])))\n",
    "print(\"Com: \",confusion_matrix(Y_val_com, mod_list_com[0].predict(Mat_sort[1][len(idx_val):, :])))\n",
    "print(\"Soc:\", confusion_matrix(Y_val_soc, mod_list_soc[0].predict(Mat_sort[1][len(idx_val):, :])))"
   ]
  },
  {
   "cell_type": "markdown",
   "metadata": {},
   "source": [
    "### Better let's take the full matrix for dec_civ"
   ]
  },
  {
   "cell_type": "code",
   "execution_count": 35,
   "metadata": {},
   "outputs": [
    {
     "name": "stdout",
     "output_type": "stream",
     "text": [
      "Fitting 5 folds for each of 5 candidates, totalling 25 fits\n"
     ]
    },
    {
     "name": "stderr",
     "output_type": "stream",
     "text": [
      "[Parallel(n_jobs=-1)]: Done  25 out of  25 | elapsed:  2.7min finished\n"
     ]
    },
    {
     "data": {
      "text/plain": [
       "GridSearchCV(cv=5, error_score='raise',\n",
       "       estimator=ExtraTreesClassifier(bootstrap=False, class_weight=None, criterion='gini',\n",
       "           max_depth=None, max_features='auto', max_leaf_nodes=None,\n",
       "           min_impurity_decrease=0.0, min_impurity_split=None,\n",
       "           min_samples_leaf=1, min_samples_split=2,\n",
       "           min_weight_fraction_leaf=0.0, n_estimators=10, n_jobs=1,\n",
       "           oob_score=False, random_state=None, verbose=0, warm_start=False),\n",
       "       fit_params=None, iid=True, n_jobs=-1,\n",
       "       param_grid={'n_estimators': [150], 'max_depth': [2, 5, 8, 10, 12]},\n",
       "       pre_dispatch='2*n_jobs', refit=True, return_train_score='warn',\n",
       "       scoring=None, verbose=1)"
      ]
     },
     "execution_count": 35,
     "metadata": {},
     "output_type": "execute_result"
    }
   ],
   "source": [
    "X = list(itertools.chain(X_train, X_val))\n",
    "text_clf_tr_l2_sw = Pipeline([('vect', CountVectorizer(stop_words=stw)),\n",
    "                              ('tfidf', TfidfTransformer(norm='l2'))]).fit_transform(X)\n",
    "clf = GridSearchCV(ExtraTreesClassifier(),parameters_et, cv=5, verbose=1,n_jobs=-1)\n",
    "clf.fit(text_clf_tr_l2_sw[:len(idx_val),:],Y_train_civ)"
   ]
  },
  {
   "cell_type": "code",
   "execution_count": 37,
   "metadata": {},
   "outputs": [
    {
     "name": "stdout",
     "output_type": "stream",
     "text": [
      "le score est  0.9004282655246253\n"
     ]
    }
   ],
   "source": [
    "#\n",
    "print(\"le score est \", accuracy_score(Y_val_civ,clf.predict(text_clf_tr_l2_sw[len(idx_val):,:])))\n",
    "      "
   ]
  },
  {
   "cell_type": "code",
   "execution_count": 39,
   "metadata": {},
   "outputs": [
    {
     "name": "stdout",
     "output_type": "stream",
     "text": [
      "Civile:  [[1438   55]\n",
      " [ 224 1085]]\n"
     ]
    }
   ],
   "source": [
    "print(\"Civile: \" ,confusion_matrix(Y_val_civ, clf.predict(text_clf_tr_l2_sw[len(idx_val):, :])))"
   ]
  },
  {
   "cell_type": "markdown",
   "metadata": {},
   "source": [
    "## Score of 0.90 with 224 false positives ( pretty high)"
   ]
  },
  {
   "cell_type": "code",
   "execution_count": 40,
   "metadata": {},
   "outputs": [
    {
     "name": "stdout",
     "output_type": "stream",
     "text": [
      "Fitting 5 folds for each of 5 candidates, totalling 25 fits\n"
     ]
    },
    {
     "name": "stderr",
     "output_type": "stream",
     "text": [
      "[Parallel(n_jobs=-1)]: Done  25 out of  25 | elapsed:  2.5min finished\n"
     ]
    },
    {
     "name": "stdout",
     "output_type": "stream",
     "text": [
      "Fitting 5 folds for each of 5 candidates, totalling 25 fits\n"
     ]
    },
    {
     "name": "stderr",
     "output_type": "stream",
     "text": [
      "[Parallel(n_jobs=-1)]: Done  25 out of  25 | elapsed:  2.8min finished\n"
     ]
    },
    {
     "name": "stdout",
     "output_type": "stream",
     "text": [
      "Fitting 5 folds for each of 5 candidates, totalling 25 fits\n"
     ]
    },
    {
     "name": "stderr",
     "output_type": "stream",
     "text": [
      "[Parallel(n_jobs=-1)]: Done  25 out of  25 | elapsed:  2.5min finished\n"
     ]
    },
    {
     "data": {
      "text/plain": [
       "GridSearchCV(cv=5, error_score='raise',\n",
       "       estimator=ExtraTreesClassifier(bootstrap=False, class_weight=None, criterion='gini',\n",
       "           max_depth=None, max_features='auto', max_leaf_nodes=None,\n",
       "           min_impurity_decrease=0.0, min_impurity_split=None,\n",
       "           min_samples_leaf=1, min_samples_split=2,\n",
       "           min_weight_fraction_leaf=0.0, n_estimators=10, n_jobs=1,\n",
       "           oob_score=False, random_state=None, verbose=0, warm_start=False),\n",
       "       fit_params=None, iid=True, n_jobs=-1,\n",
       "       param_grid={'n_estimators': [150], 'max_depth': [2, 5, 8, 10, 12]},\n",
       "       pre_dispatch='2*n_jobs', refit=True, return_train_score='warn',\n",
       "       scoring=None, verbose=1)"
      ]
     },
     "execution_count": 40,
     "metadata": {},
     "output_type": "execute_result"
    }
   ],
   "source": [
    "clf_com = GridSearchCV(ExtraTreesClassifier(),parameters_et, cv=5, verbose=1,n_jobs=-1)\n",
    "clf_com.fit(text_clf_tr_l2_sw[:len(idx_val),:],Y_train_com)\n",
    "clf_soc = GridSearchCV(ExtraTreesClassifier(),parameters_et, cv=5, verbose=1,n_jobs=-1)\n",
    "clf_soc.fit(text_clf_tr_l2_sw[:len(idx_val),:],Y_train_soc)\n",
    "clf_crim = GridSearchCV(ExtraTreesClassifier(),parameters_et, cv=5, verbose=1,n_jobs=-1)\n",
    "clf_crim.fit(text_clf_tr_l2_sw[:len(idx_val),:],Y_train_crim)"
   ]
  },
  {
   "cell_type": "code",
   "execution_count": 41,
   "metadata": {},
   "outputs": [
    {
     "name": "stdout",
     "output_type": "stream",
     "text": [
      "le score est pour le classifieur civil  0.9004282655246253\n",
      "le score est pour le classifieur com  0.9189864382583869\n",
      "le score est pour le classifieur soc 0.7708779443254818\n",
      "le score est pour le classifieur crim 0.9860813704496788\n"
     ]
    }
   ],
   "source": [
    "print(\"le score est pour le classifieur civil \", accuracy_score(Y_val_civ,clf.predict(text_clf_tr_l2_sw[len(idx_val):,:])))\n",
    "print(\"le score est pour le classifieur com \", accuracy_score(Y_val_com,clf_com.predict(text_clf_tr_l2_sw[len(idx_val):,:])))\n",
    "print(\"le score est pour le classifieur soc\", accuracy_score(Y_val_soc,clf_soc.predict(text_clf_tr_l2_sw[len(idx_val):,:])))\n",
    "print(\"le score est pour le classifieur crim\", accuracy_score(Y_val_crim,clf_crim.predict(text_clf_tr_l2_sw[len(idx_val):,:])))"
   ]
  },
  {
   "cell_type": "code",
   "execution_count": 42,
   "metadata": {},
   "outputs": [
    {
     "name": "stdout",
     "output_type": "stream",
     "text": [
      "Civile:  [[1438   55]\n",
      " [ 224 1085]]\n",
      "Com:  [[1483 1092]\n",
      " [ 179   48]]\n",
      "Soc:  [[ 442 1133]\n",
      " [1220    7]]\n",
      "Crim  [[1623 1140]\n",
      " [  39    0]]\n"
     ]
    }
   ],
   "source": [
    "print(\"Civile: \" ,confusion_matrix(Y_val_civ, clf.predict(text_clf_tr_l2_sw[len(idx_val):, :])))\n",
    "print(\"Com: \" ,confusion_matrix(Y_val_com, clf.predict(text_clf_tr_l2_sw[len(idx_val):, :])))\n",
    "print(\"Soc: \" ,confusion_matrix(Y_val_soc, clf.predict(text_clf_tr_l2_sw[len(idx_val):, :])))\n",
    "print(\"Crim \" ,confusion_matrix(Y_val_crim, clf.predict(text_clf_tr_l2_sw[len(idx_val):, :])))"
   ]
  },
  {
   "cell_type": "code",
   "execution_count": 15,
   "metadata": {},
   "outputs": [
    {
     "name": "stdout",
     "output_type": "stream",
     "text": [
      "Once deleted, variables cannot be recovered. Proceed (y/[n])? y\n"
     ]
    }
   ],
   "source": [
    "%reset"
   ]
  },
  {
   "cell_type": "code",
   "execution_count": 3,
   "metadata": {},
   "outputs": [],
   "source": [
    "X = list(itertools.chain(X_train, X_val))"
   ]
  },
  {
   "cell_type": "code",
   "execution_count": 4,
   "metadata": {},
   "outputs": [
    {
     "name": "stdout",
     "output_type": "stream",
     "text": [
      "peak memory: 659.03 MiB, increment: 0.02 MiB\n"
     ]
    }
   ],
   "source": [
    "%memit"
   ]
  },
  {
   "cell_type": "code",
   "execution_count": null,
   "metadata": {},
   "outputs": [],
   "source": [
    "# let X be a list of tokenized texts (i.e. list of lists of tokens)\n",
    "# let's train the model\n",
    "model = gensim.models.Word2Vec(LineSentence(X), size=200, window=5, min_count=5,\n",
    "                               workers=6)\n",
    "w2v = dict(zip(model.wv.index2word, model.wv.syn0))"
   ]
  },
  {
   "cell_type": "code",
   "execution_count": 8,
   "metadata": {},
   "outputs": [],
   "source": [
    "# let's implemnt a class to include in our pipeline\n",
    "\n",
    "class MeanEmbeddingVectorizer(object):\n",
    "    def __init__(self, word2vec):\n",
    "        self.word2vec = word2vec\n",
    "        # if a text is empty we should return a vector of zeros\n",
    "        # with the same dimensionality as all the other vectors\n",
    "        self.dim = len(word2vec.itervalues().next())\n",
    "\n",
    "    def fit(self, X, y):\n",
    "        return self\n",
    "\n",
    "    def transform(self, X):\n",
    "        return np.array([\n",
    "            np.mean([self.word2vec[w] for w in words if w in self.word2vec]\n",
    "                    or [np.zeros(self.dim)], axis=0)\n",
    "            for words in X\n",
    "        ])"
   ]
  },
  {
   "cell_type": "code",
   "execution_count": 9,
   "metadata": {},
   "outputs": [],
   "source": [
    "class TfidfEmbeddingVectorizer(object):\n",
    "    def __init__(self, word2vec):\n",
    "        self.word2vec = word2vec\n",
    "        self.word2weight = None\n",
    "        self.dim = len(word2vec.itervalues().next())\n",
    "\n",
    "    def fit(self, X, y):\n",
    "        tfidf = TfidfVectorizer(analyzer=lambda x: x)\n",
    "        tfidf.fit(X)\n",
    "        # if a word was never seen - it must be at least as infrequent\n",
    "        # as any of the known words - so the default idf is the max of\n",
    "        # known idf's\n",
    "        max_idf = max(tfidf.idf_)\n",
    "        self.word2weight = defaultdict(\n",
    "            lambda: max_idf,\n",
    "            [(w, tfidf.idf_[i]) for w, i in tfidf.vocabulary_.items()])\n",
    "\n",
    "        return self\n",
    "\n",
    "    def transform(self, X):\n",
    "        return np.array([\n",
    "            np.mean([self.word2vec[w] * self.word2weight[w]\n",
    "                     for w in words if w in self.word2vec] or\n",
    "                    [np.zeros(self.dim)], axis=0)\n",
    "            for words in X\n",
    "        ])"
   ]
  },
  {
   "cell_type": "code",
   "execution_count": 10,
   "metadata": {},
   "outputs": [
    {
     "ename": "NameError",
     "evalue": "name 'w2v' is not defined",
     "output_type": "error",
     "traceback": [
      "\u001b[0;31m---------------------------------------------------------------------------\u001b[0m",
      "\u001b[0;31mNameError\u001b[0m                                 Traceback (most recent call last)",
      "\u001b[0;32m<ipython-input-10-59d0f8c4cd3f>\u001b[0m in \u001b[0;36m<module>\u001b[0;34m()\u001b[0m\n\u001b[1;32m      1\u001b[0m svm_w2v = Pipeline([\n\u001b[0;32m----> 2\u001b[0;31m     \u001b[0;34m(\u001b[0m\u001b[0;34m\"word2vec vectorizer\"\u001b[0m\u001b[0;34m,\u001b[0m \u001b[0mMeanEmbeddingVectorizer\u001b[0m\u001b[0;34m(\u001b[0m\u001b[0mw2v\u001b[0m\u001b[0;34m)\u001b[0m\u001b[0;34m)\u001b[0m\u001b[0;34m,\u001b[0m\u001b[0;34m\u001b[0m\u001b[0m\n\u001b[0m\u001b[1;32m      3\u001b[0m     (\"svm trees\", SVC())])\n\u001b[1;32m      4\u001b[0m svm_w2v_tfidf = Pipeline([\n\u001b[1;32m      5\u001b[0m     \u001b[0;34m(\u001b[0m\u001b[0;34m\"word2vec vectorizer\"\u001b[0m\u001b[0;34m,\u001b[0m \u001b[0mTfidfEmbeddingVectorizer\u001b[0m\u001b[0;34m(\u001b[0m\u001b[0mw2v\u001b[0m\u001b[0;34m)\u001b[0m\u001b[0;34m)\u001b[0m\u001b[0;34m,\u001b[0m\u001b[0;34m\u001b[0m\u001b[0m\n",
      "\u001b[0;31mNameError\u001b[0m: name 'w2v' is not defined"
     ]
    }
   ],
   "source": [
    "svm_w2v = Pipeline([\n",
    "    (\"word2vec vectorizer\", MeanEmbeddingVectorizer(w2v)),\n",
    "    (\"svm trees\", SVC())])\n",
    "svm_w2v_tfidf = Pipeline([\n",
    "    (\"word2vec vectorizer\", TfidfEmbeddingVectorizer(w2v)),\n",
    "    (\"svm trees\", SVC())])"
   ]
  },
  {
   "cell_type": "markdown",
   "metadata": {},
   "source": [
    "### Unfortunately word2vec was too long to train\n",
    "### it is quite strange as it should simply take \n",
    "### 10mn, as per some tutorials.\n",
    "### I might have an issue with my gensim setup\n",
    "\n",
    "## Moreover I have learn that the \" fléau de la dimension \"\n",
    "## is the main issue as the computation time can be big \n",
    "## ( more than 8 hours for my firts GridSearch attempt)\n",
    "## What we have tried here is two methods for reducing the problem scope\n",
    "## In fact the Algorithm will work much better if we give him independent features\n",
    "\n",
    " - 1) By selecting top scorres from CountVecorizer + tfidf ( with norms [l1, l2] and stop words or not)\n",
    " - 2) By building a word2vec for reducing dimensionnality -> threshold of the apparition probability of a word close to another\n",
    " \n",
    " Main issue is my RAM and computation limitation, is for that my notebook not linear a i dump everything to disk"
   ]
  },
  {
   "cell_type": "code",
   "execution_count": null,
   "metadata": {},
   "outputs": [],
   "source": []
  }
 ],
 "metadata": {
  "kernelspec": {
   "display_name": "Python 3",
   "language": "python",
   "name": "python3"
  },
  "language_info": {
   "codemirror_mode": {
    "name": "ipython",
    "version": 3
   },
   "file_extension": ".py",
   "mimetype": "text/x-python",
   "name": "python",
   "nbconvert_exporter": "python",
   "pygments_lexer": "ipython3",
   "version": "3.6.4"
  },
  "latex_envs": {
   "LaTeX_envs_menu_present": true,
   "autocomplete": true,
   "bibliofile": "biblio.bib",
   "cite_by": "apalike",
   "current_citInitial": 1,
   "eqLabelWithNumbers": true,
   "eqNumInitial": 1,
   "hotkeys": {
    "equation": "Ctrl-E",
    "itemize": "Ctrl-I"
   },
   "labels_anchors": false,
   "latex_user_defs": false,
   "report_style_numbering": false,
   "user_envs_cfg": false
  }
 },
 "nbformat": 4,
 "nbformat_minor": 2
}
