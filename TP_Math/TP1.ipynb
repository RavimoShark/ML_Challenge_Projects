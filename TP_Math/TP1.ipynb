{
 "cells": [
  {
   "cell_type": "markdown",
   "metadata": {},
   "source": [
    "### 1 ere Question \n",
    "J'ai essayé de faire 3 exemples afin de donner les 3 différents réultats possibles\n"
   ]
  },
  {
   "cell_type": "code",
   "execution_count": 20,
   "metadata": {},
   "outputs": [
    {
     "name": "stdout",
     "output_type": "stream",
     "text": [
      "2^3 =  8\n",
      "2^(3.5)= 16\n",
      "Erreur n n'est pas un nombre reel\n",
      "2^(a)= None\n"
     ]
    }
   ],
   "source": [
    "import math\n",
    "import numpy as np\n",
    "from sklearn import linear_model\n",
    "from os import mkdir\n",
    "\n",
    "def nextpower(n) :    \n",
    "    if type(n) == int :\n",
    "        return 2**n\n",
    "    elif type(n) == float :\n",
    "        return 2**(int(n+1))\n",
    "    else :\n",
    "         print(\"Erreur n n'est pas un nombre reel\")\n",
    "a = ['pipi']\n",
    "print ('2^3 = ' , nextpower(3))\n",
    "print('2^(3.5)=' , nextpower(3.5))\n",
    "print('2^(a)=' , nextpower(a))\n",
    "\n",
    "\n",
    "    \n",
    "    "
   ]
  },
  {
   "cell_type": "markdown",
   "metadata": {},
   "source": [
    "## 2 eme Question\n",
    "Slicing"
   ]
  },
  {
   "cell_type": "code",
   "execution_count": 12,
   "metadata": {},
   "outputs": [
    {
     "name": "stdout",
     "output_type": "stream",
     "text": [
      "la reponse 1 est :  cfilorux\n",
      "la reponse 2 est :   vxz\n",
      "la reponse 2 bis est :   vxz\n"
     ]
    }
   ],
   "source": [
    "import math\n",
    "import numpy as np\n",
    "from sklearn import linear_model\n",
    "from os import mkdir\n",
    "\n",
    "alphabet = 'abcdefghijklmnopqrstuvwxyz'\n",
    "##slice cfilorux ()\n",
    "resp1 = alphabet[2:12:3]+alphabet[14:25:3]\n",
    "print('la reponse 1 est : ', resp1)\n",
    "##2 façons de slice \n",
    "resp2 = alphabet[21:26:2]\n",
    "print('la reponse 2 est :  ', resp2)\n",
    "resp2bis = alphabet[-5::2]\n",
    "print('la reponse 2 bis est :  ', resp2bis)"
   ]
  },
  {
   "cell_type": "markdown",
   "metadata": {},
   "source": [
    "## 3 eme Question\n",
    " Pi avec 9 decimales"
   ]
  },
  {
   "cell_type": "code",
   "execution_count": 19,
   "metadata": {},
   "outputs": [
    {
     "name": "stdout",
     "output_type": "stream",
     "text": [
      "3.141592654\n"
     ]
    }
   ],
   "source": [
    "import math\n",
    "import numpy as np\n",
    "from sklearn import linear_model\n",
    "from os import mkdir\n",
    "print(round(math.pi,9))"
   ]
  },
  {
   "cell_type": "markdown",
   "metadata": {},
   "source": [
    "## 4 eme Question\n",
    "nombre d'occurence de chaque lettre HelLo WorLd!!"
   ]
  },
  {
   "cell_type": "code",
   "execution_count": 7,
   "metadata": {},
   "outputs": [
    {
     "name": "stdout",
     "output_type": "stream",
     "text": [
      "le dictionnaire réponse est :  {'H': 1, 'e': 1, 'l': 1, 'L': 2, 'o': 2, ' ': 1, 'W': 1, 'r': 1, 'd': 1, '!': 2}\n"
     ]
    }
   ],
   "source": [
    "import math\n",
    "import numpy as np\n",
    "from sklearn import linear_model\n",
    "from os import mkdir\n",
    "\n",
    "\n",
    "s='HelLo WorLd!!'\n",
    "\n",
    "def OccurenceKeydict(k) :\n",
    "    resultdict = dict()\n",
    "    resultdict = {}  ## initialisation\n",
    "    i=0\n",
    "    while i < len(k) :\n",
    "        if k[i] in resultdict : ## test si la clé est présente dans le dictionnaire\n",
    "            resultdict[k[i]] += 1 ## clé existe on incremente\n",
    "        else :\n",
    "            resultdict[k[i]] = 1 ## ajout de la clé au dictionnaire\n",
    "        i+=1\n",
    "    print('le dictionnaire réponse est : ', resultdict)\n",
    "OccurenceKeydict(s)"
   ]
  },
  {
   "cell_type": "markdown",
   "metadata": {
    "collapsed": true
   },
   "source": [
    "## 5 eme question\n",
    "Fonction de codage par inversin de lettre"
   ]
  },
  {
   "cell_type": "code",
   "execution_count": 8,
   "metadata": {},
   "outputs": [
    {
     "name": "stdout",
     "output_type": "stream",
     "text": [
      "{'a': 'c', 'b': 's', 'c': 'o', 'd': 'i', 'e': 'y', 'f': 'f', 'g': 'a', 'h': 'j', 'i': 'e', 'j': 'z', 'k': 'm', 'l': 'n', 'm': 'p', 'n': 't', 'o': 'v', 'p': 'u', 'q': 'w', 'r': 'r', 's': 'q', 't': 'b', 'u': 'h', 'v': 'k', 'w': 'x', 'x': 'g', 'y': 'd', 'z': 'l'}\n",
      "pcrduvuuetq\n"
     ]
    }
   ],
   "source": [
    "import math\n",
    "import random as r\n",
    "import numpy as np\n",
    "from sklearn import linear_model\n",
    "from os import mkdir\n",
    "\n",
    "def CodageInvLettre (s) :\n",
    "    TableCodage = dict ()\n",
    "    TableCodage = {}\n",
    "    ResultList = []\n",
    "    ResultString=''\n",
    "    alphabet = 'abcdefghijklmnopqrstuvwxyz'\n",
    "    x = list(range(26))\n",
    "    r.shuffle(x) ##liste corespondance indice i->x(i)\n",
    "    i = 0\n",
    "    j = 0\n",
    "    while i < len(alphabet) :\n",
    "        TableCodage[alphabet[i]]=alphabet[x[i]] ##dictionnaire lettre avec sa corresponance\n",
    "        i += 1\n",
    "    print(TableCodage)\n",
    "    while j < len(s) :\n",
    "        ResultList.append(TableCodage[s[j]])\n",
    "        j += 1\n",
    "    ResultString = ''.join(ResultList) \n",
    "    return ResultString\n",
    "\n",
    "print (CodageInvLettre ('marypoppins'))"
   ]
  },
  {
   "cell_type": "markdown",
   "metadata": {
    "collapsed": true
   },
   "source": [
    "## 6 eme question\n",
    "2 "
   ]
  },
  {
   "cell_type": "code",
   "execution_count": 15,
   "metadata": {},
   "outputs": [
    {
     "name": "stdout",
     "output_type": "stream",
     "text": [
      "Le temps d'execution avec boucle est :  0.08954286575317383\n",
      "3.1415847995787733\n",
      "Le temps d'execution vectoriel est :  0.0028619766235351562\n",
      "l'execution vectoriel est:  31.28707097634122  fois plus rapide\n",
      "l'ecart est :  0.08668088912963867\n",
      "3.14158479958\n"
     ]
    }
   ],
   "source": [
    "import time\n",
    "import math\n",
    "import random as r\n",
    "import numpy as np\n",
    "from sklearn import linear_model\n",
    "from os import mkdir\n",
    "\n",
    "## 1 ere Solution avec boucle \n",
    "\n",
    "DifTpsExec = 0\n",
    "\n",
    "def CalculAvecBoucle (rang) :\n",
    "    global DifTpsExec\n",
    "    debut=time.time()\n",
    "    result=2\n",
    "    for i in range(1,rang) : ##Boucle for\n",
    "        result = result * (4 * i**2)/((4 * i**2)-1)\n",
    "    DifTpsExec = (time.time()) - debut\n",
    "    print(\"Le temps d'execution avec boucle est : \" , DifTpsExec)\n",
    "    return result\n",
    "    \n",
    "\n",
    "\n",
    "## 2 emem Solution sans boucle\n",
    "\n",
    "def CalculSansBoucle (rang) :\n",
    "    global DifTpsExec\n",
    "    debut = time.time()\n",
    "    b = np.arange(1,rang)\n",
    "    c = np.arange(1, (2 * rang +1 ), 2) ##suite des chiffres impair jusqu'à rang\n",
    "    d = np.multiply(4 * b ,b) ## 4* i*i\n",
    "    e = np.multiply(c[:(rang-1)],c[1:]) ##(2*i-1)*(2*i+1)\n",
    "    f = np.multiply(d,1/e)\n",
    "    result = 2 * np.prod(f) \n",
    "    tempsexec = (time.time()) - debut\n",
    "    Rap = DifTpsExec/tempsexec\n",
    "    DifTpsExec = DifTpsExec - tempsexec\n",
    "    print(\"Le temps d'execution vectoriel est : \" , tempsexec)\n",
    "    print(\"l'execution vectoriel est: \",Rap, \" fois plus rapide\" )\n",
    "    print(\"l'ecart est : \", DifTpsExec)\n",
    "    return result\n",
    "\n",
    "print(CalculAvecBoucle(100000))   \n",
    "print(CalculSansBoucle(100000))\n",
    "\n",
    "\n"
   ]
  },
  {
   "cell_type": "markdown",
   "metadata": {
    "collapsed": true
   },
   "source": [
    "## 7 eme question \n",
    " quicksort\n",
    " "
   ]
  },
  {
   "cell_type": "code",
   "execution_count": 21,
   "metadata": {},
   "outputs": [
    {
     "name": "stdout",
     "output_type": "stream",
     "text": [
      "[-2, 1, 3, 3, 5]\n"
     ]
    }
   ],
   "source": [
    "import time\n",
    "import math\n",
    "import random as r\n",
    "import numpy as np\n",
    "from sklearn import linear_model\n",
    "from os import mkdir\n",
    "\n",
    "def quicksort(ll) :\n",
    "    \n",
    "    if len(ll) <= 1  :\n",
    "        return ll\n",
    "    else :\n",
    "        pivot = ll.pop()\n",
    "        P = [pivot]\n",
    "        less = []\n",
    "        greater = []\n",
    "    for x in ll :\n",
    "        if x <= pivot :\n",
    "            less.append(x)\n",
    "        else :\n",
    "            greater.append(x)\n",
    "    return quicksort(less)+P+quicksort(greater)\n",
    "## exemple\n",
    "ll = [-2, 3, 5, 1, 3]\n",
    "print(quicksort(ll))\n"
   ]
  },
  {
   "cell_type": "markdown",
   "metadata": {},
   "source": [
    "## 8 eme question\n",
    "Creation Matrice 5x6 \n",
    "operation sur colonnes et ensuite masque valeur\n"
   ]
  },
  {
   "cell_type": "code",
   "execution_count": 45,
   "metadata": {},
   "outputs": [
    {
     "name": "stdout",
     "output_type": "stream",
     "text": [
      "la matrice est:\n",
      " [[-0.95547369  0.4122763   0.75385212  0.54158744  0.0847623  -0.47845536]\n",
      " [-0.10104452  0.3379693  -0.50904651 -0.94310688 -0.38894855 -0.99647391]\n",
      " [-0.74939479 -0.89345892  0.57353983  0.61900343  0.89722523 -0.59428678]\n",
      " [-0.83240609  0.75566462 -0.06757071 -0.13828724  0.86338934  0.57382138]\n",
      " [ 0.43151265  0.24355736 -0.27456931  0.82107563  0.24305556 -0.21422622]]\n",
      "la matrice après opération est:\n",
      " [[-1.78002629  0.4122763  -0.32932277  0.54158744  1.04167302 -0.47845536]\n",
      " [-0.77698313  0.3379693   1.37716724 -0.94310688  1.60399927 -0.99647391]\n",
      " [ 1.03752306 -0.89345892 -0.66446704  0.61900343  2.08579879 -0.59428678]\n",
      " [-2.34373533  0.75566462  0.20900378 -0.13828724 -0.28425343  0.57382138]\n",
      " [-0.05560208  0.24355736 -1.91672057  0.82107563  0.67150799 -0.21422622]]\n",
      "Le masque binaire est \n",
      " [[False  True False  True  True False]\n",
      " [False  True  True False  True False]\n",
      " [ True False False  True  True False]\n",
      " [False  True  True False False  True]\n",
      " [False  True False  True  True False]]\n",
      "Résultat final est : \n",
      " [ 0.4122763   0.54158744  1.04167302  0.3379693   1.37716724  1.60399927\n",
      "  1.03752306  0.61900343  2.08579879  0.75566462  0.20900378  0.57382138\n",
      "  0.24355736  0.82107563  0.67150799]\n"
     ]
    }
   ],
   "source": [
    "import time\n",
    "import math\n",
    "import random as rand\n",
    "import numpy as np\n",
    "from sklearn import linear_model\n",
    "from os import mkdir\n",
    "\n",
    "## creation Matrix\n",
    "a = np.random.uniform(-1,1,(5,6)) ##Matrice 5x6 avec coef aleatoires dans [-1,1]\n",
    "print(\"la matrice est:\\n\", a)\n",
    "a[::,::2] = a[::,::2] - 2 * a[::,1::2] ##opération sur les colonnes\n",
    "print(\"la matrice après opération est:\\n\", a)\n",
    "row_mask = a >= 0 \n",
    "print(\"Le masque binaire est \\n\", row_mask)\n",
    "print(\"Résultat final est : \\n\", a[row_mask])\n",
    "\n"
   ]
  },
  {
   "cell_type": "markdown",
   "metadata": {},
   "source": [
    "## 9 eme question\n"
   ]
  },
  {
   "cell_type": "code",
   "execution_count": 1,
   "metadata": {},
   "outputs": [
    {
     "name": "stdout",
     "output_type": "stream",
     "text": [
      "True\n",
      "les Valeurs Propres de M sont \n",
      " [  4.79870075   5.76691907   6.7293173    8.10100657  10.33093867]\n",
      "la matrice est bien semi definie positive car ses valeurs propres sont positives [ True  True  True  True  True]\n",
      "la matrice est de rang 5\n"
     ]
    }
   ],
   "source": [
    "import time\n",
    "import math\n",
    "import random as rand\n",
    "import numpy as np\n",
    "from sklearn import linear_model\n",
    "from os import mkdir\n",
    "\n",
    "## creation Matrix\n",
    "a = np.random.uniform(-1,1,(5,20)) ##Matrice 5x20 avec coef aleatoires dans [-1,1]\n",
    "m = np.dot(a,np.transpose(a)) ##multiplication matricielle\n",
    "print(np.allclose(m, np.transpose(m)))##transpose(M)==M <=> M symetrique\n",
    "eighenvalues = np.linalg.eigh(m)[0]\n",
    "print(\"les Valeurs Propres de M sont \\n\" ,  eighenvalues)## Valeurs propres de M\n",
    "print(\"la matrice est bien semi definie positive car ses valeurs propres sont positives\", eighenvalues > 0 )\n",
    "print(\"la matrice est de rang\", len(eighenvalues))\n"
   ]
  },
  {
   "cell_type": "markdown",
   "metadata": {
    "collapsed": true
   },
   "source": [
    "## 2 eme Partie\n"
   ]
  },
  {
   "cell_type": "code",
   "execution_count": 1,
   "metadata": {},
   "outputs": [],
   "source": [
    "from os import path\n",
    "import pandas as pd\n",
    "import urllib\n",
    "import zipfile\n",
    "import sys\n",
    "import numpy as np\n",
    "\n",
    "url ='https://archive.ics.uci.edu/ml/machine-learning-databases/00235/'\n",
    "filename = 'household_power_consumption'\n",
    "zipfilename = filename +'.zip'\n",
    "Location = url + zipfilename\n",
    "# testing existence of file\n",
    "if sys.version_info >= (3,0):\n",
    "    if not(path.isfile('zipfilename')):\n",
    "        urllib.request.urlretrieve(Location, zipfilename)\n",
    "    else:\n",
    "        if not(path.isfile('zipfilename')):\n",
    "            urllib.urlretrieve(Location, zipfilename)\n",
    "#unzip part\n",
    "zip = zipfile.ZipFile(zipfilename)\n",
    "zip.extractall()\n",
    "na_values = ['?', '']\n",
    "fields = ['Date', 'Time', 'Global_active_power']\n",
    "df = pd.read_csv(filename+'.txt', sep=';', nrows=200000, na_values = na_values, usecols=fields)\n"
   ]
  },
  {
   "cell_type": "markdown",
   "metadata": {},
   "source": [
    "## 1 ere question"
   ]
  },
  {
   "cell_type": "code",
   "execution_count": 4,
   "metadata": {},
   "outputs": [
    {
     "name": "stdout",
     "output_type": "stream",
     "text": [
      "<class 'pandas.core.frame.DataFrame'>\n",
      "RangeIndex: 200000 entries, 0 to 199999\n",
      "Data columns (total 3 columns):\n",
      "Date                   200000 non-null object\n",
      "Time                   200000 non-null object\n",
      "Global_active_power    196268 non-null float64\n",
      "dtypes: float64(1), object(2)\n",
      "memory usage: 4.6+ MB\n",
      "None\n",
      "le nombre de lignes avec une valeur manquante est:  3732\n"
     ]
    },
    {
     "name": "stderr",
     "output_type": "stream",
     "text": [
      "IOPub data rate exceeded.\n",
      "The notebook server will temporarily stop sending output\n",
      "to the client in order to avoid crashing it.\n",
      "To change this limit, set the config variable\n",
      "`--NotebookApp.iopub_data_rate_limit`.\n"
     ]
    }
   ],
   "source": [
    "##detecter et denombrer le nombre de lignes ou valeurs manquantes\n",
    "print(df.info())\n",
    "df1 = df.isnull() ## masque binaire\n",
    "df2 = df1[df1.Global_active_power == True] ## sous dataFrame avec les valeur nulles\n",
    "nblignes = df2.Global_active_power.shape[0]\n",
    "print ('le nombre de lignes avec une valeur manquante est: ', nblignes)\n",
    "##supprimer toutes les lignes avec une valuer manquante\n",
    "\n",
    "df.dropna(axis=0, how='any', thresh=None, subset=[df.Global_active_power], inplace=False)\n",
    "\n"
   ]
  },
  {
   "cell_type": "markdown",
   "metadata": {},
   "source": [
    " ## 2 eme question "
   ]
  },
  {
   "cell_type": "code",
   "execution_count": 9,
   "metadata": {},
   "outputs": [
    {
     "ename": "NameError",
     "evalue": "name 'c' is not defined",
     "output_type": "error",
     "traceback": [
      "\u001b[0;31m---------------------------------------------------------------------------\u001b[0m",
      "\u001b[0;31mNameError\u001b[0m                                 Traceback (most recent call last)",
      "\u001b[0;32m<ipython-input-9-ef0856e61d59>\u001b[0m in \u001b[0;36m<module>\u001b[0;34m()\u001b[0m\n\u001b[1;32m      1\u001b[0m \u001b[0;31m##supprimer toutes les lignes avec une valuer manquante\u001b[0m\u001b[0;34m\u001b[0m\u001b[0;34m\u001b[0m\u001b[0m\n\u001b[0;32m----> 2\u001b[0;31m \u001b[0mc\u001b[0m\u001b[0;34m.\u001b[0m\u001b[0mSpawner\u001b[0m\u001b[0;34m.\u001b[0m\u001b[0margs\u001b[0m \u001b[0;34m=\u001b[0m \u001b[0;34m[\u001b[0m\u001b[0;34m'--NotebookApp.iopub_data_rate_limit=1000000000'\u001b[0m\u001b[0;34m]\u001b[0m\u001b[0;34m\u001b[0m\u001b[0m\n\u001b[0m\u001b[1;32m      3\u001b[0m \u001b[0;34m\u001b[0m\u001b[0m\n\u001b[1;32m      4\u001b[0m \u001b[0mdf\u001b[0m\u001b[0;34m.\u001b[0m\u001b[0mdropna\u001b[0m\u001b[0;34m(\u001b[0m\u001b[0maxis\u001b[0m\u001b[0;34m=\u001b[0m\u001b[0;36m0\u001b[0m\u001b[0;34m,\u001b[0m \u001b[0mhow\u001b[0m\u001b[0;34m=\u001b[0m\u001b[0;34m'any'\u001b[0m\u001b[0;34m,\u001b[0m \u001b[0mthresh\u001b[0m\u001b[0;34m=\u001b[0m\u001b[0;32mNone\u001b[0m\u001b[0;34m,\u001b[0m \u001b[0msubset\u001b[0m\u001b[0;34m=\u001b[0m\u001b[0;34m[\u001b[0m\u001b[0mdf\u001b[0m\u001b[0;34m.\u001b[0m\u001b[0mGlobal_active_power\u001b[0m\u001b[0;34m]\u001b[0m\u001b[0;34m,\u001b[0m \u001b[0minplace\u001b[0m\u001b[0;34m=\u001b[0m\u001b[0;32mFalse\u001b[0m\u001b[0;34m)\u001b[0m\u001b[0;34m\u001b[0m\u001b[0m\n\u001b[1;32m      5\u001b[0m \u001b[0mprin\u001b[0m\u001b[0;34m(\u001b[0m\u001b[0mdf\u001b[0m\u001b[0;34m)\u001b[0m\u001b[0;34m\u001b[0m\u001b[0m\n",
      "\u001b[0;31mNameError\u001b[0m: name 'c' is not defined"
     ]
    }
   ],
   "source": [
    "                                       "
   ]
  },
  {
   "cell_type": "code",
   "execution_count": null,
   "metadata": {
    "collapsed": true
   },
   "outputs": [],
   "source": []
  }
 ],
 "metadata": {
  "kernelspec": {
   "display_name": "Python 3",
   "language": "python",
   "name": "python3"
  },
  "language_info": {
   "codemirror_mode": {
    "name": "ipython",
    "version": 3
   },
   "file_extension": ".py",
   "mimetype": "text/x-python",
   "name": "python",
   "nbconvert_exporter": "python",
   "pygments_lexer": "ipython3",
   "version": "3.6.1"
  }
 },
 "nbformat": 4,
 "nbformat_minor": 2
}
