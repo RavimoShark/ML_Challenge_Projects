{
 "cells": [
  {
   "cell_type": "markdown",
   "metadata": {},
   "source": [
    "# TP Large Scale Kernel Methods"
   ]
  },
  {
   "cell_type": "code",
   "execution_count": 49,
   "metadata": {},
   "outputs": [],
   "source": [
    "import numpy as np\n",
    "from scipy import linalg\n",
    "import matplotlib.pyplot as plt\n",
    "plt.style.use('ggplot')\n",
    "\n",
    "from sklearn.model_selection import train_test_split\n",
    "from sklearn.preprocessing import StandardScaler\n",
    "from sklearn.datasets import load_svmlight_file\n",
    "from sklearn.metrics import f1_score"
   ]
  },
  {
   "cell_type": "markdown",
   "metadata": {},
   "source": [
    "## Chargement et partitionnement des données"
   ]
  },
  {
   "cell_type": "code",
   "execution_count": 50,
   "metadata": {},
   "outputs": [
    {
     "name": "stdout",
     "output_type": "stream",
     "text": [
      "Nombre d'exemples d'apprentissage: 20000\n",
      "Nombre d'exemples de test: 40000\n",
      "Nombre de features: 22\n"
     ]
    },
    {
     "name": "stderr",
     "output_type": "stream",
     "text": [
      "/home/joseph/anaconda3/lib/python3.6/site-packages/sklearn/model_selection/_split.py:2026: FutureWarning: From version 0.21, test_size will always complement train_size unless both are specified.\n",
      "  FutureWarning)\n"
     ]
    }
   ],
   "source": [
    "###############################################################################\n",
    "# Requires file ijcnn1.dat.gz to be present in the directory\n",
    "\n",
    "dataset_path = 'ijcnn1.dat'\n",
    "ijcnn1 = load_svmlight_file(dataset_path)\n",
    "X = ijcnn1[0].todense()\n",
    "y = ijcnn1[1]\n",
    "\n",
    "###############################################################################\n",
    "# Extract features\n",
    "\n",
    "X_train, X_test, y_train, y_test = train_test_split(X[:60000, :], y[:60000],\n",
    "                     train_size=20000, random_state=42)\n",
    "\n",
    "scaler = StandardScaler()\n",
    "X_train = scaler.fit_transform(X_train)\n",
    "X_test = scaler.transform(X_test)\n",
    "\n",
    "n1, p = X_train.shape\n",
    "n2 = X_test.shape[0]\n",
    "\n",
    "print(\"Nombre d'exemples d'apprentissage:\", n1)\n",
    "print(\"Nombre d'exemples de test:\", n2)\n",
    "print(\"Nombre de features:\", p)"
   ]
  },
  {
   "cell_type": "markdown",
   "metadata": {},
   "source": [
    "## Question 1"
   ]
  },
  {
   "cell_type": "markdown",
   "metadata": {},
   "source": [
    "On va fitter nos données d'apprentissage avec un SVM linéaire et un SVM non-linéaire (noyau Gaussien) pour comparer leur score de prédiction ainsi que le temps de calcul nécessaire à l'apprentissage et à la prédiction."
   ]
  },
  {
   "cell_type": "code",
   "execution_count": 51,
   "metadata": {},
   "outputs": [
    {
     "data": {
      "text/plain": [
       "(40000, 22)"
      ]
     },
     "execution_count": 51,
     "metadata": {},
     "output_type": "execute_result"
    }
   ],
   "source": [
    "X_test.shape"
   ]
  },
  {
   "cell_type": "code",
   "execution_count": 52,
   "metadata": {},
   "outputs": [
    {
     "name": "stdout",
     "output_type": "stream",
     "text": [
      "Fitting SVC rbf on 20000 samples...\n",
      "done in 12.970s\n",
      "Predicting with SVC rbf on 40000 samples...\n",
      "done in 17.687s\n",
      "classification accuracy: 0.885\n"
     ]
    }
   ],
   "source": [
    "from sklearn.svm import SVC, LinearSVC\n",
    "from time import time\n",
    "\n",
    "print(\"Fitting SVC rbf on %d samples...\" % X_train.shape[0])\n",
    "t0 = time()\n",
    "# TODO\n",
    "clf = SVC(kernel='rbf')\n",
    "clf.fit(X_train, y_train)\n",
    "print(\"done in %0.3fs\" % (time() - t0))\n",
    "\n",
    "print(\"Predicting with SVC rbf on %d samples...\" % X_test.shape[0])\n",
    "t1 = time()\n",
    "accuracy_kernel = f1_score(clf.predict(X_test), y_test)\n",
    "print(\"done in %0.3fs\" % (time() - t1))\n",
    "timing_kernel = time() - t0\n",
    "print(\"classification accuracy: %0.3f\" % accuracy_kernel)\n",
    "\n",
    "# TODO same for LinearSVC\n",
    "\n",
    "# timing_linear = "
   ]
  },
  {
   "cell_type": "code",
   "execution_count": 54,
   "metadata": {},
   "outputs": [
    {
     "name": "stdout",
     "output_type": "stream",
     "text": [
      "Fitting Linear SVC on 20000 samples...\n",
      "done in 0.231s\n",
      "Predicting with Linear SVC on 40000 samples...\n",
      "done in 0.038s\n",
      "classification accuracy: 0.376\n"
     ]
    }
   ],
   "source": [
    "print(\"Fitting Linear SVC on %d samples...\" % X_train.shape[0])\n",
    "t0 = time()\n",
    "# TODO\n",
    "clf = LinearSVC(dual=False)\n",
    "clf.fit(X_train, y_train)\n",
    "print(\"done in %0.3fs\" % (time() - t0))\n",
    "\n",
    "print(\"Predicting with Linear SVC on %d samples...\" % X_test.shape[0])\n",
    "t1 = time()\n",
    "accuracy_linear = f1_score(clf.predict(X_test), y_test) \n",
    "print(\"done in %0.3fs\" % (time() - t1))\n",
    "timing_linear = time() - t0\n",
    "print(\"classification accuracy: %0.3f\" % accuracy_linear)"
   ]
  },
  {
   "cell_type": "markdown",
   "metadata": {},
   "source": [
    "## Question 2"
   ]
  },
  {
   "cell_type": "markdown",
   "metadata": {},
   "source": [
    "On code une fonction qui calcule la meilleure approximation de rang $k$."
   ]
  },
  {
   "cell_type": "code",
   "execution_count": 55,
   "metadata": {},
   "outputs": [],
   "source": [
    "from scipy.sparse.linalg import svds\n",
    "from scipy.linalg import svd\n",
    "\n",
    "def rank_trunc(gram_mat, k, fast=True):\n",
    "    \"\"\"\n",
    "    k-th order approximation of the Gram Matrix G.\n",
    "\n",
    "    Parameters\n",
    "    ----------\n",
    "    gram_mat : array, shape (n_samples, n_samples)\n",
    "        the Gram matrix\n",
    "    k : int\n",
    "        the order approximation\n",
    "    fast : bool\n",
    "        use svd (if False) or svds (if True).\n",
    "\n",
    "    Return\n",
    "    ------\n",
    "    gram_mat_k : array, shape (n_samples, n_samples)\n",
    "        The rank k Gram matrix.\n",
    "    \"\"\"\n",
    "    if fast:\n",
    "        u, s, vt = svds(gram_mat, k)\n",
    "        gram_mat_k = np.dot(u,np.dot(np.diag(s),vt))\n",
    "        \n",
    "    else:\n",
    "        u, s, vt = svd(gram_mat,full_matrices=False)\n",
    "        S = np.diag(s[:k])\n",
    "        gram_mat_k = np.dot(u[:,:k], np.dot(S, vt[:k,:]))\n",
    "    \n",
    "                        \n",
    "    return gram_mat_k\n"
   ]
  },
  {
   "cell_type": "markdown",
   "metadata": {},
   "source": [
    "## Question 3"
   ]
  },
  {
   "cell_type": "markdown",
   "metadata": {},
   "source": [
    "On applique cette fonction sur la matrice décrite dans le sujet de TP."
   ]
  },
  {
   "cell_type": "code",
   "execution_count": 56,
   "metadata": {},
   "outputs": [
    {
     "name": "stdout",
     "output_type": "stream",
     "text": [
      "0 1\n",
      "1 2\n",
      "2 3\n",
      "3 4\n",
      "4 5\n",
      "5 6\n",
      "6 7\n",
      "7 8\n",
      "8 9\n",
      "9 10\n",
      "10 11\n",
      "11 12\n",
      "12 13\n",
      "13 14\n",
      "14 15\n",
      "15 16\n",
      "16 17\n",
      "17 18\n",
      "18 19\n",
      "19 20\n",
      "20 21\n",
      "21 22\n",
      "22 23\n",
      "23 24\n",
      "24 25\n",
      "25 26\n",
      "26 27\n",
      "27 28\n",
      "28 29\n",
      "29 30\n",
      "30 31\n",
      "31 32\n",
      "32 33\n",
      "33 34\n",
      "34 35\n",
      "35 36\n",
      "36 37\n",
      "37 38\n",
      "38 39\n",
      "39 40\n",
      "40 41\n",
      "41 42\n",
      "42 43\n",
      "43 44\n",
      "44 45\n",
      "45 46\n",
      "46 47\n",
      "47 48\n",
      "48 49\n",
      "49 50\n",
      "50 51\n",
      "51 52\n",
      "52 53\n",
      "53 54\n",
      "54 55\n",
      "55 56\n",
      "56 57\n",
      "57 58\n",
      "58 59\n",
      "59 60\n",
      "60 61\n",
      "61 62\n",
      "62 63\n",
      "63 64\n",
      "64 65\n",
      "65 66\n",
      "66 67\n",
      "67 68\n",
      "68 69\n",
      "69 70\n",
      "70 71\n",
      "71 72\n",
      "72 73\n",
      "73 74\n",
      "74 75\n",
      "75 76\n",
      "76 77\n",
      "77 78\n",
      "78 79\n",
      "79 80\n",
      "80 81\n",
      "81 82\n",
      "82 83\n",
      "83 84\n",
      "84 85\n",
      "85 86\n",
      "86 87\n",
      "87 88\n",
      "88 89\n",
      "89 90\n",
      "90 91\n",
      "91 92\n",
      "92 93\n",
      "93 94\n",
      "94 95\n",
      "95 96\n",
      "96 97\n",
      "97 98\n",
      "98 99\n",
      "99 100\n"
     ]
    }
   ],
   "source": [
    "from numpy import linalg as LA\n",
    "p = 200\n",
    "r_noise = 100\n",
    "r_signal = 20\n",
    "\n",
    "intensity = 50\n",
    "\n",
    "rng = np.random.RandomState(42)\n",
    "X_noise = rng.randn(r_noise, p)\n",
    "X_signal = rng.randn(r_signal, p)\n",
    "\n",
    "gram_signal = np.dot(X_noise.T, X_noise) + intensity * np.dot(X_signal.T,\n",
    "                                                              X_signal)\n",
    "n_ranks = 100\n",
    "ranks = np.arange(1, n_ranks + 1)\n",
    "timing_fast = np.zeros(n_ranks)\n",
    "timing_slow = np.zeros(n_ranks)\n",
    "rel_error = np.zeros(n_ranks)\n",
    "\n",
    "for k, rank in enumerate(ranks):\n",
    "    print(k, rank)\n",
    "    t0 = time()\n",
    "    gram_mat_k = rank_trunc(gram_signal, rank, fast=True)\n",
    "    timing_fast[k] = time() - t0\n",
    "\n",
    "    t0 = time()\n",
    "    gram_mat_k = rank_trunc(gram_signal, rank, fast=False)\n",
    "    timing_slow[k] = time() - t0\n",
    "\n",
    "    # TODO: compute relative error with Frobenius norm\n",
    "    rel_error[k] = LA.norm(gram_signal-gram_mat_k)"
   ]
  },
  {
   "cell_type": "code",
   "execution_count": 57,
   "metadata": {},
   "outputs": [
    {
     "data": {
      "image/png": "[encoded data removed]",
      "text/plain": [
       "<Figure size 720x432 with 2 Axes>"
      ]
     },
     "metadata": {},
     "output_type": "display_data"
    }
   ],
   "source": [
    "###############################################################################\n",
    "# Display\n",
    "\n",
    "f, axes = plt.subplots(ncols=1, nrows=2, figsize=(10,6))\n",
    "ax1, ax2 = axes.ravel()\n",
    "\n",
    "ax1.plot(ranks, timing_fast, '-', label='fast')\n",
    "ax1.plot(ranks, timing_slow, '-', label='slow')\n",
    "ax1.legend()\n",
    "\n",
    "ax1.set_xlabel('Rank')\n",
    "ax1.set_ylabel('Time')\n",
    "ax2.plot(ranks, rel_error, '-')\n",
    "ax2.set_xlabel('Rank')\n",
    "ax2.set_ylabel('Relative Error')\n",
    "plt.tight_layout()\n",
    "plt.show()"
   ]
  },
  {
   "cell_type": "markdown",
   "metadata": {},
   "source": [
    "### On remarque que l'erreure relative atteint un seuil pour une dimension de 20. RKF peut donner donc une bonne approximation avec une forte reduction de dimension sur le kernel.\n",
    "### Cela rend cette méthode très efficace en terme de temps de calcul."
   ]
  },
  {
   "cell_type": "markdown",
   "metadata": {},
   "source": [
    "## Question 4"
   ]
  },
  {
   "cell_type": "markdown",
   "metadata": {},
   "source": [
    "On va implémenter l'algorithme de Random Kernel Features pour le noyau Gaussien."
   ]
  },
  {
   "cell_type": "markdown",
   "metadata": {},
   "source": [
    "Générer une matrice W ∈ R p×c dont les entrées sont indépendantes et tirées selon N (0, 2γ)1×c\n",
    "Générer un vecteur dont les entrées sont indépendantes et uniformes sur [0, 2π]p b ∈ R train W + b) avec i ∈ {1, . . . , n 1 }\n",
    "Calculer Z i,: = 2/c cos(x train\n",
    "i\n",
    "p\n",
    "test\n",
    "Calculer Z i,:\n",
    "= 2/c cos(x test\n",
    "W\n",
    "+ b) avec i ∈ {1, . . . , n 2 }"
   ]
  },
  {
   "cell_type": "code",
   "execution_count": 58,
   "metadata": {},
   "outputs": [],
   "source": [
    "import math\n",
    "def random_features(X_train, X_test, gamma, c=300, seed=44):\n",
    "    \"\"\"Compute random kernel features\n",
    "\n",
    "    Parameters\n",
    "    ----------\n",
    "    X_train : array, shape (n_samples1, n_features)\n",
    "        The train samples.\n",
    "    X_test : array, shape (n_samples2, n_features)\n",
    "        The test samples.\n",
    "    gamma : float\n",
    "        The Gaussian kernel parameter\n",
    "    c : int\n",
    "        The number of components\n",
    "    seed : int\n",
    "        The seed for random number generation\n",
    "\n",
    "    Return\n",
    "    ------\n",
    "    X_new_train : array, shape (n_samples1, c)\n",
    "        The new train samples.\n",
    "    X_new_test : array, shape (n_samples2, c)\n",
    "        The new test samples.\n",
    "    \"\"\"\n",
    "\n",
    "    rng = np.random.RandomState(seed)\n",
    "    n_samples, n_features = X_train.shape\n",
    "    W = np.random.randn(X_train.shape[1],c) * 2 * gamma\n",
    "    b = np.random.uniform(1,c) * 2 * math.pi\n",
    "    X_new_train = np.sqrt(2/c)*np.cos(np.dot(X_train,W)+b)\n",
    "    X_new_test = np.sqrt(2/c)*np.cos(np.dot(X_test,W)+b)\n",
    "\n",
    "    return X_new_train, X_new_test"
   ]
  },
  {
   "cell_type": "markdown",
   "metadata": {},
   "source": [
    "## Question 5"
   ]
  },
  {
   "cell_type": "markdown",
   "metadata": {},
   "source": [
    "On va maintenant appliquer cette méthode avec $c=300$."
   ]
  },
  {
   "cell_type": "code",
   "execution_count": 60,
   "metadata": {},
   "outputs": [
    {
     "name": "stdout",
     "output_type": "stream",
     "text": [
      "Fitting SVC linear on 20000 samples...\n",
      "done in 3.861s\n",
      "Predicting with SVC linear on 40000 samples...\n",
      "done in 0.062s\n",
      "classification accuracy: 0.517\n"
     ]
    }
   ],
   "source": [
    "n_samples, n_features = X_train.shape\n",
    "n_samples_test, _ = X_test.shape\n",
    "gamma = 1. / n_features\n",
    "\n",
    "Z_train, Z_test = random_features(X_train, X_test, gamma, c=300, seed=44)\n",
    "\n",
    "print(\"Fitting SVC linear on %d samples...\" % n_samples)\n",
    "t0 = time()\n",
    "clf = LinearSVC(dual=False)\n",
    "clf.fit(Z_train, y_train)\n",
    "print(\"done in %0.3fs\" % (time() - t0))\n",
    "\n",
    "print(\"Predicting with SVC linear on %d samples...\" % n_samples_test)\n",
    "t0 = time()\n",
    "accuracy = f1_score(clf.predict(Z_test), y_test)\n",
    "print(\"done in %0.3fs\" % (time() - t0))\n",
    "print(\"classification accuracy: %0.3f\" % accuracy)"
   ]
  },
  {
   "cell_type": "markdown",
   "metadata": {},
   "source": [
    "## Question 6"
   ]
  },
  {
   "cell_type": "markdown",
   "metadata": {},
   "source": [
    "On implémente la méthode de Nystrom."
   ]
  },
  {
   "cell_type": "code",
   "execution_count": 61,
   "metadata": {},
   "outputs": [],
   "source": [
    "from sklearn.metrics.pairwise import rbf_kernel\n",
    "\n",
    "\n",
    "def nystrom(X_train, X_test, gamma, c=500, k=200, seed=44):\n",
    "    \"\"\"Compute nystrom kernel approximation\n",
    "\n",
    "    Parameters\n",
    "    ----------\n",
    "    X_train : array, shape (n_samples1, n_features)\n",
    "        The train samples.\n",
    "    X_test : array, shape (n_samples2, n_features)\n",
    "        The test samples.\n",
    "    gamma : float\n",
    "        The Gaussian kernel parameter\n",
    "    c : int\n",
    "        The number of points to sample for the approximation\n",
    "    k : int\n",
    "        The number of components\n",
    "    seed : int\n",
    "        The seed for random number generation\n",
    "\n",
    "    Return\n",
    "    ------\n",
    "    X_new_train : array, shape (n_samples1, c)\n",
    "        The new train samples.\n",
    "    X_new_test : array, shape (n_samples2, c)\n",
    "        The new test samples.\n",
    "    \"\"\"\n",
    "    rng = np.random.RandomState(seed)\n",
    "    n_samples = X_train.shape[0]\n",
    "    idx = rng.choice(n_samples, c)\n",
    "    X_train_idx = X_train[idx, :]\n",
    "    W = rbf_kernel(X_train_idx, X_train_idx, gamma=gamma)\n",
    "    v, s, vt = svd(W, full_matrices=False)\n",
    "    S = np.diag(np.sqrt(1 / s[:k]))\n",
    "    v = v[:, :k]\n",
    "    M = np.dot(v, S)\n",
    "    X_new_train = np.dot(rbf_kernel(\n",
    "        X_train[:,], X_train_idx, gamma=gamma),M)\n",
    "    X_new_test = np.dot(rbf_kernel(\n",
    "        X_test[:,],X_train_idx, gamma=gamma),M)\n",
    "    return X_new_train, X_new_test"
   ]
  },
  {
   "cell_type": "markdown",
   "metadata": {},
   "source": [
    "## Question 7"
   ]
  },
  {
   "cell_type": "markdown",
   "metadata": {},
   "source": [
    "On va maintenant appliquer cette méthode également avec $c=500$ et $k=300$"
   ]
  },
  {
   "cell_type": "code",
   "execution_count": 62,
   "metadata": {},
   "outputs": [
    {
     "name": "stdout",
     "output_type": "stream",
     "text": [
      "Fitting SVC linear on 20000 samples...\n",
      "done in 2.728s\n",
      "Predicting with SVC linear on 40000 samples...\n",
      "done in 0.062s\n",
      "classification accuracy: 0.866\n"
     ]
    }
   ],
   "source": [
    "Z_train, Z_test = nystrom(X_train, X_test, gamma, c=500, k=300, seed=44)\n",
    "\n",
    "print(\"Fitting SVC linear on %d samples...\" % n_samples)\n",
    "t0 = time()\n",
    "clf = LinearSVC(dual=False)\n",
    "clf.fit(Z_train, y_train)\n",
    "print(\"done in %0.3fs\" % (time() - t0))\n",
    "\n",
    "print(\"Predicting with SVC linear on %d samples...\" % n_samples_test)\n",
    "t0 = time()\n",
    "accuracy = f1_score(clf.predict(Z_test), y_test)\n",
    "print(\"done in %0.3fs\" % (time() - t0))\n",
    "print(\"classification accuracy: %0.3f\" % accuracy)\n"
   ]
  },
  {
   "cell_type": "markdown",
   "metadata": {},
   "source": [
    "## Question 8"
   ]
  },
  {
   "cell_type": "markdown",
   "metadata": {},
   "source": [
    "On va maintenant réaliser une synthèse des performances des RKF et de Nystrom pour un ensemble de paramètres."
   ]
  },
  {
   "cell_type": "code",
   "execution_count": 63,
   "metadata": {
    "collapsed": true
   },
   "outputs": [
    {
     "name": "stdout",
     "output_type": "stream",
     "text": [
      "Training SVMs for various values of c...\n",
      "0 20\n"
     ]
    },
    {
     "name": "stderr",
     "output_type": "stream",
     "text": [
      "/home/joseph/anaconda3/lib/python3.6/site-packages/sklearn/metrics/classification.py:1137: UndefinedMetricWarning: F-score is ill-defined and being set to 0.0 due to no true samples.\n",
      "  'recall', 'true', average, warn_for)\n"
     ]
    },
    {
     "name": "stdout",
     "output_type": "stream",
     "text": [
      "1 70\n",
      "2 120\n",
      "3 170\n",
      "4 220\n",
      "5 270\n",
      "6 320\n",
      "7 370\n",
      "8 420\n",
      "9 470\n",
      "10 520\n",
      "11 570\n"
     ]
    }
   ],
   "source": [
    "ranks = np.arange(20, 600, 50)\n",
    "n_ranks = len(ranks)\n",
    "timing_rkf = np.zeros(n_ranks)\n",
    "timing_nystrom = np.zeros(n_ranks)\n",
    "\n",
    "accuracy_nystrom = np.zeros(n_ranks)\n",
    "accuracy_rkf = np.zeros(n_ranks)\n",
    "clf_rkf = LinearSVC(dual=False)\n",
    "clf_nys = LinearSVC(dual=False)\n",
    "print(\"Training SVMs for various values of c...\")\n",
    "\n",
    "for i, c in enumerate(ranks):\n",
    "    print(i, c)\n",
    "    # TODO: compute time and prediction scores for RKF and Nystrom with respect to c\n",
    "    # put results in timing_rkf, timing_nystrom, accuracy_rkf, accuracy_nystrom\n",
    "    t0 = time()\n",
    "    Z_train, Z_test = random_features(X_train, X_test, gamma, c, seed=44)  \n",
    "    clf_rkf.fit(Z_train, y_train)\n",
    "    timing_rkf[i] = time()-t0\n",
    "    accuracy_rkf[i] = f1_score(clf_rkf.predict(Z_test), y_test)\n",
    "    t1 = time()\n",
    "    Z_train, Z_test = nystrom(X_train, X_test, gamma, c, k=c-10, seed=44)\n",
    "    clf_nys.fit(Z_train, y_train)\n",
    "    timing_nystrom[i] =time()-t1\n",
    "    accuracy_nystrom[i] = f1_score(clf_nys.predict(Z_test), y_test)\n",
    "    "
   ]
  },
  {
   "cell_type": "code",
   "execution_count": 64,
   "metadata": {
    "collapsed": true
   },
   "outputs": [
    {
     "data": {
      "image/png": "[encoded data removed]",
      "text/plain": [
       "<Figure size 720x432 with 2 Axes>"
      ]
     },
     "metadata": {},
     "output_type": "display_data"
    }
   ],
   "source": [
    "###############################################################################\n",
    "# Display bis\n",
    "\n",
    "f, axes = plt.subplots(ncols=1, nrows=2, figsize=(10,6))\n",
    "ax1, ax2 = axes.ravel()\n",
    "\n",
    "ax1.plot(ranks-10, timing_nystrom, '-', label='Nystrom')\n",
    "ax1.plot(ranks, timing_rkf, '-', label='RKF')\n",
    "ax1.plot(ranks, timing_linear * np.ones(n_ranks), '-', label='LinearSVC')\n",
    "ax1.plot(ranks, timing_kernel * np.ones(n_ranks), '-', label='RBF')\n",
    "\n",
    "ax1.set_xlabel('Number of features')\n",
    "ax1.set_ylabel('Time')\n",
    "ax1.legend(loc='lower right')\n",
    "\n",
    "ax2.plot(ranks-10, accuracy_nystrom, '-', label='Nystrom')\n",
    "ax2.plot(ranks, accuracy_rkf, '-', label='RKF')\n",
    "ax2.plot(ranks, accuracy_linear * np.ones(n_ranks), '-', label='LinearSVC')\n",
    "ax2.plot(ranks, accuracy_kernel * np.ones(n_ranks), '-', label='RBF')\n",
    "ax2.set_xlabel('Number of features')\n",
    "ax2.set_ylabel('Accuracy')\n",
    "ax2.legend(loc='lower right')\n",
    "plt.tight_layout()\n",
    "plt.show()"
   ]
  },
  {
   "cell_type": "markdown",
   "metadata": {},
   "source": [
    "### Nystrom nous donne le meilleur rapport f1-score, temps de calcul. RKF n'etant pas adaptble aux données par essence fais à peine mieux que la moyenne."
   ]
  },
  {
   "cell_type": "code",
   "execution_count": null,
   "metadata": {},
   "outputs": [],
   "source": []
  }
 ],
 "metadata": {
  "kernelspec": {
   "display_name": "Python 3",
   "language": "python",
   "name": "python3"
  },
  "language_info": {
   "codemirror_mode": {
    "name": "ipython",
    "version": 3
   },
   "file_extension": ".py",
   "mimetype": "text/x-python",
   "name": "python",
   "nbconvert_exporter": "python",
   "pygments_lexer": "ipython3",
   "version": "3.6.4"
  },
  "latex_envs": {
   "LaTeX_envs_menu_present": true,
   "autocomplete": true,
   "bibliofile": "biblio.bib",
   "cite_by": "apalike",
   "current_citInitial": 1,
   "eqLabelWithNumbers": true,
   "eqNumInitial": 1,
   "hotkeys": {
    "equation": "Ctrl-E",
    "itemize": "Ctrl-I"
   },
   "labels_anchors": false,
   "latex_user_defs": false,
   "report_style_numbering": false,
   "user_envs_cfg": false
  }
 },
 "nbformat": 4,
 "nbformat_minor": 2
}
